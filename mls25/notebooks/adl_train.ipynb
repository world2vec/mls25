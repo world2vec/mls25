{
 "cells": [
  {
   "cell_type": "markdown",
   "metadata": {},
   "source": [
    "# import libary"
   ]
  },
  {
   "cell_type": "code",
   "execution_count": 48,
   "metadata": {},
   "outputs": [],
   "source": [
    "import os, sys, logging, pandas as pd, numpy as np\n",
    "from tqdm import tqdm\n",
    "import re\n",
    "\n",
    "sys.path.insert(0, '../')\n",
    "\n",
    "\n",
    "\n",
    "import ast\n",
    "import util\n",
    "from importlib import reload\n",
    "reload(util)\n",
    "args = util.parser.parse_args([])\n",
    "\n",
    "\n",
    "\n",
    "# import librosa\n",
    "# from IPython.display import Audio\n",
    "\n",
    "from pandas import json_normalize\n",
    "import torch\n",
    "from collections import defaultdict\n",
    "\n",
    "from multiprocessing import Pool\n",
    "\n",
    "\n",
    "# Create a Tokenizer with the default settings for English\n",
    "# including punctuation rules and exceptions\n",
    "\n",
    "# os.environ['HTTP_PROXY'] = 'socks5h://127.0.0.1:6000'\n",
    "# os.environ['HTTPS_PROXY'] = 'socks5h://127.0.0.1:6000'\n",
    "\n",
    "\n",
    "pd.set_option('display.max_colwidth', 100)\n",
    "pd.set_option('display.max_columns', 100)\n",
    "pd.set_option('display.max_rows', 100)\n",
    "\n",
    "PROJECT=\"mls25\"\n",
    "ADLSRV=\"root@connect.westc.gpuhub.com\"\n",
    "ADLPORT=\"39023\"\n",
    "ADLPASS=\"lpXgdzbPVom0\"\n",
    "WORKDIR = os.path.abspath(f'/var/opt/git/github/compete/{PROJECT}')\n",
    "os.chdir(os.path.join(WORKDIR, PROJECT))"
   ]
  },
  {
   "cell_type": "markdown",
   "metadata": {},
   "source": [
    "# sync code"
   ]
  },
  {
   "cell_type": "code",
   "execution_count": 132,
   "metadata": {
    "scrolled": true
   },
   "outputs": [
    {
     "name": "stdout",
     "output_type": "stream",
     "text": [
      "sending incremental file list\n",
      "mls25/nohup.out\n",
      "      9,068,727 100%  785.98MB/s    0:00:00 (xfr#1, ir-chk=1020/1026)\n",
      "ln: failed to create symbolic link 'data/mydata': File exists\n"
     ]
    }
   ],
   "source": [
    "!sshpass -p \"{ADLPASS}\" rsync -rza --progress --exclude {PROJECT}/sft*.py --exclude {PROJECT}/train*.py --exclude {PROJECT}/preprocess*.py \\\n",
    "--exclude {PROJECT}/asr*.py  --exclude {PROJECT}/e2e*.py  --exclude {PROJECT}/eval*.py \\\n",
    "--exclude {PROJECT}/notebooks -e \"ssh -p {ADLPORT}\" \\\n",
    "--exclude {PROJECT}/notes.txt --exclude {PROJECT}/*.ipynb --exclude {PROJECT}/README.md --exclude {PROJECT}/data \\\n",
    "../../{PROJECT} {ADLSRV}:/tmp/\n",
    "!sshpass -p \"{ADLPASS}\" ssh -p {ADLPORT} {ADLSRV} \"mkdir -p /root/autodl-tmp/mydata/{PROJECT} && cd /tmp/{PROJECT} && ln -s /root/autodl-tmp/mydata data\"\n",
    "!sshpass -p \"{ADLPASS}\" ssh -p {ADLPORT} {ADLSRV} \"mkdir -p /root/autodl-tmp/mydata/cache/huggingface/hub && mkdir -p /root/autodl-tmp/mydata/logs\""
   ]
  },
  {
   "cell_type": "markdown",
   "metadata": {},
   "source": [
    "# sync data"
   ]
  },
  {
   "cell_type": "markdown",
   "metadata": {},
   "source": [
    "## upload"
   ]
  },
  {
   "cell_type": "code",
   "execution_count": 10,
   "metadata": {},
   "outputs": [
    {
     "name": "stdout",
     "output_type": "stream",
     "text": [
      "sending incremental file list\n",
      "alg_2025_audios_final.zip\n",
      "  2,738,591,241 100%    3.20MB/s    0:13:36 (xfr#1, to-chk=1/2)\n",
      "text_data.zip\n",
      "      2,410,227 100%    1.75MB/s    0:00:01 (xfr#2, to-chk=0/2)\n"
     ]
    }
   ],
   "source": [
    "!sshpass -p \"{ADLPASS}\" rsync -rza --progress -e \"ssh -p $ADLPORT\" ../data/mls25/*.zip $ADLSRV:/root/autodl-tmp/mydata/mls25\n",
    "\n",
    "\n",
    "\n"
   ]
  },
  {
   "cell_type": "code",
   "execution_count": 110,
   "metadata": {},
   "outputs": [
    {
     "name": "stdout",
     "output_type": "stream",
     "text": [
      "sending incremental file list\n",
      "alt.csv\n",
      "     29,237,812 100%   39.77MB/s    0:00:00 (xfr#1, to-chk=0/1)\n"
     ]
    }
   ],
   "source": [
    "!sshpass -p \"{ADLPASS}\" rsync -rza --progress -e \"ssh -p $ADLPORT\" ../data/alt.csv $ADLSRV:/root/autodl-tmp/mydata"
   ]
  },
  {
   "cell_type": "code",
   "execution_count": 51,
   "metadata": {},
   "outputs": [
    {
     "name": "stdout",
     "output_type": "stream",
     "text": [
      "sending incremental file list\n",
      "k2-1.24.4.dev20250425+cuda12.6.torch2.7.0-cp310-cp310-manylinux_2_27_x86_64.manylinux_2_28_x86_64.whl\n",
      "    111,976,624 100%    7.14MB/s    0:00:14 (xfr#1, to-chk=0/1)\n"
     ]
    }
   ],
   "source": [
    "#!sshpass -p \"{ADLPASS}\" rsync -rza --progress -e \"ssh -p $ADLPORT\" ../data/k2-1.24.4.dev20250425+cuda12.8.torch2.7.0-cp310-cp310-manylinux_2_27_x86_64.manylinux_2_28_x86_64.whl $ADLSRV:/root/autodl-tmp/mydata/\n",
    "\n",
    "!sshpass -p \"{ADLPASS}\" rsync -rza --progress -e \"ssh -p $ADLPORT\" ../data/k2-1.24.4.dev20250425+cuda12.6.torch2.7.0-cp310-cp310-manylinux_2_27_x86_64.manylinux_2_28_x86_64.whl $ADLSRV:/root/autodl-tmp/mydata/\n"
   ]
  },
  {
   "cell_type": "markdown",
   "metadata": {},
   "source": [
    "## datasets"
   ]
  },
  {
   "cell_type": "code",
   "execution_count": null,
   "metadata": {},
   "outputs": [],
   "source": [
    "fpath=\"/mnt/usbdisk1/data/cache/huggingface/datasets/open-r1___open_r1-math-220k\"\n",
    "!sshpass -p \"{ADLPASS}\" rsync -rza --progress -e \"ssh -p $ADLPORT\" \"{fpath}\" $ADLSRV:/root/autodl-tmp/mydata/cache/huggingface/hub"
   ]
  },
  {
   "cell_type": "markdown",
   "metadata": {},
   "source": [
    "## download"
   ]
  },
  {
   "cell_type": "code",
   "execution_count": 144,
   "metadata": {
    "scrolled": true
   },
   "outputs": [
    {
     "name": "stdout",
     "output_type": "stream",
     "text": [
      "receiving incremental file list\n",
      "Trans_qw_8b_a03_KF0/\n",
      "Trans_qw_8b_a03_KF0/args.json\n",
      "          3,174 100%    3.03MB/s    0:00:00 (xfr#1, to-chk=14/16)\n",
      "Trans_qw_8b_a03_KF0/events.out.tfevents.1749521809.autodl-container-dc0b44b26f-25e70951.13340.0\n",
      "          9,926 100%    9.47MB/s    0:00:00 (xfr#2, to-chk=13/16)\n",
      "Trans_qw_8b_a03_KF0/checkpoint-1006/\n",
      "Trans_qw_8b_a03_KF0/checkpoint-1006/README.md\n",
      "          5,107 100%    4.87MB/s    0:00:00 (xfr#3, to-chk=11/16)\n",
      "Trans_qw_8b_a03_KF0/checkpoint-1006/adapter_config.json\n",
      "            865 100%  844.73kB/s    0:00:00 (xfr#4, to-chk=10/16)\n",
      "Trans_qw_8b_a03_KF0/checkpoint-1006/adapter_model.safetensors\n",
      "    349,243,752 100%   10.14MB/s    0:00:32 (xfr#5, to-chk=9/16)\n",
      "Trans_qw_8b_a03_KF0/checkpoint-1006/added_tokens.json\n",
      "            707 100%    1.35kB/s    0:00:00 (xfr#6, to-chk=8/16)\n",
      "Trans_qw_8b_a03_KF0/checkpoint-1006/chat_template.jinja\n",
      "          4,761 100%    9.08kB/s    0:00:00 (xfr#7, to-chk=7/16)\n",
      "Trans_qw_8b_a03_KF0/checkpoint-1006/merges.txt\n",
      "      1,671,853 100%    2.78MB/s    0:00:00 (xfr#8, to-chk=6/16)\n",
      "Trans_qw_8b_a03_KF0/checkpoint-1006/special_tokens_map.json\n",
      "            614 100%    1.04kB/s    0:00:00 (xfr#9, to-chk=5/16)\n",
      "Trans_qw_8b_a03_KF0/checkpoint-1006/tokenizer.json\n",
      "     11,422,654 100%   12.36MB/s    0:00:00 (xfr#10, to-chk=4/16)\n",
      "Trans_qw_8b_a03_KF0/checkpoint-1006/tokenizer_config.json\n",
      "          5,431 100%    6.02kB/s    0:00:00 (xfr#11, to-chk=3/16)\n",
      "Trans_qw_8b_a03_KF0/checkpoint-1006/trainer_state.json\n",
      "          4,227 100%    4.69kB/s    0:00:00 (xfr#12, to-chk=2/16)\n",
      "Trans_qw_8b_a03_KF0/checkpoint-1006/training_args.bin\n",
      "          5,841 100%    6.47kB/s    0:00:00 (xfr#13, to-chk=1/16)\n",
      "Trans_qw_8b_a03_KF0/checkpoint-1006/vocab.json\n",
      "      2,776,833 100%    2.66MB/s    0:00:00 (xfr#14, to-chk=0/16)\n"
     ]
    }
   ],
   "source": [
    "!sshpass -p \"{ADLPASS}\" rsync -rza --progress -e \"ssh -p $ADLPORT\"  $ADLSRV:/root/autodl-tmp/mydata/Trans_qw_8b_a03_KF0 ../data"
   ]
  },
  {
   "cell_type": "code",
   "execution_count": 63,
   "metadata": {},
   "outputs": [
    {
     "name": "stdout",
     "output_type": "stream",
     "text": [
      "receiving incremental file list\n",
      "log20250602091734.log\n",
      "          5,359 100%    5.11MB/s    0:00:00 (xfr#1, to-chk=0/1)\n"
     ]
    }
   ],
   "source": [
    "!sshpass -p \"{ADLPASS}\" rsync -rza --progress -e \"ssh -p $ADLPORT\"  $ADLSRV:/root/autodl-tmp/mydata/logs/log20250602091734.log ../data/logs\n"
   ]
  },
  {
   "cell_type": "markdown",
   "metadata": {},
   "source": [
    "# sync models"
   ]
  },
  {
   "cell_type": "code",
   "execution_count": 48,
   "metadata": {},
   "outputs": [
    {
     "name": "stdout",
     "output_type": "stream",
     "text": [
      "X11 forwarding request failed on channel 0\n",
      "sending incremental file list\n",
      "rsync: link_stat \"/mnt/usbdisk1/data/cache/huggingface/hub/models--unsloth--deepseek-r1-distill-qwen-7b-unsloth-bnb-4bit\" failed: No such file or directory (2)\n",
      "rsync error: some files/attrs were not transferred (see previous errors) (code 23) at main.c(1205) [sender=3.1.3]\n"
     ]
    }
   ],
   "source": [
    "fpath=\"/mnt/usbdisk1/data/cache/huggingface/hub/models--unsloth--deepseek-r1-distill-qwen-7b-unsloth-bnb-4bit\"\n",
    "!sshpass -p \"{ADLPASS}\" rsync -rza --progress -e \"ssh -p $ADLPORT\" \"{fpath}\" $ADLSRV:/root/autodl-tmp/mydata/cache/huggingface/hub"
   ]
  },
  {
   "cell_type": "markdown",
   "metadata": {},
   "source": [
    "# program"
   ]
  },
  {
   "cell_type": "markdown",
   "metadata": {},
   "source": [
    "## trans"
   ]
  },
  {
   "cell_type": "markdown",
   "metadata": {},
   "source": [
    "### qwen32b"
   ]
  },
  {
   "cell_type": "code",
   "execution_count": 47,
   "metadata": {},
   "outputs": [
    {
     "name": "stdout",
     "output_type": "stream",
     "text": [
      "../data/logs/log20250606183227.log\n",
      "设置成功\n",
      "注意：仅限于学术用途，不承诺稳定性保证\n"
     ]
    }
   ],
   "source": [
    "\n",
    "\n",
    "\n",
    "import util\n",
    "LOGDIR=f\"../data/logs\"\n",
    "LOGFILE=f\"{LOGDIR}/log{util.timestamp()}.log\"\n",
    "print(LOGFILE)\n",
    "\n",
    "MODELNAME=\"Trans_qw_32b_a01\"\n",
    "\n",
    "DS=\"mls25\"\n",
    "DSCLS=\"Dataset\"\n",
    "VDSCLS=\"Dataset\"\n",
    "TDSCLS=\"IterDataset\"\n",
    "RESTORE=\"\"\n",
    "BACKBONE= \"../data/hfmodels/unsloth/Qwen3-32B-unsloth-bnb-4bit\"\n",
    "\n",
    "\n",
    "\n",
    "DATASEED=98740230\n",
    "SEED=98402392\n",
    "KN=5\n",
    "KFIDS=\"0\"\n",
    "\n",
    "\n",
    "\n",
    "!sshpass -p \"{ADLPASS}\" ssh -p \"{ADLPORT}\" {ADLSRV} \". /root/miniconda3/etc/profile.d/conda.sh && conda activate ptm  && source /etc/network_turbo && cd /tmp/{PROJECT}/{PROJECT}  \\\n",
    "&& PYTHONPATH=../ HF_HOME=../data/cache/huggingface  python -u >{LOGFILE} 2>&1\" \\\n",
    "<sft.py - -model_name {MODELNAME} -ds \"{DS}\" -ds_cls \"{DSCLS}\" -val_ds_cls \"{VDSCLS}\" -test_ds_cls \"{TDSCLS}\" -kn {KN}  -kfids \"{KFIDS}\" -backbone \"{BACKBONE}\" \\\n",
    "-data_seed {DATASEED} -seed {SEED} -eval_delay 0 -epochs 1   -max_seq_len 256  -do_train  -n_dl_worker 8 -es 1 -verbose 64  -save_strategy epoch  -groupfy -group_col name \\\n",
    "-n_keep_save 1 -lr 3e-5 -lr_warmup_ratio 0.01 -weight_decay 0.01 -bs 8 -gas 4 -vbs 8 -torch_dtype bfloat16 -mixed_precision bf16  -ppt trans_ppt  \\\n",
    "-use_unsloth -use_4bit -use_lora -lora_dropout 0 -lora_alpha 16 -lora_rank 32 -lora_modules q_proj o_proj gate_proj up_proj down_proj k_proj v_proj \n",
    "\n",
    "\n",
    "\n"
   ]
  },
  {
   "cell_type": "markdown",
   "metadata": {},
   "source": [
    "### qw14b"
   ]
  },
  {
   "cell_type": "code",
   "execution_count": 94,
   "metadata": {},
   "outputs": [
    {
     "name": "stdout",
     "output_type": "stream",
     "text": [
      "../data/logs/log20250603175429.log\n",
      "设置成功\n",
      "注意：仅限于学术用途，不承诺稳定性保证\n"
     ]
    }
   ],
   "source": [
    "\n",
    "\n",
    "\n",
    "import util\n",
    "LOGDIR=f\"../data/logs\"\n",
    "LOGFILE=f\"{LOGDIR}/log{util.timestamp()}.log\"\n",
    "print(LOGFILE)\n",
    "\n",
    "MODELNAME=\"Trans_qw_14b_a01\"\n",
    "\n",
    "DS=\"mls25\"\n",
    "DSCLS=\"Dataset\"\n",
    "VDSCLS=\"Dataset\"\n",
    "TDSCLS=\"IterDataset\"\n",
    "RESTORE=\"\"\n",
    "BACKBONE= \"../data/hfmodels/unsloth/Qwen3-14B-unsloth-bnb-4bit\"\n",
    "\n",
    "\n",
    "\n",
    "DATASEED=98740230\n",
    "SEED=98402392\n",
    "KN=5\n",
    "KFIDS=\"0\"\n",
    "\n",
    "\n",
    "\n",
    "!sshpass -p \"{ADLPASS}\" ssh -p \"{ADLPORT}\" {ADLSRV} \". /root/miniconda3/etc/profile.d/conda.sh && conda activate ptm  && source /etc/network_turbo && cd /tmp/{PROJECT}/{PROJECT}  \\\n",
    "&& PYTHONPATH=../ HF_HOME=../data/cache/huggingface  python -u >{LOGFILE} 2>&1\" \\\n",
    "<sft.py - -model_name {MODELNAME} -ds \"{DS}\" -ds_cls \"{DSCLS}\" -val_ds_cls \"{VDSCLS}\" -test_ds_cls \"{TDSCLS}\" -kn {KN}  -kfids \"{KFIDS}\" -backbone \"{BACKBONE}\" \\\n",
    "-data_seed {DATASEED} -seed {SEED} -eval_delay 0 -epochs 1   -max_seq_len 256  -do_train  -n_dl_worker 8 -es 1 -verbose 64  -save_strategy epoch  -groupfy -group_col name \\\n",
    "-n_keep_save 1 -lr 6e-5 -lr_warmup_ratio 0.01 -weight_decay 0.01 -bs 8 -gas 4 -vbs 8 -torch_dtype bfloat16 -mixed_precision bf16  -ppt trans_ppt  \\\n",
    "-use_unsloth -use_4bit -use_lora -lora_dropout 0 -lora_alpha 16 -lora_rank 32 -lora_modules q_proj o_proj gate_proj up_proj down_proj k_proj v_proj \n",
    "\n",
    "\n",
    "\n"
   ]
  },
  {
   "cell_type": "markdown",
   "metadata": {},
   "source": [
    "### qw8b"
   ]
  },
  {
   "cell_type": "code",
   "execution_count": 142,
   "metadata": {},
   "outputs": [
    {
     "name": "stdout",
     "output_type": "stream",
     "text": [
      "../data/logs/log20250611134102.log\n",
      "设置成功\n",
      "注意：仅限于学术用途，不承诺稳定性保证\n"
     ]
    }
   ],
   "source": [
    "\n",
    "\n",
    "\n",
    "import util\n",
    "LOGDIR=f\"../data/logs\"\n",
    "LOGFILE=f\"{LOGDIR}/log{util.timestamp()}.log\"\n",
    "print(LOGFILE)\n",
    "\n",
    "MODELNAME=\"Trans_qw_8b_a11\"\n",
    "\n",
    "DS=\"mls25\"\n",
    "DSCLS=\"Dataset\"\n",
    "VDSCLS=\"Dataset\"\n",
    "TDSCLS=\"IterDataset\"\n",
    "RESTORE=\"\"\n",
    "BACKBONE= \"../data/Trans_qw_8b_a08_KF0\"\n",
    "\n",
    "\n",
    "\n",
    "DATASEED=98740230\n",
    "SEED=98402392\n",
    "KN=5\n",
    "KFIDS=\"0\"\n",
    "#0.6363314390182495\n",
    "\n",
    "\n",
    "\n",
    "!sshpass -p \"{ADLPASS}\" ssh -p \"{ADLPORT}\" {ADLSRV} \". /root/miniconda3/etc/profile.d/conda.sh && conda activate ptm  && source /etc/network_turbo && cd /tmp/{PROJECT}/{PROJECT}  \\\n",
    "&& PYTHONPATH=../ HF_HOME=../data/cache/huggingface  python -u >{LOGFILE} 2>&1\" \\\n",
    "<sft.py - -model_name {MODELNAME} -ds \"{DS}\" -ds_cls \"{DSCLS}\" -val_ds_cls \"{VDSCLS}\" -test_ds_cls \"{TDSCLS}\" -kn {KN}  -kfids \"{KFIDS}\" -backbone \"{BACKBONE}\" \\\n",
    "-data_seed {DATASEED} -seed {SEED} -eval_delay 0 -epochs 1   -max_seq_len 512  -do_train  -n_dl_worker 8 -es 1 -verbose 64  -save_strategy epoch  -groupfy -group_col name \\\n",
    "-n_keep_save 1 -lr 1e-4 -lr_warmup_ratio 0.01 -weight_decay 0.01 -bs 2 -gas 16 -vbs 4 -torch_dtype bfloat16 -mixed_precision bf16  -ppt trans_ppt  \\\n",
    "-use_lora -lora_dropout 0 -lora_alpha 16 -lora_rank 32 -lora_modules q_proj o_proj gate_proj up_proj down_proj k_proj v_proj\n",
    "\n",
    "\n",
    "\n"
   ]
  },
  {
   "cell_type": "code",
   "execution_count": 139,
   "metadata": {},
   "outputs": [
    {
     "name": "stdout",
     "output_type": "stream",
     "text": [
      "../data/logs/log20250611100536.log\n",
      "设置成功\n",
      "注意：仅限于学术用途，不承诺稳定性保证\n"
     ]
    }
   ],
   "source": [
    "\n",
    "\n",
    "\n",
    "import util\n",
    "LOGDIR=f\"../data/logs\"\n",
    "LOGFILE=f\"{LOGDIR}/log{util.timestamp()}.log\"\n",
    "print(LOGFILE)\n",
    "\n",
    "MODELNAME=\"Trans_qw_8b_a10\"\n",
    "\n",
    "DS=\"alt\"\n",
    "DSCLS=\"Dataset\"\n",
    "VDSCLS=\"Dataset\"\n",
    "TDSCLS=\"IterDataset\"\n",
    "RESTORE=\"\"\n",
    "BACKBONE= \"../data/hfmodels/unsloth/Qwen3-8B\"\n",
    "\n",
    "\n",
    "\n",
    "DATASEED=98740230\n",
    "SEED=98402392\n",
    "KN=5\n",
    "KFIDS=\"0\"\n",
    "\n",
    "#adamw_8bit\n",
    "\n",
    "!sshpass -p \"{ADLPASS}\" ssh -p \"{ADLPORT}\" {ADLSRV} \". /root/miniconda3/etc/profile.d/conda.sh && conda activate ptm  && source /etc/network_turbo && cd /tmp/{PROJECT}/{PROJECT}  \\\n",
    "&& PYTHONPATH=../ HF_HOME=../data/cache/huggingface  python -u >{LOGFILE} 2>&1\" \\\n",
    "<sft.py - -model_name {MODELNAME} -ds \"{DS}\" -ds_cls \"{DSCLS}\" -val_ds_cls \"{VDSCLS}\" -test_ds_cls \"{TDSCLS}\" -kn {KN}  -kfids \"{KFIDS}\" -backbone \"{BACKBONE}\" \\\n",
    "-data_seed {DATASEED} -seed {SEED} -eval_delay 0 -epochs 1   -max_seq_len 512  -do_train  -n_dl_worker 8 -es 1 -verbose 64  -save_strategy epoch  -groupfy -group_col name \\\n",
    "-n_keep_save 1 -lr 1e-4 -lr_warmup_ratio 0.01 -weight_decay 0.01 -bs 2 -gas 16 -vbs 4 -torch_dtype bfloat16 -mixed_precision bf16  -ppt trans_ppt -optim apollo_adamw  \\\n",
    "-use_lora -lora_dropout 0 -lora_alpha 16 -lora_rank 32 -lora_modules q_proj o_proj gate_proj up_proj down_proj k_proj v_proj\n",
    "\n",
    "\n",
    "\n"
   ]
  },
  {
   "cell_type": "code",
   "execution_count": 124,
   "metadata": {
    "collapsed": true,
    "jupyter": {
     "outputs_hidden": true
    }
   },
   "outputs": [
    {
     "name": "stdout",
     "output_type": "stream",
     "text": [
      "../data/logs/log20250611090526.log\n",
      "设置成功\n",
      "注意：仅限于学术用途，不承诺稳定性保证\n"
     ]
    }
   ],
   "source": [
    "\n",
    "\n",
    "\n",
    "import util\n",
    "LOGDIR=f\"../data/logs\"\n",
    "LOGFILE=f\"{LOGDIR}/log{util.timestamp()}.log\"\n",
    "print(LOGFILE)\n",
    "\n",
    "MODELNAME=\"Trans_qw_8b_a08\"\n",
    "\n",
    "DS=\"alt\"\n",
    "DSCLS=\"Dataset\"\n",
    "VDSCLS=\"Dataset\"\n",
    "TDSCLS=\"IterDataset\"\n",
    "RESTORE=\"\"\n",
    "BACKBONE= \"../data/hfmodels/unsloth/Qwen3-8B\"\n",
    "\n",
    "\n",
    "\n",
    "DATASEED=98740230\n",
    "SEED=98402392\n",
    "KN=5\n",
    "KFIDS=\"0\"\n",
    "#0.6363314390182495\n",
    "\n",
    "\n",
    "\n",
    "!sshpass -p \"{ADLPASS}\" ssh -p \"{ADLPORT}\" {ADLSRV} \". /root/miniconda3/etc/profile.d/conda.sh && conda activate ptm  && source /etc/network_turbo && cd /tmp/{PROJECT}/{PROJECT}  \\\n",
    "&& PYTHONPATH=../ HF_HOME=../data/cache/huggingface  python -u >{LOGFILE} 2>&1\" \\\n",
    "<sft.py - -model_name {MODELNAME} -ds \"{DS}\" -ds_cls \"{DSCLS}\" -val_ds_cls \"{VDSCLS}\" -test_ds_cls \"{TDSCLS}\" -kn {KN}  -kfids \"{KFIDS}\" -backbone \"{BACKBONE}\" \\\n",
    "-data_seed {DATASEED} -seed {SEED} -eval_delay 0 -epochs 1   -max_seq_len 512  -do_train  -n_dl_worker 8 -es 1 -verbose 64  -save_strategy epoch  -groupfy -group_col name \\\n",
    "-n_keep_save 1 -lr 1e-4 -lr_warmup_ratio 0.01 -weight_decay 0.01 -bs 2 -gas 16 -vbs 4 -torch_dtype bfloat16 -mixed_precision bf16  -ppt trans_ppt  \\\n",
    "-use_lora -lora_dropout 0 -lora_alpha 16 -lora_rank 32 -lora_modules q_proj o_proj gate_proj up_proj down_proj k_proj v_proj\n",
    "\n",
    "\n",
    "\n"
   ]
  },
  {
   "cell_type": "code",
   "execution_count": null,
   "metadata": {},
   "outputs": [],
   "source": [
    "#../data/logs/log20250611071906.log"
   ]
  },
  {
   "cell_type": "code",
   "execution_count": 107,
   "metadata": {},
   "outputs": [
    {
     "name": "stdout",
     "output_type": "stream",
     "text": [
      "../data/logs/log20250610204741.log\n",
      "设置成功\n",
      "注意：仅限于学术用途，不承诺稳定性保证\n"
     ]
    }
   ],
   "source": [
    "\n",
    "\n",
    "\n",
    "import util\n",
    "LOGDIR=f\"../data/logs\"\n",
    "LOGFILE=f\"{LOGDIR}/log{util.timestamp()}.log\"\n",
    "print(LOGFILE)\n",
    "\n",
    "MODELNAME=\"Trans_qw_8b_a07\"\n",
    "\n",
    "DS=\"mls25\"\n",
    "DSCLS=\"Dataset\"\n",
    "VDSCLS=\"Dataset\"\n",
    "TDSCLS=\"IterDataset\"\n",
    "RESTORE=\"\"\n",
    "BACKBONE= \"../data/Trans_qw_8b_a03_KF0\"\n",
    "\n",
    "\n",
    "\n",
    "DATASEED=98740230\n",
    "SEED=98402392\n",
    "KN=5\n",
    "KFIDS=\"0\"\n",
    "# 0.5760611295700073\n",
    "\n",
    "!sshpass -p \"{ADLPASS}\" ssh -p \"{ADLPORT}\" {ADLSRV} \". /root/miniconda3/etc/profile.d/conda.sh && conda activate ptm  && source /etc/network_turbo && cd /tmp/{PROJECT}/{PROJECT}  \\\n",
    "&& PYTHONPATH=../ HF_HOME=../data/cache/huggingface  python -u >{LOGFILE} 2>&1\" \\\n",
    "<sft.py - -model_name {MODELNAME} -ds \"{DS}\" -ds_cls \"{DSCLS}\" -val_ds_cls \"{VDSCLS}\" -test_ds_cls \"{TDSCLS}\" -kn {KN}  -kfids \"{KFIDS}\" -backbone \"{BACKBONE}\" \\\n",
    "-data_seed {DATASEED} -seed {SEED} -eval_delay 0 -epochs 1   -max_seq_len 512  -do_train  -n_dl_worker 8 -es 1 -verbose 64  -save_strategy epoch  -groupfy -group_col name \\\n",
    "-n_keep_save 1 -lr 1e-4 -lr_warmup_ratio 0.01 -weight_decay 0.01 -bs 2 -gas 16 -vbs 4 -torch_dtype bfloat16 -mixed_precision bf16  -ppt trans_ppt  \\\n",
    "-use_lora -lora_dropout 0 -lora_alpha 16 -lora_rank 32 -lora_modules q_proj o_proj gate_proj up_proj down_proj k_proj v_proj  \n",
    "\n",
    "\n",
    "\n"
   ]
  },
  {
   "cell_type": "code",
   "execution_count": 77,
   "metadata": {},
   "outputs": [
    {
     "name": "stdout",
     "output_type": "stream",
     "text": [
      "../data/logs/log20250610121538.log\n",
      "设置成功\n",
      "注意：仅限于学术用途，不承诺稳定性保证\n"
     ]
    }
   ],
   "source": [
    "\n",
    "\n",
    "\n",
    "import util\n",
    "LOGDIR=f\"../data/logs\"\n",
    "LOGFILE=f\"{LOGDIR}/log{util.timestamp()}.log\"\n",
    "print(LOGFILE)\n",
    "\n",
    "MODELNAME=\"Trans_qw_8b_a05\"\n",
    "\n",
    "DS=\"mls25\"\n",
    "DSCLS=\"Dataset\"\n",
    "VDSCLS=\"Dataset\"\n",
    "TDSCLS=\"IterDataset\"\n",
    "RESTORE=\"\"\n",
    "BACKBONE= \"../data/Trans_qw_8b_a03_KF0\"\n",
    "\n",
    "\n",
    "\n",
    "DATASEED=98740230\n",
    "SEED=98402392\n",
    "KN=5\n",
    "KFIDS=\"0\"\n",
    "\n",
    "\n",
    "\n",
    "!sshpass -p \"{ADLPASS}\" ssh -p \"{ADLPORT}\" {ADLSRV} \". /root/miniconda3/etc/profile.d/conda.sh && conda activate ptm  && source /etc/network_turbo && cd /tmp/{PROJECT}/{PROJECT}  \\\n",
    "&& PYTHONPATH=../ HF_HOME=../data/cache/huggingface  python -u >{LOGFILE} 2>&1\" \\\n",
    "<sft.py - -model_name {MODELNAME} -ds \"{DS}\" -ds_cls \"{DSCLS}\" -val_ds_cls \"{VDSCLS}\" -test_ds_cls \"{TDSCLS}\" -kn {KN}  -kfids \"{KFIDS}\" -backbone \"{BACKBONE}\" \\\n",
    "-data_seed {DATASEED} -seed {SEED} -eval_delay 0 -epochs 1   -max_seq_len 512  -do_train  -n_dl_worker 8 -es 1 -verbose 64  -save_strategy epoch  -groupfy -group_col name \\\n",
    "-n_keep_save 1 -lr 1e-4 -lr_warmup_ratio 0.01 -weight_decay 0.01 -bs 2 -gas 16 -vbs 4 -torch_dtype bfloat16 -mixed_precision bf16  -ppt trans_ppt  \\\n",
    "-lora_dropout 0 -lora_alpha 16 -lora_rank 32 -lora_modules q_proj o_proj gate_proj up_proj down_proj k_proj v_proj \n",
    "\n",
    "\n",
    "\n"
   ]
  },
  {
   "cell_type": "code",
   "execution_count": 76,
   "metadata": {},
   "outputs": [
    {
     "name": "stdout",
     "output_type": "stream",
     "text": [
      "../data/logs/log20250610114717.log\n",
      "设置成功\n",
      "注意：仅限于学术用途，不承诺稳定性保证\n",
      "bash: line 1: 26723 Killed                  PYTHONPATH=../ HF_HOME=../data/cache/huggingface python -u - -model_name Trans_qw_8b_a04 -ds mls25 -ds_cls Dataset -val_ds_cls Dataset -test_ds_cls IterDataset -kn 5 -kfids 0 -backbone ../data/Trans_qw_8b_a03_KF0 -data_seed 98740230 -seed 98402392 -eval_delay 0 -epochs 1 -max_seq_len 512 -do_train -n_dl_worker 8 -es 1 -verbose 64 -save_strategy epoch -groupfy -group_col name -n_keep_save 1 -lr 1e-4 -lr_warmup_ratio 0.01 -weight_decay 0.01 -bs 2 -gas 16 -vbs 4 -torch_dtype bfloat16 -mixed_precision bf16 -ppt trans_ppt -use_lora -lora_dropout 0 -lora_alpha 16 -lora_rank 32 -lora_modules q_proj o_proj gate_proj up_proj down_proj k_proj v_proj > ../data/logs/log20250610114717.log 2>&1\n"
     ]
    }
   ],
   "source": [
    "\n",
    "\n",
    "\n",
    "import util\n",
    "LOGDIR=f\"../data/logs\"\n",
    "LOGFILE=f\"{LOGDIR}/log{util.timestamp()}.log\"\n",
    "print(LOGFILE)\n",
    "\n",
    "MODELNAME=\"Trans_qw_8b_a04\"\n",
    "\n",
    "DS=\"mls25\"\n",
    "DSCLS=\"Dataset\"\n",
    "VDSCLS=\"Dataset\"\n",
    "TDSCLS=\"IterDataset\"\n",
    "RESTORE=\"\"\n",
    "BACKBONE= \"../data/Trans_qw_8b_a03_KF0\"\n",
    "\n",
    "\n",
    "\n",
    "DATASEED=98740230\n",
    "SEED=98402392\n",
    "KN=5\n",
    "KFIDS=\"0\"\n",
    "\n",
    "\n",
    "\n",
    "!sshpass -p \"{ADLPASS}\" ssh -p \"{ADLPORT}\" {ADLSRV} \". /root/miniconda3/etc/profile.d/conda.sh && conda activate ptm  && source /etc/network_turbo && cd /tmp/{PROJECT}/{PROJECT}  \\\n",
    "&& PYTHONPATH=../ HF_HOME=../data/cache/huggingface  python -u >{LOGFILE} 2>&1\" \\\n",
    "<sft.py - -model_name {MODELNAME} -ds \"{DS}\" -ds_cls \"{DSCLS}\" -val_ds_cls \"{VDSCLS}\" -test_ds_cls \"{TDSCLS}\" -kn {KN}  -kfids \"{KFIDS}\" -backbone \"{BACKBONE}\" \\\n",
    "-data_seed {DATASEED} -seed {SEED} -eval_delay 0 -epochs 1   -max_seq_len 512  -do_train  -n_dl_worker 8 -es 1 -verbose 64  -save_strategy epoch  -groupfy -group_col name \\\n",
    "-n_keep_save 1 -lr 1e-4 -lr_warmup_ratio 0.01 -weight_decay 0.01 -bs 2 -gas 16 -vbs 4 -torch_dtype bfloat16 -mixed_precision bf16  -ppt trans_ppt  \\\n",
    "-use_lora -lora_dropout 0 -lora_alpha 16 -lora_rank 32 -lora_modules q_proj o_proj gate_proj up_proj down_proj k_proj v_proj \n",
    "\n",
    "\n",
    "\n"
   ]
  },
  {
   "cell_type": "code",
   "execution_count": 74,
   "metadata": {},
   "outputs": [
    {
     "name": "stdout",
     "output_type": "stream",
     "text": [
      "../data/logs/log20250610101600.log\n",
      "设置成功\n",
      "注意：仅限于学术用途，不承诺稳定性保证\n"
     ]
    }
   ],
   "source": [
    "\n",
    "\n",
    "\n",
    "import util\n",
    "LOGDIR=f\"../data/logs\"\n",
    "LOGFILE=f\"{LOGDIR}/log{util.timestamp()}.log\"\n",
    "print(LOGFILE)\n",
    "\n",
    "MODELNAME=\"Trans_qw_8b_a03\"\n",
    "\n",
    "DS=\"alt\"\n",
    "DSCLS=\"Dataset\"\n",
    "VDSCLS=\"Dataset\"\n",
    "TDSCLS=\"IterDataset\"\n",
    "RESTORE=\"\"\n",
    "BACKBONE= \"../data/hfmodels/unsloth/Qwen3-8B\"\n",
    "\n",
    "\n",
    "\n",
    "DATASEED=98740230\n",
    "SEED=98402392\n",
    "KN=5\n",
    "KFIDS=\"0\"\n",
    "\n",
    "#0.6954387426376343\n",
    "\n",
    "!sshpass -p \"{ADLPASS}\" ssh -p \"{ADLPORT}\" {ADLSRV} \". /root/miniconda3/etc/profile.d/conda.sh && conda activate ptm  && source /etc/network_turbo && cd /tmp/{PROJECT}/{PROJECT}  \\\n",
    "&& PYTHONPATH=../ HF_HOME=../data/cache/huggingface  python -u >{LOGFILE} 2>&1\" \\\n",
    "<sft.py - -model_name {MODELNAME} -ds \"{DS}\" -ds_cls \"{DSCLS}\" -val_ds_cls \"{VDSCLS}\" -test_ds_cls \"{TDSCLS}\" -kn {KN}  -kfids \"{KFIDS}\" -backbone \"{BACKBONE}\" \\\n",
    "-data_seed {DATASEED} -seed {SEED} -eval_delay 0 -epochs 1   -max_seq_len 512  -do_train  -n_dl_worker 8 -es 1 -verbose 64  -save_strategy epoch  -groupfy -group_col name \\\n",
    "-n_keep_save 1 -lr 1e-4 -lr_warmup_ratio 0.01 -weight_decay 0.01 -bs 2 -gas 16 -vbs 4 -torch_dtype bfloat16 -mixed_precision bf16  -ppt trans_ppt  \\\n",
    "-use_lora -lora_dropout 0 -lora_alpha 16 -lora_rank 32 -lora_modules q_proj o_proj gate_proj up_proj down_proj k_proj v_proj \n",
    "\n",
    "\n",
    "\n"
   ]
  },
  {
   "cell_type": "code",
   "execution_count": 73,
   "metadata": {},
   "outputs": [
    {
     "name": "stdout",
     "output_type": "stream",
     "text": [
      "../data/logs/log20250610085649.log\n",
      "设置成功\n",
      "注意：仅限于学术用途，不承诺稳定性保证\n"
     ]
    }
   ],
   "source": [
    "\n",
    "\n",
    "\n",
    "import util\n",
    "LOGDIR=f\"../data/logs\"\n",
    "LOGFILE=f\"{LOGDIR}/log{util.timestamp()}.log\"\n",
    "print(LOGFILE)\n",
    "\n",
    "MODELNAME=\"Trans_qw_8b_a02\"\n",
    "\n",
    "DS=\"mls25\"\n",
    "DSCLS=\"Dataset\"\n",
    "VDSCLS=\"Dataset\"\n",
    "TDSCLS=\"IterDataset\"\n",
    "RESTORE=\"\"\n",
    "BACKBONE= \"../data/hfmodels/unsloth/Qwen3-8B\"\n",
    "\n",
    "\n",
    "\n",
    "DATASEED=98740230\n",
    "SEED=98402392\n",
    "KN=5\n",
    "KFIDS=\"0\"\n",
    "\n",
    "\n",
    "\n",
    "!sshpass -p \"{ADLPASS}\" ssh -p \"{ADLPORT}\" {ADLSRV} \". /root/miniconda3/etc/profile.d/conda.sh && conda activate ptm  && source /etc/network_turbo && cd /tmp/{PROJECT}/{PROJECT}  \\\n",
    "&& PYTHONPATH=../ HF_HOME=../data/cache/huggingface  python -u >{LOGFILE} 2>&1\" \\\n",
    "<sft.py - -model_name {MODELNAME} -ds \"{DS}\" -ds_cls \"{DSCLS}\" -val_ds_cls \"{VDSCLS}\" -test_ds_cls \"{TDSCLS}\" -kn {KN}  -kfids \"{KFIDS}\" -backbone \"{BACKBONE}\" \\\n",
    "-data_seed {DATASEED} -seed {SEED} -eval_delay 0 -epochs 1   -max_seq_len 512  -do_train  -n_dl_worker 8 -es 1 -verbose 64  -save_strategy epoch  -groupfy -group_col name \\\n",
    "-n_keep_save 1 -lr 1e-4 -lr_warmup_ratio 0.01 -weight_decay 0.01 -bs 2 -gas 16 -vbs 4 -torch_dtype bfloat16 -mixed_precision bf16  -ppt trans_ppt  \\\n",
    "-use_lora -lora_dropout 0 -lora_alpha 16 -lora_rank 32 -lora_modules q_proj o_proj gate_proj up_proj down_proj k_proj v_proj \n",
    "\n",
    "\n",
    "\n"
   ]
  },
  {
   "cell_type": "code",
   "execution_count": 88,
   "metadata": {},
   "outputs": [
    {
     "name": "stdout",
     "output_type": "stream",
     "text": [
      "../data/logs/log20250603093418.log\n",
      "设置成功\n",
      "注意：仅限于学术用途，不承诺稳定性保证\n"
     ]
    }
   ],
   "source": [
    "\n",
    "\n",
    "\n",
    "import util\n",
    "LOGDIR=f\"../data/logs\"\n",
    "LOGFILE=f\"{LOGDIR}/log{util.timestamp()}.log\"\n",
    "print(LOGFILE)\n",
    "\n",
    "MODELNAME=\"Trans_qw_8b_a01\"\n",
    "\n",
    "DS=\"mls25\"\n",
    "DSCLS=\"Dataset\"\n",
    "VDSCLS=\"Dataset\"\n",
    "TDSCLS=\"IterDataset\"\n",
    "RESTORE=\"\"\n",
    "BACKBONE= \"../data/hfmodels/unsloth/Qwen3-8B\"\n",
    "\n",
    "\n",
    "\n",
    "DATASEED=98740230\n",
    "SEED=98402392\n",
    "KN=5\n",
    "KFIDS=\"0\"\n",
    "\n",
    "\n",
    "\n",
    "!sshpass -p \"{ADLPASS}\" ssh -p \"{ADLPORT}\" {ADLSRV} \". /root/miniconda3/etc/profile.d/conda.sh && conda activate ptm  && source /etc/network_turbo && cd /tmp/{PROJECT}/{PROJECT}  \\\n",
    "&& PYTHONPATH=../ HF_HOME=../data/cache/huggingface  python -u >{LOGFILE} 2>&1\" \\\n",
    "<sft.py - -model_name {MODELNAME} -ds \"{DS}\" -ds_cls \"{DSCLS}\" -val_ds_cls \"{VDSCLS}\" -test_ds_cls \"{TDSCLS}\" -kn {KN}  -kfids \"{KFIDS}\" -backbone \"{BACKBONE}\" \\\n",
    "-data_seed {DATASEED} -seed {SEED} -eval_delay 0 -epochs 1   -max_seq_len 256  -do_train  -n_dl_worker 8 -es 1 -verbose 64  -save_strategy epoch  -groupfy -group_col name \\\n",
    "-n_keep_save 1 -lr 1e-4 -lr_warmup_ratio 0.01 -weight_decay 0.01 -bs 8 -gas 4 -vbs 8 -torch_dtype bfloat16 -mixed_precision bf16  -ppt trans_ppt  \\\n",
    "-use_unsloth -use_lora -lora_dropout 0 -lora_alpha 16 -lora_rank 32 -lora_modules q_proj o_proj gate_proj up_proj down_proj k_proj v_proj \n",
    "\n",
    "\n",
    "\n"
   ]
  },
  {
   "cell_type": "markdown",
   "metadata": {},
   "source": [
    "###  qw4b"
   ]
  },
  {
   "cell_type": "code",
   "execution_count": 78,
   "metadata": {},
   "outputs": [
    {
     "name": "stdout",
     "output_type": "stream",
     "text": [
      "../data/logs/log20250602122447.log\n",
      "设置成功\n",
      "注意：仅限于学术用途，不承诺稳定性保证\n",
      "Connection to connect.westc.gpuhub.com closed by remote host.\n"
     ]
    }
   ],
   "source": [
    "\n",
    "\n",
    "\n",
    "import util\n",
    "LOGDIR=f\"../data/logs\"\n",
    "LOGFILE=f\"{LOGDIR}/log{util.timestamp()}.log\"\n",
    "print(LOGFILE)\n",
    "\n",
    "MODELNAME=\"Trans_qw_1d7b_a01\"\n",
    "\n",
    "DS=\"mls25\"\n",
    "DSCLS=\"Dataset\"\n",
    "VDSCLS=\"Dataset\"\n",
    "TDSCLS=\"IterDataset\"\n",
    "RESTORE=\"\"\n",
    "BACKBONE= \"../data/hfmodels/unsloth/Qwen3-1.7B\"\n",
    "\n",
    "\n",
    "\n",
    "DATASEED=98740230\n",
    "SEED=98402392\n",
    "KN=5\n",
    "KFIDS=\"0\"\n",
    "\n",
    "\n",
    "\n",
    "!sshpass -p \"{ADLPASS}\" ssh -p \"{ADLPORT}\" {ADLSRV} \". /root/miniconda3/etc/profile.d/conda.sh && conda activate ptm  && source /etc/network_turbo && cd /tmp/{PROJECT}/{PROJECT}  \\\n",
    "&& PYTHONPATH=../ HF_HOME=../data/cache/huggingface  python -u >{LOGFILE} 2>&1\" \\\n",
    "<sft.py - -model_name {MODELNAME} -ds \"{DS}\" -ds_cls \"{DSCLS}\" -val_ds_cls \"{VDSCLS}\" -test_ds_cls \"{TDSCLS}\" -kn {KN}  -kfids \"{KFIDS}\" -backbone \"{BACKBONE}\" \\\n",
    "-data_seed {DATASEED} -seed {SEED} -eval_delay 0 -epochs 1   -max_seq_len 256  -do_train  -n_dl_worker 8 -es 1 -verbose 32  -save_strategy epoch  -groupfy -group_col name \\\n",
    "-n_keep_save 1 -lr 1e-4 -lr_warmup_ratio 0.01 -weight_decay 0.01 -bs 8 -gas 4 -vbs 1 -torch_dtype bfloat16 -mixed_precision bf16  -ppt trans_ppt  \\\n",
    "-lora_dropout 0 -lora_alpha 16 -lora_rank 32 -lora_modules q_proj o_proj gate_proj up_proj down_proj k_proj v_proj \n",
    "\n",
    "\n",
    "\n"
   ]
  },
  {
   "cell_type": "code",
   "execution_count": 24,
   "metadata": {},
   "outputs": [
    {
     "data": {
      "text/plain": [
       "('5HSsqYnCdwoa', '42516', 'root@connect.westc.gpuhub.com')"
      ]
     },
     "execution_count": 24,
     "metadata": {},
     "output_type": "execute_result"
    }
   ],
   "source": [
    "ADLPASS,ADLPORT,ADLSRV"
   ]
  },
  {
   "cell_type": "markdown",
   "metadata": {},
   "source": [
    "## STT"
   ]
  },
  {
   "cell_type": "markdown",
   "metadata": {},
   "source": [
    "### qw2audio7b"
   ]
  },
  {
   "cell_type": "code",
   "execution_count": 50,
   "metadata": {},
   "outputs": [
    {
     "name": "stdout",
     "output_type": "stream",
     "text": [
      "../data/logs/log20250607060054.log\n",
      "设置成功\n",
      "注意：仅限于学术用途，不承诺稳定性保证\n"
     ]
    }
   ],
   "source": [
    "\n",
    "\n",
    "\n",
    "import util\n",
    "LOGDIR=f\"../data/logs\"\n",
    "LOGFILE=f\"{LOGDIR}/log{util.timestamp()}.log\"\n",
    "print(LOGFILE)\n",
    "\n",
    "MODELNAME=\"STT_qw_7b_a04\"\n",
    "\n",
    "DS=\"mls25\"\n",
    "DSCLS=\"STTDataset\"\n",
    "VDSCLS=\"STTDataset\"\n",
    "TDSCLS=\"STTDataset\"\n",
    "RESTORE=\"\"\n",
    "BACKBONE=\"Qwen/Qwen2-Audio-7B\"\n",
    "\n",
    "\n",
    "\n",
    "DATASEED=98740230\n",
    "SEED=98402392\n",
    "KN=5\n",
    "KFIDS=\"0\"\n",
    "\n",
    "\n",
    "\n",
    "!sshpass -p \"{ADLPASS}\" ssh -p \"{ADLPORT}\" {ADLSRV} \". /root/miniconda3/etc/profile.d/conda.sh && conda activate ptm  && source /etc/network_turbo && cd /tmp/{PROJECT}/{PROJECT}  \\\n",
    "&& PYTHONPATH=../ HF_HOME=../data/cache/huggingface TRANSFORMERS_OFFLINE=1 python -u >{LOGFILE} 2>&1\" \\\n",
    "<sft.py - -model_name {MODELNAME} -ds \"{DS}\" -ds_cls \"{DSCLS}\" -val_ds_cls \"{VDSCLS}\" -test_ds_cls \"{TDSCLS}\" -kn {KN}  -kfids \"{KFIDS}\" -backbone \"{BACKBONE}\" \\\n",
    "-data_seed {DATASEED} -seed {SEED} -eval_delay 0 -epochs 2   -max_seq_len 256  -do_train  -n_dl_worker 24 -es 1 -verbose 32  -save_strategy epoch  -groupfy -group_col name \\\n",
    "-n_keep_save 1 -lr 2e-4 -lr_warmup_ratio 0.01 -weight_decay 0.01 -bs 1 -gas 32 -vbs 2 -torch_dtype bfloat16 -mixed_precision bf16  -ppt qw2audio_sttppt  \\\n",
    "-use_lora -lora_dropout 0 -lora_alpha 16 -lora_rank 32 -lora_modules q_proj o_proj gate_proj up_proj down_proj k_proj v_proj  \n",
    "\n",
    "\n",
    "\n"
   ]
  },
  {
   "cell_type": "code",
   "execution_count": 43,
   "metadata": {},
   "outputs": [
    {
     "name": "stdout",
     "output_type": "stream",
     "text": [
      "../data/logs/log20250606085847.log\n",
      "设置成功\n",
      "注意：仅限于学术用途，不承诺稳定性保证\n"
     ]
    }
   ],
   "source": [
    "\n",
    "\n",
    "\n",
    "import util\n",
    "LOGDIR=f\"../data/logs\"\n",
    "LOGFILE=f\"{LOGDIR}/log{util.timestamp()}.log\"\n",
    "print(LOGFILE)\n",
    "\n",
    "MODELNAME=\"STT_qw_7b_a03\"\n",
    "\n",
    "DS=\"mls25\"\n",
    "DSCLS=\"STTDataset\"\n",
    "VDSCLS=\"STTDataset\"\n",
    "TDSCLS=\"STTDataset\"\n",
    "RESTORE=\"\"\n",
    "BACKBONE=\"Qwen/Qwen2-Audio-7B\"\n",
    "\n",
    "\n",
    "\n",
    "DATASEED=98740230\n",
    "SEED=98402392\n",
    "KN=5\n",
    "KFIDS=\"0\"\n",
    "\n",
    "\n",
    "\n",
    "!sshpass -p \"{ADLPASS}\" ssh -p \"{ADLPORT}\" {ADLSRV} \". /root/miniconda3/etc/profile.d/conda.sh && conda activate ptm  && source /etc/network_turbo && cd /tmp/{PROJECT}/{PROJECT}  \\\n",
    "&& PYTHONPATH=../ HF_HOME=../data/cache/huggingface TRANSFORMERS_OFFLINE=1 python -u >{LOGFILE} 2>&1\" \\\n",
    "<sft.py - -model_name {MODELNAME} -ds \"{DS}\" -ds_cls \"{DSCLS}\" -val_ds_cls \"{VDSCLS}\" -test_ds_cls \"{TDSCLS}\" -kn {KN}  -kfids \"{KFIDS}\" -backbone \"{BACKBONE}\" \\\n",
    "-data_seed {DATASEED} -seed {SEED} -eval_delay 0 -epochs 1   -max_seq_len 256  -do_train  -n_dl_worker 24 -es 1 -verbose 32  -save_strategy epoch  -groupfy -group_col name \\\n",
    "-n_keep_save 1 -lr 2e-4 -lr_warmup_ratio 0.01 -weight_decay 0.01 -bs 1 -gas 32 -vbs 2 -torch_dtype bfloat16 -mixed_precision bf16  -ppt qw2audio_sttppt  \\\n",
    "-use_lora -lora_dropout 0 -lora_alpha 16 -lora_rank 32 -lora_modules q_proj o_proj gate_proj up_proj down_proj k_proj v_proj  \n",
    "\n",
    "\n",
    "\n"
   ]
  },
  {
   "cell_type": "code",
   "execution_count": 42,
   "metadata": {},
   "outputs": [
    {
     "name": "stdout",
     "output_type": "stream",
     "text": [
      "../data/logs/log20250606060720.log\n",
      "设置成功\n",
      "注意：仅限于学术用途，不承诺稳定性保证\n"
     ]
    }
   ],
   "source": [
    "\n",
    "\n",
    "\n",
    "import util\n",
    "LOGDIR=f\"../data/logs\"\n",
    "LOGFILE=f\"{LOGDIR}/log{util.timestamp()}.log\"\n",
    "print(LOGFILE)\n",
    "\n",
    "MODELNAME=\"STT_qw_7b_a02\"\n",
    "\n",
    "DS=\"mls25\"\n",
    "DSCLS=\"STTDataset\"\n",
    "VDSCLS=\"STTDataset\"\n",
    "TDSCLS=\"STTDataset\"\n",
    "RESTORE=\"\"\n",
    "BACKBONE=\"Qwen/Qwen2-Audio-7B\"\n",
    "\n",
    "\n",
    "\n",
    "DATASEED=98740230\n",
    "SEED=98402392\n",
    "KN=5\n",
    "KFIDS=\"0\"\n",
    "\n",
    "\n",
    "\n",
    "!sshpass -p \"{ADLPASS}\" ssh -p \"{ADLPORT}\" {ADLSRV} \". /root/miniconda3/etc/profile.d/conda.sh && conda activate ptm  && source /etc/network_turbo && cd /tmp/{PROJECT}/{PROJECT}  \\\n",
    "&& PYTHONPATH=../ HF_HOME=../data/cache/huggingface TRANSFORMERS_OFFLINE=1 python -u >{LOGFILE} 2>&1\" \\\n",
    "<sft.py - -model_name {MODELNAME} -ds \"{DS}\" -ds_cls \"{DSCLS}\" -val_ds_cls \"{VDSCLS}\" -test_ds_cls \"{TDSCLS}\" -kn {KN}  -kfids \"{KFIDS}\" -backbone \"{BACKBONE}\" \\\n",
    "-data_seed {DATASEED} -seed {SEED} -eval_delay 0 -epochs 1   -max_seq_len 256  -do_train  -n_dl_worker 24 -es 1 -verbose 32  -save_strategy epoch  -groupfy -group_col name \\\n",
    "-n_keep_save 1 -lr 2e-4 -lr_warmup_ratio 0.01 -weight_decay 0.01 -bs 1 -gas 32 -vbs 2 -torch_dtype bfloat16 -mixed_precision bf16  -ppt qw2audio_asrppt  \\\n",
    "-use_lora -lora_dropout 0 -lora_alpha 16 -lora_rank 32 -lora_modules q_proj o_proj gate_proj up_proj down_proj k_proj v_proj  \n",
    "\n",
    "\n",
    "\n"
   ]
  },
  {
   "cell_type": "code",
   "execution_count": 39,
   "metadata": {},
   "outputs": [
    {
     "name": "stdout",
     "output_type": "stream",
     "text": [
      "../data/logs/log20250605164952.log\n",
      "设置成功\n",
      "注意：仅限于学术用途，不承诺稳定性保证\n"
     ]
    }
   ],
   "source": [
    "\n",
    "\n",
    "\n",
    "import util\n",
    "LOGDIR=f\"../data/logs\"\n",
    "LOGFILE=f\"{LOGDIR}/log{util.timestamp()}.log\"\n",
    "print(LOGFILE)\n",
    "\n",
    "MODELNAME=\"STT_qw_7b_a01\"\n",
    "\n",
    "DS=\"mls25\"\n",
    "DSCLS=\"STTDataset\"\n",
    "VDSCLS=\"STTDataset\"\n",
    "TDSCLS=\"STTDataset\"\n",
    "RESTORE=\"\"\n",
    "BACKBONE=\"Qwen/Qwen2-Audio-7B\"\n",
    "\n",
    "\n",
    "\n",
    "DATASEED=98740230\n",
    "SEED=98402392\n",
    "KN=5\n",
    "KFIDS=\"0\"\n",
    "\n",
    "\n",
    "\n",
    "!sshpass -p \"{ADLPASS}\" ssh -p \"{ADLPORT}\" {ADLSRV} \". /root/miniconda3/etc/profile.d/conda.sh && conda activate ptm  && source /etc/network_turbo && cd /tmp/{PROJECT}/{PROJECT}  \\\n",
    "&& PYTHONPATH=../ HF_HOME=../data/cache/huggingface TRANSFORMERS_OFFLINE=1 python -u >{LOGFILE} 2>&1\" \\\n",
    "<sft.py - -model_name {MODELNAME} -ds \"{DS}\" -ds_cls \"{DSCLS}\" -val_ds_cls \"{VDSCLS}\" -test_ds_cls \"{TDSCLS}\" -kn {KN}  -kfids \"{KFIDS}\" -backbone \"{BACKBONE}\" \\\n",
    "-data_seed {DATASEED} -seed {SEED} -eval_delay 0 -epochs 1   -max_seq_len 256  -do_train  -n_dl_worker 24 -es 1 -verbose 32  -save_strategy epoch  -groupfy -group_col name \\\n",
    "-n_keep_save 1 -lr 2e-4 -lr_warmup_ratio 0.01 -weight_decay 0.01 -bs 1 -gas 32 -vbs 2 -torch_dtype bfloat16 -mixed_precision bf16  -ppt qw2audio_asrppt  \\\n",
    "-use_lora -lora_dropout 0 -lora_alpha 16 -lora_rank 32 -lora_modules q_proj o_proj gate_proj up_proj down_proj k_proj v_proj  \n",
    "\n",
    "\n",
    "\n"
   ]
  },
  {
   "cell_type": "markdown",
   "metadata": {},
   "source": [
    "## ASRLM"
   ]
  },
  {
   "cell_type": "markdown",
   "metadata": {},
   "source": [
    "### qw2audio7b"
   ]
  },
  {
   "cell_type": "code",
   "execution_count": 36,
   "metadata": {},
   "outputs": [
    {
     "name": "stdout",
     "output_type": "stream",
     "text": [
      "../data/logs/log20250605112657.log\n",
      "设置成功\n",
      "注意：仅限于学术用途，不承诺稳定性保证\n"
     ]
    }
   ],
   "source": [
    "\n",
    "\n",
    "\n",
    "import util\n",
    "LOGDIR=f\"../data/logs\"\n",
    "LOGFILE=f\"{LOGDIR}/log{util.timestamp()}.log\"\n",
    "print(LOGFILE)\n",
    "\n",
    "MODELNAME=\"ASRLM_qw_7b_a02\"\n",
    "\n",
    "DS=\"mls25\"\n",
    "DSCLS=\"ASRLMDataset\"\n",
    "VDSCLS=\"ASRLMDataset\"\n",
    "TDSCLS=\"ASRLMDataset\"\n",
    "RESTORE=\"\"\n",
    "BACKBONE=\"Qwen/Qwen2-Audio-7B\"\n",
    "\n",
    "\n",
    "\n",
    "DATASEED=98740230\n",
    "SEED=98402392\n",
    "KN=5\n",
    "KFIDS=\"0\"\n",
    "\n",
    "\n",
    "\n",
    "!sshpass -p \"{ADLPASS}\" ssh -p \"{ADLPORT}\" {ADLSRV} \". /root/miniconda3/etc/profile.d/conda.sh && conda activate ptm  && source /etc/network_turbo && cd /tmp/{PROJECT}/{PROJECT}  \\\n",
    "&& PYTHONPATH=../ HF_HOME=../data/cache/huggingface TRANSFORMERS_OFFLINE=1 python -u >{LOGFILE} 2>&1\" \\\n",
    "<sft.py - -model_name {MODELNAME} -ds \"{DS}\" -ds_cls \"{DSCLS}\" -val_ds_cls \"{VDSCLS}\" -test_ds_cls \"{TDSCLS}\" -kn {KN}  -kfids \"{KFIDS}\" -backbone \"{BACKBONE}\" \\\n",
    "-data_seed {DATASEED} -seed {SEED} -eval_delay 0 -epochs 1   -max_seq_len 256  -do_train  -n_dl_worker 24 -es 1 -verbose 32  -save_strategy epoch  -groupfy -group_col name \\\n",
    "-n_keep_save 1 -lr 2e-4 -lr_warmup_ratio 0.01 -weight_decay 0.01 -bs 1 -gas 32 -vbs 2 -torch_dtype bfloat16 -mixed_precision bf16  -ppt qw2audio_asrppt  \\\n",
    "-use_lora -lora_dropout 0 -lora_alpha 16 -lora_rank 32 -lora_modules q_proj o_proj gate_proj up_proj down_proj k_proj v_proj  \n",
    "\n",
    "\n",
    "\n"
   ]
  },
  {
   "cell_type": "code",
   "execution_count": 35,
   "metadata": {},
   "outputs": [
    {
     "name": "stdout",
     "output_type": "stream",
     "text": [
      "../data/logs/log20250605110702.log\n",
      "设置成功\n",
      "注意：仅限于学术用途，不承诺稳定性保证\n"
     ]
    }
   ],
   "source": [
    "\n",
    "\n",
    "\n",
    "import util\n",
    "LOGDIR=f\"../data/logs\"\n",
    "LOGFILE=f\"{LOGDIR}/log{util.timestamp()}.log\"\n",
    "print(LOGFILE)\n",
    "\n",
    "MODELNAME=\"ASRLM_qw_7b_a02\"\n",
    "\n",
    "DS=\"mls25\"\n",
    "DSCLS=\"ASRLMDataset\"\n",
    "VDSCLS=\"ASRLMDataset\"\n",
    "TDSCLS=\"ASRLMDataset\"\n",
    "RESTORE=\"\"\n",
    "BACKBONE=\"Qwen/Qwen2-Audio-7B\"\n",
    "\n",
    "\n",
    "\n",
    "DATASEED=98740230\n",
    "SEED=98402392\n",
    "KN=5\n",
    "KFIDS=\"0\"\n",
    "\n",
    "\n",
    "\n",
    "!sshpass -p \"{ADLPASS}\" ssh -p \"{ADLPORT}\" {ADLSRV} \". /root/miniconda3/etc/profile.d/conda.sh && conda activate ptm  && source /etc/network_turbo && cd /tmp/{PROJECT}/{PROJECT}  \\\n",
    "&& PYTHONPATH=../ HF_HOME=../data/cache/huggingface  python -u >{LOGFILE} 2>&1\" \\\n",
    "<sft.py - -model_name {MODELNAME} -ds \"{DS}\" -ds_cls \"{DSCLS}\" -val_ds_cls \"{VDSCLS}\" -test_ds_cls \"{TDSCLS}\" -kn {KN}  -kfids \"{KFIDS}\" -backbone \"{BACKBONE}\" \\\n",
    "-data_seed {DATASEED} -seed {SEED} -eval_delay 0 -epochs 1   -max_seq_len 256  -do_train  -n_dl_worker 24 -es 1 -verbose 32  -save_strategy epoch  -groupfy -group_col name \\\n",
    "-n_keep_save 1 -lr 2e-4 -lr_warmup_ratio 0.01 -weight_decay 0.01 -bs 2 -gas 16 -vbs 4 -torch_dtype bfloat16 -mixed_precision bf16  -ppt qw2audio_asrppt  \\\n",
    "-use_lora -lora_dropout 0 -lora_alpha 16 -lora_rank 32 -lora_modules q_proj o_proj gate_proj up_proj down_proj k_proj v_proj  \n",
    "\n",
    "\n",
    "\n"
   ]
  },
  {
   "cell_type": "code",
   "execution_count": 34,
   "metadata": {},
   "outputs": [
    {
     "name": "stdout",
     "output_type": "stream",
     "text": [
      "../data/logs/log20250605105955.log\n",
      "设置成功\n",
      "注意：仅限于学术用途，不承诺稳定性保证\n",
      "bash: line 1:  2454 Killed                  PYTHONPATH=../ HF_HOME=../data/cache/huggingface python -u - -model_name ASRLM_qw_7b_a02 -ds mls25 -ds_cls ASRLMDataset -val_ds_cls ASRLMDataset -test_ds_cls ASRLMDataset -kn 5 -kfids 0 -backbone Qwen/Qwen2-Audio-7B -data_seed 98740230 -seed 98402392 -eval_delay 0 -epochs 1 -max_seq_len 256 -do_train -n_dl_worker 16 -es 1 -verbose 32 -save_strategy epoch -groupfy -group_col name -n_keep_save 1 -lr 2e-4 -lr_warmup_ratio 0.01 -weight_decay 0.01 -bs 2 -gas 16 -vbs 4 -torch_dtype bfloat16 -mixed_precision bf16 -ppt qw2audio_asrppt -use_lora -lora_dropout 0 -lora_alpha 16 -lora_rank 32 -lora_modules q_proj o_proj gate_proj up_proj down_proj k_proj v_proj > ../data/logs/log20250605105955.log 2>&1\n"
     ]
    }
   ],
   "source": [
    "\n",
    "\n",
    "\n",
    "import util\n",
    "LOGDIR=f\"../data/logs\"\n",
    "LOGFILE=f\"{LOGDIR}/log{util.timestamp()}.log\"\n",
    "print(LOGFILE)\n",
    "\n",
    "MODELNAME=\"ASRLM_qw_7b_a02\"\n",
    "\n",
    "DS=\"mls25\"\n",
    "DSCLS=\"ASRLMDataset\"\n",
    "VDSCLS=\"ASRLMDataset\"\n",
    "TDSCLS=\"ASRLMDataset\"\n",
    "RESTORE=\"\"\n",
    "BACKBONE=\"Qwen/Qwen2-Audio-7B\"\n",
    "\n",
    "\n",
    "\n",
    "DATASEED=98740230\n",
    "SEED=98402392\n",
    "KN=5\n",
    "KFIDS=\"0\"\n",
    "\n",
    "\n",
    "\n",
    "!sshpass -p \"{ADLPASS}\" ssh -p \"{ADLPORT}\" {ADLSRV} \". /root/miniconda3/etc/profile.d/conda.sh && conda activate ptm  && source /etc/network_turbo && cd /tmp/{PROJECT}/{PROJECT}  \\\n",
    "&& PYTHONPATH=../ HF_HOME=../data/cache/huggingface  python -u >{LOGFILE} 2>&1\" \\\n",
    "<sft.py - -model_name {MODELNAME} -ds \"{DS}\" -ds_cls \"{DSCLS}\" -val_ds_cls \"{VDSCLS}\" -test_ds_cls \"{TDSCLS}\" -kn {KN}  -kfids \"{KFIDS}\" -backbone \"{BACKBONE}\" \\\n",
    "-data_seed {DATASEED} -seed {SEED} -eval_delay 0 -epochs 1   -max_seq_len 256  -do_train  -n_dl_worker 16 -es 1 -verbose 32  -save_strategy epoch  -groupfy -group_col name \\\n",
    "-n_keep_save 1 -lr 2e-4 -lr_warmup_ratio 0.01 -weight_decay 0.01 -bs 2 -gas 16 -vbs 4 -torch_dtype bfloat16 -mixed_precision bf16  -ppt qw2audio_asrppt  \\\n",
    "-use_lora -lora_dropout 0 -lora_alpha 16 -lora_rank 32 -lora_modules q_proj o_proj gate_proj up_proj down_proj k_proj v_proj  \n",
    "\n",
    "\n",
    "\n"
   ]
  },
  {
   "cell_type": "code",
   "execution_count": 28,
   "metadata": {},
   "outputs": [
    {
     "name": "stdout",
     "output_type": "stream",
     "text": [
      "../data/logs/log20250605070649.log\n",
      "设置成功\n",
      "注意：仅限于学术用途，不承诺稳定性保证\n"
     ]
    }
   ],
   "source": [
    "\n",
    "\n",
    "\n",
    "import util\n",
    "LOGDIR=f\"../data/logs\"\n",
    "LOGFILE=f\"{LOGDIR}/log{util.timestamp()}.log\"\n",
    "print(LOGFILE)\n",
    "\n",
    "MODELNAME=\"ASRLM_qw_7b_a01\"\n",
    "\n",
    "DS=\"mls25\"\n",
    "DSCLS=\"ASRLMDataset\"\n",
    "VDSCLS=\"ASRLMDataset\"\n",
    "TDSCLS=\"ASRLMDataset\"\n",
    "RESTORE=\"\"\n",
    "BACKBONE=\"Qwen/Qwen2-Audio-7B\"\n",
    "\n",
    "\n",
    "\n",
    "DATASEED=98740230\n",
    "SEED=98402392\n",
    "KN=5\n",
    "KFIDS=\"0\"\n",
    "\n",
    "\n",
    "\n",
    "!sshpass -p \"{ADLPASS}\" ssh -p \"{ADLPORT}\" {ADLSRV} \". /root/miniconda3/etc/profile.d/conda.sh && conda activate ptm  && source /etc/network_turbo && cd /tmp/{PROJECT}/{PROJECT}  \\\n",
    "&& PYTHONPATH=../ HF_HOME=../data/cache/huggingface  python -u >{LOGFILE} 2>&1\" \\\n",
    "<sft.py - -model_name {MODELNAME} -ds \"{DS}\" -ds_cls \"{DSCLS}\" -val_ds_cls \"{VDSCLS}\" -test_ds_cls \"{TDSCLS}\" -kn {KN}  -kfids \"{KFIDS}\" -backbone \"{BACKBONE}\" \\\n",
    "-data_seed {DATASEED} -seed {SEED} -eval_delay 0 -epochs 1   -max_seq_len 256  -do_train  -n_dl_worker 16 -es 1 -verbose 32  -save_strategy epoch  -groupfy -group_col name \\\n",
    "-n_keep_save 1 -lr 4e-5 -lr_warmup_ratio 0.01 -weight_decay 0.01 -bs 4 -gas 8 -vbs 8 -torch_dtype bfloat16 -mixed_precision bf16  -ppt qw2audio_asrppt  \\\n",
    "-use_lora -lora_dropout 0 -lora_alpha 16 -lora_rank 32 -lora_modules q_proj o_proj gate_proj up_proj down_proj k_proj v_proj  \n",
    "\n",
    "\n",
    "\n"
   ]
  },
  {
   "cell_type": "code",
   "execution_count": null,
   "metadata": {},
   "outputs": [],
   "source": [
    "# 5090\n",
    "#{'loss': 9.4434, 'grad_norm': 0.42157796025276184, 'learning_rate': 0.00019739663093415008, 'elapsed': 361.1791639328003, 'epoch': 0.02425965411040038}\n",
    "#{'loss': 5.932, 'grad_norm': 0.12165558338165283, 'learning_rate': 0.00019249617151607964, 'elapsed': 722.6248219013214, 'epoch': 0.04851930822080076}\n",
    "\n",
    "#bs 2\n",
    "{'loss': 9.5706, 'grad_norm': 0.2936970889568329, 'learning_rate': 0.00019739663093415008, 'elapsed': 194.73228240013123, 'epoch': 0.02425965411040038}\n",
    "\n",
    "# bs 2 no 4bit\n",
    "{'loss': 9.7295, 'grad_norm': 0.4276919662952423, 'learning_rate': 0.00019739663093415008, 'elapsed': 150.8063714504242, 'epoch': 0.02425965411040038}\n",
    "{'loss': 6.0361, 'grad_norm': 0.11052064597606659, 'learning_rate': 0.00019249617151607964, 'elapsed': 297.9333517551422, 'epoch': 0.04851930822080076}\n",
    "{'loss': 6.0627, 'grad_norm': 0.08779320120811462, 'learning_rate': 0.0001875957120980092, 'elapsed': 445.1427390575409, 'epoch': 0.07277896233120114}\n",
    "\n",
    "#bs 1 no lora oom"
   ]
  },
  {
   "cell_type": "markdown",
   "metadata": {},
   "source": [
    "# donwload transformer models"
   ]
  },
  {
   "cell_type": "code",
   "execution_count": 2,
   "metadata": {
    "scrolled": true
   },
   "outputs": [
    {
     "data": {
      "application/vnd.jupyter.widget-view+json": {
       "model_id": "6c6bec09c6c142f08c7c10a67dcce473",
       "version_major": 2,
       "version_minor": 0
      },
      "text/plain": [
       "Fetching 18 files:   0%|          | 0/18 [00:00<?, ?it/s]"
      ]
     },
     "metadata": {},
     "output_type": "display_data"
    },
    {
     "data": {
      "application/vnd.jupyter.widget-view+json": {
       "model_id": "dc3970b25002497e9c7e1e0efa57fdfc",
       "version_major": 2,
       "version_minor": 0
      },
      "text/plain": [
       "merges.txt:   0%|          | 0.00/466k [00:00<?, ?B/s]"
      ]
     },
     "metadata": {},
     "output_type": "display_data"
    },
    {
     "data": {
      "application/vnd.jupyter.widget-view+json": {
       "model_id": "4bda928e8f6145b799a31314d7b41bf0",
       "version_major": 2,
       "version_minor": 0
      },
      "text/plain": [
       ".gitattributes:   0%|          | 0.00/1.52k [00:00<?, ?B/s]"
      ]
     },
     "metadata": {},
     "output_type": "display_data"
    },
    {
     "data": {
      "application/vnd.jupyter.widget-view+json": {
       "model_id": "8b7c3307c684497a9a8f930df1a19126",
       "version_major": 2,
       "version_minor": 0
      },
      "text/plain": [
       "generation_config.json:   0%|          | 0.00/156 [00:00<?, ?B/s]"
      ]
     },
     "metadata": {},
     "output_type": "display_data"
    },
    {
     "data": {
      "application/vnd.jupyter.widget-view+json": {
       "model_id": "a1647b63ff6945658f6777a2ecb83ef0",
       "version_major": 2,
       "version_minor": 0
      },
      "text/plain": [
       "README.md:   0%|          | 0.00/5.62k [00:00<?, ?B/s]"
      ]
     },
     "metadata": {},
     "output_type": "display_data"
    },
    {
     "data": {
      "application/vnd.jupyter.widget-view+json": {
       "model_id": "aa879bc427ce444281f5a61af4d8b28f",
       "version_major": 2,
       "version_minor": 0
      },
      "text/plain": [
       "model.onnx:   0%|          | 0.00/539M [00:00<?, ?B/s]"
      ]
     },
     "metadata": {},
     "output_type": "display_data"
    },
    {
     "data": {
      "application/vnd.jupyter.widget-view+json": {
       "model_id": "d932b124f5f64d9ca59c6a794bef648a",
       "version_major": 2,
       "version_minor": 0
      },
      "text/plain": [
       "model_bnb4.onnx:   0%|          | 0.00/174M [00:00<?, ?B/s]"
      ]
     },
     "metadata": {},
     "output_type": "display_data"
    },
    {
     "data": {
      "application/vnd.jupyter.widget-view+json": {
       "model_id": "6c351f2fce3e44119e5d29ddff789aea",
       "version_major": 2,
       "version_minor": 0
      },
      "text/plain": [
       "model.safetensors:   0%|          | 0.00/269M [00:00<?, ?B/s]"
      ]
     },
     "metadata": {},
     "output_type": "display_data"
    },
    {
     "data": {
      "application/vnd.jupyter.widget-view+json": {
       "model_id": "31e7091aa45b4742aa3dd38cf0415d52",
       "version_major": 2,
       "version_minor": 0
      },
      "text/plain": [
       "config.json:   0%|          | 0.00/723 [00:00<?, ?B/s]"
      ]
     },
     "metadata": {},
     "output_type": "display_data"
    },
    {
     "data": {
      "application/vnd.jupyter.widget-view+json": {
       "model_id": "905c032e52a8468f967f7ba9f0b7e2f1",
       "version_major": 2,
       "version_minor": 0
      },
      "text/plain": [
       "model_q4f16.onnx:   0%|          | 0.00/117M [00:00<?, ?B/s]"
      ]
     },
     "metadata": {},
     "output_type": "display_data"
    },
    {
     "data": {
      "application/vnd.jupyter.widget-view+json": {
       "model_id": "12aa76c80dc64d5ca87aa4c7993573eb",
       "version_major": 2,
       "version_minor": 0
      },
      "text/plain": [
       "model_int8.onnx:   0%|          | 0.00/136M [00:00<?, ?B/s]"
      ]
     },
     "metadata": {},
     "output_type": "display_data"
    },
    {
     "data": {
      "application/vnd.jupyter.widget-view+json": {
       "model_id": "bef21a8e180c4068aff4903a6dca6767",
       "version_major": 2,
       "version_minor": 0
      },
      "text/plain": [
       "model_q4.onnx:   0%|          | 0.00/181M [00:00<?, ?B/s]"
      ]
     },
     "metadata": {},
     "output_type": "display_data"
    },
    {
     "data": {
      "application/vnd.jupyter.widget-view+json": {
       "model_id": "9c6fd2335fb349c799cfc8ff5e3b12ba",
       "version_major": 2,
       "version_minor": 0
      },
      "text/plain": [
       "model_fp16.onnx:   0%|          | 0.00/270M [00:00<?, ?B/s]"
      ]
     },
     "metadata": {},
     "output_type": "display_data"
    },
    {
     "name": "stderr",
     "output_type": "stream",
     "text": [
      "Error while downloading from https://cdn-lfs-us-1.hf.co/repos/e1/3c/e13ccf2aa0f112590e98f18678477d4cf050e83ad6f9f210df7cd919b0a92d11/0e0c0b92b6216269ba06bd602a7f1fa82a5b194d04274ae706da96acb3ad62d1?response-content-disposition=inline%3B+filename*%3DUTF-8%27%27model_fp16.onnx%3B+filename%3D%22model_fp16.onnx%22%3B&Expires=1727951998&Policy=eyJTdGF0ZW1lbnQiOlt7IkNvbmRpdGlvbiI6eyJEYXRlTGVzc1RoYW4iOnsiQVdTOkVwb2NoVGltZSI6MTcyNzk1MTk5OH19LCJSZXNvdXJjZSI6Imh0dHBzOi8vY2RuLWxmcy11cy0xLmhmLmNvL3JlcG9zL2UxLzNjL2UxM2NjZjJhYTBmMTEyNTkwZTk4ZjE4Njc4NDc3ZDRjZjA1MGU4M2FkNmY5ZjIxMGRmN2NkOTE5YjBhOTJkMTEvMGUwYzBiOTJiNjIxNjI2OWJhMDZiZDYwMmE3ZjFmYTgyYTViMTk0ZDA0Mjc0YWU3MDZkYTk2YWNiM2FkNjJkMT9yZXNwb25zZS1jb250ZW50LWRpc3Bvc2l0aW9uPSoifV19&Signature=qyIj%7EL73E6CGYm%7E5a8dN7%7EzpLorsOnHTsHM7HLpHln%7EnEyia-aMs8qBFqSTOJ0Diy-v9mdgTsztVBo2kyOrTpWHEQgNLbQSXbjcHoVzaM27WBvxB8z8ZLreThJ8q3MTHPhnz%7EI4Ok7MINQGptpPc8Bbr0da0WJ2ILUr6SDLjBN0fkmBVY46KR1Qz3ZY8bmqOyUgfXGS8vnPixqUlFEsXMENAtFyzj9V7Pi03485czSSUObt415s98KYIEvlrpfDudD0SpKdd5UB%7EdfkmB8OMXXAkTIm8oE4iW8myEjy1KMgnnJ8Kj1PGZIE3aaueQq5YLKLxWipBVApbuF0BIJxzUQ__&Key-Pair-Id=K24J24Z295AEI9: SOCKSHTTPSConnectionPool(host='cdn-lfs-us-1.hf.co', port=443): Read timed out.\n",
      "Trying to resume download...\n"
     ]
    },
    {
     "data": {
      "application/vnd.jupyter.widget-view+json": {
       "model_id": "ec2040b2aa4a437aadaa7983b93d64d3",
       "version_major": 2,
       "version_minor": 0
      },
      "text/plain": [
       "model_fp16.onnx:   4%|3         | 10.5M/270M [00:00<?, ?B/s]"
      ]
     },
     "metadata": {},
     "output_type": "display_data"
    },
    {
     "name": "stderr",
     "output_type": "stream",
     "text": [
      "Error while downloading from https://cdn-lfs-us-1.hf.co/repos/e1/3c/e13ccf2aa0f112590e98f18678477d4cf050e83ad6f9f210df7cd919b0a92d11/ce7ce740a9c1a4414201a821c23b6aa91e41cf6d5d5023b4c57174e3a15470f4?response-content-disposition=inline%3B+filename*%3DUTF-8%27%27model_q4.onnx%3B+filename%3D%22model_q4.onnx%22%3B&Expires=1727951999&Policy=eyJTdGF0ZW1lbnQiOlt7IkNvbmRpdGlvbiI6eyJEYXRlTGVzc1RoYW4iOnsiQVdTOkVwb2NoVGltZSI6MTcyNzk1MTk5OX19LCJSZXNvdXJjZSI6Imh0dHBzOi8vY2RuLWxmcy11cy0xLmhmLmNvL3JlcG9zL2UxLzNjL2UxM2NjZjJhYTBmMTEyNTkwZTk4ZjE4Njc4NDc3ZDRjZjA1MGU4M2FkNmY5ZjIxMGRmN2NkOTE5YjBhOTJkMTEvY2U3Y2U3NDBhOWMxYTQ0MTQyMDFhODIxYzIzYjZhYTkxZTQxY2Y2ZDVkNTAyM2I0YzU3MTc0ZTNhMTU0NzBmND9yZXNwb25zZS1jb250ZW50LWRpc3Bvc2l0aW9uPSoifV19&Signature=DN2nW3vt9W-l6QJ6TB1pwv3lzOlBN9ybiD39pq%7EHuC6bsKUDo9PGJbtarfYgN00-clyBlTd-QsLm84E6b7KmlW2ek499jK090qoj%7ErSVncN7OCgGx-klTyiq9WFto3sO2weuzrU0YMhTGv63-CIDp1ZKrhStI2%7E75o7w6iUHKsWccjd9nQ4Lv71Lw3PgnUf8WIrDTdV0Pv1ExIRSAqQm03ca0u8Vt6g3MfUnYH9XuTrYEuW9zD4S32u9oU0aCBVcAIon%7EeUz5LsWTqmZ1dptVxfZhoqImGfaIjt8vFast6y9ZOyq-G40ZenPRgBPyTJ4NI6Q0oB05sBSgXBjB7tRbQ__&Key-Pair-Id=K24J24Z295AEI9: SOCKSHTTPSConnectionPool(host='cdn-lfs-us-1.hf.co', port=443): Read timed out.\n",
      "Trying to resume download...\n"
     ]
    },
    {
     "data": {
      "application/vnd.jupyter.widget-view+json": {
       "model_id": "0b5a1b92ccb047279e15c46efa87c517",
       "version_major": 2,
       "version_minor": 0
      },
      "text/plain": [
       "model_q4.onnx:   6%|5         | 10.5M/181M [00:00<?, ?B/s]"
      ]
     },
     "metadata": {},
     "output_type": "display_data"
    },
    {
     "name": "stderr",
     "output_type": "stream",
     "text": [
      "Error while downloading from https://cdn-lfs-us-1.hf.co/repos/e1/3c/e13ccf2aa0f112590e98f18678477d4cf050e83ad6f9f210df7cd919b0a92d11/c701c2872308c5e6f33f1b4137258491d56161c9272bc36b0c3a0a9b5f3f11f4?response-content-disposition=inline%3B+filename*%3DUTF-8%27%27model_int8.onnx%3B+filename%3D%22model_int8.onnx%22%3B&Expires=1727951999&Policy=eyJTdGF0ZW1lbnQiOlt7IkNvbmRpdGlvbiI6eyJEYXRlTGVzc1RoYW4iOnsiQVdTOkVwb2NoVGltZSI6MTcyNzk1MTk5OX19LCJSZXNvdXJjZSI6Imh0dHBzOi8vY2RuLWxmcy11cy0xLmhmLmNvL3JlcG9zL2UxLzNjL2UxM2NjZjJhYTBmMTEyNTkwZTk4ZjE4Njc4NDc3ZDRjZjA1MGU4M2FkNmY5ZjIxMGRmN2NkOTE5YjBhOTJkMTEvYzcwMWMyODcyMzA4YzVlNmYzM2YxYjQxMzcyNTg0OTFkNTYxNjFjOTI3MmJjMzZiMGMzYTBhOWI1ZjNmMTFmND9yZXNwb25zZS1jb250ZW50LWRpc3Bvc2l0aW9uPSoifV19&Signature=gYMKPu%7EoRL6eQSmFfMdXHboHuNFDeW5vmn6zo7VKWh-EKs8SLirrjWsFYFtOTBWmV5QRiAsRIO-ib3YrRsdLzy71V7tbIfdsXL%7EpBglGtJUJg5iAAKnAPw%7EF1mvX2YyF2-2v8A3p1R7worpB6hJCbPG0e5l%7EzoiMXpZ5d3bj4mXythV9MBR8%7EI6Qz9Hc0EfYXXB5OKLDVLy9xGDLTUuTjlGEc4cA8VPMlxOhGo9hiZd00Uq2HIKYpZYWIR-65dL6lVpiC35XE2JwsFzPc5gP3JCjh5i5MuZuwl%7ErNC44FqCK5k0ne-b9CdR25V9sS%7ER1FypAtH9SQtDcMx5pzLvZ7g__&Key-Pair-Id=K24J24Z295AEI9: SOCKSHTTPSConnectionPool(host='cdn-lfs-us-1.hf.co', port=443): Read timed out.\n",
      "Trying to resume download...\n",
      "Error while downloading from https://cdn-lfs-us-1.hf.co/repos/e1/3c/e13ccf2aa0f112590e98f18678477d4cf050e83ad6f9f210df7cd919b0a92d11/955261d8c3dc70bcae638a10307255351223b764789cc69d7512c889ef7b0a63?response-content-disposition=inline%3B+filename*%3DUTF-8%27%27model_bnb4.onnx%3B+filename%3D%22model_bnb4.onnx%22%3B&Expires=1727951998&Policy=eyJTdGF0ZW1lbnQiOlt7IkNvbmRpdGlvbiI6eyJEYXRlTGVzc1RoYW4iOnsiQVdTOkVwb2NoVGltZSI6MTcyNzk1MTk5OH19LCJSZXNvdXJjZSI6Imh0dHBzOi8vY2RuLWxmcy11cy0xLmhmLmNvL3JlcG9zL2UxLzNjL2UxM2NjZjJhYTBmMTEyNTkwZTk4ZjE4Njc4NDc3ZDRjZjA1MGU4M2FkNmY5ZjIxMGRmN2NkOTE5YjBhOTJkMTEvOTU1MjYxZDhjM2RjNzBiY2FlNjM4YTEwMzA3MjU1MzUxMjIzYjc2NDc4OWNjNjlkNzUxMmM4ODllZjdiMGE2Mz9yZXNwb25zZS1jb250ZW50LWRpc3Bvc2l0aW9uPSoifV19&Signature=hnbi363WLPs8%7EeKWOfcNdO5-CQ39Lem02fmPvIKfj2FkAM9YesHTAI0AqQyT4wnQQ1t1al-zMGJcmkJNd4Q5NqtsaS5TYs3EvzEb9tqwiKYVm7edgW6Af79ypcnb2oR0nPmxxf4q0j0GJ62zj7VPELM-pmAwGWdIskR8Q4pu0Ui57Y99h74gbs8ciJsRdi040VjF4CBUCto0xknHLlLKs4jzFSp650zcNamrVXXbnRUgB4EUPaA-fpcBalRPmYOZusgupjkg4zO7010KR87J-X%7ErSmLx9D9GpuQgevXtGLZF80CFA9EVLckJ3rUz9fSybbJ19ndxQhAcussWUsxDSw__&Key-Pair-Id=K24J24Z295AEI9: SOCKSHTTPSConnectionPool(host='cdn-lfs-us-1.hf.co', port=443): Read timed out.\n",
      "Trying to resume download...\n"
     ]
    },
    {
     "data": {
      "application/vnd.jupyter.widget-view+json": {
       "model_id": "b79ff308242349c48ddf0de6f5da2a30",
       "version_major": 2,
       "version_minor": 0
      },
      "text/plain": [
       "model_bnb4.onnx:  30%|###       | 52.4M/174M [00:00<?, ?B/s]"
      ]
     },
     "metadata": {},
     "output_type": "display_data"
    },
    {
     "data": {
      "application/vnd.jupyter.widget-view+json": {
       "model_id": "bd2353c93d4d440893a77842e4c6fbf8",
       "version_major": 2,
       "version_minor": 0
      },
      "text/plain": [
       "model_int8.onnx:  39%|###8      | 52.4M/136M [00:00<?, ?B/s]"
      ]
     },
     "metadata": {},
     "output_type": "display_data"
    },
    {
     "name": "stderr",
     "output_type": "stream",
     "text": [
      "Error while downloading from https://cdn-lfs-us-1.hf.co/repos/e1/3c/e13ccf2aa0f112590e98f18678477d4cf050e83ad6f9f210df7cd919b0a92d11/c1464c9ebccc6fb497aa4ccc8d74d29b33f9a9eddc4638a4575719357f532f2d?response-content-disposition=inline%3B+filename*%3DUTF-8%27%27model.safetensors%3B+filename%3D%22model.safetensors%22%3B&Expires=1727951998&Policy=eyJTdGF0ZW1lbnQiOlt7IkNvbmRpdGlvbiI6eyJEYXRlTGVzc1RoYW4iOnsiQVdTOkVwb2NoVGltZSI6MTcyNzk1MTk5OH19LCJSZXNvdXJjZSI6Imh0dHBzOi8vY2RuLWxmcy11cy0xLmhmLmNvL3JlcG9zL2UxLzNjL2UxM2NjZjJhYTBmMTEyNTkwZTk4ZjE4Njc4NDc3ZDRjZjA1MGU4M2FkNmY5ZjIxMGRmN2NkOTE5YjBhOTJkMTEvYzE0NjRjOWViY2NjNmZiNDk3YWE0Y2NjOGQ3NGQyOWIzM2Y5YTllZGRjNDYzOGE0NTc1NzE5MzU3ZjUzMmYyZD9yZXNwb25zZS1jb250ZW50LWRpc3Bvc2l0aW9uPSoifV19&Signature=NRNZSUBwCXCzOHlpHO6y84wai4IP4HMuMZlebuMKPOiqKbPo20hCLxXCaWQac8C3wPsMXu6RRE6yYifRMnXk77SQ656oZR87glG435xUDg3uSsQcVCL8YkaTZzanSHNB9ZcWfUeDm0MTqXLkGdwZK1yfoBtuGisIxHLPzcyRWHt5UPYuQLgE-9e3ICncimwlPpxhG-BO7srYf2QJv3CUslVDv%7Ej5arb0-nFZRqI9JJcn5INCiiJpOSpEj14qaAHAYnZFIUJNR7QGSCFOZHRVIcsQywcTbWQgsRgwiHiw7%7E6AeOBCAMI9ACPpo9M2VQOXpjupNaiVIWVvmdjPiOb4xQ__&Key-Pair-Id=K24J24Z295AEI9: SOCKSHTTPSConnectionPool(host='cdn-lfs-us-1.hf.co', port=443): Read timed out.\n",
      "Trying to resume download...\n"
     ]
    },
    {
     "data": {
      "application/vnd.jupyter.widget-view+json": {
       "model_id": "c8ccc46227834e46a1763219982ea3ce",
       "version_major": 2,
       "version_minor": 0
      },
      "text/plain": [
       "model.safetensors:   4%|3         | 10.5M/269M [00:00<?, ?B/s]"
      ]
     },
     "metadata": {},
     "output_type": "display_data"
    },
    {
     "name": "stderr",
     "output_type": "stream",
     "text": [
      "Error while downloading from https://cdn-lfs-us-1.hf.co/repos/e1/3c/e13ccf2aa0f112590e98f18678477d4cf050e83ad6f9f210df7cd919b0a92d11/2e4d06ceef6f4e07561d3504611f6d5036fad8ee58d3fb44c3e941dd6cdccf92?response-content-disposition=inline%3B+filename*%3DUTF-8%27%27model_q4f16.onnx%3B+filename%3D%22model_q4f16.onnx%22%3B&Expires=1727951999&Policy=eyJTdGF0ZW1lbnQiOlt7IkNvbmRpdGlvbiI6eyJEYXRlTGVzc1RoYW4iOnsiQVdTOkVwb2NoVGltZSI6MTcyNzk1MTk5OX19LCJSZXNvdXJjZSI6Imh0dHBzOi8vY2RuLWxmcy11cy0xLmhmLmNvL3JlcG9zL2UxLzNjL2UxM2NjZjJhYTBmMTEyNTkwZTk4ZjE4Njc4NDc3ZDRjZjA1MGU4M2FkNmY5ZjIxMGRmN2NkOTE5YjBhOTJkMTEvMmU0ZDA2Y2VlZjZmNGUwNzU2MWQzNTA0NjExZjZkNTAzNmZhZDhlZTU4ZDNmYjQ0YzNlOTQxZGQ2Y2RjY2Y5Mj9yZXNwb25zZS1jb250ZW50LWRpc3Bvc2l0aW9uPSoifV19&Signature=uNuNFVkDeg3hsWOni6Pm3CSdZ1JKj9Q%7ESCX6E-pu2uQ1v-5bfWxxBwgZZ99lg3OxwOxI7qmHhDhpMjlz6utrwzXoPHWPrAF6ylGG2y-Cd%7Ed8rxlAcZm2zFC9uDKPs-bDN2wV9qRVNGN4BM7of1EIDhT4B9WIpJFNqkIdzb74kZy6243g277Xp7aaa%7EClNxaUl%7EnA5kaW6lnIG9k%7EKa07nc8BkRMzPlQawc4JK5nGOnIzGo2y1e3L3wrBfHNVDteN4%7ECvTHc%7E-%7ExKrsY1DaHb39RfDipdlnNE0bvMVo757UNp77M4v2zXqqV5bi5qfM0luIEyXv4vCyxc53vyMdeYnw__&Key-Pair-Id=K24J24Z295AEI9: SOCKSHTTPSConnectionPool(host='cdn-lfs-us-1.hf.co', port=443): Read timed out.\n",
      "Trying to resume download...\n"
     ]
    },
    {
     "data": {
      "application/vnd.jupyter.widget-view+json": {
       "model_id": "d288702d8195489c991b2741f08b8ebb",
       "version_major": 2,
       "version_minor": 0
      },
      "text/plain": [
       "model_q4f16.onnx:  71%|#######1  | 83.9M/117M [00:00<?, ?B/s]"
      ]
     },
     "metadata": {},
     "output_type": "display_data"
    },
    {
     "data": {
      "application/vnd.jupyter.widget-view+json": {
       "model_id": "1edccf8d613e4d70b5ab0d6f3e944a70",
       "version_major": 2,
       "version_minor": 0
      },
      "text/plain": [
       "model_uint8.onnx:   0%|          | 0.00/136M [00:00<?, ?B/s]"
      ]
     },
     "metadata": {},
     "output_type": "display_data"
    },
    {
     "name": "stderr",
     "output_type": "stream",
     "text": [
      "Error while downloading from https://cdn-lfs-us-1.hf.co/repos/e1/3c/e13ccf2aa0f112590e98f18678477d4cf050e83ad6f9f210df7cd919b0a92d11/c1464c9ebccc6fb497aa4ccc8d74d29b33f9a9eddc4638a4575719357f532f2d?response-content-disposition=inline%3B+filename*%3DUTF-8%27%27model.safetensors%3B+filename%3D%22model.safetensors%22%3B&Expires=1727951998&Policy=eyJTdGF0ZW1lbnQiOlt7IkNvbmRpdGlvbiI6eyJEYXRlTGVzc1RoYW4iOnsiQVdTOkVwb2NoVGltZSI6MTcyNzk1MTk5OH19LCJSZXNvdXJjZSI6Imh0dHBzOi8vY2RuLWxmcy11cy0xLmhmLmNvL3JlcG9zL2UxLzNjL2UxM2NjZjJhYTBmMTEyNTkwZTk4ZjE4Njc4NDc3ZDRjZjA1MGU4M2FkNmY5ZjIxMGRmN2NkOTE5YjBhOTJkMTEvYzE0NjRjOWViY2NjNmZiNDk3YWE0Y2NjOGQ3NGQyOWIzM2Y5YTllZGRjNDYzOGE0NTc1NzE5MzU3ZjUzMmYyZD9yZXNwb25zZS1jb250ZW50LWRpc3Bvc2l0aW9uPSoifV19&Signature=NRNZSUBwCXCzOHlpHO6y84wai4IP4HMuMZlebuMKPOiqKbPo20hCLxXCaWQac8C3wPsMXu6RRE6yYifRMnXk77SQ656oZR87glG435xUDg3uSsQcVCL8YkaTZzanSHNB9ZcWfUeDm0MTqXLkGdwZK1yfoBtuGisIxHLPzcyRWHt5UPYuQLgE-9e3ICncimwlPpxhG-BO7srYf2QJv3CUslVDv%7Ej5arb0-nFZRqI9JJcn5INCiiJpOSpEj14qaAHAYnZFIUJNR7QGSCFOZHRVIcsQywcTbWQgsRgwiHiw7%7E6AeOBCAMI9ACPpo9M2VQOXpjupNaiVIWVvmdjPiOb4xQ__&Key-Pair-Id=K24J24Z295AEI9: SOCKSHTTPSConnectionPool(host='cdn-lfs-us-1.hf.co', port=443): Read timed out.\n",
      "Trying to resume download...\n"
     ]
    },
    {
     "data": {
      "application/vnd.jupyter.widget-view+json": {
       "model_id": "f74dc3254dae49e38e251d4069a38830",
       "version_major": 2,
       "version_minor": 0
      },
      "text/plain": [
       "model.safetensors:  16%|#5        | 41.9M/269M [00:00<?, ?B/s]"
      ]
     },
     "metadata": {},
     "output_type": "display_data"
    },
    {
     "name": "stderr",
     "output_type": "stream",
     "text": [
      "Error while downloading from https://cdn-lfs-us-1.hf.co/repos/e1/3c/e13ccf2aa0f112590e98f18678477d4cf050e83ad6f9f210df7cd919b0a92d11/9421f40ca3985105a7ec0f1df4d4f9360666770edcd1761094298aa606693101?response-content-disposition=inline%3B+filename*%3DUTF-8%27%27model_uint8.onnx%3B+filename%3D%22model_uint8.onnx%22%3B&Expires=1727952207&Policy=eyJTdGF0ZW1lbnQiOlt7IkNvbmRpdGlvbiI6eyJEYXRlTGVzc1RoYW4iOnsiQVdTOkVwb2NoVGltZSI6MTcyNzk1MjIwN319LCJSZXNvdXJjZSI6Imh0dHBzOi8vY2RuLWxmcy11cy0xLmhmLmNvL3JlcG9zL2UxLzNjL2UxM2NjZjJhYTBmMTEyNTkwZTk4ZjE4Njc4NDc3ZDRjZjA1MGU4M2FkNmY5ZjIxMGRmN2NkOTE5YjBhOTJkMTEvOTQyMWY0MGNhMzk4NTEwNWE3ZWMwZjFkZjRkNGY5MzYwNjY2NzcwZWRjZDE3NjEwOTQyOThhYTYwNjY5MzEwMT9yZXNwb25zZS1jb250ZW50LWRpc3Bvc2l0aW9uPSoifV19&Signature=DE7UFV48MC3hfoI1YjD%7Ei84lDfRWom8GnDF19dWCPqpb0HKuohQQ%7ERuQZlQYD5RPCaf7ilG5eSo56nsXIGSmrjcB%7Exn58fPJyAMc3grDVbthhyg6GIom8Ye8V59awLWncUz8o0ZiMKIAapFGyb8a1hlt1hhQsYFwBRxX7Z8kU-S5LheyZn-CSxuRw2%7ET7D8-QBO9VAjOPnnxDRf8LuyK4v5JdfLJdu-GhxJ6QtHBRRfuSBH1DwbbKVMJwT9qw6NOE7RBwQ%7EETKy-Yw1XeD%7EzyLuZBhFovoktyE2x1QAe8Z7WdESKCss-6w5vkLqZDXdtZWlLDmUSV7hMWSty3WyUJg__&Key-Pair-Id=K24J24Z295AEI9: SOCKSHTTPSConnectionPool(host='cdn-lfs-us-1.hf.co', port=443): Read timed out.\n",
      "Trying to resume download...\n",
      "Error while downloading from https://cdn-lfs-us-1.hf.co/repos/e1/3c/e13ccf2aa0f112590e98f18678477d4cf050e83ad6f9f210df7cd919b0a92d11/955261d8c3dc70bcae638a10307255351223b764789cc69d7512c889ef7b0a63?response-content-disposition=inline%3B+filename*%3DUTF-8%27%27model_bnb4.onnx%3B+filename%3D%22model_bnb4.onnx%22%3B&Expires=1727951998&Policy=eyJTdGF0ZW1lbnQiOlt7IkNvbmRpdGlvbiI6eyJEYXRlTGVzc1RoYW4iOnsiQVdTOkVwb2NoVGltZSI6MTcyNzk1MTk5OH19LCJSZXNvdXJjZSI6Imh0dHBzOi8vY2RuLWxmcy11cy0xLmhmLmNvL3JlcG9zL2UxLzNjL2UxM2NjZjJhYTBmMTEyNTkwZTk4ZjE4Njc4NDc3ZDRjZjA1MGU4M2FkNmY5ZjIxMGRmN2NkOTE5YjBhOTJkMTEvOTU1MjYxZDhjM2RjNzBiY2FlNjM4YTEwMzA3MjU1MzUxMjIzYjc2NDc4OWNjNjlkNzUxMmM4ODllZjdiMGE2Mz9yZXNwb25zZS1jb250ZW50LWRpc3Bvc2l0aW9uPSoifV19&Signature=hnbi363WLPs8%7EeKWOfcNdO5-CQ39Lem02fmPvIKfj2FkAM9YesHTAI0AqQyT4wnQQ1t1al-zMGJcmkJNd4Q5NqtsaS5TYs3EvzEb9tqwiKYVm7edgW6Af79ypcnb2oR0nPmxxf4q0j0GJ62zj7VPELM-pmAwGWdIskR8Q4pu0Ui57Y99h74gbs8ciJsRdi040VjF4CBUCto0xknHLlLKs4jzFSp650zcNamrVXXbnRUgB4EUPaA-fpcBalRPmYOZusgupjkg4zO7010KR87J-X%7ErSmLx9D9GpuQgevXtGLZF80CFA9EVLckJ3rUz9fSybbJ19ndxQhAcussWUsxDSw__&Key-Pair-Id=K24J24Z295AEI9: SOCKSHTTPSConnectionPool(host='cdn-lfs-us-1.hf.co', port=443): Read timed out.\n",
      "Trying to resume download...\n"
     ]
    },
    {
     "data": {
      "application/vnd.jupyter.widget-view+json": {
       "model_id": "5ffc421dc65144beb47e617314e28a24",
       "version_major": 2,
       "version_minor": 0
      },
      "text/plain": [
       "model_uint8.onnx:   8%|7         | 10.5M/136M [00:00<?, ?B/s]"
      ]
     },
     "metadata": {},
     "output_type": "display_data"
    },
    {
     "data": {
      "application/vnd.jupyter.widget-view+json": {
       "model_id": "d4751dbf8c5c498398c509245a88ee28",
       "version_major": 2,
       "version_minor": 0
      },
      "text/plain": [
       "model_bnb4.onnx:  66%|######6   | 115M/174M [00:00<?, ?B/s]"
      ]
     },
     "metadata": {},
     "output_type": "display_data"
    },
    {
     "data": {
      "application/vnd.jupyter.widget-view+json": {
       "model_id": "f7c73f1cea774d05801fec59155460b5",
       "version_major": 2,
       "version_minor": 0
      },
      "text/plain": [
       "special_tokens_map.json:   0%|          | 0.00/565 [00:00<?, ?B/s]"
      ]
     },
     "metadata": {},
     "output_type": "display_data"
    },
    {
     "data": {
      "application/vnd.jupyter.widget-view+json": {
       "model_id": "0c8bf1c9c70840a981edba34f8bc188f",
       "version_major": 2,
       "version_minor": 0
      },
      "text/plain": [
       "tokenizer.json:   0%|          | 0.00/2.10M [00:00<?, ?B/s]"
      ]
     },
     "metadata": {},
     "output_type": "display_data"
    },
    {
     "data": {
      "application/vnd.jupyter.widget-view+json": {
       "model_id": "a88427244ff048fc95bf8e574609ea79",
       "version_major": 2,
       "version_minor": 0
      },
      "text/plain": [
       "tokenizer_config.json:   0%|          | 0.00/3.59k [00:00<?, ?B/s]"
      ]
     },
     "metadata": {},
     "output_type": "display_data"
    },
    {
     "data": {
      "application/vnd.jupyter.widget-view+json": {
       "model_id": "e3cc7a59c3584347a11a0909f126a5f9",
       "version_major": 2,
       "version_minor": 0
      },
      "text/plain": [
       "vocab.json:   0%|          | 0.00/801k [00:00<?, ?B/s]"
      ]
     },
     "metadata": {},
     "output_type": "display_data"
    },
    {
     "name": "stderr",
     "output_type": "stream",
     "text": [
      "Error while downloading from https://cdn-lfs-us-1.hf.co/repos/e1/3c/e13ccf2aa0f112590e98f18678477d4cf050e83ad6f9f210df7cd919b0a92d11/c1464c9ebccc6fb497aa4ccc8d74d29b33f9a9eddc4638a4575719357f532f2d?response-content-disposition=inline%3B+filename*%3DUTF-8%27%27model.safetensors%3B+filename%3D%22model.safetensors%22%3B&Expires=1727951998&Policy=eyJTdGF0ZW1lbnQiOlt7IkNvbmRpdGlvbiI6eyJEYXRlTGVzc1RoYW4iOnsiQVdTOkVwb2NoVGltZSI6MTcyNzk1MTk5OH19LCJSZXNvdXJjZSI6Imh0dHBzOi8vY2RuLWxmcy11cy0xLmhmLmNvL3JlcG9zL2UxLzNjL2UxM2NjZjJhYTBmMTEyNTkwZTk4ZjE4Njc4NDc3ZDRjZjA1MGU4M2FkNmY5ZjIxMGRmN2NkOTE5YjBhOTJkMTEvYzE0NjRjOWViY2NjNmZiNDk3YWE0Y2NjOGQ3NGQyOWIzM2Y5YTllZGRjNDYzOGE0NTc1NzE5MzU3ZjUzMmYyZD9yZXNwb25zZS1jb250ZW50LWRpc3Bvc2l0aW9uPSoifV19&Signature=NRNZSUBwCXCzOHlpHO6y84wai4IP4HMuMZlebuMKPOiqKbPo20hCLxXCaWQac8C3wPsMXu6RRE6yYifRMnXk77SQ656oZR87glG435xUDg3uSsQcVCL8YkaTZzanSHNB9ZcWfUeDm0MTqXLkGdwZK1yfoBtuGisIxHLPzcyRWHt5UPYuQLgE-9e3ICncimwlPpxhG-BO7srYf2QJv3CUslVDv%7Ej5arb0-nFZRqI9JJcn5INCiiJpOSpEj14qaAHAYnZFIUJNR7QGSCFOZHRVIcsQywcTbWQgsRgwiHiw7%7E6AeOBCAMI9ACPpo9M2VQOXpjupNaiVIWVvmdjPiOb4xQ__&Key-Pair-Id=K24J24Z295AEI9: SOCKSHTTPSConnectionPool(host='cdn-lfs-us-1.hf.co', port=443): Read timed out.\n",
      "Trying to resume download...\n"
     ]
    },
    {
     "data": {
      "application/vnd.jupyter.widget-view+json": {
       "model_id": "2b0a4be70d2442679b31fee50b70fc2b",
       "version_major": 2,
       "version_minor": 0
      },
      "text/plain": [
       "model.safetensors:  39%|###8      | 105M/269M [00:00<?, ?B/s]"
      ]
     },
     "metadata": {},
     "output_type": "display_data"
    },
    {
     "data": {
      "text/plain": [
       "'/mnt/usbdisk1/data/cache/huggingface/hub/models--HuggingFaceTB--SmolLM-135M-Instruct/snapshots/fcc320f490e08fdb4b99d935b2c58d40bf35b0d0'"
      ]
     },
     "execution_count": 2,
     "metadata": {},
     "output_type": "execute_result"
    }
   ],
   "source": [
    "\n",
    "\n",
    "from huggingface_hub import snapshot_download\n",
    "MODELID= 'HuggingFaceTB/SmolLM-135M-Instruct'\n",
    "snapshot_download(repo_id=MODELID)\n"
   ]
  },
  {
   "cell_type": "code",
   "execution_count": null,
   "metadata": {},
   "outputs": [],
   "source": []
  },
  {
   "cell_type": "markdown",
   "metadata": {},
   "source": [
    "# transformer models"
   ]
  },
  {
   "cell_type": "code",
   "execution_count": 32,
   "metadata": {},
   "outputs": [
    {
     "data": {
      "application/vnd.jupyter.widget-view+json": {
       "model_id": "bc79c44fd8914fa6996a4abd0cf1c8de",
       "version_major": 2,
       "version_minor": 0
      },
      "text/plain": [
       "config.json:   0%|          | 0.00/724 [00:00<?, ?B/s]"
      ]
     },
     "metadata": {},
     "output_type": "display_data"
    },
    {
     "data": {
      "application/vnd.jupyter.widget-view+json": {
       "model_id": "18eb7748ac8f43c49dbd8e05c43887ff",
       "version_major": 2,
       "version_minor": 0
      },
      "text/plain": [
       "model.safetensors:   0%|          | 0.00/538M [00:00<?, ?B/s]"
      ]
     },
     "metadata": {},
     "output_type": "display_data"
    },
    {
     "ename": "KeyboardInterrupt",
     "evalue": "",
     "output_type": "error",
     "traceback": [
      "\u001b[0;31m---------------------------------------------------------------------------\u001b[0m",
      "\u001b[0;31mKeyboardInterrupt\u001b[0m                         Traceback (most recent call last)",
      "Cell \u001b[0;32mIn[32], line 2\u001b[0m\n\u001b[1;32m      1\u001b[0m \u001b[38;5;28;01mfrom\u001b[39;00m \u001b[38;5;21;01mtransformers\u001b[39;00m \u001b[38;5;28;01mimport\u001b[39;00m AutoModelForCausalLM\n\u001b[0;32m----> 2\u001b[0m model \u001b[38;5;241m=\u001b[39m \u001b[43mAutoModelForCausalLM\u001b[49m\u001b[38;5;241;43m.\u001b[39;49m\u001b[43mfrom_pretrained\u001b[49m\u001b[43m(\u001b[49m\u001b[38;5;124;43m\"\u001b[39;49m\u001b[38;5;124;43mHuggingFaceTB/SmolLM-135M\u001b[39;49m\u001b[38;5;124;43m\"\u001b[39;49m\u001b[43m)\u001b[49m\n",
      "File \u001b[0;32m/var/opt/git/github/compete/arc/arc/../transformers/models/auto/auto_factory.py:564\u001b[0m, in \u001b[0;36m_BaseAutoModelClass.from_pretrained\u001b[0;34m(cls, pretrained_model_name_or_path, *model_args, **kwargs)\u001b[0m\n\u001b[1;32m    562\u001b[0m \u001b[38;5;28;01melif\u001b[39;00m \u001b[38;5;28mtype\u001b[39m(config) \u001b[38;5;129;01min\u001b[39;00m \u001b[38;5;28mcls\u001b[39m\u001b[38;5;241m.\u001b[39m_model_mapping\u001b[38;5;241m.\u001b[39mkeys():\n\u001b[1;32m    563\u001b[0m     model_class \u001b[38;5;241m=\u001b[39m _get_model_class(config, \u001b[38;5;28mcls\u001b[39m\u001b[38;5;241m.\u001b[39m_model_mapping)\n\u001b[0;32m--> 564\u001b[0m     \u001b[38;5;28;01mreturn\u001b[39;00m \u001b[43mmodel_class\u001b[49m\u001b[38;5;241;43m.\u001b[39;49m\u001b[43mfrom_pretrained\u001b[49m\u001b[43m(\u001b[49m\n\u001b[1;32m    565\u001b[0m \u001b[43m        \u001b[49m\u001b[43mpretrained_model_name_or_path\u001b[49m\u001b[43m,\u001b[49m\u001b[43m \u001b[49m\u001b[38;5;241;43m*\u001b[39;49m\u001b[43mmodel_args\u001b[49m\u001b[43m,\u001b[49m\u001b[43m \u001b[49m\u001b[43mconfig\u001b[49m\u001b[38;5;241;43m=\u001b[39;49m\u001b[43mconfig\u001b[49m\u001b[43m,\u001b[49m\u001b[43m \u001b[49m\u001b[38;5;241;43m*\u001b[39;49m\u001b[38;5;241;43m*\u001b[39;49m\u001b[43mhub_kwargs\u001b[49m\u001b[43m,\u001b[49m\u001b[43m \u001b[49m\u001b[38;5;241;43m*\u001b[39;49m\u001b[38;5;241;43m*\u001b[39;49m\u001b[43mkwargs\u001b[49m\n\u001b[1;32m    566\u001b[0m \u001b[43m    \u001b[49m\u001b[43m)\u001b[49m\n\u001b[1;32m    567\u001b[0m \u001b[38;5;28;01mraise\u001b[39;00m \u001b[38;5;167;01mValueError\u001b[39;00m(\n\u001b[1;32m    568\u001b[0m     \u001b[38;5;124mf\u001b[39m\u001b[38;5;124m\"\u001b[39m\u001b[38;5;124mUnrecognized configuration class \u001b[39m\u001b[38;5;132;01m{\u001b[39;00mconfig\u001b[38;5;241m.\u001b[39m\u001b[38;5;18m__class__\u001b[39m\u001b[38;5;132;01m}\u001b[39;00m\u001b[38;5;124m for this kind of AutoModel: \u001b[39m\u001b[38;5;132;01m{\u001b[39;00m\u001b[38;5;28mcls\u001b[39m\u001b[38;5;241m.\u001b[39m\u001b[38;5;18m__name__\u001b[39m\u001b[38;5;132;01m}\u001b[39;00m\u001b[38;5;124m.\u001b[39m\u001b[38;5;130;01m\\n\u001b[39;00m\u001b[38;5;124m\"\u001b[39m\n\u001b[1;32m    569\u001b[0m     \u001b[38;5;124mf\u001b[39m\u001b[38;5;124m\"\u001b[39m\u001b[38;5;124mModel type should be one of \u001b[39m\u001b[38;5;132;01m{\u001b[39;00m\u001b[38;5;124m'\u001b[39m\u001b[38;5;124m, \u001b[39m\u001b[38;5;124m'\u001b[39m\u001b[38;5;241m.\u001b[39mjoin(c\u001b[38;5;241m.\u001b[39m\u001b[38;5;18m__name__\u001b[39m\u001b[38;5;250m \u001b[39m\u001b[38;5;28;01mfor\u001b[39;00m\u001b[38;5;250m \u001b[39mc\u001b[38;5;250m \u001b[39m\u001b[38;5;129;01min\u001b[39;00m\u001b[38;5;250m \u001b[39m\u001b[38;5;28mcls\u001b[39m\u001b[38;5;241m.\u001b[39m_model_mapping\u001b[38;5;241m.\u001b[39mkeys())\u001b[38;5;132;01m}\u001b[39;00m\u001b[38;5;124m.\u001b[39m\u001b[38;5;124m\"\u001b[39m\n\u001b[1;32m    570\u001b[0m )\n",
      "File \u001b[0;32m/var/opt/git/github/compete/arc/arc/../transformers/modeling_utils.py:3529\u001b[0m, in \u001b[0;36mPreTrainedModel.from_pretrained\u001b[0;34m(cls, pretrained_model_name_or_path, config, cache_dir, ignore_mismatched_sizes, force_download, local_files_only, token, revision, use_safetensors, *model_args, **kwargs)\u001b[0m\n\u001b[1;32m   3513\u001b[0m \u001b[38;5;28;01mtry\u001b[39;00m:\n\u001b[1;32m   3514\u001b[0m     \u001b[38;5;66;03m# Load from URL or cache if already cached\u001b[39;00m\n\u001b[1;32m   3515\u001b[0m     cached_file_kwargs \u001b[38;5;241m=\u001b[39m {\n\u001b[1;32m   3516\u001b[0m         \u001b[38;5;124m\"\u001b[39m\u001b[38;5;124mcache_dir\u001b[39m\u001b[38;5;124m\"\u001b[39m: cache_dir,\n\u001b[1;32m   3517\u001b[0m         \u001b[38;5;124m\"\u001b[39m\u001b[38;5;124mforce_download\u001b[39m\u001b[38;5;124m\"\u001b[39m: force_download,\n\u001b[0;32m   (...)\u001b[0m\n\u001b[1;32m   3527\u001b[0m         \u001b[38;5;124m\"\u001b[39m\u001b[38;5;124m_commit_hash\u001b[39m\u001b[38;5;124m\"\u001b[39m: commit_hash,\n\u001b[1;32m   3528\u001b[0m     }\n\u001b[0;32m-> 3529\u001b[0m     resolved_archive_file \u001b[38;5;241m=\u001b[39m \u001b[43mcached_file\u001b[49m\u001b[43m(\u001b[49m\u001b[43mpretrained_model_name_or_path\u001b[49m\u001b[43m,\u001b[49m\u001b[43m \u001b[49m\u001b[43mfilename\u001b[49m\u001b[43m,\u001b[49m\u001b[43m \u001b[49m\u001b[38;5;241;43m*\u001b[39;49m\u001b[38;5;241;43m*\u001b[39;49m\u001b[43mcached_file_kwargs\u001b[49m\u001b[43m)\u001b[49m\n\u001b[1;32m   3531\u001b[0m     \u001b[38;5;66;03m# Since we set _raise_exceptions_for_missing_entries=False, we don't get an exception but a None\u001b[39;00m\n\u001b[1;32m   3532\u001b[0m     \u001b[38;5;66;03m# result when internet is up, the repo and revision exist, but the file does not.\u001b[39;00m\n\u001b[1;32m   3533\u001b[0m     \u001b[38;5;28;01mif\u001b[39;00m resolved_archive_file \u001b[38;5;129;01mis\u001b[39;00m \u001b[38;5;28;01mNone\u001b[39;00m \u001b[38;5;129;01mand\u001b[39;00m filename \u001b[38;5;241m==\u001b[39m _add_variant(SAFE_WEIGHTS_NAME, variant):\n\u001b[1;32m   3534\u001b[0m         \u001b[38;5;66;03m# Maybe the checkpoint is sharded, we try to grab the index name in this case.\u001b[39;00m\n",
      "File \u001b[0;32m/var/opt/git/github/compete/arc/arc/../transformers/utils/hub.py:402\u001b[0m, in \u001b[0;36mcached_file\u001b[0;34m(path_or_repo_id, filename, cache_dir, force_download, resume_download, proxies, token, revision, local_files_only, subfolder, repo_type, user_agent, _raise_exceptions_for_gated_repo, _raise_exceptions_for_missing_entries, _raise_exceptions_for_connection_errors, _commit_hash, **deprecated_kwargs)\u001b[0m\n\u001b[1;32m    399\u001b[0m user_agent \u001b[38;5;241m=\u001b[39m http_user_agent(user_agent)\n\u001b[1;32m    400\u001b[0m \u001b[38;5;28;01mtry\u001b[39;00m:\n\u001b[1;32m    401\u001b[0m     \u001b[38;5;66;03m# Load from URL or cache if already cached\u001b[39;00m\n\u001b[0;32m--> 402\u001b[0m     resolved_file \u001b[38;5;241m=\u001b[39m \u001b[43mhf_hub_download\u001b[49m\u001b[43m(\u001b[49m\n\u001b[1;32m    403\u001b[0m \u001b[43m        \u001b[49m\u001b[43mpath_or_repo_id\u001b[49m\u001b[43m,\u001b[49m\n\u001b[1;32m    404\u001b[0m \u001b[43m        \u001b[49m\u001b[43mfilename\u001b[49m\u001b[43m,\u001b[49m\n\u001b[1;32m    405\u001b[0m \u001b[43m        \u001b[49m\u001b[43msubfolder\u001b[49m\u001b[38;5;241;43m=\u001b[39;49m\u001b[38;5;28;43;01mNone\u001b[39;49;00m\u001b[43m \u001b[49m\u001b[38;5;28;43;01mif\u001b[39;49;00m\u001b[43m \u001b[49m\u001b[38;5;28;43mlen\u001b[39;49m\u001b[43m(\u001b[49m\u001b[43msubfolder\u001b[49m\u001b[43m)\u001b[49m\u001b[43m \u001b[49m\u001b[38;5;241;43m==\u001b[39;49m\u001b[43m \u001b[49m\u001b[38;5;241;43m0\u001b[39;49m\u001b[43m \u001b[49m\u001b[38;5;28;43;01melse\u001b[39;49;00m\u001b[43m \u001b[49m\u001b[43msubfolder\u001b[49m\u001b[43m,\u001b[49m\n\u001b[1;32m    406\u001b[0m \u001b[43m        \u001b[49m\u001b[43mrepo_type\u001b[49m\u001b[38;5;241;43m=\u001b[39;49m\u001b[43mrepo_type\u001b[49m\u001b[43m,\u001b[49m\n\u001b[1;32m    407\u001b[0m \u001b[43m        \u001b[49m\u001b[43mrevision\u001b[49m\u001b[38;5;241;43m=\u001b[39;49m\u001b[43mrevision\u001b[49m\u001b[43m,\u001b[49m\n\u001b[1;32m    408\u001b[0m \u001b[43m        \u001b[49m\u001b[43mcache_dir\u001b[49m\u001b[38;5;241;43m=\u001b[39;49m\u001b[43mcache_dir\u001b[49m\u001b[43m,\u001b[49m\n\u001b[1;32m    409\u001b[0m \u001b[43m        \u001b[49m\u001b[43muser_agent\u001b[49m\u001b[38;5;241;43m=\u001b[39;49m\u001b[43muser_agent\u001b[49m\u001b[43m,\u001b[49m\n\u001b[1;32m    410\u001b[0m \u001b[43m        \u001b[49m\u001b[43mforce_download\u001b[49m\u001b[38;5;241;43m=\u001b[39;49m\u001b[43mforce_download\u001b[49m\u001b[43m,\u001b[49m\n\u001b[1;32m    411\u001b[0m \u001b[43m        \u001b[49m\u001b[43mproxies\u001b[49m\u001b[38;5;241;43m=\u001b[39;49m\u001b[43mproxies\u001b[49m\u001b[43m,\u001b[49m\n\u001b[1;32m    412\u001b[0m \u001b[43m        \u001b[49m\u001b[43mresume_download\u001b[49m\u001b[38;5;241;43m=\u001b[39;49m\u001b[43mresume_download\u001b[49m\u001b[43m,\u001b[49m\n\u001b[1;32m    413\u001b[0m \u001b[43m        \u001b[49m\u001b[43mtoken\u001b[49m\u001b[38;5;241;43m=\u001b[39;49m\u001b[43mtoken\u001b[49m\u001b[43m,\u001b[49m\n\u001b[1;32m    414\u001b[0m \u001b[43m        \u001b[49m\u001b[43mlocal_files_only\u001b[49m\u001b[38;5;241;43m=\u001b[39;49m\u001b[43mlocal_files_only\u001b[49m\u001b[43m,\u001b[49m\n\u001b[1;32m    415\u001b[0m \u001b[43m    \u001b[49m\u001b[43m)\u001b[49m\n\u001b[1;32m    416\u001b[0m \u001b[38;5;28;01mexcept\u001b[39;00m GatedRepoError \u001b[38;5;28;01mas\u001b[39;00m e:\n\u001b[1;32m    417\u001b[0m     resolved_file \u001b[38;5;241m=\u001b[39m _get_cache_file_to_return(path_or_repo_id, full_filename, cache_dir, revision)\n",
      "File \u001b[0;32m~/anaconda3/envs/arc/lib/python3.10/site-packages/huggingface_hub/utils/_deprecation.py:101\u001b[0m, in \u001b[0;36m_deprecate_arguments.<locals>._inner_deprecate_positional_args.<locals>.inner_f\u001b[0;34m(*args, **kwargs)\u001b[0m\n\u001b[1;32m     99\u001b[0m         message \u001b[38;5;241m+\u001b[39m\u001b[38;5;241m=\u001b[39m \u001b[38;5;124m\"\u001b[39m\u001b[38;5;130;01m\\n\u001b[39;00m\u001b[38;5;130;01m\\n\u001b[39;00m\u001b[38;5;124m\"\u001b[39m \u001b[38;5;241m+\u001b[39m custom_message\n\u001b[1;32m    100\u001b[0m     warnings\u001b[38;5;241m.\u001b[39mwarn(message, \u001b[38;5;167;01mFutureWarning\u001b[39;00m)\n\u001b[0;32m--> 101\u001b[0m \u001b[38;5;28;01mreturn\u001b[39;00m \u001b[43mf\u001b[49m\u001b[43m(\u001b[49m\u001b[38;5;241;43m*\u001b[39;49m\u001b[43margs\u001b[49m\u001b[43m,\u001b[49m\u001b[43m \u001b[49m\u001b[38;5;241;43m*\u001b[39;49m\u001b[38;5;241;43m*\u001b[39;49m\u001b[43mkwargs\u001b[49m\u001b[43m)\u001b[49m\n",
      "File \u001b[0;32m~/anaconda3/envs/arc/lib/python3.10/site-packages/huggingface_hub/utils/_validators.py:114\u001b[0m, in \u001b[0;36mvalidate_hf_hub_args.<locals>._inner_fn\u001b[0;34m(*args, **kwargs)\u001b[0m\n\u001b[1;32m    111\u001b[0m \u001b[38;5;28;01mif\u001b[39;00m check_use_auth_token:\n\u001b[1;32m    112\u001b[0m     kwargs \u001b[38;5;241m=\u001b[39m smoothly_deprecate_use_auth_token(fn_name\u001b[38;5;241m=\u001b[39mfn\u001b[38;5;241m.\u001b[39m\u001b[38;5;18m__name__\u001b[39m, has_token\u001b[38;5;241m=\u001b[39mhas_token, kwargs\u001b[38;5;241m=\u001b[39mkwargs)\n\u001b[0;32m--> 114\u001b[0m \u001b[38;5;28;01mreturn\u001b[39;00m \u001b[43mfn\u001b[49m\u001b[43m(\u001b[49m\u001b[38;5;241;43m*\u001b[39;49m\u001b[43margs\u001b[49m\u001b[43m,\u001b[49m\u001b[43m \u001b[49m\u001b[38;5;241;43m*\u001b[39;49m\u001b[38;5;241;43m*\u001b[39;49m\u001b[43mkwargs\u001b[49m\u001b[43m)\u001b[49m\n",
      "File \u001b[0;32m~/anaconda3/envs/arc/lib/python3.10/site-packages/huggingface_hub/file_download.py:1240\u001b[0m, in \u001b[0;36mhf_hub_download\u001b[0;34m(repo_id, filename, subfolder, repo_type, revision, library_name, library_version, cache_dir, local_dir, user_agent, force_download, proxies, etag_timeout, token, local_files_only, headers, endpoint, legacy_cache_layout, resume_download, force_filename, local_dir_use_symlinks)\u001b[0m\n\u001b[1;32m   1220\u001b[0m     \u001b[38;5;28;01mreturn\u001b[39;00m _hf_hub_download_to_local_dir(\n\u001b[1;32m   1221\u001b[0m         \u001b[38;5;66;03m# Destination\u001b[39;00m\n\u001b[1;32m   1222\u001b[0m         local_dir\u001b[38;5;241m=\u001b[39mlocal_dir,\n\u001b[0;32m   (...)\u001b[0m\n\u001b[1;32m   1237\u001b[0m         local_files_only\u001b[38;5;241m=\u001b[39mlocal_files_only,\n\u001b[1;32m   1238\u001b[0m     )\n\u001b[1;32m   1239\u001b[0m \u001b[38;5;28;01melse\u001b[39;00m:\n\u001b[0;32m-> 1240\u001b[0m     \u001b[38;5;28;01mreturn\u001b[39;00m \u001b[43m_hf_hub_download_to_cache_dir\u001b[49m\u001b[43m(\u001b[49m\n\u001b[1;32m   1241\u001b[0m \u001b[43m        \u001b[49m\u001b[38;5;66;43;03m# Destination\u001b[39;49;00m\n\u001b[1;32m   1242\u001b[0m \u001b[43m        \u001b[49m\u001b[43mcache_dir\u001b[49m\u001b[38;5;241;43m=\u001b[39;49m\u001b[43mcache_dir\u001b[49m\u001b[43m,\u001b[49m\n\u001b[1;32m   1243\u001b[0m \u001b[43m        \u001b[49m\u001b[38;5;66;43;03m# File info\u001b[39;49;00m\n\u001b[1;32m   1244\u001b[0m \u001b[43m        \u001b[49m\u001b[43mrepo_id\u001b[49m\u001b[38;5;241;43m=\u001b[39;49m\u001b[43mrepo_id\u001b[49m\u001b[43m,\u001b[49m\n\u001b[1;32m   1245\u001b[0m \u001b[43m        \u001b[49m\u001b[43mfilename\u001b[49m\u001b[38;5;241;43m=\u001b[39;49m\u001b[43mfilename\u001b[49m\u001b[43m,\u001b[49m\n\u001b[1;32m   1246\u001b[0m \u001b[43m        \u001b[49m\u001b[43mrepo_type\u001b[49m\u001b[38;5;241;43m=\u001b[39;49m\u001b[43mrepo_type\u001b[49m\u001b[43m,\u001b[49m\n\u001b[1;32m   1247\u001b[0m \u001b[43m        \u001b[49m\u001b[43mrevision\u001b[49m\u001b[38;5;241;43m=\u001b[39;49m\u001b[43mrevision\u001b[49m\u001b[43m,\u001b[49m\n\u001b[1;32m   1248\u001b[0m \u001b[43m        \u001b[49m\u001b[38;5;66;43;03m# HTTP info\u001b[39;49;00m\n\u001b[1;32m   1249\u001b[0m \u001b[43m        \u001b[49m\u001b[43mendpoint\u001b[49m\u001b[38;5;241;43m=\u001b[39;49m\u001b[43mendpoint\u001b[49m\u001b[43m,\u001b[49m\n\u001b[1;32m   1250\u001b[0m \u001b[43m        \u001b[49m\u001b[43metag_timeout\u001b[49m\u001b[38;5;241;43m=\u001b[39;49m\u001b[43metag_timeout\u001b[49m\u001b[43m,\u001b[49m\n\u001b[1;32m   1251\u001b[0m \u001b[43m        \u001b[49m\u001b[43mheaders\u001b[49m\u001b[38;5;241;43m=\u001b[39;49m\u001b[43mheaders\u001b[49m\u001b[43m,\u001b[49m\n\u001b[1;32m   1252\u001b[0m \u001b[43m        \u001b[49m\u001b[43mproxies\u001b[49m\u001b[38;5;241;43m=\u001b[39;49m\u001b[43mproxies\u001b[49m\u001b[43m,\u001b[49m\n\u001b[1;32m   1253\u001b[0m \u001b[43m        \u001b[49m\u001b[43mtoken\u001b[49m\u001b[38;5;241;43m=\u001b[39;49m\u001b[43mtoken\u001b[49m\u001b[43m,\u001b[49m\n\u001b[1;32m   1254\u001b[0m \u001b[43m        \u001b[49m\u001b[38;5;66;43;03m# Additional options\u001b[39;49;00m\n\u001b[1;32m   1255\u001b[0m \u001b[43m        \u001b[49m\u001b[43mlocal_files_only\u001b[49m\u001b[38;5;241;43m=\u001b[39;49m\u001b[43mlocal_files_only\u001b[49m\u001b[43m,\u001b[49m\n\u001b[1;32m   1256\u001b[0m \u001b[43m        \u001b[49m\u001b[43mforce_download\u001b[49m\u001b[38;5;241;43m=\u001b[39;49m\u001b[43mforce_download\u001b[49m\u001b[43m,\u001b[49m\n\u001b[1;32m   1257\u001b[0m \u001b[43m    \u001b[49m\u001b[43m)\u001b[49m\n",
      "File \u001b[0;32m~/anaconda3/envs/arc/lib/python3.10/site-packages/huggingface_hub/file_download.py:1389\u001b[0m, in \u001b[0;36m_hf_hub_download_to_cache_dir\u001b[0;34m(cache_dir, repo_id, filename, repo_type, revision, endpoint, etag_timeout, headers, proxies, token, local_files_only, force_download)\u001b[0m\n\u001b[1;32m   1387\u001b[0m Path(lock_path)\u001b[38;5;241m.\u001b[39mparent\u001b[38;5;241m.\u001b[39mmkdir(parents\u001b[38;5;241m=\u001b[39m\u001b[38;5;28;01mTrue\u001b[39;00m, exist_ok\u001b[38;5;241m=\u001b[39m\u001b[38;5;28;01mTrue\u001b[39;00m)\n\u001b[1;32m   1388\u001b[0m \u001b[38;5;28;01mwith\u001b[39;00m WeakFileLock(lock_path):\n\u001b[0;32m-> 1389\u001b[0m     \u001b[43m_download_to_tmp_and_move\u001b[49m\u001b[43m(\u001b[49m\n\u001b[1;32m   1390\u001b[0m \u001b[43m        \u001b[49m\u001b[43mincomplete_path\u001b[49m\u001b[38;5;241;43m=\u001b[39;49m\u001b[43mPath\u001b[49m\u001b[43m(\u001b[49m\u001b[43mblob_path\u001b[49m\u001b[43m \u001b[49m\u001b[38;5;241;43m+\u001b[39;49m\u001b[43m \u001b[49m\u001b[38;5;124;43m\"\u001b[39;49m\u001b[38;5;124;43m.incomplete\u001b[39;49m\u001b[38;5;124;43m\"\u001b[39;49m\u001b[43m)\u001b[49m\u001b[43m,\u001b[49m\n\u001b[1;32m   1391\u001b[0m \u001b[43m        \u001b[49m\u001b[43mdestination_path\u001b[49m\u001b[38;5;241;43m=\u001b[39;49m\u001b[43mPath\u001b[49m\u001b[43m(\u001b[49m\u001b[43mblob_path\u001b[49m\u001b[43m)\u001b[49m\u001b[43m,\u001b[49m\n\u001b[1;32m   1392\u001b[0m \u001b[43m        \u001b[49m\u001b[43murl_to_download\u001b[49m\u001b[38;5;241;43m=\u001b[39;49m\u001b[43murl_to_download\u001b[49m\u001b[43m,\u001b[49m\n\u001b[1;32m   1393\u001b[0m \u001b[43m        \u001b[49m\u001b[43mproxies\u001b[49m\u001b[38;5;241;43m=\u001b[39;49m\u001b[43mproxies\u001b[49m\u001b[43m,\u001b[49m\n\u001b[1;32m   1394\u001b[0m \u001b[43m        \u001b[49m\u001b[43mheaders\u001b[49m\u001b[38;5;241;43m=\u001b[39;49m\u001b[43mheaders\u001b[49m\u001b[43m,\u001b[49m\n\u001b[1;32m   1395\u001b[0m \u001b[43m        \u001b[49m\u001b[43mexpected_size\u001b[49m\u001b[38;5;241;43m=\u001b[39;49m\u001b[43mexpected_size\u001b[49m\u001b[43m,\u001b[49m\n\u001b[1;32m   1396\u001b[0m \u001b[43m        \u001b[49m\u001b[43mfilename\u001b[49m\u001b[38;5;241;43m=\u001b[39;49m\u001b[43mfilename\u001b[49m\u001b[43m,\u001b[49m\n\u001b[1;32m   1397\u001b[0m \u001b[43m        \u001b[49m\u001b[43mforce_download\u001b[49m\u001b[38;5;241;43m=\u001b[39;49m\u001b[43mforce_download\u001b[49m\u001b[43m,\u001b[49m\n\u001b[1;32m   1398\u001b[0m \u001b[43m    \u001b[49m\u001b[43m)\u001b[49m\n\u001b[1;32m   1399\u001b[0m     _create_symlink(blob_path, pointer_path, new_blob\u001b[38;5;241m=\u001b[39m\u001b[38;5;28;01mTrue\u001b[39;00m)\n\u001b[1;32m   1401\u001b[0m \u001b[38;5;28;01mreturn\u001b[39;00m pointer_path\n",
      "File \u001b[0;32m~/anaconda3/envs/arc/lib/python3.10/site-packages/huggingface_hub/file_download.py:1915\u001b[0m, in \u001b[0;36m_download_to_tmp_and_move\u001b[0;34m(incomplete_path, destination_path, url_to_download, proxies, headers, expected_size, filename, force_download)\u001b[0m\n\u001b[1;32m   1912\u001b[0m         _check_disk_space(expected_size, incomplete_path\u001b[38;5;241m.\u001b[39mparent)\n\u001b[1;32m   1913\u001b[0m         _check_disk_space(expected_size, destination_path\u001b[38;5;241m.\u001b[39mparent)\n\u001b[0;32m-> 1915\u001b[0m     \u001b[43mhttp_get\u001b[49m\u001b[43m(\u001b[49m\n\u001b[1;32m   1916\u001b[0m \u001b[43m        \u001b[49m\u001b[43murl_to_download\u001b[49m\u001b[43m,\u001b[49m\n\u001b[1;32m   1917\u001b[0m \u001b[43m        \u001b[49m\u001b[43mf\u001b[49m\u001b[43m,\u001b[49m\n\u001b[1;32m   1918\u001b[0m \u001b[43m        \u001b[49m\u001b[43mproxies\u001b[49m\u001b[38;5;241;43m=\u001b[39;49m\u001b[43mproxies\u001b[49m\u001b[43m,\u001b[49m\n\u001b[1;32m   1919\u001b[0m \u001b[43m        \u001b[49m\u001b[43mresume_size\u001b[49m\u001b[38;5;241;43m=\u001b[39;49m\u001b[43mresume_size\u001b[49m\u001b[43m,\u001b[49m\n\u001b[1;32m   1920\u001b[0m \u001b[43m        \u001b[49m\u001b[43mheaders\u001b[49m\u001b[38;5;241;43m=\u001b[39;49m\u001b[43mheaders\u001b[49m\u001b[43m,\u001b[49m\n\u001b[1;32m   1921\u001b[0m \u001b[43m        \u001b[49m\u001b[43mexpected_size\u001b[49m\u001b[38;5;241;43m=\u001b[39;49m\u001b[43mexpected_size\u001b[49m\u001b[43m,\u001b[49m\n\u001b[1;32m   1922\u001b[0m \u001b[43m    \u001b[49m\u001b[43m)\u001b[49m\n\u001b[1;32m   1924\u001b[0m logger\u001b[38;5;241m.\u001b[39minfo(\u001b[38;5;124mf\u001b[39m\u001b[38;5;124m\"\u001b[39m\u001b[38;5;124mDownload complete. Moving file to \u001b[39m\u001b[38;5;132;01m{\u001b[39;00mdestination_path\u001b[38;5;132;01m}\u001b[39;00m\u001b[38;5;124m\"\u001b[39m)\n\u001b[1;32m   1925\u001b[0m _chmod_and_move(incomplete_path, destination_path)\n",
      "File \u001b[0;32m~/anaconda3/envs/arc/lib/python3.10/site-packages/huggingface_hub/file_download.py:549\u001b[0m, in \u001b[0;36mhttp_get\u001b[0;34m(url, temp_file, proxies, resume_size, headers, expected_size, displayed_filename, _nb_retries, _tqdm_bar)\u001b[0m\n\u001b[1;32m    547\u001b[0m new_resume_size \u001b[38;5;241m=\u001b[39m resume_size\n\u001b[1;32m    548\u001b[0m \u001b[38;5;28;01mtry\u001b[39;00m:\n\u001b[0;32m--> 549\u001b[0m     \u001b[38;5;28;01mfor\u001b[39;00m chunk \u001b[38;5;129;01min\u001b[39;00m r\u001b[38;5;241m.\u001b[39miter_content(chunk_size\u001b[38;5;241m=\u001b[39mDOWNLOAD_CHUNK_SIZE):\n\u001b[1;32m    550\u001b[0m         \u001b[38;5;28;01mif\u001b[39;00m chunk:  \u001b[38;5;66;03m# filter out keep-alive new chunks\u001b[39;00m\n\u001b[1;32m    551\u001b[0m             progress\u001b[38;5;241m.\u001b[39mupdate(\u001b[38;5;28mlen\u001b[39m(chunk))\n",
      "File \u001b[0;32m~/anaconda3/envs/arc/lib/python3.10/site-packages/requests/models.py:820\u001b[0m, in \u001b[0;36mResponse.iter_content.<locals>.generate\u001b[0;34m()\u001b[0m\n\u001b[1;32m    818\u001b[0m \u001b[38;5;28;01mif\u001b[39;00m \u001b[38;5;28mhasattr\u001b[39m(\u001b[38;5;28mself\u001b[39m\u001b[38;5;241m.\u001b[39mraw, \u001b[38;5;124m\"\u001b[39m\u001b[38;5;124mstream\u001b[39m\u001b[38;5;124m\"\u001b[39m):\n\u001b[1;32m    819\u001b[0m     \u001b[38;5;28;01mtry\u001b[39;00m:\n\u001b[0;32m--> 820\u001b[0m         \u001b[38;5;28;01myield from\u001b[39;00m \u001b[38;5;28mself\u001b[39m\u001b[38;5;241m.\u001b[39mraw\u001b[38;5;241m.\u001b[39mstream(chunk_size, decode_content\u001b[38;5;241m=\u001b[39m\u001b[38;5;28;01mTrue\u001b[39;00m)\n\u001b[1;32m    821\u001b[0m     \u001b[38;5;28;01mexcept\u001b[39;00m ProtocolError \u001b[38;5;28;01mas\u001b[39;00m e:\n\u001b[1;32m    822\u001b[0m         \u001b[38;5;28;01mraise\u001b[39;00m ChunkedEncodingError(e)\n",
      "File \u001b[0;32m~/anaconda3/envs/arc/lib/python3.10/site-packages/urllib3/response.py:1060\u001b[0m, in \u001b[0;36mHTTPResponse.stream\u001b[0;34m(self, amt, decode_content)\u001b[0m\n\u001b[1;32m   1058\u001b[0m \u001b[38;5;28;01melse\u001b[39;00m:\n\u001b[1;32m   1059\u001b[0m     \u001b[38;5;28;01mwhile\u001b[39;00m \u001b[38;5;129;01mnot\u001b[39;00m is_fp_closed(\u001b[38;5;28mself\u001b[39m\u001b[38;5;241m.\u001b[39m_fp) \u001b[38;5;129;01mor\u001b[39;00m \u001b[38;5;28mlen\u001b[39m(\u001b[38;5;28mself\u001b[39m\u001b[38;5;241m.\u001b[39m_decoded_buffer) \u001b[38;5;241m>\u001b[39m \u001b[38;5;241m0\u001b[39m:\n\u001b[0;32m-> 1060\u001b[0m         data \u001b[38;5;241m=\u001b[39m \u001b[38;5;28;43mself\u001b[39;49m\u001b[38;5;241;43m.\u001b[39;49m\u001b[43mread\u001b[49m\u001b[43m(\u001b[49m\u001b[43mamt\u001b[49m\u001b[38;5;241;43m=\u001b[39;49m\u001b[43mamt\u001b[49m\u001b[43m,\u001b[49m\u001b[43m \u001b[49m\u001b[43mdecode_content\u001b[49m\u001b[38;5;241;43m=\u001b[39;49m\u001b[43mdecode_content\u001b[49m\u001b[43m)\u001b[49m\n\u001b[1;32m   1062\u001b[0m         \u001b[38;5;28;01mif\u001b[39;00m data:\n\u001b[1;32m   1063\u001b[0m             \u001b[38;5;28;01myield\u001b[39;00m data\n",
      "File \u001b[0;32m~/anaconda3/envs/arc/lib/python3.10/site-packages/urllib3/response.py:949\u001b[0m, in \u001b[0;36mHTTPResponse.read\u001b[0;34m(self, amt, decode_content, cache_content)\u001b[0m\n\u001b[1;32m    946\u001b[0m     \u001b[38;5;28;01mif\u001b[39;00m \u001b[38;5;28mlen\u001b[39m(\u001b[38;5;28mself\u001b[39m\u001b[38;5;241m.\u001b[39m_decoded_buffer) \u001b[38;5;241m>\u001b[39m\u001b[38;5;241m=\u001b[39m amt:\n\u001b[1;32m    947\u001b[0m         \u001b[38;5;28;01mreturn\u001b[39;00m \u001b[38;5;28mself\u001b[39m\u001b[38;5;241m.\u001b[39m_decoded_buffer\u001b[38;5;241m.\u001b[39mget(amt)\n\u001b[0;32m--> 949\u001b[0m data \u001b[38;5;241m=\u001b[39m \u001b[38;5;28;43mself\u001b[39;49m\u001b[38;5;241;43m.\u001b[39;49m\u001b[43m_raw_read\u001b[49m\u001b[43m(\u001b[49m\u001b[43mamt\u001b[49m\u001b[43m)\u001b[49m\n\u001b[1;32m    951\u001b[0m flush_decoder \u001b[38;5;241m=\u001b[39m amt \u001b[38;5;129;01mis\u001b[39;00m \u001b[38;5;28;01mNone\u001b[39;00m \u001b[38;5;129;01mor\u001b[39;00m (amt \u001b[38;5;241m!=\u001b[39m \u001b[38;5;241m0\u001b[39m \u001b[38;5;129;01mand\u001b[39;00m \u001b[38;5;129;01mnot\u001b[39;00m data)\n\u001b[1;32m    953\u001b[0m \u001b[38;5;28;01mif\u001b[39;00m \u001b[38;5;129;01mnot\u001b[39;00m data \u001b[38;5;129;01mand\u001b[39;00m \u001b[38;5;28mlen\u001b[39m(\u001b[38;5;28mself\u001b[39m\u001b[38;5;241m.\u001b[39m_decoded_buffer) \u001b[38;5;241m==\u001b[39m \u001b[38;5;241m0\u001b[39m:\n",
      "File \u001b[0;32m~/anaconda3/envs/arc/lib/python3.10/site-packages/urllib3/response.py:873\u001b[0m, in \u001b[0;36mHTTPResponse._raw_read\u001b[0;34m(self, amt, read1)\u001b[0m\n\u001b[1;32m    870\u001b[0m fp_closed \u001b[38;5;241m=\u001b[39m \u001b[38;5;28mgetattr\u001b[39m(\u001b[38;5;28mself\u001b[39m\u001b[38;5;241m.\u001b[39m_fp, \u001b[38;5;124m\"\u001b[39m\u001b[38;5;124mclosed\u001b[39m\u001b[38;5;124m\"\u001b[39m, \u001b[38;5;28;01mFalse\u001b[39;00m)\n\u001b[1;32m    872\u001b[0m \u001b[38;5;28;01mwith\u001b[39;00m \u001b[38;5;28mself\u001b[39m\u001b[38;5;241m.\u001b[39m_error_catcher():\n\u001b[0;32m--> 873\u001b[0m     data \u001b[38;5;241m=\u001b[39m \u001b[38;5;28;43mself\u001b[39;49m\u001b[38;5;241;43m.\u001b[39;49m\u001b[43m_fp_read\u001b[49m\u001b[43m(\u001b[49m\u001b[43mamt\u001b[49m\u001b[43m,\u001b[49m\u001b[43m \u001b[49m\u001b[43mread1\u001b[49m\u001b[38;5;241;43m=\u001b[39;49m\u001b[43mread1\u001b[49m\u001b[43m)\u001b[49m \u001b[38;5;28;01mif\u001b[39;00m \u001b[38;5;129;01mnot\u001b[39;00m fp_closed \u001b[38;5;28;01melse\u001b[39;00m \u001b[38;5;124mb\u001b[39m\u001b[38;5;124m\"\u001b[39m\u001b[38;5;124m\"\u001b[39m\n\u001b[1;32m    874\u001b[0m     \u001b[38;5;28;01mif\u001b[39;00m amt \u001b[38;5;129;01mis\u001b[39;00m \u001b[38;5;129;01mnot\u001b[39;00m \u001b[38;5;28;01mNone\u001b[39;00m \u001b[38;5;129;01mand\u001b[39;00m amt \u001b[38;5;241m!=\u001b[39m \u001b[38;5;241m0\u001b[39m \u001b[38;5;129;01mand\u001b[39;00m \u001b[38;5;129;01mnot\u001b[39;00m data:\n\u001b[1;32m    875\u001b[0m         \u001b[38;5;66;03m# Platform-specific: Buggy versions of Python.\u001b[39;00m\n\u001b[1;32m    876\u001b[0m         \u001b[38;5;66;03m# Close the connection when no data is returned\u001b[39;00m\n\u001b[0;32m   (...)\u001b[0m\n\u001b[1;32m    881\u001b[0m         \u001b[38;5;66;03m# not properly close the connection in all cases. There is\u001b[39;00m\n\u001b[1;32m    882\u001b[0m         \u001b[38;5;66;03m# no harm in redundantly calling close.\u001b[39;00m\n\u001b[1;32m    883\u001b[0m         \u001b[38;5;28mself\u001b[39m\u001b[38;5;241m.\u001b[39m_fp\u001b[38;5;241m.\u001b[39mclose()\n",
      "File \u001b[0;32m~/anaconda3/envs/arc/lib/python3.10/site-packages/urllib3/response.py:856\u001b[0m, in \u001b[0;36mHTTPResponse._fp_read\u001b[0;34m(self, amt, read1)\u001b[0m\n\u001b[1;32m    853\u001b[0m     \u001b[38;5;28;01mreturn\u001b[39;00m \u001b[38;5;28mself\u001b[39m\u001b[38;5;241m.\u001b[39m_fp\u001b[38;5;241m.\u001b[39mread1(amt) \u001b[38;5;28;01mif\u001b[39;00m amt \u001b[38;5;129;01mis\u001b[39;00m \u001b[38;5;129;01mnot\u001b[39;00m \u001b[38;5;28;01mNone\u001b[39;00m \u001b[38;5;28;01melse\u001b[39;00m \u001b[38;5;28mself\u001b[39m\u001b[38;5;241m.\u001b[39m_fp\u001b[38;5;241m.\u001b[39mread1()\n\u001b[1;32m    854\u001b[0m \u001b[38;5;28;01melse\u001b[39;00m:\n\u001b[1;32m    855\u001b[0m     \u001b[38;5;66;03m# StringIO doesn't like amt=None\u001b[39;00m\n\u001b[0;32m--> 856\u001b[0m     \u001b[38;5;28;01mreturn\u001b[39;00m \u001b[38;5;28;43mself\u001b[39;49m\u001b[38;5;241;43m.\u001b[39;49m\u001b[43m_fp\u001b[49m\u001b[38;5;241;43m.\u001b[39;49m\u001b[43mread\u001b[49m\u001b[43m(\u001b[49m\u001b[43mamt\u001b[49m\u001b[43m)\u001b[49m \u001b[38;5;28;01mif\u001b[39;00m amt \u001b[38;5;129;01mis\u001b[39;00m \u001b[38;5;129;01mnot\u001b[39;00m \u001b[38;5;28;01mNone\u001b[39;00m \u001b[38;5;28;01melse\u001b[39;00m \u001b[38;5;28mself\u001b[39m\u001b[38;5;241m.\u001b[39m_fp\u001b[38;5;241m.\u001b[39mread()\n",
      "File \u001b[0;32m~/anaconda3/envs/arc/lib/python3.10/http/client.py:466\u001b[0m, in \u001b[0;36mHTTPResponse.read\u001b[0;34m(self, amt)\u001b[0m\n\u001b[1;32m    463\u001b[0m \u001b[38;5;28;01mif\u001b[39;00m \u001b[38;5;28mself\u001b[39m\u001b[38;5;241m.\u001b[39mlength \u001b[38;5;129;01mis\u001b[39;00m \u001b[38;5;129;01mnot\u001b[39;00m \u001b[38;5;28;01mNone\u001b[39;00m \u001b[38;5;129;01mand\u001b[39;00m amt \u001b[38;5;241m>\u001b[39m \u001b[38;5;28mself\u001b[39m\u001b[38;5;241m.\u001b[39mlength:\n\u001b[1;32m    464\u001b[0m     \u001b[38;5;66;03m# clip the read to the \"end of response\"\u001b[39;00m\n\u001b[1;32m    465\u001b[0m     amt \u001b[38;5;241m=\u001b[39m \u001b[38;5;28mself\u001b[39m\u001b[38;5;241m.\u001b[39mlength\n\u001b[0;32m--> 466\u001b[0m s \u001b[38;5;241m=\u001b[39m \u001b[38;5;28;43mself\u001b[39;49m\u001b[38;5;241;43m.\u001b[39;49m\u001b[43mfp\u001b[49m\u001b[38;5;241;43m.\u001b[39;49m\u001b[43mread\u001b[49m\u001b[43m(\u001b[49m\u001b[43mamt\u001b[49m\u001b[43m)\u001b[49m\n\u001b[1;32m    467\u001b[0m \u001b[38;5;28;01mif\u001b[39;00m \u001b[38;5;129;01mnot\u001b[39;00m s \u001b[38;5;129;01mand\u001b[39;00m amt:\n\u001b[1;32m    468\u001b[0m     \u001b[38;5;66;03m# Ideally, we would raise IncompleteRead if the content-length\u001b[39;00m\n\u001b[1;32m    469\u001b[0m     \u001b[38;5;66;03m# wasn't satisfied, but it might break compatibility.\u001b[39;00m\n\u001b[1;32m    470\u001b[0m     \u001b[38;5;28mself\u001b[39m\u001b[38;5;241m.\u001b[39m_close_conn()\n",
      "File \u001b[0;32m~/anaconda3/envs/arc/lib/python3.10/socket.py:705\u001b[0m, in \u001b[0;36mSocketIO.readinto\u001b[0;34m(self, b)\u001b[0m\n\u001b[1;32m    703\u001b[0m \u001b[38;5;28;01mwhile\u001b[39;00m \u001b[38;5;28;01mTrue\u001b[39;00m:\n\u001b[1;32m    704\u001b[0m     \u001b[38;5;28;01mtry\u001b[39;00m:\n\u001b[0;32m--> 705\u001b[0m         \u001b[38;5;28;01mreturn\u001b[39;00m \u001b[38;5;28;43mself\u001b[39;49m\u001b[38;5;241;43m.\u001b[39;49m\u001b[43m_sock\u001b[49m\u001b[38;5;241;43m.\u001b[39;49m\u001b[43mrecv_into\u001b[49m\u001b[43m(\u001b[49m\u001b[43mb\u001b[49m\u001b[43m)\u001b[49m\n\u001b[1;32m    706\u001b[0m     \u001b[38;5;28;01mexcept\u001b[39;00m timeout:\n\u001b[1;32m    707\u001b[0m         \u001b[38;5;28mself\u001b[39m\u001b[38;5;241m.\u001b[39m_timeout_occurred \u001b[38;5;241m=\u001b[39m \u001b[38;5;28;01mTrue\u001b[39;00m\n",
      "File \u001b[0;32m~/anaconda3/envs/arc/lib/python3.10/ssl.py:1307\u001b[0m, in \u001b[0;36mSSLSocket.recv_into\u001b[0;34m(self, buffer, nbytes, flags)\u001b[0m\n\u001b[1;32m   1303\u001b[0m     \u001b[38;5;28;01mif\u001b[39;00m flags \u001b[38;5;241m!=\u001b[39m \u001b[38;5;241m0\u001b[39m:\n\u001b[1;32m   1304\u001b[0m         \u001b[38;5;28;01mraise\u001b[39;00m \u001b[38;5;167;01mValueError\u001b[39;00m(\n\u001b[1;32m   1305\u001b[0m           \u001b[38;5;124m\"\u001b[39m\u001b[38;5;124mnon-zero flags not allowed in calls to recv_into() on \u001b[39m\u001b[38;5;132;01m%s\u001b[39;00m\u001b[38;5;124m\"\u001b[39m \u001b[38;5;241m%\u001b[39m\n\u001b[1;32m   1306\u001b[0m           \u001b[38;5;28mself\u001b[39m\u001b[38;5;241m.\u001b[39m\u001b[38;5;18m__class__\u001b[39m)\n\u001b[0;32m-> 1307\u001b[0m     \u001b[38;5;28;01mreturn\u001b[39;00m \u001b[38;5;28;43mself\u001b[39;49m\u001b[38;5;241;43m.\u001b[39;49m\u001b[43mread\u001b[49m\u001b[43m(\u001b[49m\u001b[43mnbytes\u001b[49m\u001b[43m,\u001b[49m\u001b[43m \u001b[49m\u001b[43mbuffer\u001b[49m\u001b[43m)\u001b[49m\n\u001b[1;32m   1308\u001b[0m \u001b[38;5;28;01melse\u001b[39;00m:\n\u001b[1;32m   1309\u001b[0m     \u001b[38;5;28;01mreturn\u001b[39;00m \u001b[38;5;28msuper\u001b[39m()\u001b[38;5;241m.\u001b[39mrecv_into(buffer, nbytes, flags)\n",
      "File \u001b[0;32m~/anaconda3/envs/arc/lib/python3.10/ssl.py:1163\u001b[0m, in \u001b[0;36mSSLSocket.read\u001b[0;34m(self, len, buffer)\u001b[0m\n\u001b[1;32m   1161\u001b[0m \u001b[38;5;28;01mtry\u001b[39;00m:\n\u001b[1;32m   1162\u001b[0m     \u001b[38;5;28;01mif\u001b[39;00m buffer \u001b[38;5;129;01mis\u001b[39;00m \u001b[38;5;129;01mnot\u001b[39;00m \u001b[38;5;28;01mNone\u001b[39;00m:\n\u001b[0;32m-> 1163\u001b[0m         \u001b[38;5;28;01mreturn\u001b[39;00m \u001b[38;5;28;43mself\u001b[39;49m\u001b[38;5;241;43m.\u001b[39;49m\u001b[43m_sslobj\u001b[49m\u001b[38;5;241;43m.\u001b[39;49m\u001b[43mread\u001b[49m\u001b[43m(\u001b[49m\u001b[38;5;28;43mlen\u001b[39;49m\u001b[43m,\u001b[49m\u001b[43m \u001b[49m\u001b[43mbuffer\u001b[49m\u001b[43m)\u001b[49m\n\u001b[1;32m   1164\u001b[0m     \u001b[38;5;28;01melse\u001b[39;00m:\n\u001b[1;32m   1165\u001b[0m         \u001b[38;5;28;01mreturn\u001b[39;00m \u001b[38;5;28mself\u001b[39m\u001b[38;5;241m.\u001b[39m_sslobj\u001b[38;5;241m.\u001b[39mread(\u001b[38;5;28mlen\u001b[39m)\n",
      "\u001b[0;31mKeyboardInterrupt\u001b[0m: "
     ]
    }
   ],
   "source": [
    "from transformers import AutoModelForCausalLM\n",
    "model = AutoModelForCausalLM.from_pretrained(\"HuggingFaceTB/SmolLM-135M\")"
   ]
  },
  {
   "cell_type": "markdown",
   "metadata": {},
   "source": [
    "# dataset"
   ]
  },
  {
   "cell_type": "code",
   "execution_count": 6,
   "metadata": {},
   "outputs": [
    {
     "name": "stderr",
     "output_type": "stream",
     "text": [
      "/home/tom/anaconda3/envs/yaa/lib/python3.10/site-packages/transformers/tokenization_utils_base.py:1601: FutureWarning: `clean_up_tokenization_spaces` was not set. It will be set to `True` by default. This behavior will be depracted in transformers v4.45, and will be then set to `False` by default. For more details check this issue: https://github.com/huggingface/transformers/issues/31884\n",
      "  warnings.warn(\n",
      "/home/tom/anaconda3/envs/yaa/lib/python3.10/site-packages/transformers/convert_slow_tokenizer.py:551: UserWarning: The sentencepiece tokenizer that you are converting to a fast tokenizer uses the byte fallback option which is not implemented in the fast tokenizers. In practice this means that the fast version of the tokenizer can produce unknown tokens whereas the sentencepiece version would have converted these unknown tokens into a sequence of byte tokens matching the original piece of text.\n",
      "  warnings.warn(\n"
     ]
    }
   ],
   "source": [
    "import dataset\n",
    "from transformers import AutoTokenizer\n",
    "tokenizer = AutoTokenizer.from_pretrained(\"microsoft/deberta-v3-xsmall\")\n",
    "#tokenizer = AutoTokenizer.from_pretrained(\"unsloth/Qwen2-1.5B-bnb-4bit\")\n",
    "args = util.parser.parse_args([])\n",
    "args.ds_cls = 'Dataset'\n",
    "args.val_ds_cls = 'Dataset'\n",
    "\n",
    "args.batch_size = 2\n",
    "args.val_batch_size = 2\n",
    "args.n_dl_worker = 1\n",
    "\n",
    "df = util.load_data(args)\n",
    "ds = dataset.gen_ds(args, 'train', df, tokenizer=tokenizer)\n"
   ]
  },
  {
   "cell_type": "code",
   "execution_count": 5,
   "metadata": {},
   "outputs": [
    {
     "name": "stderr",
     "output_type": "stream",
     "text": [
      "100%|████████████████| 4000/4000 [00:01<00:00, 2492.58it/s]\n"
     ]
    },
    {
     "data": {
      "text/html": [
       "<div>\n",
       "<style scoped>\n",
       "    .dataframe tbody tr th:only-of-type {\n",
       "        vertical-align: middle;\n",
       "    }\n",
       "\n",
       "    .dataframe tbody tr th {\n",
       "        vertical-align: top;\n",
       "    }\n",
       "\n",
       "    .dataframe thead th {\n",
       "        text-align: right;\n",
       "    }\n",
       "</style>\n",
       "<table border=\"1\" class=\"dataframe\">\n",
       "  <thead>\n",
       "    <tr style=\"text-align: right;\">\n",
       "      <th></th>\n",
       "      <th>uid</th>\n",
       "      <th>text</th>\n",
       "    </tr>\n",
       "  </thead>\n",
       "  <tbody>\n",
       "    <tr>\n",
       "      <th>0</th>\n",
       "      <td>aaaf</td>\n",
       "      <td>[CLS] V (XX XX) shot himself in a motor vehicle.The V's mother called law enforcement, stated the V had made suicidal comments, and she reported the V as missing and suicidal with a firearm.The V was located in a vehicle in a retail parking lot. When law enforcement approached the vehicle the V shot himself.There are no other circumstances.[SEP]</td>\n",
       "    </tr>\n",
       "    <tr>\n",
       "      <th>1</th>\n",
       "      <td>aaby</td>\n",
       "      <td>[CLS] V was XXXX. V was found in the basement of his residence hanging from a strap around the neck in an apparent suicide. V's roommates stated that they did not know of any disorders or medications that V would have taken and no indication of suicidal ideations. EMS was on the scene and pronounced V deceased. No further information regarding circumstance.[SEP]</td>\n",
       "    </tr>\n",
       "    <tr>\n",
       "      <th>2</th>\n",
       "      <td>aacl</td>\n",
       "      <td>[CLS] V was XXXX. V was found in his residence unresponsive as the result of a GSW to the head that was suicidal in nature. V was transported by EMS to the hospital where he died. V's medical history was not included. According to this report, V called his mother from school and asked her to bring him something to eat. When she got to the school she saw V was very upset, and she decided to remove him from school and take him home. She reported that V was very upset lately. V's mother went on to say that V's brother was killed about 11 months prior (could not locate brother's information; unable to link) and V had not been dealing with it very well. V's mother had to go to work, so she called V's brother to tell him that V was upset and acting out and that she wanted him to come over and try to calm V down. V's brother responded to the residence and found V holding a \"machine gun.\" V and his brother reportedly argued about choosing a better lifestyle and staying away from gangs and ...</td>\n",
       "    </tr>\n",
       "    <tr>\n",
       "      <th>3</th>\n",
       "      <td>aacn</td>\n",
       "      <td>[CLS] The victim, a XX XX who had recently returned to his village and was residing with his mother (no age given), his step sister, 38, and her minor son and daughter received a call from his girlfriend (no age given) who expressed to him that she missed him. The following day in the evening hours the victim called the girlfriend and she indicated she did not want anything to do with the victim. While on the phone the victim became upset which prompted the mother to take the phone and tell the girlfriend she should have left the victim alone. The victim then became upset and exited the residence. The step-sisters minor son looked out the window and noticed the victim had a firearm and notified the family. The mother exited the residence and approached the victim and demanded he turn over the rifle which he did. The mother then placed the firearm that she believed to be unloaded back into the arctic entry of the residence. The victim then returned to the residence and tried to call...</td>\n",
       "    </tr>\n",
       "    <tr>\n",
       "      <th>4</th>\n",
       "      <td>aadb</td>\n",
       "      <td>[CLS] XX XX V found deceased at home by his grandparents, hanging from a basketball hoop in his basement family room, which the decedent used as a bedroom of his grandparents house. According to LE, a check of V's cell phone revealed that V had made suicidal statements by phone earlier. In the text message V sent to his girlfriend, he had complained that he hated his life, and she replied that he might consider doing something more about it than whining. Another text message from V to a friend, he stated that he was going to hang himself.[SEP]</td>\n",
       "    </tr>\n",
       "    <tr>\n",
       "      <th>...</th>\n",
       "      <td>...</td>\n",
       "      <td>...</td>\n",
       "    </tr>\n",
       "    <tr>\n",
       "      <th>3995</th>\n",
       "      <td>fhri</td>\n",
       "      <td>[CLS] The victim was a XX XX who was discovered at home with intentional, self-inflicted cuts to his wrists. There is no mention of EMS arriving/evidence of medical intervention. The weapon involved was an unspecified knife/cutting instrument. According to reports, the victim had a history of suicide attempts. There is no mention of a mental health diagnosis, depressed mood, alcohol/substance abuse, or if a note was found. No further details are provided.[SEP]</td>\n",
       "    </tr>\n",
       "    <tr>\n",
       "      <th>3996</th>\n",
       "      <td>fhrn</td>\n",
       "      <td>[CLS] The V is a XX XX. The cause of death is acute sodium nitrite intoxication and the manner of death is suicide. LE was called to V's apartment by a roommate and a XX friend around ten at night for a welfare check. V had not made contact with anyone since the day prior around one in the afternoon. V has a prior suicide attempt and has been recently making suicidal comments. LE was able to pry open V's locked bedroom door where he was observed sitting in a chair by his computer, cold and unresponsive. The friend states V reportedly returned from out of state four days prior where he attended a music festival. V is known to sometimes smoke weed or occasionally eat psilocybin mushrooms. V does have a girlfriend who states V canceled plans with her the night of the incident and stated his allergies were bothering him. There were some Alprazolam and Oxycodone Hydrochloride found in V's bedroom. LE was unable to figure out if they were V's prescriptions or not. V's mother stated V has...</td>\n",
       "    </tr>\n",
       "    <tr>\n",
       "      <th>3997</th>\n",
       "      <td>fhsx</td>\n",
       "      <td>[CLS] V was a XX XX. V was found deceased in his bedroom and had no visible injuries. V was believed to be a drug user and has used heroin, cocaine, LSD, oxycodone, mushrooms, and Xanax. No illegal substances were found at the scene. On the day of the incident, V went to work and failed a drug test. According to his manager, he tested positive for marijuana. V was found by his roommate at 1445 hours in his room face down on his bed. The roommate touched him to see if he was okay and found that he was cold to touch and called 911. V's father disclosed that he attempted suicide three times in the past. The last attempt was by hanging. One of the roommates disclosed that V told them he wanted to kill himself last week. It was also disclosed that V was in a physical altercation three weeks ago. It was determined that the cause of death was amitriptyline intoxication. The manner of death was ruled a suicide.[SEP]</td>\n",
       "    </tr>\n",
       "    <tr>\n",
       "      <th>3998</th>\n",
       "      <td>fhtq</td>\n",
       "      <td>[CLS] At 0100 hours, local police received a call of shots fired. Upon arrival, officers did not get a response and proceeded to make a forced entry. They discovered the deceased bodies of a XX XX (V1) and her son, a 2-year-old XX (V2) lying on the bed in the master bedroom having sustained multiple gunshot wounds. V1 was laying on top of her son with her right arm over the top of him, as though she was trying to protect him. Her right arm had 3-4 gunshot wounds that shattered her arm. V1's husband, a XX XX (S) was found with a self-inflicted gunshot wound to the head and 9mm handgun resting in his hand. S still had agonal breathing, so he was transported to the hospital where he later died at 0333 hours. Fourteen 9mm casings were recovered from the bedroom where the homicide and suicide took place. Neighbors reported hearing 2-5 shots, so it is unclear how the other 9-12 shots were made quieter. It should be noted that V1 was pregnant at the time of the incident.[SEP]</td>\n",
       "    </tr>\n",
       "    <tr>\n",
       "      <th>3999</th>\n",
       "      <td>fial</td>\n",
       "      <td>[CLS] V1 (XX XX) and V2 (XX XX) found unresponsive in apartment with multiple gunshot wounds by PD. ATF Firearm Examiner determined all bullets came from the same firearm collected at the scene per PD.Nothing further.Source: LE[SEP]</td>\n",
       "    </tr>\n",
       "  </tbody>\n",
       "</table>\n",
       "<p>4000 rows × 2 columns</p>\n",
       "</div>"
      ],
      "text/plain": [
       "       uid  \\\n",
       "0     aaaf   \n",
       "1     aaby   \n",
       "2     aacl   \n",
       "3     aacn   \n",
       "4     aadb   \n",
       "...    ...   \n",
       "3995  fhri   \n",
       "3996  fhrn   \n",
       "3997  fhsx   \n",
       "3998  fhtq   \n",
       "3999  fial   \n",
       "\n",
       "                                                                                                                                                                                                                                                                                                                                                                                                                                                                                                                                                                                                                                                                                                                                                                                                                                                                                                                                                                                                                                         text  \n",
       "0                                                                                                                                                                                                                                                                                                                                                                                                                                                                                                                                                                                                                                                                                 [CLS] V (XX XX) shot himself in a motor vehicle.The V's mother called law enforcement, stated the V had made suicidal comments, and she reported the V as missing and suicidal with a firearm.The V was located in a vehicle in a retail parking lot. When law enforcement approached the vehicle the V shot himself.There are no other circumstances.[SEP]  \n",
       "1                                                                                                                                                                                                                                                                                                                                                                                                                                                                                                                                                                                                                                                                [CLS] V was XXXX. V was found in the basement of his residence hanging from a strap around the neck in an apparent suicide. V's roommates stated that they did not know of any disorders or medications that V would have taken and no indication of suicidal ideations. EMS was on the scene and pronounced V deceased. No further information regarding circumstance.[SEP]  \n",
       "2     [CLS] V was XXXX. V was found in his residence unresponsive as the result of a GSW to the head that was suicidal in nature. V was transported by EMS to the hospital where he died. V's medical history was not included. According to this report, V called his mother from school and asked her to bring him something to eat. When she got to the school she saw V was very upset, and she decided to remove him from school and take him home. She reported that V was very upset lately. V's mother went on to say that V's brother was killed about 11 months prior (could not locate brother's information; unable to link) and V had not been dealing with it very well. V's mother had to go to work, so she called V's brother to tell him that V was upset and acting out and that she wanted him to come over and try to calm V down. V's brother responded to the residence and found V holding a \"machine gun.\" V and his brother reportedly argued about choosing a better lifestyle and staying away from gangs and ...  \n",
       "3     [CLS] The victim, a XX XX who had recently returned to his village and was residing with his mother (no age given), his step sister, 38, and her minor son and daughter received a call from his girlfriend (no age given) who expressed to him that she missed him. The following day in the evening hours the victim called the girlfriend and she indicated she did not want anything to do with the victim. While on the phone the victim became upset which prompted the mother to take the phone and tell the girlfriend she should have left the victim alone. The victim then became upset and exited the residence. The step-sisters minor son looked out the window and noticed the victim had a firearm and notified the family. The mother exited the residence and approached the victim and demanded he turn over the rifle which he did. The mother then placed the firearm that she believed to be unloaded back into the arctic entry of the residence. The victim then returned to the residence and tried to call...  \n",
       "4                                                                                                                                                                                                                                                                                                                                                                                                                                                                       [CLS] XX XX V found deceased at home by his grandparents, hanging from a basketball hoop in his basement family room, which the decedent used as a bedroom of his grandparents house. According to LE, a check of V's cell phone revealed that V had made suicidal statements by phone earlier. In the text message V sent to his girlfriend, he had complained that he hated his life, and she replied that he might consider doing something more about it than whining. Another text message from V to a friend, he stated that he was going to hang himself.[SEP]  \n",
       "...                                                                                                                                                                                                                                                                                                                                                                                                                                                                                                                                                                                                                                                                                                                                                                                                                                                                                                                                                                                                                                       ...  \n",
       "3995                                                                                                                                                                                                                                                                                                                                                                                                                                                                                                                                                         [CLS] The victim was a XX XX who was discovered at home with intentional, self-inflicted cuts to his wrists. There is no mention of EMS arriving/evidence of medical intervention. The weapon involved was an unspecified knife/cutting instrument. According to reports, the victim had a history of suicide attempts. There is no mention of a mental health diagnosis, depressed mood, alcohol/substance abuse, or if a note was found. No further details are provided.[SEP]  \n",
       "3996  [CLS] The V is a XX XX. The cause of death is acute sodium nitrite intoxication and the manner of death is suicide. LE was called to V's apartment by a roommate and a XX friend around ten at night for a welfare check. V had not made contact with anyone since the day prior around one in the afternoon. V has a prior suicide attempt and has been recently making suicidal comments. LE was able to pry open V's locked bedroom door where he was observed sitting in a chair by his computer, cold and unresponsive. The friend states V reportedly returned from out of state four days prior where he attended a music festival. V is known to sometimes smoke weed or occasionally eat psilocybin mushrooms. V does have a girlfriend who states V canceled plans with her the night of the incident and stated his allergies were bothering him. There were some Alprazolam and Oxycodone Hydrochloride found in V's bedroom. LE was unable to figure out if they were V's prescriptions or not. V's mother stated V has...  \n",
       "3997                                                                                [CLS] V was a XX XX. V was found deceased in his bedroom and had no visible injuries. V was believed to be a drug user and has used heroin, cocaine, LSD, oxycodone, mushrooms, and Xanax. No illegal substances were found at the scene. On the day of the incident, V went to work and failed a drug test. According to his manager, he tested positive for marijuana. V was found by his roommate at 1445 hours in his room face down on his bed. The roommate touched him to see if he was okay and found that he was cold to touch and called 911. V's father disclosed that he attempted suicide three times in the past. The last attempt was by hanging. One of the roommates disclosed that V told them he wanted to kill himself last week. It was also disclosed that V was in a physical altercation three weeks ago. It was determined that the cause of death was amitriptyline intoxication. The manner of death was ruled a suicide.[SEP]  \n",
       "3998                  [CLS] At 0100 hours, local police received a call of shots fired. Upon arrival, officers did not get a response and proceeded to make a forced entry. They discovered the deceased bodies of a XX XX (V1) and her son, a 2-year-old XX (V2) lying on the bed in the master bedroom having sustained multiple gunshot wounds. V1 was laying on top of her son with her right arm over the top of him, as though she was trying to protect him. Her right arm had 3-4 gunshot wounds that shattered her arm. V1's husband, a XX XX (S) was found with a self-inflicted gunshot wound to the head and 9mm handgun resting in his hand. S still had agonal breathing, so he was transported to the hospital where he later died at 0333 hours. Fourteen 9mm casings were recovered from the bedroom where the homicide and suicide took place. Neighbors reported hearing 2-5 shots, so it is unclear how the other 9-12 shots were made quieter. It should be noted that V1 was pregnant at the time of the incident.[SEP]  \n",
       "3999                                                                                                                                                                                                                                                                                                                                                                                                                                                                                                                                                                                                                                                                                                                                                                                                 [CLS] V1 (XX XX) and V2 (XX XX) found unresponsive in apartment with multiple gunshot wounds by PD. ATF Firearm Examiner determined all bullets came from the same firearm collected at the scene per PD.Nothing further.Source: LE[SEP]  \n",
       "\n",
       "[4000 rows x 2 columns]"
      ]
     },
     "execution_count": 5,
     "metadata": {},
     "output_type": "execute_result"
    }
   ],
   "source": [
    "rsts = []\n",
    "ds_iter = iter(ds)\n",
    "for i in tqdm(range(len(ds))):\n",
    "    batch = next(ds_iter)\n",
    "    # input_ids = [id for id in batch['input_ids'] if id!=151648]\n",
    "    text = tokenizer.decode(batch['input_ids'])\n",
    "   \n",
    "    rsts.append([batch['uid'], text])\n",
    "df = pd.DataFrame(rsts, columns=[\"uid\",  \"text\"])\n",
    "df"
   ]
  },
  {
   "cell_type": "code",
   "execution_count": null,
   "metadata": {},
   "outputs": [],
   "source": []
  },
  {
   "cell_type": "code",
   "execution_count": 18,
   "metadata": {},
   "outputs": [
    {
     "data": {
      "text/plain": [
       "'_CONTEXT><IMG_CONTEXT><IMG_CONTEXT><IMG_CONTEXT><IMG_CONTEXT><IMG_CONTEXT><IMG_CONTEXT></img>output[[707000707][707000707][770000770][707000707][707000707][770000770][707707000][707707000][770770000]]'"
      ]
     },
     "execution_count": 18,
     "metadata": {},
     "output_type": "execute_result"
    }
   ],
   "source": [
    "df.text.iloc[0][-200:]"
   ]
  },
  {
   "cell_type": "code",
   "execution_count": 31,
   "metadata": {},
   "outputs": [
    {
     "data": {
      "text/html": [
       "<div>\n",
       "<style scoped>\n",
       "    .dataframe tbody tr th:only-of-type {\n",
       "        vertical-align: middle;\n",
       "    }\n",
       "\n",
       "    .dataframe tbody tr th {\n",
       "        vertical-align: top;\n",
       "    }\n",
       "\n",
       "    .dataframe thead th {\n",
       "        text-align: right;\n",
       "    }\n",
       "</style>\n",
       "<table border=\"1\" class=\"dataframe\">\n",
       "  <thead>\n",
       "    <tr style=\"text-align: right;\">\n",
       "      <th></th>\n",
       "      <th>id</th>\n",
       "      <th>task</th>\n",
       "      <th>text</th>\n",
       "    </tr>\n",
       "  </thead>\n",
       "  <tbody>\n",
       "    <tr>\n",
       "      <th>2</th>\n",
       "      <td>2</td>\n",
       "      <td>007bbfb7</td>\n",
       "      <td>\\npython\\nfrom utils import *\\nfrom dsl import *\\nfrom random import seed as set_seed\\nset_seed(780605261)\\ncols = interval(1, 10, 1)\\nh = unifint(diff_lb, diff_ub, (2, 5))#removeme\\nh = 2\\nw = unifint(diff_lb, diff_ub, (2, 5))#removeme\\nw = 5\\nc = canvas(0, (h, w))\\nnumcd = unifint(diff_lb, diff_ub, (0, (h * w) // 2))#removeme\\nnumcd = 2\\nnumc = choice((numcd, h * w - numcd))#removeme\\nnumc = 8\\nnumc = min(max(1, numc), h * w - 1)\\ninds = totuple(asindices(c))\\nlocs = sample(inds, numc)#removeme\\nlocs = [(0, 2), (0, 4), (1, 2), (0, 0), (1, 4), (0, 3), (1, 0), (1, 1)]\\nfgc = choice(cols)#removeme\\nfgc = 6\\ngi = fill(c, fgc, locs)\\ngo = canvas(0, (h**2, w**2))\\nfor loc in locs:\\n    go = fill(go, fgc, shift(locs, multiply(loc, (h, w))))\\n\\noutput[[6066600000606666066660666][6660600000666066660666606][6066660666606660000060666][6660666606666060000066606]]</td>\n",
       "    </tr>\n",
       "    <tr>\n",
       "      <th>6</th>\n",
       "      <td>6</td>\n",
       "      <td>007bbfb7</td>\n",
       "      <td>\\npython\\nfrom utils import *\\nfrom dsl import *\\nfrom random import seed as set_seed\\nset_seed(466475820)\\ncols = interval(1, 10, 1)\\nh = unifint(diff_lb, diff_ub, (2, 5))#removeme\\nh = 2\\nw = unifint(diff_lb, diff_ub, (2, 5))#removeme\\nw = 2\\nc = canvas(0, (h, w))\\nnumcd = unifint(diff_lb, diff_ub, (0, (h * w) // 2))#removeme\\nnumcd = 2\\nnumc = choice((numcd, h * w - numcd))#removeme\\nnumc = 2\\nnumc = min(max(1, numc), h * w - 1)\\ninds = totuple(asindices(c))\\nlocs = sample(inds, numc)#removeme\\nlocs = [(0, 1), (1, 0)]\\nfgc = choice(cols)#removeme\\nfgc = 8\\ngi = fill(c, fgc, locs)\\ngo = canvas(0, (h**2, w**2))\\nfor loc in locs:\\n    go = fill(go, fgc, shift(locs, multiply(loc, (h, w))))\\n\\noutput[[0008][0080][0800][8000]]</td>\n",
       "    </tr>\n",
       "    <tr>\n",
       "      <th>11</th>\n",
       "      <td>11</td>\n",
       "      <td>007bbfb7</td>\n",
       "      <td>\\npython\\nfrom utils import *\\nfrom dsl import *\\nfrom random import seed as set_seed\\nset_seed(645980992)\\ncols = interval(1, 10, 1)\\nh = unifint(diff_lb, diff_ub, (2, 5))#removeme\\nh = 5\\nw = unifint(diff_lb, diff_ub, (2, 5))#removeme\\nw = 2\\nc = canvas(0, (h, w))\\nnumcd = unifint(diff_lb, diff_ub, (0, (h * w) // 2))#removeme\\nnumcd = 4\\nnumc = choice((numcd, h * w - numcd))#removeme\\nnumc = 6\\nnumc = min(max(1, numc), h * w - 1)\\ninds = totuple(asindices(c))\\nlocs = sample(inds, numc)#removeme\\nlocs = [(3, 1), (2, 1), (4, 0), (4, 1), (1, 0), (0, 1)]\\nfgc = choice(cols)#removeme\\nfgc = 5\\ngi = fill(c, fgc, locs)\\ngo = canvas(0, (h**2, w**2))\\nfor loc in locs:\\n    go = fill(go, fgc, shift(locs, multiply(loc, (h, w))))\\n\\noutput[[0005][0050][0005][0005][0055][0500][5000][0500][0500][5500][0005][0050][0005][0005][0055][0005][0050][0005][0005][0055][0505][5050][0505][0505][5555]]</td>\n",
       "    </tr>\n",
       "    <tr>\n",
       "      <th>16</th>\n",
       "      <td>16</td>\n",
       "      <td>00d62c1b</td>\n",
       "      <td>\\npython\\nfrom utils import *\\nfrom dsl import *\\nfrom random import seed as set_seed\\nset_seed(559356030)\\ncols = remove(4, interval(0, 10, 1))\\nh = unifint(diff_lb, diff_ub, (5, 30))#removeme\\nh = 17\\nw = unifint(diff_lb, diff_ub, (5, 30))#removeme\\nw = 18\\nbgc, fgc = sample(cols, 2)#removeme\\nbgc, fgc = 8, 5\\ngi = canvas(bgc, (h, w))\\nnblocks = unifint(diff_lb, diff_ub, (1, (h * w) // 20))#removeme\\nnblocks = 13\\nsucc = 0\\ntr = 0\\nmaxtr = 5 * nblocks\\ninds = asindices(gi)\\nwhile succ &lt; nblocks and tr &lt; maxtr:\\n    tr += 1\\n    oh = randint(3, 8)\\n    ow = randint(3, 8)\\n    cands = sfilter(inds, lambda ij: ij[0] &lt;= h - oh and ij[1] &lt;= w - ow)\\n    if len(cands) == 0:\\n        continue\\n    loc = choice(totuple(cands))\\n    loci, locj = loc\\n    bx = box(frozenset({(loci, locj), (loci + oh - 1, locj + ow - 1)}))\\n    bx = bx - set(sample(totuple(corners(bx)), randint(0, 4)))\\n    if bx.issubset(inds) and len(inds - bx) &gt; (h * w) // 2 + 1:\\n        gi = fill(gi, fgc, bx)\\n        ...</td>\n",
       "    </tr>\n",
       "    <tr>\n",
       "      <th>18</th>\n",
       "      <td>18</td>\n",
       "      <td>00d62c1b</td>\n",
       "      <td>\\npython\\nfrom utils import *\\nfrom dsl import *\\nfrom random import seed as set_seed\\nset_seed(853199386)\\ncols = remove(4, interval(0, 10, 1))\\nh = unifint(diff_lb, diff_ub, (5, 30))#removeme\\nh = 28\\nw = unifint(diff_lb, diff_ub, (5, 30))#removeme\\nw = 23\\nbgc, fgc = sample(cols, 2)#removeme\\nbgc, fgc = 5, 3\\ngi = canvas(bgc, (h, w))\\nnblocks = unifint(diff_lb, diff_ub, (1, (h * w) // 20))#removeme\\nnblocks = 7\\nsucc = 0\\ntr = 0\\nmaxtr = 5 * nblocks\\ninds = asindices(gi)\\nwhile succ &lt; nblocks and tr &lt; maxtr:\\n    tr += 1\\n    oh = randint(3, 8)\\n    ow = randint(3, 8)\\n    cands = sfilter(inds, lambda ij: ij[0] &lt;= h - oh and ij[1] &lt;= w - ow)\\n    if len(cands) == 0:\\n        continue\\n    loc = choice(totuple(cands))\\n    loci, locj = loc\\n    bx = box(frozenset({(loci, locj), (loci + oh - 1, locj + ow - 1)}))\\n    bx = bx - set(sample(totuple(corners(bx)), randint(0, 4)))\\n    if bx.issubset(inds) and len(inds - bx) &gt; (h * w) // 2 + 1:\\n        gi = fill(gi, fgc, bx)\\n        s...</td>\n",
       "    </tr>\n",
       "    <tr>\n",
       "      <th>...</th>\n",
       "      <td>...</td>\n",
       "      <td>...</td>\n",
       "      <td>...</td>\n",
       "    </tr>\n",
       "    <tr>\n",
       "      <th>4991</th>\n",
       "      <td>1555</td>\n",
       "      <td>77fdfe62</td>\n",
       "      <td>\\npython\\nfrom utils import *\\nfrom dsl import *\\nfrom random import seed as set_seed\\nset_seed(77922289)\\ncols = interval(0, 10, 1)\\nh = unifint(diff_lb, diff_ub, (1, 13))#removeme\\nh = 10\\nw = unifint(diff_lb, diff_ub, (1, 13))#removeme\\nw = 9\\nc1, c2, c3, c4, barc, bgc, inc = sample(cols, 7)#removeme\\nc1, c2, c3, c4, barc, bgc, inc = 4, 5, 1, 2, 6, 0, 8\\nqd = canvas(bgc, (h, w))\\ninds = totuple(asindices(qd))\\nfullh = 2 * h + 4\\nfullw = 2 * w + 4\\nn1 = unifint(diff_lb, diff_ub, (1, h * w))#removeme\\nn1 = 43\\nn2 = unifint(diff_lb, diff_ub, (1, h * w))#removeme\\nn2 = 6\\nn3 = unifint(diff_lb, diff_ub, (1, h * w))#removeme\\nn3 = 35\\nn4 = unifint(diff_lb, diff_ub, (1, h * w))#removeme\\nn4 = 56\\ni1 = sample(inds, n1)#removeme\\ni1 = [(7, 3), (6, 4), (3, 4), (0, 6), (1, 7), (0, 1), (7, 1), (5, 5), (4, 6), (7, 0), (4, 1), (3, 0), (1, 4), (9, 0), (9, 6), (5, 1), (5, 8), (3, 8), (9, 3), (8, 4), (2, 2), (1, 8), (6, 8), (4, 3), (8, 8), (3, 5), (5, 2), (5, 3), (5, 4), (1, 3), (6, 0), (0, 7), ...</td>\n",
       "    </tr>\n",
       "    <tr>\n",
       "      <th>4993</th>\n",
       "      <td>1557</td>\n",
       "      <td>77fdfe62</td>\n",
       "      <td>\\npython\\nfrom utils import *\\nfrom dsl import *\\nfrom random import seed as set_seed\\nset_seed(655198870)\\ncols = interval(0, 10, 1)\\nh = unifint(diff_lb, diff_ub, (1, 13))#removeme\\nh = 12\\nw = unifint(diff_lb, diff_ub, (1, 13))#removeme\\nw = 10\\nc1, c2, c3, c4, barc, bgc, inc = sample(cols, 7)#removeme\\nc1, c2, c3, c4, barc, bgc, inc = 3, 7, 8, 0, 1, 4, 2\\nqd = canvas(bgc, (h, w))\\ninds = totuple(asindices(qd))\\nfullh = 2 * h + 4\\nfullw = 2 * w + 4\\nn1 = unifint(diff_lb, diff_ub, (1, h * w))#removeme\\nn1 = 73\\nn2 = unifint(diff_lb, diff_ub, (1, h * w))#removeme\\nn2 = 36\\nn3 = unifint(diff_lb, diff_ub, (1, h * w))#removeme\\nn3 = 53\\nn4 = unifint(diff_lb, diff_ub, (1, h * w))#removeme\\nn4 = 18\\ni1 = sample(inds, n1)#removeme\\ni1 = [(9, 2), (6, 8), (11, 0), (5, 7), (9, 3), (7, 7), (2, 6), (10, 7), (3, 8), (4, 6), (5, 1), (0, 8), (5, 5), (8, 5), (4, 8), (4, 5), (8, 7), (2, 0), (2, 9), (4, 7), (0, 1), (11, 8), (3, 5), (9, 0), (0, 9), (8, 1), (5, 9), (10, 8), (0, 5), (7, 9), (8, 9), (...</td>\n",
       "    </tr>\n",
       "    <tr>\n",
       "      <th>4994</th>\n",
       "      <td>1558</td>\n",
       "      <td>77fdfe62</td>\n",
       "      <td>\\npython\\nfrom utils import *\\nfrom dsl import *\\nfrom random import seed as set_seed\\nset_seed(186261608)\\ncols = interval(0, 10, 1)\\nh = unifint(diff_lb, diff_ub, (1, 13))#removeme\\nh = 2\\nw = unifint(diff_lb, diff_ub, (1, 13))#removeme\\nw = 8\\nc1, c2, c3, c4, barc, bgc, inc = sample(cols, 7)#removeme\\nc1, c2, c3, c4, barc, bgc, inc = 5, 3, 7, 2, 9, 0, 4\\nqd = canvas(bgc, (h, w))\\ninds = totuple(asindices(qd))\\nfullh = 2 * h + 4\\nfullw = 2 * w + 4\\nn1 = unifint(diff_lb, diff_ub, (1, h * w))#removeme\\nn1 = 2\\nn2 = unifint(diff_lb, diff_ub, (1, h * w))#removeme\\nn2 = 13\\nn3 = unifint(diff_lb, diff_ub, (1, h * w))#removeme\\nn3 = 6\\nn4 = unifint(diff_lb, diff_ub, (1, h * w))#removeme\\nn4 = 11\\ni1 = sample(inds, n1)#removeme\\ni1 = [(0, 6), (1, 7)]\\ni2 = sample(inds, n2)#removeme\\ni2 = [(1, 2), (0, 0), (1, 7), (0, 6), (1, 3), (0, 3), (1, 6), (1, 1), (0, 2), (1, 5), (0, 7), (0, 5), (1, 0)]\\ni3 = sample(inds, n3)#removeme\\ni3 = [(0, 0), (0, 4), (0, 7), (1, 2), (1, 5), (1, 4)]\\ni4 = sampl...</td>\n",
       "    </tr>\n",
       "    <tr>\n",
       "      <th>4996</th>\n",
       "      <td>1560</td>\n",
       "      <td>780d0b14</td>\n",
       "      <td>\\npython\\nfrom utils import *\\nfrom dsl import *\\nfrom random import seed as set_seed\\nset_seed(707918055)\\ncols = interval(0, 10, 1)\\nnh = unifint(diff_lb, diff_ub, (2, 6))#removeme\\nnh = 3\\nnw = unifint(diff_lb, diff_ub, (2, 6))#removeme\\nnw = 5\\nbgc = choice(cols)#removeme\\nbgc = 8\\nremcols = remove(bgc, cols)\\nncols = unifint(diff_lb, diff_ub, (3, 9))#removeme\\nncols = 6\\nccols = sample(remcols, ncols)#removeme\\nccols = [3, 0, 7, 5, 6, 4]\\ngo = canvas(-1, (nh, nw))\\nobj = {(choice(ccols), ij) for ij in asindices(go)}\\ngo = paint(go, obj)\\nwhile len(dedupe(go)) &lt; nh or len(dedupe(dmirror(go))) &lt; nw:\\n    obj = {(choice(ccols), ij) for ij in asindices(go)}\\n    go = paint(go, obj)\\nh = unifint(diff_lb, diff_ub, (2*nh+nh-1, 30))#removeme\\nh = 11\\nw = unifint(diff_lb, diff_ub, (2*nw+nw-1, 30))#removeme\\nw = 16\\nhdist = [2 for k in range(nh)]\\nfor k in range(h - 2 * nh - nh + 1):\\n    idx = randint(0, nh - 1)\\n    hdist[idx] += 1\\nwdist = [2 for k in range(nw)]\\nfor k in range(w - 2...</td>\n",
       "    </tr>\n",
       "    <tr>\n",
       "      <th>4999</th>\n",
       "      <td>1563</td>\n",
       "      <td>780d0b14</td>\n",
       "      <td>\\npython\\nfrom utils import *\\nfrom dsl import *\\nfrom random import seed as set_seed\\nset_seed(476697862)\\ncols = interval(0, 10, 1)\\nnh = unifint(diff_lb, diff_ub, (2, 6))#removeme\\nnh = 2\\nnw = unifint(diff_lb, diff_ub, (2, 6))#removeme\\nnw = 4\\nbgc = choice(cols)#removeme\\nbgc = 9\\nremcols = remove(bgc, cols)\\nncols = unifint(diff_lb, diff_ub, (3, 9))#removeme\\nncols = 6\\nccols = sample(remcols, ncols)#removeme\\nccols = [8, 4, 0, 7, 3, 6]\\ngo = canvas(-1, (nh, nw))\\nobj = {(choice(ccols), ij) for ij in asindices(go)}\\ngo = paint(go, obj)\\nwhile len(dedupe(go)) &lt; nh or len(dedupe(dmirror(go))) &lt; nw:\\n    obj = {(choice(ccols), ij) for ij in asindices(go)}\\n    go = paint(go, obj)\\nh = unifint(diff_lb, diff_ub, (2*nh+nh-1, 30))#removeme\\nh = 18\\nw = unifint(diff_lb, diff_ub, (2*nw+nw-1, 30))#removeme\\nw = 22\\nhdist = [2 for k in range(nh)]\\nfor k in range(h - 2 * nh - nh + 1):\\n    idx = randint(0, nh - 1)\\n    hdist[idx] += 1\\nwdist = [2 for k in range(nw)]\\nfor k in range(w - 2...</td>\n",
       "    </tr>\n",
       "  </tbody>\n",
       "</table>\n",
       "<p>1260 rows × 3 columns</p>\n",
       "</div>"
      ],
      "text/plain": [
       "        id      task  \\\n",
       "2        2  007bbfb7   \n",
       "6        6  007bbfb7   \n",
       "11      11  007bbfb7   \n",
       "16      16  00d62c1b   \n",
       "18      18  00d62c1b   \n",
       "...    ...       ...   \n",
       "4991  1555  77fdfe62   \n",
       "4993  1557  77fdfe62   \n",
       "4994  1558  77fdfe62   \n",
       "4996  1560  780d0b14   \n",
       "4999  1563  780d0b14   \n",
       "\n",
       "                                                                                                                                                                                                                                                                                                                                                                                                                                                                                                                                                                                                                                                                                                                                                                                                                                                                                                                                                                                                                                         text  \n",
       "2                                                                                                                                           \\npython\\nfrom utils import *\\nfrom dsl import *\\nfrom random import seed as set_seed\\nset_seed(780605261)\\ncols = interval(1, 10, 1)\\nh = unifint(diff_lb, diff_ub, (2, 5))#removeme\\nh = 2\\nw = unifint(diff_lb, diff_ub, (2, 5))#removeme\\nw = 5\\nc = canvas(0, (h, w))\\nnumcd = unifint(diff_lb, diff_ub, (0, (h * w) // 2))#removeme\\nnumcd = 2\\nnumc = choice((numcd, h * w - numcd))#removeme\\nnumc = 8\\nnumc = min(max(1, numc), h * w - 1)\\ninds = totuple(asindices(c))\\nlocs = sample(inds, numc)#removeme\\nlocs = [(0, 2), (0, 4), (1, 2), (0, 0), (1, 4), (0, 3), (1, 0), (1, 1)]\\nfgc = choice(cols)#removeme\\nfgc = 6\\ngi = fill(c, fgc, locs)\\ngo = canvas(0, (h**2, w**2))\\nfor loc in locs:\\n    go = fill(go, fgc, shift(locs, multiply(loc, (h, w))))\\n\\noutput[[6066600000606666066660666][6660600000666066660666606][6066660666606660000060666][6660666606666060000066606]]  \n",
       "6                                                                                                                                                                                                                                                                               \\npython\\nfrom utils import *\\nfrom dsl import *\\nfrom random import seed as set_seed\\nset_seed(466475820)\\ncols = interval(1, 10, 1)\\nh = unifint(diff_lb, diff_ub, (2, 5))#removeme\\nh = 2\\nw = unifint(diff_lb, diff_ub, (2, 5))#removeme\\nw = 2\\nc = canvas(0, (h, w))\\nnumcd = unifint(diff_lb, diff_ub, (0, (h * w) // 2))#removeme\\nnumcd = 2\\nnumc = choice((numcd, h * w - numcd))#removeme\\nnumc = 2\\nnumc = min(max(1, numc), h * w - 1)\\ninds = totuple(asindices(c))\\nlocs = sample(inds, numc)#removeme\\nlocs = [(0, 1), (1, 0)]\\nfgc = choice(cols)#removeme\\nfgc = 8\\ngi = fill(c, fgc, locs)\\ngo = canvas(0, (h**2, w**2))\\nfor loc in locs:\\n    go = fill(go, fgc, shift(locs, multiply(loc, (h, w))))\\n\\noutput[[0008][0080][0800][8000]]  \n",
       "11                                                                                                                \\npython\\nfrom utils import *\\nfrom dsl import *\\nfrom random import seed as set_seed\\nset_seed(645980992)\\ncols = interval(1, 10, 1)\\nh = unifint(diff_lb, diff_ub, (2, 5))#removeme\\nh = 5\\nw = unifint(diff_lb, diff_ub, (2, 5))#removeme\\nw = 2\\nc = canvas(0, (h, w))\\nnumcd = unifint(diff_lb, diff_ub, (0, (h * w) // 2))#removeme\\nnumcd = 4\\nnumc = choice((numcd, h * w - numcd))#removeme\\nnumc = 6\\nnumc = min(max(1, numc), h * w - 1)\\ninds = totuple(asindices(c))\\nlocs = sample(inds, numc)#removeme\\nlocs = [(3, 1), (2, 1), (4, 0), (4, 1), (1, 0), (0, 1)]\\nfgc = choice(cols)#removeme\\nfgc = 5\\ngi = fill(c, fgc, locs)\\ngo = canvas(0, (h**2, w**2))\\nfor loc in locs:\\n    go = fill(go, fgc, shift(locs, multiply(loc, (h, w))))\\n\\noutput[[0005][0050][0005][0005][0055][0500][5000][0500][0500][5500][0005][0050][0005][0005][0055][0005][0050][0005][0005][0055][0505][5050][0505][0505][5555]]  \n",
       "16    \\npython\\nfrom utils import *\\nfrom dsl import *\\nfrom random import seed as set_seed\\nset_seed(559356030)\\ncols = remove(4, interval(0, 10, 1))\\nh = unifint(diff_lb, diff_ub, (5, 30))#removeme\\nh = 17\\nw = unifint(diff_lb, diff_ub, (5, 30))#removeme\\nw = 18\\nbgc, fgc = sample(cols, 2)#removeme\\nbgc, fgc = 8, 5\\ngi = canvas(bgc, (h, w))\\nnblocks = unifint(diff_lb, diff_ub, (1, (h * w) // 20))#removeme\\nnblocks = 13\\nsucc = 0\\ntr = 0\\nmaxtr = 5 * nblocks\\ninds = asindices(gi)\\nwhile succ < nblocks and tr < maxtr:\\n    tr += 1\\n    oh = randint(3, 8)\\n    ow = randint(3, 8)\\n    cands = sfilter(inds, lambda ij: ij[0] <= h - oh and ij[1] <= w - ow)\\n    if len(cands) == 0:\\n        continue\\n    loc = choice(totuple(cands))\\n    loci, locj = loc\\n    bx = box(frozenset({(loci, locj), (loci + oh - 1, locj + ow - 1)}))\\n    bx = bx - set(sample(totuple(corners(bx)), randint(0, 4)))\\n    if bx.issubset(inds) and len(inds - bx) > (h * w) // 2 + 1:\\n        gi = fill(gi, fgc, bx)\\n        ...  \n",
       "18    \\npython\\nfrom utils import *\\nfrom dsl import *\\nfrom random import seed as set_seed\\nset_seed(853199386)\\ncols = remove(4, interval(0, 10, 1))\\nh = unifint(diff_lb, diff_ub, (5, 30))#removeme\\nh = 28\\nw = unifint(diff_lb, diff_ub, (5, 30))#removeme\\nw = 23\\nbgc, fgc = sample(cols, 2)#removeme\\nbgc, fgc = 5, 3\\ngi = canvas(bgc, (h, w))\\nnblocks = unifint(diff_lb, diff_ub, (1, (h * w) // 20))#removeme\\nnblocks = 7\\nsucc = 0\\ntr = 0\\nmaxtr = 5 * nblocks\\ninds = asindices(gi)\\nwhile succ < nblocks and tr < maxtr:\\n    tr += 1\\n    oh = randint(3, 8)\\n    ow = randint(3, 8)\\n    cands = sfilter(inds, lambda ij: ij[0] <= h - oh and ij[1] <= w - ow)\\n    if len(cands) == 0:\\n        continue\\n    loc = choice(totuple(cands))\\n    loci, locj = loc\\n    bx = box(frozenset({(loci, locj), (loci + oh - 1, locj + ow - 1)}))\\n    bx = bx - set(sample(totuple(corners(bx)), randint(0, 4)))\\n    if bx.issubset(inds) and len(inds - bx) > (h * w) // 2 + 1:\\n        gi = fill(gi, fgc, bx)\\n        s...  \n",
       "...                                                                                                                                                                                                                                                                                                                                                                                                                                                                                                                                                                                                                                                                                                                                                                                                                                                                                                                                                                                                                                       ...  \n",
       "4991  \\npython\\nfrom utils import *\\nfrom dsl import *\\nfrom random import seed as set_seed\\nset_seed(77922289)\\ncols = interval(0, 10, 1)\\nh = unifint(diff_lb, diff_ub, (1, 13))#removeme\\nh = 10\\nw = unifint(diff_lb, diff_ub, (1, 13))#removeme\\nw = 9\\nc1, c2, c3, c4, barc, bgc, inc = sample(cols, 7)#removeme\\nc1, c2, c3, c4, barc, bgc, inc = 4, 5, 1, 2, 6, 0, 8\\nqd = canvas(bgc, (h, w))\\ninds = totuple(asindices(qd))\\nfullh = 2 * h + 4\\nfullw = 2 * w + 4\\nn1 = unifint(diff_lb, diff_ub, (1, h * w))#removeme\\nn1 = 43\\nn2 = unifint(diff_lb, diff_ub, (1, h * w))#removeme\\nn2 = 6\\nn3 = unifint(diff_lb, diff_ub, (1, h * w))#removeme\\nn3 = 35\\nn4 = unifint(diff_lb, diff_ub, (1, h * w))#removeme\\nn4 = 56\\ni1 = sample(inds, n1)#removeme\\ni1 = [(7, 3), (6, 4), (3, 4), (0, 6), (1, 7), (0, 1), (7, 1), (5, 5), (4, 6), (7, 0), (4, 1), (3, 0), (1, 4), (9, 0), (9, 6), (5, 1), (5, 8), (3, 8), (9, 3), (8, 4), (2, 2), (1, 8), (6, 8), (4, 3), (8, 8), (3, 5), (5, 2), (5, 3), (5, 4), (1, 3), (6, 0), (0, 7), ...  \n",
       "4993  \\npython\\nfrom utils import *\\nfrom dsl import *\\nfrom random import seed as set_seed\\nset_seed(655198870)\\ncols = interval(0, 10, 1)\\nh = unifint(diff_lb, diff_ub, (1, 13))#removeme\\nh = 12\\nw = unifint(diff_lb, diff_ub, (1, 13))#removeme\\nw = 10\\nc1, c2, c3, c4, barc, bgc, inc = sample(cols, 7)#removeme\\nc1, c2, c3, c4, barc, bgc, inc = 3, 7, 8, 0, 1, 4, 2\\nqd = canvas(bgc, (h, w))\\ninds = totuple(asindices(qd))\\nfullh = 2 * h + 4\\nfullw = 2 * w + 4\\nn1 = unifint(diff_lb, diff_ub, (1, h * w))#removeme\\nn1 = 73\\nn2 = unifint(diff_lb, diff_ub, (1, h * w))#removeme\\nn2 = 36\\nn3 = unifint(diff_lb, diff_ub, (1, h * w))#removeme\\nn3 = 53\\nn4 = unifint(diff_lb, diff_ub, (1, h * w))#removeme\\nn4 = 18\\ni1 = sample(inds, n1)#removeme\\ni1 = [(9, 2), (6, 8), (11, 0), (5, 7), (9, 3), (7, 7), (2, 6), (10, 7), (3, 8), (4, 6), (5, 1), (0, 8), (5, 5), (8, 5), (4, 8), (4, 5), (8, 7), (2, 0), (2, 9), (4, 7), (0, 1), (11, 8), (3, 5), (9, 0), (0, 9), (8, 1), (5, 9), (10, 8), (0, 5), (7, 9), (8, 9), (...  \n",
       "4994  \\npython\\nfrom utils import *\\nfrom dsl import *\\nfrom random import seed as set_seed\\nset_seed(186261608)\\ncols = interval(0, 10, 1)\\nh = unifint(diff_lb, diff_ub, (1, 13))#removeme\\nh = 2\\nw = unifint(diff_lb, diff_ub, (1, 13))#removeme\\nw = 8\\nc1, c2, c3, c4, barc, bgc, inc = sample(cols, 7)#removeme\\nc1, c2, c3, c4, barc, bgc, inc = 5, 3, 7, 2, 9, 0, 4\\nqd = canvas(bgc, (h, w))\\ninds = totuple(asindices(qd))\\nfullh = 2 * h + 4\\nfullw = 2 * w + 4\\nn1 = unifint(diff_lb, diff_ub, (1, h * w))#removeme\\nn1 = 2\\nn2 = unifint(diff_lb, diff_ub, (1, h * w))#removeme\\nn2 = 13\\nn3 = unifint(diff_lb, diff_ub, (1, h * w))#removeme\\nn3 = 6\\nn4 = unifint(diff_lb, diff_ub, (1, h * w))#removeme\\nn4 = 11\\ni1 = sample(inds, n1)#removeme\\ni1 = [(0, 6), (1, 7)]\\ni2 = sample(inds, n2)#removeme\\ni2 = [(1, 2), (0, 0), (1, 7), (0, 6), (1, 3), (0, 3), (1, 6), (1, 1), (0, 2), (1, 5), (0, 7), (0, 5), (1, 0)]\\ni3 = sample(inds, n3)#removeme\\ni3 = [(0, 0), (0, 4), (0, 7), (1, 2), (1, 5), (1, 4)]\\ni4 = sampl...  \n",
       "4996  \\npython\\nfrom utils import *\\nfrom dsl import *\\nfrom random import seed as set_seed\\nset_seed(707918055)\\ncols = interval(0, 10, 1)\\nnh = unifint(diff_lb, diff_ub, (2, 6))#removeme\\nnh = 3\\nnw = unifint(diff_lb, diff_ub, (2, 6))#removeme\\nnw = 5\\nbgc = choice(cols)#removeme\\nbgc = 8\\nremcols = remove(bgc, cols)\\nncols = unifint(diff_lb, diff_ub, (3, 9))#removeme\\nncols = 6\\nccols = sample(remcols, ncols)#removeme\\nccols = [3, 0, 7, 5, 6, 4]\\ngo = canvas(-1, (nh, nw))\\nobj = {(choice(ccols), ij) for ij in asindices(go)}\\ngo = paint(go, obj)\\nwhile len(dedupe(go)) < nh or len(dedupe(dmirror(go))) < nw:\\n    obj = {(choice(ccols), ij) for ij in asindices(go)}\\n    go = paint(go, obj)\\nh = unifint(diff_lb, diff_ub, (2*nh+nh-1, 30))#removeme\\nh = 11\\nw = unifint(diff_lb, diff_ub, (2*nw+nw-1, 30))#removeme\\nw = 16\\nhdist = [2 for k in range(nh)]\\nfor k in range(h - 2 * nh - nh + 1):\\n    idx = randint(0, nh - 1)\\n    hdist[idx] += 1\\nwdist = [2 for k in range(nw)]\\nfor k in range(w - 2...  \n",
       "4999  \\npython\\nfrom utils import *\\nfrom dsl import *\\nfrom random import seed as set_seed\\nset_seed(476697862)\\ncols = interval(0, 10, 1)\\nnh = unifint(diff_lb, diff_ub, (2, 6))#removeme\\nnh = 2\\nnw = unifint(diff_lb, diff_ub, (2, 6))#removeme\\nnw = 4\\nbgc = choice(cols)#removeme\\nbgc = 9\\nremcols = remove(bgc, cols)\\nncols = unifint(diff_lb, diff_ub, (3, 9))#removeme\\nncols = 6\\nccols = sample(remcols, ncols)#removeme\\nccols = [8, 4, 0, 7, 3, 6]\\ngo = canvas(-1, (nh, nw))\\nobj = {(choice(ccols), ij) for ij in asindices(go)}\\ngo = paint(go, obj)\\nwhile len(dedupe(go)) < nh or len(dedupe(dmirror(go))) < nw:\\n    obj = {(choice(ccols), ij) for ij in asindices(go)}\\n    go = paint(go, obj)\\nh = unifint(diff_lb, diff_ub, (2*nh+nh-1, 30))#removeme\\nh = 18\\nw = unifint(diff_lb, diff_ub, (2*nw+nw-1, 30))#removeme\\nw = 22\\nhdist = [2 for k in range(nh)]\\nfor k in range(h - 2 * nh - nh + 1):\\n    idx = randint(0, nh - 1)\\n    hdist[idx] += 1\\nwdist = [2 for k in range(nw)]\\nfor k in range(w - 2...  \n",
       "\n",
       "[1260 rows x 3 columns]"
      ]
     },
     "execution_count": 31,
     "metadata": {},
     "output_type": "execute_result"
    }
   ],
   "source": [
    "df[df.text.str.startswith('\\npython')]"
   ]
  },
  {
   "cell_type": "code",
   "execution_count": 29,
   "metadata": {},
   "outputs": [
    {
     "name": "stdout",
     "output_type": "stream",
     "text": [
      "input[[331133][311113][311113][313313][133331]]\n",
      "python\n",
      "x0 = double(TEN)\n",
      "x1 = interval(ZERO, x0, ONE)\n",
      "x2 = connect(ORIGIN, DOWN)\n",
      "x3 = connect(ORIGIN, ZERO_BY_TWO)\n",
      "x4 = combine(x2, x3)\n",
      "x5 = astuple(NEG_TWO, TWO)\n",
      "x6 = lbind(multiply, x5)\n",
      "x7 = toivec(NEG_TWO)\n",
      "x8 = apply(x6, x1)\n",
      "x9 = rbind(subtract, TWO_BY_ZERO)\n",
      "x10 = fork(ofcolor, identity, leastcolor)\n",
      "x11 = chain(x9, center, x10)\n",
      "x12 = rbind(mapply, x8)\n",
      "x13 = lbind(lbind, shift)\n",
      "x14 = lbind(shift, x4)\n",
      "x15 = compose(x14, x11)\n",
      "x16 = chain(x12, x13, x15)\n",
      "x17 = lbind(recolor, FIVE)\n",
      "x18 = compose(x17, x16)\n",
      "x19 = fork(paint, identity, x18)\n",
      "x20 = compose(rot180, x19)\n",
      "x21 = fork(ofcolor, x20, leastcolor)\n",
      "x22 = compose(center, x21)\n",
      "x23 = fork(subtract, x22, x11)\n",
      "x24 = fork(shift, x16, x23)\n",
      "x25 = lbind(recolor, FIVE)\n",
      "x26 = rbind(shift, x7)\n",
      "x27 = chain(x25, x26, x24)\n",
      "x28 = fork(paint, x20, x27)\n",
      "x29 = compose(rot180, x28)\n",
      "x30 = rbind(ofcolor, FIVE)\n",
      "x31 = compose(x30, x29)\n",
      "x32 = leastcolor(I)\n",
      "x33 = ofcolor(I, x32)\n",
      "x34 = mostcolor(I)\n",
      "x35 = shape(I)\n",
      "x36 = canvas(x34, x35)\n",
      "x37 = lbind(paint, x36)\n",
      "x38 = lbind(recolor, x32)\n",
      "x39 = chain(x37, x38, initset)\n",
      "x40 = compose(x31, x39)\n",
      "x41 = mapply(x40, x33)\n",
      "x42 = fill(I, FIVE, x41)\n",
      "x43 = fill(x42, x32, x33)\n",
      "\n",
      "output of x43\n",
      "[[351155][311115][511115][515515][155551]]\n"
     ]
    }
   ],
   "source": [
    "print(df[df.id==1563].iloc[0].text)"
   ]
  },
  {
   "cell_type": "code",
   "execution_count": 20,
   "metadata": {},
   "outputs": [
    {
     "data": {
      "text/html": [
       "<div>\n",
       "<style scoped>\n",
       "    .dataframe tbody tr th:only-of-type {\n",
       "        vertical-align: middle;\n",
       "    }\n",
       "\n",
       "    .dataframe tbody tr th {\n",
       "        vertical-align: top;\n",
       "    }\n",
       "\n",
       "    .dataframe thead th {\n",
       "        text-align: right;\n",
       "    }\n",
       "</style>\n",
       "<table border=\"1\" class=\"dataframe\">\n",
       "  <thead>\n",
       "    <tr style=\"text-align: right;\">\n",
       "      <th></th>\n",
       "      <th>id</th>\n",
       "      <th>task</th>\n",
       "      <th>text</th>\n",
       "    </tr>\n",
       "  </thead>\n",
       "  <tbody>\n",
       "    <tr>\n",
       "      <th>0</th>\n",
       "      <td>0</td>\n",
       "      <td>007bbfb7</td>\n",
       "      <td>input[[4440444404444040000044404][4404444044440440000044044][4444444444444440000044444][0440404404044040000004404][4440444404000004440444404][4404444044000004404444044][4444444444000004444444444][0440404404000000440404404][4440444404444044440444404][4404444044440444404444044][4444444444444444444444444][0440404404044040440404404][0000044404444040000044404][0000044044440440000044044][0000044444444440000044444][0000004404044040000004404]]\\npython\\nx0 = objects(I, T, F, T)\\nx1 = rbind(greater, TWO)\\nx2 = chain(x1, minimum, shape)\\nx3 = fork(equality, toindices, box)\\nx4 = fork(both, x2, x3)\\nx5 = mfilter(x0, x4)\\nx6 = fill(I, THREE, x5)\\n\\noutput of x6\\n[[4440444404444040000044404][4404444044440440000044044][4444444444444440000044444][0440404404044040000004404][4440444404000004440444404][4404444044000004404444044][4444444444000004444444444][0440404404000000440404404][4440444404444044440444404][4404444044440444404444044][4444444444444444444444444][0440404404044040440404404][000004440444...</td>\n",
       "    </tr>\n",
       "    <tr>\n",
       "      <th>1</th>\n",
       "      <td>1</td>\n",
       "      <td>007bbfb7</td>\n",
       "      <td>input[[6006][6660][6660]]\\npython\\nfrom utils import *\\nfrom dsl import *\\nfrom random import seed as set_seed\\nset_seed(581116249)\\ncols = interval(1, 10, 1)\\nh = unifint(diff_lb, diff_ub, (2, 5))#removeme\\nh = 3\\nw = unifint(diff_lb, diff_ub, (2, 5))#removeme\\nw = 4\\nc = canvas(0, (h, w))\\nnumcd = unifint(diff_lb, diff_ub, (0, (h * w) // 2))#removeme\\nnumcd = 4\\nnumc = choice((numcd, h * w - numcd))#removeme\\nnumc = 8\\nnumc = min(max(1, numc), h * w - 1)\\ninds = totuple(asindices(c))\\nlocs = sample(inds, numc)#removeme\\nlocs = [(1, 1), (2, 0), (0, 0), (1, 2), (2, 1), (2, 2), (0, 3), (1, 0)]\\nfgc = choice(cols)#removeme\\nfgc = 6\\ngi = fill(c, fgc, locs)\\ngo = canvas(0, (h**2, w**2))\\nfor loc in locs:\\n    go = fill(go, fgc, shift(locs, multiply(loc, (h, w))))\\n\\n</td>\n",
       "    </tr>\n",
       "    <tr>\n",
       "      <th>2</th>\n",
       "      <td>2</td>\n",
       "      <td>007bbfb7</td>\n",
       "      <td>\\npython\\nfrom utils import *\\nfrom dsl import *\\nfrom random import seed as set_seed\\nset_seed(780605261)\\ncols = interval(1, 10, 1)\\nh = unifint(diff_lb, diff_ub, (2, 5))#removeme\\nh = 2\\nw = unifint(diff_lb, diff_ub, (2, 5))#removeme\\nw = 5\\nc = canvas(0, (h, w))\\nnumcd = unifint(diff_lb, diff_ub, (0, (h * w) // 2))#removeme\\nnumcd = 2\\nnumc = choice((numcd, h * w - numcd))#removeme\\nnumc = 8\\nnumc = min(max(1, numc), h * w - 1)\\ninds = totuple(asindices(c))\\nlocs = sample(inds, numc)#removeme\\nlocs = [(0, 2), (0, 4), (1, 2), (0, 0), (1, 4), (0, 3), (1, 0), (1, 1)]\\nfgc = choice(cols)#removeme\\nfgc = 6\\ngi = fill(c, fgc, locs)\\ngo = canvas(0, (h**2, w**2))\\nfor loc in locs:\\n    go = fill(go, fgc, shift(locs, multiply(loc, (h, w))))\\n\\noutput[[6066600000606666066660666][6660600000666066660666606][6066660666606660000060666][6660666606666060000066606]]</td>\n",
       "    </tr>\n",
       "    <tr>\n",
       "      <th>3</th>\n",
       "      <td>3</td>\n",
       "      <td>007bbfb7</td>\n",
       "      <td>input[[6006000000006006][6660000000006660][6660000000006660][6006600660060000][6660666066600000][6660666066600000][6006600660060000][6660666066600000][6660666066600000]]\\npython\\nx0 = fgpartition(I)\\nx1 = merge(x0)\\nx2 = height(x1)\\nx3 = height(I)\\nx4 = interval(ZERO, x3, x2)\\nx5 = lbind(shift, x1)\\nx6 = compose(x5, toivec)\\nx7 = compose(x6, invert)\\nx8 = fork(combine, x6, x7)\\nx9 = mapply(x8, x4)\\nx10 = paint(I, x9)\\n\\noutput of x10\\n[[6006000000006006][6660000000006660][6660000000006660][6006600660060000][6660666066600000][6660666066600000][6006600660060000][6660666066600000][6660666066600000]]</td>\n",
       "    </tr>\n",
       "    <tr>\n",
       "      <th>4</th>\n",
       "      <td>4</td>\n",
       "      <td>007bbfb7</td>\n",
       "      <td>input[[60666][66606]]\\npython\\nx0 = fgpartition(I)\\nx1 = merge(x0)\\nx2 = toindices(x1)\\nx3 = box(x2)\\nx4 = difference(x3, x2)\\nx5 = inbox(x2)\\nx6 = backdrop(x5)\\nx7 = lbind(position, x6)\\nx8 = compose(x7, initset)\\nx9 = lowermost(x6)\\nx10 = rightmost(x6)\\nx11 = uppermost(x6)\\nx12 = leftmost(x6)\\nx13 = rbind(greater, x9)\\nx14 = compose(x13, first)\\nx15 = lbind(greater, x11)\\nx16 = compose(x15, first)\\nx17 = rbind(greater, x10)\\nx18 = compose(x17, last)\\nx19 = lbind(greater, x12)\\nx20 = compose(x19, last)\\nx21 = compose(invert, x16)\\nx22 = fork(add, x14, x21)\\nx23 = compose(invert, x20)\\nx24 = fork(add, x18, x23)\\nx25 = fork(astuple, x22, x24)\\nx26 = fork(shoot, identity, x25)\\nx27 = mapply(x26, x4)\\nx28 = combine(x27, x6)\\nx29 = fill(I, EIGHT, x28)\\n\\noutput of x29\\n[[60888][88806]]</td>\n",
       "    </tr>\n",
       "    <tr>\n",
       "      <th>...</th>\n",
       "      <td>...</td>\n",
       "      <td>...</td>\n",
       "      <td>...</td>\n",
       "    </tr>\n",
       "    <tr>\n",
       "      <th>4995</th>\n",
       "      <td>1559</td>\n",
       "      <td>77fdfe62</td>\n",
       "      <td>input[[46052223243341177][46052223243341177][46052223243341177]]\\npython\\nx0 = mostcolor(I)\\nx1 = objects(I, T, F, T)\\nx2 = lbind(greater, THREE)\\nx3 = compose(x2, size)\\nx4 = sfilter(x1, x3)\\nx5 = mapply(toindices, x4)\\nx6 = fill(I, x0, x5)\\nx7 = objects(x6, T, F, T)\\nx8 = fork(recolor, color, backdrop)\\nx9 = mapply(x8, x7)\\nx10 = paint(x6, x9)\\n\\noutput of x10\\n[[46052223243341177][46052223243341177][46052223243341177]]</td>\n",
       "    </tr>\n",
       "    <tr>\n",
       "      <th>4996</th>\n",
       "      <td>1560</td>\n",
       "      <td>780d0b14</td>\n",
       "      <td>\\npython\\nfrom utils import *\\nfrom dsl import *\\nfrom random import seed as set_seed\\nset_seed(707918055)\\ncols = interval(0, 10, 1)\\nnh = unifint(diff_lb, diff_ub, (2, 6))#removeme\\nnh = 3\\nnw = unifint(diff_lb, diff_ub, (2, 6))#removeme\\nnw = 5\\nbgc = choice(cols)#removeme\\nbgc = 8\\nremcols = remove(bgc, cols)\\nncols = unifint(diff_lb, diff_ub, (3, 9))#removeme\\nncols = 6\\nccols = sample(remcols, ncols)#removeme\\nccols = [3, 0, 7, 5, 6, 4]\\ngo = canvas(-1, (nh, nw))\\nobj = {(choice(ccols), ij) for ij in asindices(go)}\\ngo = paint(go, obj)\\nwhile len(dedupe(go)) &lt; nh or len(dedupe(dmirror(go))) &lt; nw:\\n    obj = {(choice(ccols), ij) for ij in asindices(go)}\\n    go = paint(go, obj)\\nh = unifint(diff_lb, diff_ub, (2*nh+nh-1, 30))#removeme\\nh = 11\\nw = unifint(diff_lb, diff_ub, (2*nw+nw-1, 30))#removeme\\nw = 16\\nhdist = [2 for k in range(nh)]\\nfor k in range(h - 2 * nh - nh + 1):\\n    idx = randint(0, nh - 1)\\n    hdist[idx] += 1\\nwdist = [2 for k in range(nw)]\\nfor k in range(w - 2...</td>\n",
       "    </tr>\n",
       "    <tr>\n",
       "      <th>4997</th>\n",
       "      <td>1561</td>\n",
       "      <td>780d0b14</td>\n",
       "      <td>input[[22222200888555500][22222200888555500][22222200888555500][22222200888555500][22222200888555500][22222200888555500][22222200888555500][22222200888555500][22222200888555500][22222200888555500][22222200888555500][22222200888555500][22222200888555500][22222200888555500][22222200888555500][22222200888555500][22222200888555500][22222200888555500][22222200888555500][22222200888555500][22222200888555500][22222200888555500][22222200888555500][22222200888555500]]\\npython\\nx0 = lbind(compose, flip)\\nx1 = lbind(matcher, first)\\nx2 = compose(x0, x1)\\nx3 = rbind(compose, asobject)\\nx4 = lbind(rbind, sfilter)\\nx5 = chain(x3, x4, x2)\\nx6 = rbind(shift, ORIGIN)\\nx7 = compose(x6, dmirror)\\nx8 = rbind(shift, TWO_BY_TWO)\\nx9 = compose(x8, cmirror)\\nx10 = rbind(shift, TWO_BY_ZERO)\\nx11 = compose(x10, hmirror)\\nx12 = rbind(shift, ZERO_BY_TWO)\\nx13 = compose(x12, vmirror)\\nx14 = lbind(fork, paint)\\nx15 = lbind(x14, identity)\\nx16 = lbind(compose, x7)\\nx17 = chain(x15, x16, x5)\\nx18 = lbind(compose,...</td>\n",
       "    </tr>\n",
       "    <tr>\n",
       "      <th>4998</th>\n",
       "      <td>1562</td>\n",
       "      <td>780d0b14</td>\n",
       "      <td>output[[89428][99498]]\\npython\\nfrom utils import *\\nfrom dsl import *\\nfrom random import seed as set_seed\\nset_seed(445339951)\\ncols = interval(0, 10, 1)\\nnh = unifint(diff_lb, diff_ub, (2, 6))#removeme\\nnh = 2\\nnw = unifint(diff_lb, diff_ub, (2, 6))#removeme\\nnw = 5\\nbgc = choice(cols)#removeme\\nbgc = 7\\nremcols = remove(bgc, cols)\\nncols = unifint(diff_lb, diff_ub, (3, 9))#removeme\\nncols = 4\\nccols = sample(remcols, ncols)#removeme\\nccols = [4, 9, 8, 2]\\ngo = canvas(-1, (nh, nw))\\nobj = {(choice(ccols), ij) for ij in asindices(go)}\\ngo = paint(go, obj)\\nwhile len(dedupe(go)) &lt; nh or len(dedupe(dmirror(go))) &lt; nw:\\n    obj = {(choice(ccols), ij) for ij in asindices(go)}\\n    go = paint(go, obj)\\nh = unifint(diff_lb, diff_ub, (2*nh+nh-1, 30))#removeme\\nh = 18\\nw = unifint(diff_lb, diff_ub, (2*nw+nw-1, 30))#removeme\\nw = 17\\nhdist = [2 for k in range(nh)]\\nfor k in range(h - 2 * nh - nh + 1):\\n    idx = randint(0, nh - 1)\\n    hdist[idx] += 1\\nwdist = [2 for k in range(nw)]\\nfor ...</td>\n",
       "    </tr>\n",
       "    <tr>\n",
       "      <th>4999</th>\n",
       "      <td>1563</td>\n",
       "      <td>780d0b14</td>\n",
       "      <td>\\npython\\nfrom utils import *\\nfrom dsl import *\\nfrom random import seed as set_seed\\nset_seed(476697862)\\ncols = interval(0, 10, 1)\\nnh = unifint(diff_lb, diff_ub, (2, 6))#removeme\\nnh = 2\\nnw = unifint(diff_lb, diff_ub, (2, 6))#removeme\\nnw = 4\\nbgc = choice(cols)#removeme\\nbgc = 9\\nremcols = remove(bgc, cols)\\nncols = unifint(diff_lb, diff_ub, (3, 9))#removeme\\nncols = 6\\nccols = sample(remcols, ncols)#removeme\\nccols = [8, 4, 0, 7, 3, 6]\\ngo = canvas(-1, (nh, nw))\\nobj = {(choice(ccols), ij) for ij in asindices(go)}\\ngo = paint(go, obj)\\nwhile len(dedupe(go)) &lt; nh or len(dedupe(dmirror(go))) &lt; nw:\\n    obj = {(choice(ccols), ij) for ij in asindices(go)}\\n    go = paint(go, obj)\\nh = unifint(diff_lb, diff_ub, (2*nh+nh-1, 30))#removeme\\nh = 18\\nw = unifint(diff_lb, diff_ub, (2*nw+nw-1, 30))#removeme\\nw = 22\\nhdist = [2 for k in range(nh)]\\nfor k in range(h - 2 * nh - nh + 1):\\n    idx = randint(0, nh - 1)\\n    hdist[idx] += 1\\nwdist = [2 for k in range(nw)]\\nfor k in range(w - 2...</td>\n",
       "    </tr>\n",
       "  </tbody>\n",
       "</table>\n",
       "<p>5000 rows × 3 columns</p>\n",
       "</div>"
      ],
      "text/plain": [
       "        id      task  \\\n",
       "0        0  007bbfb7   \n",
       "1        1  007bbfb7   \n",
       "2        2  007bbfb7   \n",
       "3        3  007bbfb7   \n",
       "4        4  007bbfb7   \n",
       "...    ...       ...   \n",
       "4995  1559  77fdfe62   \n",
       "4996  1560  780d0b14   \n",
       "4997  1561  780d0b14   \n",
       "4998  1562  780d0b14   \n",
       "4999  1563  780d0b14   \n",
       "\n",
       "                                                                                                                                                                                                                                                                                                                                                                                                                                                                                                                                                                                                                                                                                                                                                                                                                                                                                                                                                                                                                                         text  \n",
       "0     input[[4440444404444040000044404][4404444044440440000044044][4444444444444440000044444][0440404404044040000004404][4440444404000004440444404][4404444044000004404444044][4444444444000004444444444][0440404404000000440404404][4440444404444044440444404][4404444044440444404444044][4444444444444444444444444][0440404404044040440404404][0000044404444040000044404][0000044044440440000044044][0000044444444440000044444][0000004404044040000004404]]\\npython\\nx0 = objects(I, T, F, T)\\nx1 = rbind(greater, TWO)\\nx2 = chain(x1, minimum, shape)\\nx3 = fork(equality, toindices, box)\\nx4 = fork(both, x2, x3)\\nx5 = mfilter(x0, x4)\\nx6 = fill(I, THREE, x5)\\n\\noutput of x6\\n[[4440444404444040000044404][4404444044440440000044044][4444444444444440000044444][0440404404044040000004404][4440444404000004440444404][4404444044000004404444044][4444444444000004444444444][0440404404000000440404404][4440444404444044440444404][4404444044440444404444044][4444444444444444444444444][0440404404044040440404404][000004440444...  \n",
       "1                                                                                                                                                                                                                                      input[[6006][6660][6660]]\\npython\\nfrom utils import *\\nfrom dsl import *\\nfrom random import seed as set_seed\\nset_seed(581116249)\\ncols = interval(1, 10, 1)\\nh = unifint(diff_lb, diff_ub, (2, 5))#removeme\\nh = 3\\nw = unifint(diff_lb, diff_ub, (2, 5))#removeme\\nw = 4\\nc = canvas(0, (h, w))\\nnumcd = unifint(diff_lb, diff_ub, (0, (h * w) // 2))#removeme\\nnumcd = 4\\nnumc = choice((numcd, h * w - numcd))#removeme\\nnumc = 8\\nnumc = min(max(1, numc), h * w - 1)\\ninds = totuple(asindices(c))\\nlocs = sample(inds, numc)#removeme\\nlocs = [(1, 1), (2, 0), (0, 0), (1, 2), (2, 1), (2, 2), (0, 3), (1, 0)]\\nfgc = choice(cols)#removeme\\nfgc = 6\\ngi = fill(c, fgc, locs)\\ngo = canvas(0, (h**2, w**2))\\nfor loc in locs:\\n    go = fill(go, fgc, shift(locs, multiply(loc, (h, w))))\\n\\n  \n",
       "2                                                                                                                                           \\npython\\nfrom utils import *\\nfrom dsl import *\\nfrom random import seed as set_seed\\nset_seed(780605261)\\ncols = interval(1, 10, 1)\\nh = unifint(diff_lb, diff_ub, (2, 5))#removeme\\nh = 2\\nw = unifint(diff_lb, diff_ub, (2, 5))#removeme\\nw = 5\\nc = canvas(0, (h, w))\\nnumcd = unifint(diff_lb, diff_ub, (0, (h * w) // 2))#removeme\\nnumcd = 2\\nnumc = choice((numcd, h * w - numcd))#removeme\\nnumc = 8\\nnumc = min(max(1, numc), h * w - 1)\\ninds = totuple(asindices(c))\\nlocs = sample(inds, numc)#removeme\\nlocs = [(0, 2), (0, 4), (1, 2), (0, 0), (1, 4), (0, 3), (1, 0), (1, 1)]\\nfgc = choice(cols)#removeme\\nfgc = 6\\ngi = fill(c, fgc, locs)\\ngo = canvas(0, (h**2, w**2))\\nfor loc in locs:\\n    go = fill(go, fgc, shift(locs, multiply(loc, (h, w))))\\n\\noutput[[6066600000606666066660666][6660600000666066660666606][6066660666606660000060666][6660666606666060000066606]]  \n",
       "3                                                                                                                                                                                                                                                                                                                                                                                                                 input[[6006000000006006][6660000000006660][6660000000006660][6006600660060000][6660666066600000][6660666066600000][6006600660060000][6660666066600000][6660666066600000]]\\npython\\nx0 = fgpartition(I)\\nx1 = merge(x0)\\nx2 = height(x1)\\nx3 = height(I)\\nx4 = interval(ZERO, x3, x2)\\nx5 = lbind(shift, x1)\\nx6 = compose(x5, toivec)\\nx7 = compose(x6, invert)\\nx8 = fork(combine, x6, x7)\\nx9 = mapply(x8, x4)\\nx10 = paint(I, x9)\\n\\noutput of x10\\n[[6006000000006006][6660000000006660][6660000000006660][6006600660060000][6660666066600000][6660666066600000][6006600660060000][6660666066600000][6660666066600000]]  \n",
       "4                                                                                                                                                                                                                    input[[60666][66606]]\\npython\\nx0 = fgpartition(I)\\nx1 = merge(x0)\\nx2 = toindices(x1)\\nx3 = box(x2)\\nx4 = difference(x3, x2)\\nx5 = inbox(x2)\\nx6 = backdrop(x5)\\nx7 = lbind(position, x6)\\nx8 = compose(x7, initset)\\nx9 = lowermost(x6)\\nx10 = rightmost(x6)\\nx11 = uppermost(x6)\\nx12 = leftmost(x6)\\nx13 = rbind(greater, x9)\\nx14 = compose(x13, first)\\nx15 = lbind(greater, x11)\\nx16 = compose(x15, first)\\nx17 = rbind(greater, x10)\\nx18 = compose(x17, last)\\nx19 = lbind(greater, x12)\\nx20 = compose(x19, last)\\nx21 = compose(invert, x16)\\nx22 = fork(add, x14, x21)\\nx23 = compose(invert, x20)\\nx24 = fork(add, x18, x23)\\nx25 = fork(astuple, x22, x24)\\nx26 = fork(shoot, identity, x25)\\nx27 = mapply(x26, x4)\\nx28 = combine(x27, x6)\\nx29 = fill(I, EIGHT, x28)\\n\\noutput of x29\\n[[60888][88806]]  \n",
       "...                                                                                                                                                                                                                                                                                                                                                                                                                                                                                                                                                                                                                                                                                                                                                                                                                                                                                                                                                                                                                                       ...  \n",
       "4995                                                                                                                                                                                                                                                                                                                                                                                                                                                                                                                                                                                                input[[46052223243341177][46052223243341177][46052223243341177]]\\npython\\nx0 = mostcolor(I)\\nx1 = objects(I, T, F, T)\\nx2 = lbind(greater, THREE)\\nx3 = compose(x2, size)\\nx4 = sfilter(x1, x3)\\nx5 = mapply(toindices, x4)\\nx6 = fill(I, x0, x5)\\nx7 = objects(x6, T, F, T)\\nx8 = fork(recolor, color, backdrop)\\nx9 = mapply(x8, x7)\\nx10 = paint(x6, x9)\\n\\noutput of x10\\n[[46052223243341177][46052223243341177][46052223243341177]]  \n",
       "4996  \\npython\\nfrom utils import *\\nfrom dsl import *\\nfrom random import seed as set_seed\\nset_seed(707918055)\\ncols = interval(0, 10, 1)\\nnh = unifint(diff_lb, diff_ub, (2, 6))#removeme\\nnh = 3\\nnw = unifint(diff_lb, diff_ub, (2, 6))#removeme\\nnw = 5\\nbgc = choice(cols)#removeme\\nbgc = 8\\nremcols = remove(bgc, cols)\\nncols = unifint(diff_lb, diff_ub, (3, 9))#removeme\\nncols = 6\\nccols = sample(remcols, ncols)#removeme\\nccols = [3, 0, 7, 5, 6, 4]\\ngo = canvas(-1, (nh, nw))\\nobj = {(choice(ccols), ij) for ij in asindices(go)}\\ngo = paint(go, obj)\\nwhile len(dedupe(go)) < nh or len(dedupe(dmirror(go))) < nw:\\n    obj = {(choice(ccols), ij) for ij in asindices(go)}\\n    go = paint(go, obj)\\nh = unifint(diff_lb, diff_ub, (2*nh+nh-1, 30))#removeme\\nh = 11\\nw = unifint(diff_lb, diff_ub, (2*nw+nw-1, 30))#removeme\\nw = 16\\nhdist = [2 for k in range(nh)]\\nfor k in range(h - 2 * nh - nh + 1):\\n    idx = randint(0, nh - 1)\\n    hdist[idx] += 1\\nwdist = [2 for k in range(nw)]\\nfor k in range(w - 2...  \n",
       "4997  input[[22222200888555500][22222200888555500][22222200888555500][22222200888555500][22222200888555500][22222200888555500][22222200888555500][22222200888555500][22222200888555500][22222200888555500][22222200888555500][22222200888555500][22222200888555500][22222200888555500][22222200888555500][22222200888555500][22222200888555500][22222200888555500][22222200888555500][22222200888555500][22222200888555500][22222200888555500][22222200888555500][22222200888555500]]\\npython\\nx0 = lbind(compose, flip)\\nx1 = lbind(matcher, first)\\nx2 = compose(x0, x1)\\nx3 = rbind(compose, asobject)\\nx4 = lbind(rbind, sfilter)\\nx5 = chain(x3, x4, x2)\\nx6 = rbind(shift, ORIGIN)\\nx7 = compose(x6, dmirror)\\nx8 = rbind(shift, TWO_BY_TWO)\\nx9 = compose(x8, cmirror)\\nx10 = rbind(shift, TWO_BY_ZERO)\\nx11 = compose(x10, hmirror)\\nx12 = rbind(shift, ZERO_BY_TWO)\\nx13 = compose(x12, vmirror)\\nx14 = lbind(fork, paint)\\nx15 = lbind(x14, identity)\\nx16 = lbind(compose, x7)\\nx17 = chain(x15, x16, x5)\\nx18 = lbind(compose,...  \n",
       "4998  output[[89428][99498]]\\npython\\nfrom utils import *\\nfrom dsl import *\\nfrom random import seed as set_seed\\nset_seed(445339951)\\ncols = interval(0, 10, 1)\\nnh = unifint(diff_lb, diff_ub, (2, 6))#removeme\\nnh = 2\\nnw = unifint(diff_lb, diff_ub, (2, 6))#removeme\\nnw = 5\\nbgc = choice(cols)#removeme\\nbgc = 7\\nremcols = remove(bgc, cols)\\nncols = unifint(diff_lb, diff_ub, (3, 9))#removeme\\nncols = 4\\nccols = sample(remcols, ncols)#removeme\\nccols = [4, 9, 8, 2]\\ngo = canvas(-1, (nh, nw))\\nobj = {(choice(ccols), ij) for ij in asindices(go)}\\ngo = paint(go, obj)\\nwhile len(dedupe(go)) < nh or len(dedupe(dmirror(go))) < nw:\\n    obj = {(choice(ccols), ij) for ij in asindices(go)}\\n    go = paint(go, obj)\\nh = unifint(diff_lb, diff_ub, (2*nh+nh-1, 30))#removeme\\nh = 18\\nw = unifint(diff_lb, diff_ub, (2*nw+nw-1, 30))#removeme\\nw = 17\\nhdist = [2 for k in range(nh)]\\nfor k in range(h - 2 * nh - nh + 1):\\n    idx = randint(0, nh - 1)\\n    hdist[idx] += 1\\nwdist = [2 for k in range(nw)]\\nfor ...  \n",
       "4999  \\npython\\nfrom utils import *\\nfrom dsl import *\\nfrom random import seed as set_seed\\nset_seed(476697862)\\ncols = interval(0, 10, 1)\\nnh = unifint(diff_lb, diff_ub, (2, 6))#removeme\\nnh = 2\\nnw = unifint(diff_lb, diff_ub, (2, 6))#removeme\\nnw = 4\\nbgc = choice(cols)#removeme\\nbgc = 9\\nremcols = remove(bgc, cols)\\nncols = unifint(diff_lb, diff_ub, (3, 9))#removeme\\nncols = 6\\nccols = sample(remcols, ncols)#removeme\\nccols = [8, 4, 0, 7, 3, 6]\\ngo = canvas(-1, (nh, nw))\\nobj = {(choice(ccols), ij) for ij in asindices(go)}\\ngo = paint(go, obj)\\nwhile len(dedupe(go)) < nh or len(dedupe(dmirror(go))) < nw:\\n    obj = {(choice(ccols), ij) for ij in asindices(go)}\\n    go = paint(go, obj)\\nh = unifint(diff_lb, diff_ub, (2*nh+nh-1, 30))#removeme\\nh = 18\\nw = unifint(diff_lb, diff_ub, (2*nw+nw-1, 30))#removeme\\nw = 22\\nhdist = [2 for k in range(nh)]\\nfor k in range(h - 2 * nh - nh + 1):\\n    idx = randint(0, nh - 1)\\n    hdist[idx] += 1\\nwdist = [2 for k in range(nw)]\\nfor k in range(w - 2...  \n",
       "\n",
       "[5000 rows x 3 columns]"
      ]
     },
     "execution_count": 20,
     "metadata": {},
     "output_type": "execute_result"
    }
   ],
   "source": [
    "df"
   ]
  },
  {
   "cell_type": "code",
   "execution_count": 7,
   "metadata": {},
   "outputs": [
    {
     "data": {
      "text/html": [
       "<div>\n",
       "<style scoped>\n",
       "    .dataframe tbody tr th:only-of-type {\n",
       "        vertical-align: middle;\n",
       "    }\n",
       "\n",
       "    .dataframe tbody tr th {\n",
       "        vertical-align: top;\n",
       "    }\n",
       "\n",
       "    .dataframe thead th {\n",
       "        text-align: right;\n",
       "    }\n",
       "</style>\n",
       "<table border=\"1\" class=\"dataframe\">\n",
       "  <thead>\n",
       "    <tr style=\"text-align: right;\">\n",
       "      <th></th>\n",
       "      <th>id</th>\n",
       "      <th>task</th>\n",
       "      <th>text</th>\n",
       "    </tr>\n",
       "  </thead>\n",
       "  <tbody>\n",
       "    <tr>\n",
       "      <th>11</th>\n",
       "      <td>11</td>\n",
       "      <td>007bbfb7</td>\n",
       "      <td>output of x6\\n[[&lt;function&lt;unk&gt;identity&lt;unk&gt;at&lt;unk&gt;0x7f4e1c54c9d0&gt;&lt;function&lt;unk&gt;identity&lt;unk&gt;at&lt;unk&gt;0x7f4e1c54c9d0&gt;][&lt;function&lt;unk&gt;rot90&lt;unk&gt;at&lt;unk&gt;0x7f4e1c5948b0&gt;&lt;function&lt;unk&gt;rot270&lt;unk&gt;at&lt;unk&gt;0x7f4e1c5949d0&gt;][&lt;function&lt;unk&gt;rot180&lt;unk&gt;at&lt;unk&gt;0x7f4e1c594940&gt;&lt;function&lt;unk&gt;rot180&lt;unk&gt;at&lt;unk&gt;0x7f4e1c594940&gt;][&lt;function&lt;unk&gt;rot270&lt;unk&gt;at&lt;unk&gt;0x7f4e1c5949d0&gt;&lt;function&lt;unk&gt;rot90&lt;unk&gt;at&lt;unk&gt;0x7f4e1c5948b0&gt;]]</td>\n",
       "    </tr>\n",
       "    <tr>\n",
       "      <th>68</th>\n",
       "      <td>68</td>\n",
       "      <td>05f2a901</td>\n",
       "      <td>output of x13\\n[[&lt;function&lt;unk&gt;identity&lt;unk&gt;at&lt;unk&gt;0x7f4e1c54c9d0&gt;&lt;function&lt;unk&gt;identity&lt;unk&gt;at&lt;unk&gt;0x7f4e1c54c9d0&gt;][&lt;function&lt;unk&gt;rot90&lt;unk&gt;at&lt;unk&gt;0x7f4e1c5948b0&gt;&lt;function&lt;unk&gt;rot270&lt;unk&gt;at&lt;unk&gt;0x7f4e1c5949d0&gt;][&lt;function&lt;unk&gt;rot180&lt;unk&gt;at&lt;unk&gt;0x7f4e1c594940&gt;&lt;function&lt;unk&gt;rot180&lt;unk&gt;at&lt;unk&gt;0x7f4e1c594940&gt;][&lt;function&lt;unk&gt;rot270&lt;unk&gt;at&lt;unk&gt;0x7f4e1c5949d0&gt;&lt;function&lt;unk&gt;rot90&lt;unk&gt;at&lt;unk&gt;0x7f4e1c5948b0&gt;]]</td>\n",
       "    </tr>\n",
       "    <tr>\n",
       "      <th>71</th>\n",
       "      <td>71</td>\n",
       "      <td>06df4c85</td>\n",
       "      <td>output of x22\\n[[&lt;function&lt;unk&gt;identity&lt;unk&gt;at&lt;unk&gt;0x7f4e1c54c9d0&gt;&lt;function&lt;unk&gt;identity&lt;unk&gt;at&lt;unk&gt;0x7f4e1c54c9d0&gt;][&lt;function&lt;unk&gt;rot90&lt;unk&gt;at&lt;unk&gt;0x7f4e1c5948b0&gt;&lt;function&lt;unk&gt;rot270&lt;unk&gt;at&lt;unk&gt;0x7f4e1c5949d0&gt;][&lt;function&lt;unk&gt;rot180&lt;unk&gt;at&lt;unk&gt;0x7f4e1c594940&gt;&lt;function&lt;unk&gt;rot180&lt;unk&gt;at&lt;unk&gt;0x7f4e1c594940&gt;][&lt;function&lt;unk&gt;rot270&lt;unk&gt;at&lt;unk&gt;0x7f4e1c5949d0&gt;&lt;function&lt;unk&gt;rot90&lt;unk&gt;at&lt;unk&gt;0x7f4e1c5948b0&gt;]]</td>\n",
       "    </tr>\n",
       "    <tr>\n",
       "      <th>72</th>\n",
       "      <td>72</td>\n",
       "      <td>06df4c85</td>\n",
       "      <td>output of x5\\n[&lt;function&lt;unk&gt;identity&lt;unk&gt;at&lt;unk&gt;0x7f4e1c54c9d0&gt;&lt;function&lt;unk&gt;dmirror&lt;unk&gt;at&lt;unk&gt;0x7f4e1c594b80&gt;&lt;function&lt;unk&gt;cmirror&lt;unk&gt;at&lt;unk&gt;0x7f4e1c594c10&gt;&lt;function&lt;unk&gt;hmirror&lt;unk&gt;at&lt;unk&gt;0x7f4e1c594a60&gt;]</td>\n",
       "    </tr>\n",
       "    <tr>\n",
       "      <th>93</th>\n",
       "      <td>93</td>\n",
       "      <td>09629e4f</td>\n",
       "      <td>output of x2\\n[&lt;function&lt;unk&gt;identity&lt;unk&gt;at&lt;unk&gt;0x7f4e1c54c9d0&gt;&lt;function&lt;unk&gt;dmirror&lt;unk&gt;at&lt;unk&gt;0x7f4e1c594b80&gt;&lt;function&lt;unk&gt;cmirror&lt;unk&gt;at&lt;unk&gt;0x7f4e1c594c10&gt;&lt;function&lt;unk&gt;hmirror&lt;unk&gt;at&lt;unk&gt;0x7f4e1c594a60&gt;]</td>\n",
       "    </tr>\n",
       "    <tr>\n",
       "      <th>143</th>\n",
       "      <td>143</td>\n",
       "      <td>0dfd9992</td>\n",
       "      <td>output of x13\\n[[&lt;function&lt;unk&gt;identity&lt;unk&gt;at&lt;unk&gt;0x7f4e1c54c9d0&gt;&lt;function&lt;unk&gt;identity&lt;unk&gt;at&lt;unk&gt;0x7f4e1c54c9d0&gt;][&lt;function&lt;unk&gt;rot90&lt;unk&gt;at&lt;unk&gt;0x7f4e1c5948b0&gt;&lt;function&lt;unk&gt;rot270&lt;unk&gt;at&lt;unk&gt;0x7f4e1c5949d0&gt;][&lt;function&lt;unk&gt;rot180&lt;unk&gt;at&lt;unk&gt;0x7f4e1c594940&gt;&lt;function&lt;unk&gt;rot180&lt;unk&gt;at&lt;unk&gt;0x7f4e1c594940&gt;][&lt;function&lt;unk&gt;rot270&lt;unk&gt;at&lt;unk&gt;0x7f4e1c5949d0&gt;&lt;function&lt;unk&gt;rot90&lt;unk&gt;at&lt;unk&gt;0x7f4e1c5948b0&gt;]]</td>\n",
       "    </tr>\n",
       "    <tr>\n",
       "      <th>168</th>\n",
       "      <td>168</td>\n",
       "      <td>11852cab</td>\n",
       "      <td>output of x22\\n[[&lt;function&lt;unk&gt;identity&lt;unk&gt;at&lt;unk&gt;0x7f4e1c54c9d0&gt;&lt;function&lt;unk&gt;identity&lt;unk&gt;at&lt;unk&gt;0x7f4e1c54c9d0&gt;][&lt;function&lt;unk&gt;rot90&lt;unk&gt;at&lt;unk&gt;0x7f4e1c5948b0&gt;&lt;function&lt;unk&gt;rot270&lt;unk&gt;at&lt;unk&gt;0x7f4e1c5949d0&gt;][&lt;function&lt;unk&gt;rot180&lt;unk&gt;at&lt;unk&gt;0x7f4e1c594940&gt;&lt;function&lt;unk&gt;rot180&lt;unk&gt;at&lt;unk&gt;0x7f4e1c594940&gt;][&lt;function&lt;unk&gt;rot270&lt;unk&gt;at&lt;unk&gt;0x7f4e1c5949d0&gt;&lt;function&lt;unk&gt;rot90&lt;unk&gt;at&lt;unk&gt;0x7f4e1c5948b0&gt;]]</td>\n",
       "    </tr>\n",
       "    <tr>\n",
       "      <th>211</th>\n",
       "      <td>211</td>\n",
       "      <td>1b2d62fb</td>\n",
       "      <td>output of x3\\nfrozenset[{&lt;function&lt;unk&gt;rbind.&lt;locals&gt;.&lt;lambda&gt;&lt;unk&gt;at&lt;unk&gt;0x7f4e19e45090&gt;}]</td>\n",
       "    </tr>\n",
       "    <tr>\n",
       "      <th>324</th>\n",
       "      <td>324</td>\n",
       "      <td>2204b7a8</td>\n",
       "      <td>output of x22\\n[[&lt;function&lt;unk&gt;identity&lt;unk&gt;at&lt;unk&gt;0x7f4e1c54c9d0&gt;&lt;function&lt;unk&gt;identity&lt;unk&gt;at&lt;unk&gt;0x7f4e1c54c9d0&gt;][&lt;function&lt;unk&gt;rot90&lt;unk&gt;at&lt;unk&gt;0x7f4e1c5948b0&gt;&lt;function&lt;unk&gt;rot270&lt;unk&gt;at&lt;unk&gt;0x7f4e1c5949d0&gt;][&lt;function&lt;unk&gt;rot180&lt;unk&gt;at&lt;unk&gt;0x7f4e1c594940&gt;&lt;function&lt;unk&gt;rot180&lt;unk&gt;at&lt;unk&gt;0x7f4e1c594940&gt;][&lt;function&lt;unk&gt;rot270&lt;unk&gt;at&lt;unk&gt;0x7f4e1c5949d0&gt;&lt;function&lt;unk&gt;rot90&lt;unk&gt;at&lt;unk&gt;0x7f4e1c5948b0&gt;]]</td>\n",
       "    </tr>\n",
       "    <tr>\n",
       "      <th>342</th>\n",
       "      <td>342</td>\n",
       "      <td>22233c11</td>\n",
       "      <td>output of x3\\nfrozenset[{&lt;function&lt;unk&gt;rbind.&lt;locals&gt;.&lt;lambda&gt;&lt;unk&gt;at&lt;unk&gt;0x7f4e1a0d7370&gt;}]</td>\n",
       "    </tr>\n",
       "    <tr>\n",
       "      <th>347</th>\n",
       "      <td>347</td>\n",
       "      <td>2281f1f4</td>\n",
       "      <td>output of x6\\n[[&lt;function&lt;unk&gt;identity&lt;unk&gt;at&lt;unk&gt;0x7f4e1c54c9d0&gt;&lt;function&lt;unk&gt;identity&lt;unk&gt;at&lt;unk&gt;0x7f4e1c54c9d0&gt;][&lt;function&lt;unk&gt;rot90&lt;unk&gt;at&lt;unk&gt;0x7f4e1c5948b0&gt;&lt;function&lt;unk&gt;rot270&lt;unk&gt;at&lt;unk&gt;0x7f4e1c5949d0&gt;][&lt;function&lt;unk&gt;rot180&lt;unk&gt;at&lt;unk&gt;0x7f4e1c594940&gt;&lt;function&lt;unk&gt;rot180&lt;unk&gt;at&lt;unk&gt;0x7f4e1c594940&gt;][&lt;function&lt;unk&gt;rot270&lt;unk&gt;at&lt;unk&gt;0x7f4e1c5949d0&gt;&lt;function&lt;unk&gt;rot90&lt;unk&gt;at&lt;unk&gt;0x7f4e1c5948b0&gt;]]</td>\n",
       "    </tr>\n",
       "    <tr>\n",
       "      <th>387</th>\n",
       "      <td>387</td>\n",
       "      <td>239be575</td>\n",
       "      <td>output of x6\\n[[&lt;function&lt;unk&gt;identity&lt;unk&gt;at&lt;unk&gt;0x7f4e1c54c9d0&gt;&lt;function&lt;unk&gt;identity&lt;unk&gt;at&lt;unk&gt;0x7f4e1c54c9d0&gt;][&lt;function&lt;unk&gt;rot90&lt;unk&gt;at&lt;unk&gt;0x7f4e1c5948b0&gt;&lt;function&lt;unk&gt;rot270&lt;unk&gt;at&lt;unk&gt;0x7f4e1c5949d0&gt;][&lt;function&lt;unk&gt;rot180&lt;unk&gt;at&lt;unk&gt;0x7f4e1c594940&gt;&lt;function&lt;unk&gt;rot180&lt;unk&gt;at&lt;unk&gt;0x7f4e1c594940&gt;][&lt;function&lt;unk&gt;rot270&lt;unk&gt;at&lt;unk&gt;0x7f4e1c5949d0&gt;&lt;function&lt;unk&gt;rot90&lt;unk&gt;at&lt;unk&gt;0x7f4e1c5948b0&gt;]]</td>\n",
       "    </tr>\n",
       "    <tr>\n",
       "      <th>397</th>\n",
       "      <td>397</td>\n",
       "      <td>239be575</td>\n",
       "      <td>output of x3\\nfrozenset[{&lt;function&lt;unk&gt;rbind.&lt;locals&gt;.&lt;lambda&gt;&lt;unk&gt;at&lt;unk&gt;0x7f4e19e15ab0&gt;}]</td>\n",
       "    </tr>\n",
       "    <tr>\n",
       "      <th>398</th>\n",
       "      <td>398</td>\n",
       "      <td>239be575</td>\n",
       "      <td>output of x30\\n[[frozenset[]&lt;function&lt;unk&gt;dmirror&lt;unk&gt;at&lt;unk&gt;0x7f4e1c594b80&gt;][frozenset[]&lt;function&lt;unk&gt;cmirror&lt;unk&gt;at&lt;unk&gt;0x7f4e1c594c10&gt;][frozenset[{[43][03][73][23][33][53][63][13]}]&lt;function&lt;unk&gt;vmirror&lt;unk&gt;at&lt;unk&gt;0x7f4e1c594af0&gt;][frozenset[{[44][40][43][42][45][41]}]&lt;function&lt;unk&gt;hmirror&lt;unk&gt;at&lt;unk&gt;0x7f4e1c594a60&gt;]]</td>\n",
       "    </tr>\n",
       "    <tr>\n",
       "      <th>399</th>\n",
       "      <td>399</td>\n",
       "      <td>239be575</td>\n",
       "      <td>output of x12\\nfrozenset[{&lt;function&lt;unk&gt;compose.&lt;locals&gt;.&lt;lambda&gt;&lt;unk&gt;at&lt;unk&gt;0x7f4e19e17010&gt;&lt;function&lt;unk&gt;compose.&lt;locals&gt;.&lt;lambda&gt;&lt;unk&gt;at&lt;unk&gt;0x7f4e19e16830&gt;&lt;function&lt;unk&gt;compose.&lt;locals&gt;.&lt;lambda&gt;&lt;unk&gt;at&lt;unk&gt;0x7f4e19e170a0&gt;&lt;function&lt;unk&gt;compose.&lt;locals&gt;.&lt;lambda&gt;&lt;unk&gt;at&lt;unk&gt;0x7f4e19e168c0&gt;&lt;function&lt;unk&gt;compose.&lt;locals&gt;.&lt;lambda&gt;&lt;unk&gt;at&lt;unk&gt;0x7f4e19e17130&gt;&lt;function&lt;unk&gt;compose.&lt;locals&gt;.&lt;lambda&gt;&lt;unk&gt;at&lt;unk&gt;0x7f4e19e16950&gt;&lt;function&lt;unk&gt;compose.&lt;locals&gt;.&lt;lambda&gt;&lt;unk&gt;at&lt;unk&gt;0x7f4e19e171c0&gt;&lt;function&lt;unk&gt;compose.&lt;locals&gt;.&lt;lambda&gt;&lt;unk&gt;at&lt;unk&gt;0x7f4e19e169e0&gt;&lt;function&lt;unk&gt;compose.&lt;locals&gt;.&lt;lambda&gt;&lt;unk&gt;at&lt;unk&gt;0x7f4e19e17250&gt;&lt;function&lt;unk&gt;compose.&lt;locals&gt;.&lt;lambda&gt;&lt;unk&gt;at&lt;unk&gt;0x7f4e19e16a70&gt;&lt;function&lt;unk&gt;compose.&lt;locals&gt;.&lt;lambda&gt;&lt;unk&gt;at&lt;unk&gt;0x7f4e19e16b00&gt;&lt;function&lt;unk&gt;compose.&lt;locals&gt;.&lt;lambda&gt;&lt;unk&gt;at&lt;unk&gt;0x7f4e19e16b90&gt;&lt;function&lt;unk&gt;compose.&lt;locals&gt;.&lt;lambda&gt;&lt;unk&gt;at&lt;unk&gt;0x7f4e19e16c20&gt;&lt;function&lt;unk&gt;compose.&lt;locals&gt;.&lt;lambda&gt;&lt;unk&gt;at&lt;unk&gt;0x7f4e19e16440&gt;&lt;function&lt;unk&gt;compose.&lt;locals&gt;.&lt;lambda&gt;&lt;unk&gt;at...</td>\n",
       "    </tr>\n",
       "    <tr>\n",
       "      <th>423</th>\n",
       "      <td>423</td>\n",
       "      <td>253bf280</td>\n",
       "      <td>output of x22\\n[[&lt;function&lt;unk&gt;identity&lt;unk&gt;at&lt;unk&gt;0x7f4e1c54c9d0&gt;&lt;function&lt;unk&gt;identity&lt;unk&gt;at&lt;unk&gt;0x7f4e1c54c9d0&gt;][&lt;function&lt;unk&gt;rot90&lt;unk&gt;at&lt;unk&gt;0x7f4e1c5948b0&gt;&lt;function&lt;unk&gt;rot270&lt;unk&gt;at&lt;unk&gt;0x7f4e1c5949d0&gt;][&lt;function&lt;unk&gt;rot180&lt;unk&gt;at&lt;unk&gt;0x7f4e1c594940&gt;&lt;function&lt;unk&gt;rot180&lt;unk&gt;at&lt;unk&gt;0x7f4e1c594940&gt;][&lt;function&lt;unk&gt;rot270&lt;unk&gt;at&lt;unk&gt;0x7f4e1c5949d0&gt;&lt;function&lt;unk&gt;rot90&lt;unk&gt;at&lt;unk&gt;0x7f4e1c5948b0&gt;]]</td>\n",
       "    </tr>\n",
       "    <tr>\n",
       "      <th>427</th>\n",
       "      <td>427</td>\n",
       "      <td>253bf280</td>\n",
       "      <td>output of x2\\n[&lt;function&lt;unk&gt;identity&lt;unk&gt;at&lt;unk&gt;0x7f4e1c54c9d0&gt;&lt;function&lt;unk&gt;cmirror&lt;unk&gt;at&lt;unk&gt;0x7f4e1c594c10&gt;&lt;function&lt;unk&gt;hmirror&lt;unk&gt;at&lt;unk&gt;0x7f4e1c594a60&gt;&lt;function&lt;unk&gt;vmirror&lt;unk&gt;at&lt;unk&gt;0x7f4e1c594af0&gt;]</td>\n",
       "    </tr>\n",
       "    <tr>\n",
       "      <th>439</th>\n",
       "      <td>439</td>\n",
       "      <td>25d487eb</td>\n",
       "      <td>output of x5\\n[&lt;function&lt;unk&gt;identity&lt;unk&gt;at&lt;unk&gt;0x7f4e1c54c9d0&gt;&lt;function&lt;unk&gt;dmirror&lt;unk&gt;at&lt;unk&gt;0x7f4e1c594b80&gt;&lt;function&lt;unk&gt;cmirror&lt;unk&gt;at&lt;unk&gt;0x7f4e1c594c10&gt;&lt;function&lt;unk&gt;hmirror&lt;unk&gt;at&lt;unk&gt;0x7f4e1c594a60&gt;]</td>\n",
       "    </tr>\n",
       "    <tr>\n",
       "      <th>541</th>\n",
       "      <td>541</td>\n",
       "      <td>2bcee788</td>\n",
       "      <td>output of x5\\n[&lt;function&lt;unk&gt;identity&lt;unk&gt;at&lt;unk&gt;0x7f4e1c54c9d0&gt;&lt;function&lt;unk&gt;dmirror&lt;unk&gt;at&lt;unk&gt;0x7f4e1c594b80&gt;&lt;function&lt;unk&gt;cmirror&lt;unk&gt;at&lt;unk&gt;0x7f4e1c594c10&gt;&lt;function&lt;unk&gt;hmirror&lt;unk&gt;at&lt;unk&gt;0x7f4e1c594a60&gt;]</td>\n",
       "    </tr>\n",
       "    <tr>\n",
       "      <th>545</th>\n",
       "      <td>545</td>\n",
       "      <td>2bcee788</td>\n",
       "      <td>output of x2\\n[&lt;function&lt;unk&gt;identity&lt;unk&gt;at&lt;unk&gt;0x7f4e1c54c9d0&gt;&lt;function&lt;unk&gt;dmirror&lt;unk&gt;at&lt;unk&gt;0x7f4e1c594b80&gt;&lt;function&lt;unk&gt;cmirror&lt;unk&gt;at&lt;unk&gt;0x7f4e1c594c10&gt;&lt;function&lt;unk&gt;hmirror&lt;unk&gt;at&lt;unk&gt;0x7f4e1c594a60&gt;]</td>\n",
       "    </tr>\n",
       "    <tr>\n",
       "      <th>546</th>\n",
       "      <td>546</td>\n",
       "      <td>2bcee788</td>\n",
       "      <td>output of x5\\n[&lt;function&lt;unk&gt;identity&lt;unk&gt;at&lt;unk&gt;0x7f4e1c54c9d0&gt;&lt;function&lt;unk&gt;dmirror&lt;unk&gt;at&lt;unk&gt;0x7f4e1c594b80&gt;&lt;function&lt;unk&gt;cmirror&lt;unk&gt;at&lt;unk&gt;0x7f4e1c594c10&gt;&lt;function&lt;unk&gt;hmirror&lt;unk&gt;at&lt;unk&gt;0x7f4e1c594a60&gt;]</td>\n",
       "    </tr>\n",
       "    <tr>\n",
       "      <th>554</th>\n",
       "      <td>554</td>\n",
       "      <td>2bee17df</td>\n",
       "      <td>output of x13\\n[[&lt;function&lt;unk&gt;identity&lt;unk&gt;at&lt;unk&gt;0x7f4e1c54c9d0&gt;&lt;function&lt;unk&gt;identity&lt;unk&gt;at&lt;unk&gt;0x7f4e1c54c9d0&gt;][&lt;function&lt;unk&gt;rot90&lt;unk&gt;at&lt;unk&gt;0x7f4e1c5948b0&gt;&lt;function&lt;unk&gt;rot270&lt;unk&gt;at&lt;unk&gt;0x7f4e1c5949d0&gt;][&lt;function&lt;unk&gt;rot180&lt;unk&gt;at&lt;unk&gt;0x7f4e1c594940&gt;&lt;function&lt;unk&gt;rot180&lt;unk&gt;at&lt;unk&gt;0x7f4e1c594940&gt;][&lt;function&lt;unk&gt;rot270&lt;unk&gt;at&lt;unk&gt;0x7f4e1c5949d0&gt;&lt;function&lt;unk&gt;rot90&lt;unk&gt;at&lt;unk&gt;0x7f4e1c5948b0&gt;]]</td>\n",
       "    </tr>\n",
       "    <tr>\n",
       "      <th>577</th>\n",
       "      <td>577</td>\n",
       "      <td>2dd70a9a</td>\n",
       "      <td>output of x30\\n[[frozenset[{[22][1111][77][1616][33][1212][88][1717][1313][1818][44][55][1414][00][99][11][1010][1919][66][1515]}]&lt;function&lt;unk&gt;dmirror&lt;unk&gt;at&lt;unk&gt;0x7f4e1c594b80&gt;][frozenset[{[127][316][190][415][109][118][118][217][181][172][811][910][154][019][163][613][712][145][514][136]}]&lt;function&lt;unk&gt;cmirror&lt;unk&gt;at&lt;unk&gt;0x7f4e1c594c10&gt;][frozenset[{[1210][310][1410][510][1610][710][1810][910][010][1110][210][1310][1510][610][410][1710][810][1910][1010][110]}]&lt;function&lt;unk&gt;vmirror&lt;unk&gt;at&lt;unk&gt;0x7f4e1c594af0&gt;][frozenset[{[100][106][103][109][1012][1018][1015][102][105][1011][108][1014][1017][104][101][107][1013][1010][1016][1019]}]&lt;function&lt;unk&gt;hmirror&lt;unk&gt;at&lt;unk&gt;0x7f4e1c594a60&gt;]]</td>\n",
       "    </tr>\n",
       "    <tr>\n",
       "      <th>592</th>\n",
       "      <td>592</td>\n",
       "      <td>31aa019c</td>\n",
       "      <td>output of x6\\n[[&lt;function&lt;unk&gt;identity&lt;unk&gt;at&lt;unk&gt;0x7f4e1c54c9d0&gt;&lt;function&lt;unk&gt;identity&lt;unk&gt;at&lt;unk&gt;0x7f4e1c54c9d0&gt;][&lt;function&lt;unk&gt;rot90&lt;unk&gt;at&lt;unk&gt;0x7f4e1c5948b0&gt;&lt;function&lt;unk&gt;rot270&lt;unk&gt;at&lt;unk&gt;0x7f4e1c5949d0&gt;][&lt;function&lt;unk&gt;rot180&lt;unk&gt;at&lt;unk&gt;0x7f4e1c594940&gt;&lt;function&lt;unk&gt;rot180&lt;unk&gt;at&lt;unk&gt;0x7f4e1c594940&gt;][&lt;function&lt;unk&gt;rot270&lt;unk&gt;at&lt;unk&gt;0x7f4e1c5949d0&gt;&lt;function&lt;unk&gt;rot90&lt;unk&gt;at&lt;unk&gt;0x7f4e1c5948b0&gt;]]</td>\n",
       "    </tr>\n",
       "    <tr>\n",
       "      <th>598</th>\n",
       "      <td>598</td>\n",
       "      <td>31aa019c</td>\n",
       "      <td>output of x3\\n[&lt;function&lt;unk&gt;dmirror&lt;unk&gt;at&lt;unk&gt;0x7f4e1c594b80&gt;&lt;function&lt;unk&gt;cmirror&lt;unk&gt;at&lt;unk&gt;0x7f4e1c594c10&gt;&lt;function&lt;unk&gt;hmirror&lt;unk&gt;at&lt;unk&gt;0x7f4e1c594a60&gt;&lt;function&lt;unk&gt;identity&lt;unk&gt;at&lt;unk&gt;0x7f4e1c54c9d0&gt;]</td>\n",
       "    </tr>\n",
       "    <tr>\n",
       "      <th>608</th>\n",
       "      <td>608</td>\n",
       "      <td>32597951</td>\n",
       "      <td>output of x3\\n[&lt;function&lt;unk&gt;dmirror&lt;unk&gt;at&lt;unk&gt;0x7f4e1c594b80&gt;&lt;function&lt;unk&gt;cmirror&lt;unk&gt;at&lt;unk&gt;0x7f4e1c594c10&gt;&lt;function&lt;unk&gt;hmirror&lt;unk&gt;at&lt;unk&gt;0x7f4e1c594a60&gt;&lt;function&lt;unk&gt;identity&lt;unk&gt;at&lt;unk&gt;0x7f4e1c54c9d0&gt;]</td>\n",
       "    </tr>\n",
       "    <tr>\n",
       "      <th>631</th>\n",
       "      <td>631</td>\n",
       "      <td>3428a4f5</td>\n",
       "      <td>output of x13\\n[[&lt;function&lt;unk&gt;identity&lt;unk&gt;at&lt;unk&gt;0x7f4e1c54c9d0&gt;&lt;function&lt;unk&gt;identity&lt;unk&gt;at&lt;unk&gt;0x7f4e1c54c9d0&gt;][&lt;function&lt;unk&gt;rot90&lt;unk&gt;at&lt;unk&gt;0x7f4e1c5948b0&gt;&lt;function&lt;unk&gt;rot270&lt;unk&gt;at&lt;unk&gt;0x7f4e1c5949d0&gt;][&lt;function&lt;unk&gt;rot180&lt;unk&gt;at&lt;unk&gt;0x7f4e1c594940&gt;&lt;function&lt;unk&gt;rot180&lt;unk&gt;at&lt;unk&gt;0x7f4e1c594940&gt;][&lt;function&lt;unk&gt;rot270&lt;unk&gt;at&lt;unk&gt;0x7f4e1c5949d0&gt;&lt;function&lt;unk&gt;rot90&lt;unk&gt;at&lt;unk&gt;0x7f4e1c5948b0&gt;]]</td>\n",
       "    </tr>\n",
       "    <tr>\n",
       "      <th>649</th>\n",
       "      <td>649</td>\n",
       "      <td>3631a71a</td>\n",
       "      <td>output of x13\\n[[&lt;function&lt;unk&gt;identity&lt;unk&gt;at&lt;unk&gt;0x7f4e1c54c9d0&gt;&lt;function&lt;unk&gt;identity&lt;unk&gt;at&lt;unk&gt;0x7f4e1c54c9d0&gt;][&lt;function&lt;unk&gt;rot90&lt;unk&gt;at&lt;unk&gt;0x7f4e1c5948b0&gt;&lt;function&lt;unk&gt;rot270&lt;unk&gt;at&lt;unk&gt;0x7f4e1c5949d0&gt;][&lt;function&lt;unk&gt;rot180&lt;unk&gt;at&lt;unk&gt;0x7f4e1c594940&gt;&lt;function&lt;unk&gt;rot180&lt;unk&gt;at&lt;unk&gt;0x7f4e1c594940&gt;][&lt;function&lt;unk&gt;rot270&lt;unk&gt;at&lt;unk&gt;0x7f4e1c5949d0&gt;&lt;function&lt;unk&gt;rot90&lt;unk&gt;at&lt;unk&gt;0x7f4e1c5948b0&gt;]]</td>\n",
       "    </tr>\n",
       "    <tr>\n",
       "      <th>669</th>\n",
       "      <td>669</td>\n",
       "      <td>36fdfd69</td>\n",
       "      <td>output of x2\\n[&lt;function&lt;unk&gt;identity&lt;unk&gt;at&lt;unk&gt;0x7f4e1c54c9d0&gt;&lt;function&lt;unk&gt;dmirror&lt;unk&gt;at&lt;unk&gt;0x7f4e1c594b80&gt;&lt;function&lt;unk&gt;cmirror&lt;unk&gt;at&lt;unk&gt;0x7f4e1c594c10&gt;&lt;function&lt;unk&gt;hmirror&lt;unk&gt;at&lt;unk&gt;0x7f4e1c594a60&gt;]</td>\n",
       "    </tr>\n",
       "    <tr>\n",
       "      <th>726</th>\n",
       "      <td>726</td>\n",
       "      <td>3bdb4ada</td>\n",
       "      <td>output of x5\\n[&lt;function&lt;unk&gt;identity&lt;unk&gt;at&lt;unk&gt;0x7f4e1c54c9d0&gt;&lt;function&lt;unk&gt;dmirror&lt;unk&gt;at&lt;unk&gt;0x7f4e1c594b80&gt;&lt;function&lt;unk&gt;cmirror&lt;unk&gt;at&lt;unk&gt;0x7f4e1c594c10&gt;&lt;function&lt;unk&gt;hmirror&lt;unk&gt;at&lt;unk&gt;0x7f4e1c594a60&gt;]</td>\n",
       "    </tr>\n",
       "    <tr>\n",
       "      <th>781</th>\n",
       "      <td>781</td>\n",
       "      <td>3f7978a0</td>\n",
       "      <td>output of x5\\n[&lt;function&lt;unk&gt;identity&lt;unk&gt;at&lt;unk&gt;0x7f4e1c54c9d0&gt;&lt;function&lt;unk&gt;dmirror&lt;unk&gt;at&lt;unk&gt;0x7f4e1c594b80&gt;&lt;function&lt;unk&gt;cmirror&lt;unk&gt;at&lt;unk&gt;0x7f4e1c594c10&gt;&lt;function&lt;unk&gt;hmirror&lt;unk&gt;at&lt;unk&gt;0x7f4e1c594a60&gt;]</td>\n",
       "    </tr>\n",
       "    <tr>\n",
       "      <th>790</th>\n",
       "      <td>790</td>\n",
       "      <td>40853293</td>\n",
       "      <td>output of x5\\n[&lt;function&lt;unk&gt;identity&lt;unk&gt;at&lt;unk&gt;0x7f4e1c54c9d0&gt;&lt;function&lt;unk&gt;dmirror&lt;unk&gt;at&lt;unk&gt;0x7f4e1c594b80&gt;&lt;function&lt;unk&gt;cmirror&lt;unk&gt;at&lt;unk&gt;0x7f4e1c594c10&gt;&lt;function&lt;unk&gt;hmirror&lt;unk&gt;at&lt;unk&gt;0x7f4e1c594a60&gt;]</td>\n",
       "    </tr>\n",
       "    <tr>\n",
       "      <th>828</th>\n",
       "      <td>828</td>\n",
       "      <td>42a50994</td>\n",
       "      <td>output of x2\\n[&lt;function&lt;unk&gt;identity&lt;unk&gt;at&lt;unk&gt;0x7f4e1c54c9d0&gt;&lt;function&lt;unk&gt;cmirror&lt;unk&gt;at&lt;unk&gt;0x7f4e1c594c10&gt;&lt;function&lt;unk&gt;hmirror&lt;unk&gt;at&lt;unk&gt;0x7f4e1c594a60&gt;&lt;function&lt;unk&gt;vmirror&lt;unk&gt;at&lt;unk&gt;0x7f4e1c594af0&gt;]</td>\n",
       "    </tr>\n",
       "    <tr>\n",
       "      <th>836</th>\n",
       "      <td>836</td>\n",
       "      <td>4347f46a</td>\n",
       "      <td>output of x22\\n[[&lt;function&lt;unk&gt;identity&lt;unk&gt;at&lt;unk&gt;0x7f4e1c54c9d0&gt;&lt;function&lt;unk&gt;identity&lt;unk&gt;at&lt;unk&gt;0x7f4e1c54c9d0&gt;][&lt;function&lt;unk&gt;rot90&lt;unk&gt;at&lt;unk&gt;0x7f4e1c5948b0&gt;&lt;function&lt;unk&gt;rot270&lt;unk&gt;at&lt;unk&gt;0x7f4e1c5949d0&gt;][&lt;function&lt;unk&gt;rot180&lt;unk&gt;at&lt;unk&gt;0x7f4e1c594940&gt;&lt;function&lt;unk&gt;rot180&lt;unk&gt;at&lt;unk&gt;0x7f4e1c594940&gt;][&lt;function&lt;unk&gt;rot270&lt;unk&gt;at&lt;unk&gt;0x7f4e1c5949d0&gt;&lt;function&lt;unk&gt;rot90&lt;unk&gt;at&lt;unk&gt;0x7f4e1c5948b0&gt;]]</td>\n",
       "    </tr>\n",
       "    <tr>\n",
       "      <th>844</th>\n",
       "      <td>844</td>\n",
       "      <td>444801d8</td>\n",
       "      <td>output of x6\\n[[&lt;function&lt;unk&gt;identity&lt;unk&gt;at&lt;unk&gt;0x7f4e1c54c9d0&gt;&lt;function&lt;unk&gt;identity&lt;unk&gt;at&lt;unk&gt;0x7f4e1c54c9d0&gt;][&lt;function&lt;unk&gt;rot90&lt;unk&gt;at&lt;unk&gt;0x7f4e1c5948b0&gt;&lt;function&lt;unk&gt;rot270&lt;unk&gt;at&lt;unk&gt;0x7f4e1c5949d0&gt;][&lt;function&lt;unk&gt;rot180&lt;unk&gt;at&lt;unk&gt;0x7f4e1c594940&gt;&lt;function&lt;unk&gt;rot180&lt;unk&gt;at&lt;unk&gt;0x7f4e1c594940&gt;][&lt;function&lt;unk&gt;rot270&lt;unk&gt;at&lt;unk&gt;0x7f4e1c5949d0&gt;&lt;function&lt;unk&gt;rot90&lt;unk&gt;at&lt;unk&gt;0x7f4e1c5948b0&gt;]]</td>\n",
       "    </tr>\n",
       "    <tr>\n",
       "      <th>850</th>\n",
       "      <td>850</td>\n",
       "      <td>445eab21</td>\n",
       "      <td>output of x16\\n[&lt;function&lt;unk&gt;identity&lt;unk&gt;at&lt;unk&gt;0x7f4e1c54c9d0&gt;&lt;function&lt;unk&gt;dmirror&lt;unk&gt;at&lt;unk&gt;0x7f4e1c594b80&gt;&lt;function&lt;unk&gt;cmirror&lt;unk&gt;at&lt;unk&gt;0x7f4e1c594c10&gt;&lt;function&lt;unk&gt;hmirror&lt;unk&gt;at&lt;unk&gt;0x7f4e1c594a60&gt;]</td>\n",
       "    </tr>\n",
       "    <tr>\n",
       "      <th>936</th>\n",
       "      <td>936</td>\n",
       "      <td>484b58aa</td>\n",
       "      <td>output of x8\\nfrozenset[{&lt;function&lt;unk&gt;chain.&lt;locals&gt;.&lt;lambda&gt;&lt;unk&gt;at&lt;unk&gt;0x7f4e190fd240&gt;}]</td>\n",
       "    </tr>\n",
       "    <tr>\n",
       "      <th>957</th>\n",
       "      <td>957</td>\n",
       "      <td>4938f0c2</td>\n",
       "      <td>output of x5\\n[&lt;function&lt;unk&gt;identity&lt;unk&gt;at&lt;unk&gt;0x7f4e1c54c9d0&gt;&lt;function&lt;unk&gt;dmirror&lt;unk&gt;at&lt;unk&gt;0x7f4e1c594b80&gt;&lt;function&lt;unk&gt;cmirror&lt;unk&gt;at&lt;unk&gt;0x7f4e1c594c10&gt;&lt;function&lt;unk&gt;hmirror&lt;unk&gt;at&lt;unk&gt;0x7f4e1c594a60&gt;]</td>\n",
       "    </tr>\n",
       "    <tr>\n",
       "      <th>1005</th>\n",
       "      <td>1005</td>\n",
       "      <td>50846271</td>\n",
       "      <td>output of x22\\n[[&lt;function&lt;unk&gt;identity&lt;unk&gt;at&lt;unk&gt;0x7f4e1c54c9d0&gt;&lt;function&lt;unk&gt;identity&lt;unk&gt;at&lt;unk&gt;0x7f4e1c54c9d0&gt;][&lt;function&lt;unk&gt;rot90&lt;unk&gt;at&lt;unk&gt;0x7f4e1c5948b0&gt;&lt;function&lt;unk&gt;rot270&lt;unk&gt;at&lt;unk&gt;0x7f4e1c5949d0&gt;][&lt;function&lt;unk&gt;rot180&lt;unk&gt;at&lt;unk&gt;0x7f4e1c594940&gt;&lt;function&lt;unk&gt;rot180&lt;unk&gt;at&lt;unk&gt;0x7f4e1c594940&gt;][&lt;function&lt;unk&gt;rot270&lt;unk&gt;at&lt;unk&gt;0x7f4e1c5949d0&gt;&lt;function&lt;unk&gt;rot90&lt;unk&gt;at&lt;unk&gt;0x7f4e1c5948b0&gt;]]</td>\n",
       "    </tr>\n",
       "    <tr>\n",
       "      <th>1030</th>\n",
       "      <td>1030</td>\n",
       "      <td>5117e062</td>\n",
       "      <td>output of x5\\n[&lt;function&lt;unk&gt;identity&lt;unk&gt;at&lt;unk&gt;0x7f4e1c54c9d0&gt;&lt;function&lt;unk&gt;dmirror&lt;unk&gt;at&lt;unk&gt;0x7f4e1c594b80&gt;&lt;function&lt;unk&gt;cmirror&lt;unk&gt;at&lt;unk&gt;0x7f4e1c594c10&gt;&lt;function&lt;unk&gt;hmirror&lt;unk&gt;at&lt;unk&gt;0x7f4e1c594a60&gt;]</td>\n",
       "    </tr>\n",
       "    <tr>\n",
       "      <th>1135</th>\n",
       "      <td>1135</td>\n",
       "      <td>5ad4f10b</td>\n",
       "      <td>output of x30\\n[[frozenset[{[11][22][00]}]&lt;function&lt;unk&gt;dmirror&lt;unk&gt;at&lt;unk&gt;0x7f4e1c594b80&gt;][frozenset[{[11][02][20]}]&lt;function&lt;unk&gt;cmirror&lt;unk&gt;at&lt;unk&gt;0x7f4e1c594c10&gt;][frozenset[{[01][11][21]}]&lt;function&lt;unk&gt;vmirror&lt;unk&gt;at&lt;unk&gt;0x7f4e1c594af0&gt;][frozenset[{[10][11][12]}]&lt;function&lt;unk&gt;hmirror&lt;unk&gt;at&lt;unk&gt;0x7f4e1c594a60&gt;]]</td>\n",
       "    </tr>\n",
       "    <tr>\n",
       "      <th>1186</th>\n",
       "      <td>1186</td>\n",
       "      <td>6150a2bd</td>\n",
       "      <td>output of x6\\n[[&lt;function&lt;unk&gt;identity&lt;unk&gt;at&lt;unk&gt;0x7f4e1c54c9d0&gt;&lt;function&lt;unk&gt;identity&lt;unk&gt;at&lt;unk&gt;0x7f4e1c54c9d0&gt;][&lt;function&lt;unk&gt;rot90&lt;unk&gt;at&lt;unk&gt;0x7f4e1c5948b0&gt;&lt;function&lt;unk&gt;rot270&lt;unk&gt;at&lt;unk&gt;0x7f4e1c5949d0&gt;][&lt;function&lt;unk&gt;rot180&lt;unk&gt;at&lt;unk&gt;0x7f4e1c594940&gt;&lt;function&lt;unk&gt;rot180&lt;unk&gt;at&lt;unk&gt;0x7f4e1c594940&gt;][&lt;function&lt;unk&gt;rot270&lt;unk&gt;at&lt;unk&gt;0x7f4e1c5949d0&gt;&lt;function&lt;unk&gt;rot90&lt;unk&gt;at&lt;unk&gt;0x7f4e1c5948b0&gt;]]</td>\n",
       "    </tr>\n",
       "    <tr>\n",
       "      <th>1276</th>\n",
       "      <td>1276</td>\n",
       "      <td>67a3c6ac</td>\n",
       "      <td>output of x16\\n[&lt;function&lt;unk&gt;identity&lt;unk&gt;at&lt;unk&gt;0x7f4e1c54c9d0&gt;&lt;function&lt;unk&gt;dmirror&lt;unk&gt;at&lt;unk&gt;0x7f4e1c594b80&gt;&lt;function&lt;unk&gt;cmirror&lt;unk&gt;at&lt;unk&gt;0x7f4e1c594c10&gt;&lt;function&lt;unk&gt;hmirror&lt;unk&gt;at&lt;unk&gt;0x7f4e1c594a60&gt;]</td>\n",
       "    </tr>\n",
       "    <tr>\n",
       "      <th>1297</th>\n",
       "      <td>1297</td>\n",
       "      <td>681b3aeb</td>\n",
       "      <td>output of x48\\nfrozenset[{[3&lt;function&lt;unk&gt;cmirror&lt;unk&gt;at&lt;unk&gt;0x7f4e1c594c10&gt;][4&lt;function&lt;unk&gt;identity&lt;unk&gt;at&lt;unk&gt;0x7f4e1c54c9d0&gt;][1&lt;function&lt;unk&gt;identity&lt;unk&gt;at&lt;unk&gt;0x7f4e1c54c9d0&gt;][2&lt;function&lt;unk&gt;hmirror&lt;unk&gt;at&lt;unk&gt;0x7f4e1c594a60&gt;][3&lt;function&lt;unk&gt;identity&lt;unk&gt;at&lt;unk&gt;0x7f4e1c54c9d0&gt;][2&lt;function&lt;unk&gt;vmirror&lt;unk&gt;at&lt;unk&gt;0x7f4e1c594af0&gt;][2&lt;function&lt;unk&gt;dmirror&lt;unk&gt;at&lt;unk&gt;0x7f4e1c594b80&gt;][2&lt;function&lt;unk&gt;cmirror&lt;unk&gt;at&lt;unk&gt;0x7f4e1c594c10&gt;][4&lt;function&lt;unk&gt;hmirror&lt;unk&gt;at&lt;unk&gt;0x7f4e1c594a60&gt;][4&lt;function&lt;unk&gt;vmirror&lt;unk&gt;at&lt;unk&gt;0x7f4e1c594af0&gt;][4&lt;function&lt;unk&gt;dmirror&lt;unk&gt;at&lt;unk&gt;0x7f4e1c594b80&gt;][1&lt;function&lt;unk&gt;hmirror&lt;unk&gt;at&lt;unk&gt;0x7f4e1c594a60&gt;][4&lt;function&lt;unk&gt;cmirror&lt;unk&gt;at&lt;unk&gt;0x7f4e1c594c10&gt;][1&lt;function&lt;unk&gt;vmirror&lt;unk&gt;at&lt;unk&gt;0x7f4e1c594af0&gt;][1&lt;function&lt;unk&gt;dmirror&lt;unk&gt;at&lt;unk&gt;0x7f4e1c594b80&gt;][1&lt;function&lt;unk&gt;cmirror&lt;unk&gt;at&lt;unk&gt;0x7f4e1c594c10&gt;][3&lt;function&lt;unk&gt;hmirror&lt;unk&gt;at&lt;unk&gt;0x7f4e1c594a60&gt;][2&lt;function&lt;unk&gt;identity&lt;unk&gt;at&lt;unk&gt;0x7f4e1c54c9d0&gt;][3&lt;function&lt;unk&gt;vmirror&lt;unk&gt;at&lt;unk&gt;0x7f4e1c594af...</td>\n",
       "    </tr>\n",
       "    <tr>\n",
       "      <th>1351</th>\n",
       "      <td>1351</td>\n",
       "      <td>6c434453</td>\n",
       "      <td>output of x2\\n[&lt;function&lt;unk&gt;identity&lt;unk&gt;at&lt;unk&gt;0x7f4e1c54c9d0&gt;&lt;function&lt;unk&gt;dmirror&lt;unk&gt;at&lt;unk&gt;0x7f4e1c594b80&gt;&lt;function&lt;unk&gt;cmirror&lt;unk&gt;at&lt;unk&gt;0x7f4e1c594c10&gt;&lt;function&lt;unk&gt;hmirror&lt;unk&gt;at&lt;unk&gt;0x7f4e1c594a60&gt;]</td>\n",
       "    </tr>\n",
       "    <tr>\n",
       "      <th>1376</th>\n",
       "      <td>1376</td>\n",
       "      <td>6d0160f0</td>\n",
       "      <td>output of x16\\n[&lt;function&lt;unk&gt;identity&lt;unk&gt;at&lt;unk&gt;0x7f4e1c54c9d0&gt;&lt;function&lt;unk&gt;dmirror&lt;unk&gt;at&lt;unk&gt;0x7f4e1c594b80&gt;&lt;function&lt;unk&gt;cmirror&lt;unk&gt;at&lt;unk&gt;0x7f4e1c594c10&gt;&lt;function&lt;unk&gt;hmirror&lt;unk&gt;at&lt;unk&gt;0x7f4e1c594a60&gt;]</td>\n",
       "    </tr>\n",
       "    <tr>\n",
       "      <th>1388</th>\n",
       "      <td>1388</td>\n",
       "      <td>6d0aefbc</td>\n",
       "      <td>output of x22\\n[[&lt;function&lt;unk&gt;identity&lt;unk&gt;at&lt;unk&gt;0x7f4e1c54c9d0&gt;&lt;function&lt;unk&gt;identity&lt;unk&gt;at&lt;unk&gt;0x7f4e1c54c9d0&gt;][&lt;function&lt;unk&gt;rot90&lt;unk&gt;at&lt;unk&gt;0x7f4e1c5948b0&gt;&lt;function&lt;unk&gt;rot270&lt;unk&gt;at&lt;unk&gt;0x7f4e1c5949d0&gt;][&lt;function&lt;unk&gt;rot180&lt;unk&gt;at&lt;unk&gt;0x7f4e1c594940&gt;&lt;function&lt;unk&gt;rot180&lt;unk&gt;at&lt;unk&gt;0x7f4e1c594940&gt;][&lt;function&lt;unk&gt;rot270&lt;unk&gt;at&lt;unk&gt;0x7f4e1c5949d0&gt;&lt;function&lt;unk&gt;rot90&lt;unk&gt;at&lt;unk&gt;0x7f4e1c5948b0&gt;]]</td>\n",
       "    </tr>\n",
       "    <tr>\n",
       "      <th>1453</th>\n",
       "      <td>1453</td>\n",
       "      <td>6fa7a44f</td>\n",
       "      <td>output of x3\\nfrozenset[{&lt;function&lt;unk&gt;rbind.&lt;locals&gt;.&lt;lambda&gt;&lt;unk&gt;at&lt;unk&gt;0x7f4e1a9c9480&gt;}]</td>\n",
       "    </tr>\n",
       "    <tr>\n",
       "      <th>1477</th>\n",
       "      <td>1477</td>\n",
       "      <td>73251a56</td>\n",
       "      <td>output of x30\\n[[frozenset[{[2020][22][1111][77][1616][33][1212][88][1717][1313][1818][44][55][1414][00][99][11][1010][1919][66][1515]}]&lt;function&lt;unk&gt;dmirror&lt;unk&gt;at&lt;unk&gt;0x7f4e1c594b80&gt;][frozenset[{[173][812][911][164][155][020][614][713][146][515][137][200][128][416][317][191][119][1010][218][182][119]}]&lt;function&lt;unk&gt;cmirror&lt;unk&gt;at&lt;unk&gt;0x7f4e1c594c10&gt;][frozenset[{[1210][310][1410][510][1610][710][1810][2010][910][010][1110][210][1310][1510][610][410][1710][810][1910][1010][110]}]&lt;function&lt;unk&gt;vmirror&lt;unk&gt;at&lt;unk&gt;0x7f4e1c594af0&gt;][frozenset[{[100][106][103][109][1012][1018][1015][102][105][1011][108][1014][1017][1020][104][101][107][1013][1010][1016][1019]}]&lt;function&lt;unk&gt;hmirror&lt;unk&gt;at&lt;unk&gt;0x7f4e1c594a60&gt;]]</td>\n",
       "    </tr>\n",
       "    <tr>\n",
       "      <th>1485</th>\n",
       "      <td>1485</td>\n",
       "      <td>7447852a</td>\n",
       "      <td>output of x5\\n[&lt;function&lt;unk&gt;identity&lt;unk&gt;at&lt;unk&gt;0x7f4e1c54c9d0&gt;&lt;function&lt;unk&gt;dmirror&lt;unk&gt;at&lt;unk&gt;0x7f4e1c594b80&gt;&lt;function&lt;unk&gt;cmirror&lt;unk&gt;at&lt;unk&gt;0x7f4e1c594c10&gt;&lt;function&lt;unk&gt;hmirror&lt;unk&gt;at&lt;unk&gt;0x7f4e1c594a60&gt;]</td>\n",
       "    </tr>\n",
       "    <tr>\n",
       "      <th>1503</th>\n",
       "      <td>1503</td>\n",
       "      <td>746b3537</td>\n",
       "      <td>output of x13\\n[[&lt;function&lt;unk&gt;identity&lt;unk&gt;at&lt;unk&gt;0x7f4e1c54c9d0&gt;&lt;function&lt;unk&gt;identity&lt;unk&gt;at&lt;unk&gt;0x7f4e1c54c9d0&gt;][&lt;function&lt;unk&gt;rot90&lt;unk&gt;at&lt;unk&gt;0x7f4e1c5948b0&gt;&lt;function&lt;unk&gt;rot270&lt;unk&gt;at&lt;unk&gt;0x7f4e1c5949d0&gt;][&lt;function&lt;unk&gt;rot180&lt;unk&gt;at&lt;unk&gt;0x7f4e1c594940&gt;&lt;function&lt;unk&gt;rot180&lt;unk&gt;at&lt;unk&gt;0x7f4e1c594940&gt;][&lt;function&lt;unk&gt;rot270&lt;unk&gt;at&lt;unk&gt;0x7f4e1c5949d0&gt;&lt;function&lt;unk&gt;rot90&lt;unk&gt;at&lt;unk&gt;0x7f4e1c5948b0&gt;]]</td>\n",
       "    </tr>\n",
       "    <tr>\n",
       "      <th>1590</th>\n",
       "      <td>1590</td>\n",
       "      <td>794b24be</td>\n",
       "      <td>output of x22\\n[[&lt;function&lt;unk&gt;identity&lt;unk&gt;at&lt;unk&gt;0x7f4e1c54c9d0&gt;&lt;function&lt;unk&gt;identity&lt;unk&gt;at&lt;unk&gt;0x7f4e1c54c9d0&gt;][&lt;function&lt;unk&gt;rot90&lt;unk&gt;at&lt;unk&gt;0x7f4e1c5948b0&gt;&lt;function&lt;unk&gt;rot270&lt;unk&gt;at&lt;unk&gt;0x7f4e1c5949d0&gt;][&lt;function&lt;unk&gt;rot180&lt;unk&gt;at&lt;unk&gt;0x7f4e1c594940&gt;&lt;function&lt;unk&gt;rot180&lt;unk&gt;at&lt;unk&gt;0x7f4e1c594940&gt;][&lt;function&lt;unk&gt;rot270&lt;unk&gt;at&lt;unk&gt;0x7f4e1c5949d0&gt;&lt;function&lt;unk&gt;rot90&lt;unk&gt;at&lt;unk&gt;0x7f4e1c5948b0&gt;]]</td>\n",
       "    </tr>\n",
       "    <tr>\n",
       "      <th>1622</th>\n",
       "      <td>1622</td>\n",
       "      <td>7c008303</td>\n",
       "      <td>output of x2\\n[&lt;function&lt;unk&gt;identity&lt;unk&gt;at&lt;unk&gt;0x7f4e1c54c9d0&gt;&lt;function&lt;unk&gt;dmirror&lt;unk&gt;at&lt;unk&gt;0x7f4e1c594b80&gt;&lt;function&lt;unk&gt;cmirror&lt;unk&gt;at&lt;unk&gt;0x7f4e1c594c10&gt;&lt;function&lt;unk&gt;hmirror&lt;unk&gt;at&lt;unk&gt;0x7f4e1c594a60&gt;]</td>\n",
       "    </tr>\n",
       "    <tr>\n",
       "      <th>1671</th>\n",
       "      <td>1671</td>\n",
       "      <td>80af3007</td>\n",
       "      <td>output of x6\\n[[&lt;function&lt;unk&gt;identity&lt;unk&gt;at&lt;unk&gt;0x7f4e1c54c9d0&gt;&lt;function&lt;unk&gt;identity&lt;unk&gt;at&lt;unk&gt;0x7f4e1c54c9d0&gt;][&lt;function&lt;unk&gt;rot90&lt;unk&gt;at&lt;unk&gt;0x7f4e1c5948b0&gt;&lt;function&lt;unk&gt;rot270&lt;unk&gt;at&lt;unk&gt;0x7f4e1c5949d0&gt;][&lt;function&lt;unk&gt;rot180&lt;unk&gt;at&lt;unk&gt;0x7f4e1c594940&gt;&lt;function&lt;unk&gt;rot180&lt;unk&gt;at&lt;unk&gt;0x7f4e1c594940&gt;][&lt;function&lt;unk&gt;rot270&lt;unk&gt;at&lt;unk&gt;0x7f4e1c5949d0&gt;&lt;function&lt;unk&gt;rot90&lt;unk&gt;at&lt;unk&gt;0x7f4e1c5948b0&gt;]]</td>\n",
       "    </tr>\n",
       "    <tr>\n",
       "      <th>1720</th>\n",
       "      <td>1720</td>\n",
       "      <td>846bdb03</td>\n",
       "      <td>output of x2\\n[&lt;function&lt;unk&gt;identity&lt;unk&gt;at&lt;unk&gt;0x7f4e1c54c9d0&gt;&lt;function&lt;unk&gt;dmirror&lt;unk&gt;at&lt;unk&gt;0x7f4e1c594b80&gt;&lt;function&lt;unk&gt;cmirror&lt;unk&gt;at&lt;unk&gt;0x7f4e1c594c10&gt;&lt;function&lt;unk&gt;hmirror&lt;unk&gt;at&lt;unk&gt;0x7f4e1c594a60&gt;]</td>\n",
       "    </tr>\n",
       "    <tr>\n",
       "      <th>1825</th>\n",
       "      <td>1825</td>\n",
       "      <td>8e1813be</td>\n",
       "      <td>output of x22\\n[[&lt;function&lt;unk&gt;identity&lt;unk&gt;at&lt;unk&gt;0x7f4e1c54c9d0&gt;&lt;function&lt;unk&gt;identity&lt;unk&gt;at&lt;unk&gt;0x7f4e1c54c9d0&gt;][&lt;function&lt;unk&gt;rot90&lt;unk&gt;at&lt;unk&gt;0x7f4e1c5948b0&gt;&lt;function&lt;unk&gt;rot270&lt;unk&gt;at&lt;unk&gt;0x7f4e1c5949d0&gt;][&lt;function&lt;unk&gt;rot180&lt;unk&gt;at&lt;unk&gt;0x7f4e1c594940&gt;&lt;function&lt;unk&gt;rot180&lt;unk&gt;at&lt;unk&gt;0x7f4e1c594940&gt;][&lt;function&lt;unk&gt;rot270&lt;unk&gt;at&lt;unk&gt;0x7f4e1c5949d0&gt;&lt;function&lt;unk&gt;rot90&lt;unk&gt;at&lt;unk&gt;0x7f4e1c5948b0&gt;]]</td>\n",
       "    </tr>\n",
       "    <tr>\n",
       "      <th>1869</th>\n",
       "      <td>1869</td>\n",
       "      <td>90f3ed37</td>\n",
       "      <td>output of x6\\n[[&lt;function&lt;unk&gt;identity&lt;unk&gt;at&lt;unk&gt;0x7f4e1c54c9d0&gt;&lt;function&lt;unk&gt;identity&lt;unk&gt;at&lt;unk&gt;0x7f4e1c54c9d0&gt;][&lt;function&lt;unk&gt;rot90&lt;unk&gt;at&lt;unk&gt;0x7f4e1c5948b0&gt;&lt;function&lt;unk&gt;rot270&lt;unk&gt;at&lt;unk&gt;0x7f4e1c5949d0&gt;][&lt;function&lt;unk&gt;rot180&lt;unk&gt;at&lt;unk&gt;0x7f4e1c594940&gt;&lt;function&lt;unk&gt;rot180&lt;unk&gt;at&lt;unk&gt;0x7f4e1c594940&gt;][&lt;function&lt;unk&gt;rot270&lt;unk&gt;at&lt;unk&gt;0x7f4e1c5949d0&gt;&lt;function&lt;unk&gt;rot90&lt;unk&gt;at&lt;unk&gt;0x7f4e1c5948b0&gt;]]</td>\n",
       "    </tr>\n",
       "    <tr>\n",
       "      <th>1942</th>\n",
       "      <td>1942</td>\n",
       "      <td>952a094c</td>\n",
       "      <td>output of x2\\n[&lt;function&lt;unk&gt;identity&lt;unk&gt;at&lt;unk&gt;0x7f4e1c54c9d0&gt;&lt;function&lt;unk&gt;cmirror&lt;unk&gt;at&lt;unk&gt;0x7f4e1c594c10&gt;&lt;function&lt;unk&gt;hmirror&lt;unk&gt;at&lt;unk&gt;0x7f4e1c594a60&gt;&lt;function&lt;unk&gt;vmirror&lt;unk&gt;at&lt;unk&gt;0x7f4e1c594af0&gt;]</td>\n",
       "    </tr>\n",
       "    <tr>\n",
       "      <th>1999</th>\n",
       "      <td>1999</td>\n",
       "      <td>98cf29f8</td>\n",
       "      <td>output of x6\\n[[&lt;function&lt;unk&gt;identity&lt;unk&gt;at&lt;unk&gt;0x7f4e1c54c9d0&gt;&lt;function&lt;unk&gt;identity&lt;unk&gt;at&lt;unk&gt;0x7f4e1c54c9d0&gt;][&lt;function&lt;unk&gt;rot90&lt;unk&gt;at&lt;unk&gt;0x7f4e1c5948b0&gt;&lt;function&lt;unk&gt;rot270&lt;unk&gt;at&lt;unk&gt;0x7f4e1c5949d0&gt;][&lt;function&lt;unk&gt;rot180&lt;unk&gt;at&lt;unk&gt;0x7f4e1c594940&gt;&lt;function&lt;unk&gt;rot180&lt;unk&gt;at&lt;unk&gt;0x7f4e1c594940&gt;][&lt;function&lt;unk&gt;rot270&lt;unk&gt;at&lt;unk&gt;0x7f4e1c5949d0&gt;&lt;function&lt;unk&gt;rot90&lt;unk&gt;at&lt;unk&gt;0x7f4e1c5948b0&gt;]]</td>\n",
       "    </tr>\n",
       "    <tr>\n",
       "      <th>2015</th>\n",
       "      <td>2015</td>\n",
       "      <td>99b1bc43</td>\n",
       "      <td>output of x6\\n[[&lt;function&lt;unk&gt;identity&lt;unk&gt;at&lt;unk&gt;0x7f4e1c54c9d0&gt;&lt;function&lt;unk&gt;identity&lt;unk&gt;at&lt;unk&gt;0x7f4e1c54c9d0&gt;][&lt;function&lt;unk&gt;rot90&lt;unk&gt;at&lt;unk&gt;0x7f4e1c5948b0&gt;&lt;function&lt;unk&gt;rot270&lt;unk&gt;at&lt;unk&gt;0x7f4e1c5949d0&gt;][&lt;function&lt;unk&gt;rot180&lt;unk&gt;at&lt;unk&gt;0x7f4e1c594940&gt;&lt;function&lt;unk&gt;rot180&lt;unk&gt;at&lt;unk&gt;0x7f4e1c594940&gt;][&lt;function&lt;unk&gt;rot270&lt;unk&gt;at&lt;unk&gt;0x7f4e1c5949d0&gt;&lt;function&lt;unk&gt;rot90&lt;unk&gt;at&lt;unk&gt;0x7f4e1c5948b0&gt;]]</td>\n",
       "    </tr>\n",
       "    <tr>\n",
       "      <th>2164</th>\n",
       "      <td>2164</td>\n",
       "      <td>a61f2674</td>\n",
       "      <td>output of x48\\nfrozenset[{[3&lt;function&lt;unk&gt;cmirror&lt;unk&gt;at&lt;unk&gt;0x7f4e1c594c10&gt;][4&lt;function&lt;unk&gt;identity&lt;unk&gt;at&lt;unk&gt;0x7f4e1c54c9d0&gt;][1&lt;function&lt;unk&gt;identity&lt;unk&gt;at&lt;unk&gt;0x7f4e1c54c9d0&gt;][2&lt;function&lt;unk&gt;hmirror&lt;unk&gt;at&lt;unk&gt;0x7f4e1c594a60&gt;][3&lt;function&lt;unk&gt;identity&lt;unk&gt;at&lt;unk&gt;0x7f4e1c54c9d0&gt;][2&lt;function&lt;unk&gt;vmirror&lt;unk&gt;at&lt;unk&gt;0x7f4e1c594af0&gt;][2&lt;function&lt;unk&gt;dmirror&lt;unk&gt;at&lt;unk&gt;0x7f4e1c594b80&gt;][2&lt;function&lt;unk&gt;cmirror&lt;unk&gt;at&lt;unk&gt;0x7f4e1c594c10&gt;][4&lt;function&lt;unk&gt;hmirror&lt;unk&gt;at&lt;unk&gt;0x7f4e1c594a60&gt;][4&lt;function&lt;unk&gt;vmirror&lt;unk&gt;at&lt;unk&gt;0x7f4e1c594af0&gt;][4&lt;function&lt;unk&gt;dmirror&lt;unk&gt;at&lt;unk&gt;0x7f4e1c594b80&gt;][1&lt;function&lt;unk&gt;hmirror&lt;unk&gt;at&lt;unk&gt;0x7f4e1c594a60&gt;][4&lt;function&lt;unk&gt;cmirror&lt;unk&gt;at&lt;unk&gt;0x7f4e1c594c10&gt;][1&lt;function&lt;unk&gt;vmirror&lt;unk&gt;at&lt;unk&gt;0x7f4e1c594af0&gt;][1&lt;function&lt;unk&gt;dmirror&lt;unk&gt;at&lt;unk&gt;0x7f4e1c594b80&gt;][1&lt;function&lt;unk&gt;cmirror&lt;unk&gt;at&lt;unk&gt;0x7f4e1c594c10&gt;][3&lt;function&lt;unk&gt;hmirror&lt;unk&gt;at&lt;unk&gt;0x7f4e1c594a60&gt;][2&lt;function&lt;unk&gt;identity&lt;unk&gt;at&lt;unk&gt;0x7f4e1c54c9d0&gt;][3&lt;function&lt;unk&gt;vmirror&lt;unk&gt;at&lt;unk&gt;0x7f4e1c594af...</td>\n",
       "    </tr>\n",
       "    <tr>\n",
       "      <th>2217</th>\n",
       "      <td>2217</td>\n",
       "      <td>a78176bb</td>\n",
       "      <td>output of x48\\nfrozenset[{[3&lt;function&lt;unk&gt;cmirror&lt;unk&gt;at&lt;unk&gt;0x7f4e1c594c10&gt;][4&lt;function&lt;unk&gt;identity&lt;unk&gt;at&lt;unk&gt;0x7f4e1c54c9d0&gt;][1&lt;function&lt;unk&gt;identity&lt;unk&gt;at&lt;unk&gt;0x7f4e1c54c9d0&gt;][2&lt;function&lt;unk&gt;hmirror&lt;unk&gt;at&lt;unk&gt;0x7f4e1c594a60&gt;][3&lt;function&lt;unk&gt;identity&lt;unk&gt;at&lt;unk&gt;0x7f4e1c54c9d0&gt;][2&lt;function&lt;unk&gt;vmirror&lt;unk&gt;at&lt;unk&gt;0x7f4e1c594af0&gt;][2&lt;function&lt;unk&gt;dmirror&lt;unk&gt;at&lt;unk&gt;0x7f4e1c594b80&gt;][2&lt;function&lt;unk&gt;cmirror&lt;unk&gt;at&lt;unk&gt;0x7f4e1c594c10&gt;][4&lt;function&lt;unk&gt;hmirror&lt;unk&gt;at&lt;unk&gt;0x7f4e1c594a60&gt;][4&lt;function&lt;unk&gt;vmirror&lt;unk&gt;at&lt;unk&gt;0x7f4e1c594af0&gt;][4&lt;function&lt;unk&gt;dmirror&lt;unk&gt;at&lt;unk&gt;0x7f4e1c594b80&gt;][1&lt;function&lt;unk&gt;hmirror&lt;unk&gt;at&lt;unk&gt;0x7f4e1c594a60&gt;][4&lt;function&lt;unk&gt;cmirror&lt;unk&gt;at&lt;unk&gt;0x7f4e1c594c10&gt;][1&lt;function&lt;unk&gt;vmirror&lt;unk&gt;at&lt;unk&gt;0x7f4e1c594af0&gt;][1&lt;function&lt;unk&gt;dmirror&lt;unk&gt;at&lt;unk&gt;0x7f4e1c594b80&gt;][1&lt;function&lt;unk&gt;cmirror&lt;unk&gt;at&lt;unk&gt;0x7f4e1c594c10&gt;][3&lt;function&lt;unk&gt;hmirror&lt;unk&gt;at&lt;unk&gt;0x7f4e1c594a60&gt;][2&lt;function&lt;unk&gt;identity&lt;unk&gt;at&lt;unk&gt;0x7f4e1c54c9d0&gt;][3&lt;function&lt;unk&gt;vmirror&lt;unk&gt;at&lt;unk&gt;0x7f4e1c594af...</td>\n",
       "    </tr>\n",
       "    <tr>\n",
       "      <th>2266</th>\n",
       "      <td>2266</td>\n",
       "      <td>a9f96cdd</td>\n",
       "      <td>output of x30\\n[[frozenset[]&lt;function&lt;unk&gt;dmirror&lt;unk&gt;at&lt;unk&gt;0x7f4e1c594b80&gt;][frozenset[]&lt;function&lt;unk&gt;cmirror&lt;unk&gt;at&lt;unk&gt;0x7f4e1c594c10&gt;][frozenset[{[02][12][22]}]&lt;function&lt;unk&gt;vmirror&lt;unk&gt;at&lt;unk&gt;0x7f4e1c594af0&gt;][frozenset[{[12][11][14][10][13]}]&lt;function&lt;unk&gt;hmirror&lt;unk&gt;at&lt;unk&gt;0x7f4e1c594a60&gt;]]</td>\n",
       "    </tr>\n",
       "    <tr>\n",
       "      <th>2327</th>\n",
       "      <td>2327</td>\n",
       "      <td>af902bf9</td>\n",
       "      <td>output of x3\\n[&lt;function&lt;unk&gt;dmirror&lt;unk&gt;at&lt;unk&gt;0x7f4e1c594b80&gt;&lt;function&lt;unk&gt;cmirror&lt;unk&gt;at&lt;unk&gt;0x7f4e1c594c10&gt;&lt;function&lt;unk&gt;hmirror&lt;unk&gt;at&lt;unk&gt;0x7f4e1c594a60&gt;&lt;function&lt;unk&gt;identity&lt;unk&gt;at&lt;unk&gt;0x7f4e1c54c9d0&gt;]</td>\n",
       "    </tr>\n",
       "    <tr>\n",
       "      <th>2378</th>\n",
       "      <td>2378</td>\n",
       "      <td>b2862040</td>\n",
       "      <td>output of x13\\n[[&lt;function&lt;unk&gt;identity&lt;unk&gt;at&lt;unk&gt;0x7f4e1c54c9d0&gt;&lt;function&lt;unk&gt;identity&lt;unk&gt;at&lt;unk&gt;0x7f4e1c54c9d0&gt;][&lt;function&lt;unk&gt;rot90&lt;unk&gt;at&lt;unk&gt;0x7f4e1c5948b0&gt;&lt;function&lt;unk&gt;rot270&lt;unk&gt;at&lt;unk&gt;0x7f4e1c5949d0&gt;][&lt;function&lt;unk&gt;rot180&lt;unk&gt;at&lt;unk&gt;0x7f4e1c594940&gt;&lt;function&lt;unk&gt;rot180&lt;unk&gt;at&lt;unk&gt;0x7f4e1c594940&gt;][&lt;function&lt;unk&gt;rot270&lt;unk&gt;at&lt;unk&gt;0x7f4e1c5949d0&gt;&lt;function&lt;unk&gt;rot90&lt;unk&gt;at&lt;unk&gt;0x7f4e1c5948b0&gt;]]</td>\n",
       "    </tr>\n",
       "    <tr>\n",
       "      <th>2397</th>\n",
       "      <td>2397</td>\n",
       "      <td>b527c5c6</td>\n",
       "      <td>output of x6\\n[[&lt;function&lt;unk&gt;identity&lt;unk&gt;at&lt;unk&gt;0x7f4e1c54c9d0&gt;&lt;function&lt;unk&gt;identity&lt;unk&gt;at&lt;unk&gt;0x7f4e1c54c9d0&gt;][&lt;function&lt;unk&gt;rot90&lt;unk&gt;at&lt;unk&gt;0x7f4e1c5948b0&gt;&lt;function&lt;unk&gt;rot270&lt;unk&gt;at&lt;unk&gt;0x7f4e1c5949d0&gt;][&lt;function&lt;unk&gt;rot180&lt;unk&gt;at&lt;unk&gt;0x7f4e1c594940&gt;&lt;function&lt;unk&gt;rot180&lt;unk&gt;at&lt;unk&gt;0x7f4e1c594940&gt;][&lt;function&lt;unk&gt;rot270&lt;unk&gt;at&lt;unk&gt;0x7f4e1c5949d0&gt;&lt;function&lt;unk&gt;rot90&lt;unk&gt;at&lt;unk&gt;0x7f4e1c5948b0&gt;]]</td>\n",
       "    </tr>\n",
       "    <tr>\n",
       "      <th>2403</th>\n",
       "      <td>2403</td>\n",
       "      <td>b548a754</td>\n",
       "      <td>output of x3\\n[&lt;function&lt;unk&gt;dmirror&lt;unk&gt;at&lt;unk&gt;0x7f4e1c594b80&gt;&lt;function&lt;unk&gt;cmirror&lt;unk&gt;at&lt;unk&gt;0x7f4e1c594c10&gt;&lt;function&lt;unk&gt;hmirror&lt;unk&gt;at&lt;unk&gt;0x7f4e1c594a60&gt;&lt;function&lt;unk&gt;identity&lt;unk&gt;at&lt;unk&gt;0x7f4e1c54c9d0&gt;]</td>\n",
       "    </tr>\n",
       "    <tr>\n",
       "      <th>2433</th>\n",
       "      <td>2433</td>\n",
       "      <td>b775ac94</td>\n",
       "      <td>output of x16\\n[&lt;function&lt;unk&gt;identity&lt;unk&gt;at&lt;unk&gt;0x7f4e1c54c9d0&gt;&lt;function&lt;unk&gt;dmirror&lt;unk&gt;at&lt;unk&gt;0x7f4e1c594b80&gt;&lt;function&lt;unk&gt;cmirror&lt;unk&gt;at&lt;unk&gt;0x7f4e1c594c10&gt;&lt;function&lt;unk&gt;hmirror&lt;unk&gt;at&lt;unk&gt;0x7f4e1c594a60&gt;]</td>\n",
       "    </tr>\n",
       "    <tr>\n",
       "      <th>2560</th>\n",
       "      <td>2560</td>\n",
       "      <td>bdad9b1f</td>\n",
       "      <td>output of x6\\n[[&lt;function&lt;unk&gt;identity&lt;unk&gt;at&lt;unk&gt;0x7f4e1c54c9d0&gt;&lt;function&lt;unk&gt;identity&lt;unk&gt;at&lt;unk&gt;0x7f4e1c54c9d0&gt;][&lt;function&lt;unk&gt;rot90&lt;unk&gt;at&lt;unk&gt;0x7f4e1c5948b0&gt;&lt;function&lt;unk&gt;rot270&lt;unk&gt;at&lt;unk&gt;0x7f4e1c5949d0&gt;][&lt;function&lt;unk&gt;rot180&lt;unk&gt;at&lt;unk&gt;0x7f4e1c594940&gt;&lt;function&lt;unk&gt;rot180&lt;unk&gt;at&lt;unk&gt;0x7f4e1c594940&gt;][&lt;function&lt;unk&gt;rot270&lt;unk&gt;at&lt;unk&gt;0x7f4e1c5949d0&gt;&lt;function&lt;unk&gt;rot90&lt;unk&gt;at&lt;unk&gt;0x7f4e1c5948b0&gt;]]</td>\n",
       "    </tr>\n",
       "    <tr>\n",
       "      <th>2564</th>\n",
       "      <td>2564</td>\n",
       "      <td>be94b721</td>\n",
       "      <td>output of x6\\n[[&lt;function&lt;unk&gt;identity&lt;unk&gt;at&lt;unk&gt;0x7f4e1c54c9d0&gt;&lt;function&lt;unk&gt;identity&lt;unk&gt;at&lt;unk&gt;0x7f4e1c54c9d0&gt;][&lt;function&lt;unk&gt;rot90&lt;unk&gt;at&lt;unk&gt;0x7f4e1c5948b0&gt;&lt;function&lt;unk&gt;rot270&lt;unk&gt;at&lt;unk&gt;0x7f4e1c5949d0&gt;][&lt;function&lt;unk&gt;rot180&lt;unk&gt;at&lt;unk&gt;0x7f4e1c594940&gt;&lt;function&lt;unk&gt;rot180&lt;unk&gt;at&lt;unk&gt;0x7f4e1c594940&gt;][&lt;function&lt;unk&gt;rot270&lt;unk&gt;at&lt;unk&gt;0x7f4e1c5949d0&gt;&lt;function&lt;unk&gt;rot90&lt;unk&gt;at&lt;unk&gt;0x7f4e1c5948b0&gt;]]</td>\n",
       "    </tr>\n",
       "    <tr>\n",
       "      <th>2639</th>\n",
       "      <td>2639</td>\n",
       "      <td>c8f0f002</td>\n",
       "      <td>output of x6\\n[[&lt;function&lt;unk&gt;identity&lt;unk&gt;at&lt;unk&gt;0x7f4e1c54c9d0&gt;&lt;function&lt;unk&gt;identity&lt;unk&gt;at&lt;unk&gt;0x7f4e1c54c9d0&gt;][&lt;function&lt;unk&gt;rot90&lt;unk&gt;at&lt;unk&gt;0x7f4e1c5948b0&gt;&lt;function&lt;unk&gt;rot270&lt;unk&gt;at&lt;unk&gt;0x7f4e1c5949d0&gt;][&lt;function&lt;unk&gt;rot180&lt;unk&gt;at&lt;unk&gt;0x7f4e1c594940&gt;&lt;function&lt;unk&gt;rot180&lt;unk&gt;at&lt;unk&gt;0x7f4e1c594940&gt;][&lt;function&lt;unk&gt;rot270&lt;unk&gt;at&lt;unk&gt;0x7f4e1c5949d0&gt;&lt;function&lt;unk&gt;rot90&lt;unk&gt;at&lt;unk&gt;0x7f4e1c5948b0&gt;]]</td>\n",
       "    </tr>\n",
       "    <tr>\n",
       "      <th>2668</th>\n",
       "      <td>2668</td>\n",
       "      <td>caa06a1f</td>\n",
       "      <td>output of x2\\n[&lt;function&lt;unk&gt;identity&lt;unk&gt;at&lt;unk&gt;0x7f4e1c54c9d0&gt;&lt;function&lt;unk&gt;cmirror&lt;unk&gt;at&lt;unk&gt;0x7f4e1c594c10&gt;&lt;function&lt;unk&gt;hmirror&lt;unk&gt;at&lt;unk&gt;0x7f4e1c594a60&gt;&lt;function&lt;unk&gt;vmirror&lt;unk&gt;at&lt;unk&gt;0x7f4e1c594af0&gt;]</td>\n",
       "    </tr>\n",
       "    <tr>\n",
       "      <th>2688</th>\n",
       "      <td>2688</td>\n",
       "      <td>cce03e0d</td>\n",
       "      <td>output of x22\\n[[&lt;function&lt;unk&gt;identity&lt;unk&gt;at&lt;unk&gt;0x7f4e1c54c9d0&gt;&lt;function&lt;unk&gt;identity&lt;unk&gt;at&lt;unk&gt;0x7f4e1c54c9d0&gt;][&lt;function&lt;unk&gt;rot90&lt;unk&gt;at&lt;unk&gt;0x7f4e1c5948b0&gt;&lt;function&lt;unk&gt;rot270&lt;unk&gt;at&lt;unk&gt;0x7f4e1c5949d0&gt;][&lt;function&lt;unk&gt;rot180&lt;unk&gt;at&lt;unk&gt;0x7f4e1c594940&gt;&lt;function&lt;unk&gt;rot180&lt;unk&gt;at&lt;unk&gt;0x7f4e1c594940&gt;][&lt;function&lt;unk&gt;rot270&lt;unk&gt;at&lt;unk&gt;0x7f4e1c5949d0&gt;&lt;function&lt;unk&gt;rot90&lt;unk&gt;at&lt;unk&gt;0x7f4e1c5948b0&gt;]]</td>\n",
       "    </tr>\n",
       "    <tr>\n",
       "      <th>2705</th>\n",
       "      <td>2705</td>\n",
       "      <td>ce4f8723</td>\n",
       "      <td>output of x8\\nfrozenset[{&lt;function&lt;unk&gt;chain.&lt;locals&gt;.&lt;lambda&gt;&lt;unk&gt;at&lt;unk&gt;0x7f4e19e145e0&gt;}]</td>\n",
       "    </tr>\n",
       "    <tr>\n",
       "      <th>2720</th>\n",
       "      <td>2720</td>\n",
       "      <td>ce602527</td>\n",
       "      <td>output of x3\\nfrozenset[{&lt;function&lt;unk&gt;rbind.&lt;locals&gt;.&lt;lambda&gt;&lt;unk&gt;at&lt;unk&gt;0x7f4e19e15750&gt;}]</td>\n",
       "    </tr>\n",
       "    <tr>\n",
       "      <th>2736</th>\n",
       "      <td>2736</td>\n",
       "      <td>cf98881b</td>\n",
       "      <td>output of x2\\n[&lt;function&lt;unk&gt;identity&lt;unk&gt;at&lt;unk&gt;0x7f4e1c54c9d0&gt;&lt;function&lt;unk&gt;dmirror&lt;unk&gt;at&lt;unk&gt;0x7f4e1c594b80&gt;&lt;function&lt;unk&gt;cmirror&lt;unk&gt;at&lt;unk&gt;0x7f4e1c594c10&gt;&lt;function&lt;unk&gt;hmirror&lt;unk&gt;at&lt;unk&gt;0x7f4e1c594a60&gt;]</td>\n",
       "    </tr>\n",
       "    <tr>\n",
       "      <th>2738</th>\n",
       "      <td>2738</td>\n",
       "      <td>cf98881b</td>\n",
       "      <td>output of x5\\n[&lt;function&lt;unk&gt;identity&lt;unk&gt;at&lt;unk&gt;0x7f4e1c54c9d0&gt;&lt;function&lt;unk&gt;dmirror&lt;unk&gt;at&lt;unk&gt;0x7f4e1c594b80&gt;&lt;function&lt;unk&gt;cmirror&lt;unk&gt;at&lt;unk&gt;0x7f4e1c594c10&gt;&lt;function&lt;unk&gt;hmirror&lt;unk&gt;at&lt;unk&gt;0x7f4e1c594a60&gt;]</td>\n",
       "    </tr>\n",
       "    <tr>\n",
       "      <th>2749</th>\n",
       "      <td>2749</td>\n",
       "      <td>d037b0a7</td>\n",
       "      <td>output of x5\\n[&lt;function&lt;unk&gt;identity&lt;unk&gt;at&lt;unk&gt;0x7f4e1c54c9d0&gt;&lt;function&lt;unk&gt;dmirror&lt;unk&gt;at&lt;unk&gt;0x7f4e1c594b80&gt;&lt;function&lt;unk&gt;cmirror&lt;unk&gt;at&lt;unk&gt;0x7f4e1c594c10&gt;&lt;function&lt;unk&gt;hmirror&lt;unk&gt;at&lt;unk&gt;0x7f4e1c594a60&gt;]</td>\n",
       "    </tr>\n",
       "    <tr>\n",
       "      <th>2750</th>\n",
       "      <td>2750</td>\n",
       "      <td>d037b0a7</td>\n",
       "      <td>output of x2\\n[&lt;function&lt;unk&gt;identity&lt;unk&gt;at&lt;unk&gt;0x7f4e1c54c9d0&gt;&lt;function&lt;unk&gt;dmirror&lt;unk&gt;at&lt;unk&gt;0x7f4e1c594b80&gt;&lt;function&lt;unk&gt;cmirror&lt;unk&gt;at&lt;unk&gt;0x7f4e1c594c10&gt;&lt;function&lt;unk&gt;hmirror&lt;unk&gt;at&lt;unk&gt;0x7f4e1c594a60&gt;]</td>\n",
       "    </tr>\n",
       "    <tr>\n",
       "      <th>2808</th>\n",
       "      <td>2808</td>\n",
       "      <td>d2abd087</td>\n",
       "      <td>output of x22\\n[[&lt;function&lt;unk&gt;identity&lt;unk&gt;at&lt;unk&gt;0x7f4e1c54c9d0&gt;&lt;function&lt;unk&gt;identity&lt;unk&gt;at&lt;unk&gt;0x7f4e1c54c9d0&gt;][&lt;function&lt;unk&gt;rot90&lt;unk&gt;at&lt;unk&gt;0x7f4e1c5948b0&gt;&lt;function&lt;unk&gt;rot270&lt;unk&gt;at&lt;unk&gt;0x7f4e1c5949d0&gt;][&lt;function&lt;unk&gt;rot180&lt;unk&gt;at&lt;unk&gt;0x7f4e1c594940&gt;&lt;function&lt;unk&gt;rot180&lt;unk&gt;at&lt;unk&gt;0x7f4e1c594940&gt;][&lt;function&lt;unk&gt;rot270&lt;unk&gt;at&lt;unk&gt;0x7f4e1c5949d0&gt;&lt;function&lt;unk&gt;rot90&lt;unk&gt;at&lt;unk&gt;0x7f4e1c5948b0&gt;]]</td>\n",
       "    </tr>\n",
       "    <tr>\n",
       "      <th>2833</th>\n",
       "      <td>2833</td>\n",
       "      <td>d43fd935</td>\n",
       "      <td>output of x3\\n[&lt;function&lt;unk&gt;dmirror&lt;unk&gt;at&lt;unk&gt;0x7f4e1c594b80&gt;&lt;function&lt;unk&gt;cmirror&lt;unk&gt;at&lt;unk&gt;0x7f4e1c594c10&gt;&lt;function&lt;unk&gt;hmirror&lt;unk&gt;at&lt;unk&gt;0x7f4e1c594a60&gt;&lt;function&lt;unk&gt;identity&lt;unk&gt;at&lt;unk&gt;0x7f4e1c54c9d0&gt;]</td>\n",
       "    </tr>\n",
       "    <tr>\n",
       "      <th>2882</th>\n",
       "      <td>2882</td>\n",
       "      <td>d5d6de2d</td>\n",
       "      <td>output of x30\\n[[frozenset[{[44][88][55][77][00][99][11][33][22][66]}]&lt;function&lt;unk&gt;dmirror&lt;unk&gt;at&lt;unk&gt;0x7f4e1c594b80&gt;][frozenset[{[90][27][81][54][18][09][45][72][36][63]}]&lt;function&lt;unk&gt;cmirror&lt;unk&gt;at&lt;unk&gt;0x7f4e1c594c10&gt;][frozenset[{[55][65][15][95][45][05][75][25][85][35]}]&lt;function&lt;unk&gt;vmirror&lt;unk&gt;at&lt;unk&gt;0x7f4e1c594af0&gt;][frozenset[{[55][58][54][51][57][50][56][53][59][52]}]&lt;function&lt;unk&gt;hmirror&lt;unk&gt;at&lt;unk&gt;0x7f4e1c594a60&gt;]]</td>\n",
       "    </tr>\n",
       "    <tr>\n",
       "      <th>2887</th>\n",
       "      <td>2887</td>\n",
       "      <td>d5d6de2d</td>\n",
       "      <td>output of x16\\n[&lt;function&lt;unk&gt;identity&lt;unk&gt;at&lt;unk&gt;0x7f4e1c54c9d0&gt;&lt;function&lt;unk&gt;dmirror&lt;unk&gt;at&lt;unk&gt;0x7f4e1c594b80&gt;&lt;function&lt;unk&gt;cmirror&lt;unk&gt;at&lt;unk&gt;0x7f4e1c594c10&gt;&lt;function&lt;unk&gt;hmirror&lt;unk&gt;at&lt;unk&gt;0x7f4e1c594a60&gt;]</td>\n",
       "    </tr>\n",
       "    <tr>\n",
       "      <th>2917</th>\n",
       "      <td>2917</td>\n",
       "      <td>d89b689b</td>\n",
       "      <td>output of x16\\n[&lt;function&lt;unk&gt;identity&lt;unk&gt;at&lt;unk&gt;0x7f4e1c54c9d0&gt;&lt;function&lt;unk&gt;dmirror&lt;unk&gt;at&lt;unk&gt;0x7f4e1c594b80&gt;&lt;function&lt;unk&gt;cmirror&lt;unk&gt;at&lt;unk&gt;0x7f4e1c594c10&gt;&lt;function&lt;unk&gt;hmirror&lt;unk&gt;at&lt;unk&gt;0x7f4e1c594a60&gt;]</td>\n",
       "    </tr>\n",
       "    <tr>\n",
       "      <th>2932</th>\n",
       "      <td>2932</td>\n",
       "      <td>d90796e8</td>\n",
       "      <td>output of x6\\n[[&lt;function&lt;unk&gt;identity&lt;unk&gt;at&lt;unk&gt;0x7f4e1c54c9d0&gt;&lt;function&lt;unk&gt;identity&lt;unk&gt;at&lt;unk&gt;0x7f4e1c54c9d0&gt;][&lt;function&lt;unk&gt;rot90&lt;unk&gt;at&lt;unk&gt;0x7f4e1c5948b0&gt;&lt;function&lt;unk&gt;rot270&lt;unk&gt;at&lt;unk&gt;0x7f4e1c5949d0&gt;][&lt;function&lt;unk&gt;rot180&lt;unk&gt;at&lt;unk&gt;0x7f4e1c594940&gt;&lt;function&lt;unk&gt;rot180&lt;unk&gt;at&lt;unk&gt;0x7f4e1c594940&gt;][&lt;function&lt;unk&gt;rot270&lt;unk&gt;at&lt;unk&gt;0x7f4e1c5949d0&gt;&lt;function&lt;unk&gt;rot90&lt;unk&gt;at&lt;unk&gt;0x7f4e1c5948b0&gt;]]</td>\n",
       "    </tr>\n",
       "    <tr>\n",
       "      <th>2964</th>\n",
       "      <td>2964</td>\n",
       "      <td>dae9d2b5</td>\n",
       "      <td>output of x17\\n[&lt;function&lt;unk&gt;identity&lt;unk&gt;at&lt;unk&gt;0x7f4e1c54c9d0&gt;&lt;function&lt;unk&gt;rot180&lt;unk&gt;at&lt;unk&gt;0x7f4e1c594940&gt;&lt;function&lt;unk&gt;rot90&lt;unk&gt;at&lt;unk&gt;0x7f4e1c5948b0&gt;&lt;function&lt;unk&gt;rot270&lt;unk&gt;at&lt;unk&gt;0x7f4e1c5949d0&gt;&lt;function&lt;unk&gt;hmirror&lt;unk&gt;at&lt;unk&gt;0x7f4e1c594a60&gt;&lt;function&lt;unk&gt;vmirror&lt;unk&gt;at&lt;unk&gt;0x7f4e1c594af0&gt;&lt;function&lt;unk&gt;cmirror&lt;unk&gt;at&lt;unk&gt;0x7f4e1c594c10&gt;&lt;function&lt;unk&gt;dmirror&lt;unk&gt;at&lt;unk&gt;0x7f4e1c594b80&gt;]</td>\n",
       "    </tr>\n",
       "    <tr>\n",
       "      <th>2973</th>\n",
       "      <td>2973</td>\n",
       "      <td>db3e9e38</td>\n",
       "      <td>output of x2\\n[&lt;function&lt;unk&gt;identity&lt;unk&gt;at&lt;unk&gt;0x7f4e1c54c9d0&gt;&lt;function&lt;unk&gt;cmirror&lt;unk&gt;at&lt;unk&gt;0x7f4e1c594c10&gt;&lt;function&lt;unk&gt;hmirror&lt;unk&gt;at&lt;unk&gt;0x7f4e1c594a60&gt;&lt;function&lt;unk&gt;vmirror&lt;unk&gt;at&lt;unk&gt;0x7f4e1c594af0&gt;]</td>\n",
       "    </tr>\n",
       "    <tr>\n",
       "      <th>3027</th>\n",
       "      <td>3027</td>\n",
       "      <td>dc433765</td>\n",
       "      <td>output of x5\\n[&lt;function&lt;unk&gt;identity&lt;unk&gt;at&lt;unk&gt;0x7f4e1c54c9d0&gt;&lt;function&lt;unk&gt;dmirror&lt;unk&gt;at&lt;unk&gt;0x7f4e1c594b80&gt;&lt;function&lt;unk&gt;cmirror&lt;unk&gt;at&lt;unk&gt;0x7f4e1c594c10&gt;&lt;function&lt;unk&gt;hmirror&lt;unk&gt;at&lt;unk&gt;0x7f4e1c594a60&gt;]</td>\n",
       "    </tr>\n",
       "    <tr>\n",
       "      <th>3130</th>\n",
       "      <td>3130</td>\n",
       "      <td>e6721834</td>\n",
       "      <td>output of x13\\n[[&lt;function&lt;unk&gt;identity&lt;unk&gt;at&lt;unk&gt;0x7f4e1c54c9d0&gt;&lt;function&lt;unk&gt;identity&lt;unk&gt;at&lt;unk&gt;0x7f4e1c54c9d0&gt;][&lt;function&lt;unk&gt;rot90&lt;unk&gt;at&lt;unk&gt;0x7f4e1c5948b0&gt;&lt;function&lt;unk&gt;rot270&lt;unk&gt;at&lt;unk&gt;0x7f4e1c5949d0&gt;][&lt;function&lt;unk&gt;rot180&lt;unk&gt;at&lt;unk&gt;0x7f4e1c594940&gt;&lt;function&lt;unk&gt;rot180&lt;unk&gt;at&lt;unk&gt;0x7f4e1c594940&gt;][&lt;function&lt;unk&gt;rot270&lt;unk&gt;at&lt;unk&gt;0x7f4e1c5949d0&gt;&lt;function&lt;unk&gt;rot90&lt;unk&gt;at&lt;unk&gt;0x7f4e1c5948b0&gt;]]</td>\n",
       "    </tr>\n",
       "    <tr>\n",
       "      <th>3168</th>\n",
       "      <td>3168</td>\n",
       "      <td>e9614598</td>\n",
       "      <td>output of x48\\nfrozenset[{[3&lt;function&lt;unk&gt;cmirror&lt;unk&gt;at&lt;unk&gt;0x7f4e1c594c10&gt;][4&lt;function&lt;unk&gt;identity&lt;unk&gt;at&lt;unk&gt;0x7f4e1c54c9d0&gt;][1&lt;function&lt;unk&gt;identity&lt;unk&gt;at&lt;unk&gt;0x7f4e1c54c9d0&gt;][2&lt;function&lt;unk&gt;hmirror&lt;unk&gt;at&lt;unk&gt;0x7f4e1c594a60&gt;][3&lt;function&lt;unk&gt;identity&lt;unk&gt;at&lt;unk&gt;0x7f4e1c54c9d0&gt;][2&lt;function&lt;unk&gt;vmirror&lt;unk&gt;at&lt;unk&gt;0x7f4e1c594af0&gt;][2&lt;function&lt;unk&gt;dmirror&lt;unk&gt;at&lt;unk&gt;0x7f4e1c594b80&gt;][2&lt;function&lt;unk&gt;cmirror&lt;unk&gt;at&lt;unk&gt;0x7f4e1c594c10&gt;][4&lt;function&lt;unk&gt;hmirror&lt;unk&gt;at&lt;unk&gt;0x7f4e1c594a60&gt;][4&lt;function&lt;unk&gt;vmirror&lt;unk&gt;at&lt;unk&gt;0x7f4e1c594af0&gt;][4&lt;function&lt;unk&gt;dmirror&lt;unk&gt;at&lt;unk&gt;0x7f4e1c594b80&gt;][1&lt;function&lt;unk&gt;hmirror&lt;unk&gt;at&lt;unk&gt;0x7f4e1c594a60&gt;][4&lt;function&lt;unk&gt;cmirror&lt;unk&gt;at&lt;unk&gt;0x7f4e1c594c10&gt;][1&lt;function&lt;unk&gt;vmirror&lt;unk&gt;at&lt;unk&gt;0x7f4e1c594af0&gt;][1&lt;function&lt;unk&gt;dmirror&lt;unk&gt;at&lt;unk&gt;0x7f4e1c594b80&gt;][1&lt;function&lt;unk&gt;cmirror&lt;unk&gt;at&lt;unk&gt;0x7f4e1c594c10&gt;][3&lt;function&lt;unk&gt;hmirror&lt;unk&gt;at&lt;unk&gt;0x7f4e1c594a60&gt;][2&lt;function&lt;unk&gt;identity&lt;unk&gt;at&lt;unk&gt;0x7f4e1c54c9d0&gt;][3&lt;function&lt;unk&gt;vmirror&lt;unk&gt;at&lt;unk&gt;0x7f4e1c594af...</td>\n",
       "    </tr>\n",
       "    <tr>\n",
       "      <th>3214</th>\n",
       "      <td>3214</td>\n",
       "      <td>eb5a1d5d</td>\n",
       "      <td>output of x13\\n[[&lt;function&lt;unk&gt;identity&lt;unk&gt;at&lt;unk&gt;0x7f4e1c54c9d0&gt;&lt;function&lt;unk&gt;identity&lt;unk&gt;at&lt;unk&gt;0x7f4e1c54c9d0&gt;][&lt;function&lt;unk&gt;rot90&lt;unk&gt;at&lt;unk&gt;0x7f4e1c5948b0&gt;&lt;function&lt;unk&gt;rot270&lt;unk&gt;at&lt;unk&gt;0x7f4e1c5949d0&gt;][&lt;function&lt;unk&gt;rot180&lt;unk&gt;at&lt;unk&gt;0x7f4e1c594940&gt;&lt;function&lt;unk&gt;rot180&lt;unk&gt;at&lt;unk&gt;0x7f4e1c594940&gt;][&lt;function&lt;unk&gt;rot270&lt;unk&gt;at&lt;unk&gt;0x7f4e1c5949d0&gt;&lt;function&lt;unk&gt;rot90&lt;unk&gt;at&lt;unk&gt;0x7f4e1c5948b0&gt;]]</td>\n",
       "    </tr>\n",
       "    <tr>\n",
       "      <th>3302</th>\n",
       "      <td>3302</td>\n",
       "      <td>f35d900a</td>\n",
       "      <td>output of x8\\nfrozenset[{&lt;function&lt;unk&gt;chain.&lt;locals&gt;.&lt;lambda&gt;&lt;unk&gt;at&lt;unk&gt;0x7f4e19acf640&gt;}]</td>\n",
       "    </tr>\n",
       "    <tr>\n",
       "      <th>3341</th>\n",
       "      <td>3341</td>\n",
       "      <td>f8b3ba0a</td>\n",
       "      <td>output of x5\\n[&lt;function&lt;unk&gt;identity&lt;unk&gt;at&lt;unk&gt;0x7f4e1c54c9d0&gt;&lt;function&lt;unk&gt;dmirror&lt;unk&gt;at&lt;unk&gt;0x7f4e1c594b80&gt;&lt;function&lt;unk&gt;cmirror&lt;unk&gt;at&lt;unk&gt;0x7f4e1c594c10&gt;&lt;function&lt;unk&gt;hmirror&lt;unk&gt;at&lt;unk&gt;0x7f4e1c594a60&gt;]</td>\n",
       "    </tr>\n",
       "    <tr>\n",
       "      <th>3414</th>\n",
       "      <td>3414</td>\n",
       "      <td>ff28f65a</td>\n",
       "      <td>output of x3\\nfrozenset[{&lt;function&lt;unk&gt;rbind.&lt;locals&gt;.&lt;lambda&gt;&lt;unk&gt;at&lt;unk&gt;0x7f4e19eb1ea0&gt;}]</td>\n",
       "    </tr>\n",
       "    <tr>\n",
       "      <th>3433</th>\n",
       "      <td>3433</td>\n",
       "      <td>ff805c23</td>\n",
       "      <td>output of x16\\n[&lt;function&lt;unk&gt;identity&lt;unk&gt;at&lt;unk&gt;0x7f4e1c54c9d0&gt;&lt;function&lt;unk&gt;dmirror&lt;unk&gt;at&lt;unk&gt;0x7f4e1c594b80&gt;&lt;function&lt;unk&gt;cmirror&lt;unk&gt;at&lt;unk&gt;0x7f4e1c594c10&gt;&lt;function&lt;unk&gt;hmirror&lt;unk&gt;at&lt;unk&gt;0x7f4e1c594a60&gt;]</td>\n",
       "    </tr>\n",
       "  </tbody>\n",
       "</table>\n",
       "</div>"
      ],
      "text/plain": [
       "        id      task  \\\n",
       "11      11  007bbfb7   \n",
       "68      68  05f2a901   \n",
       "71      71  06df4c85   \n",
       "72      72  06df4c85   \n",
       "93      93  09629e4f   \n",
       "143    143  0dfd9992   \n",
       "168    168  11852cab   \n",
       "211    211  1b2d62fb   \n",
       "324    324  2204b7a8   \n",
       "342    342  22233c11   \n",
       "347    347  2281f1f4   \n",
       "387    387  239be575   \n",
       "397    397  239be575   \n",
       "398    398  239be575   \n",
       "399    399  239be575   \n",
       "423    423  253bf280   \n",
       "427    427  253bf280   \n",
       "439    439  25d487eb   \n",
       "541    541  2bcee788   \n",
       "545    545  2bcee788   \n",
       "546    546  2bcee788   \n",
       "554    554  2bee17df   \n",
       "577    577  2dd70a9a   \n",
       "592    592  31aa019c   \n",
       "598    598  31aa019c   \n",
       "608    608  32597951   \n",
       "631    631  3428a4f5   \n",
       "649    649  3631a71a   \n",
       "669    669  36fdfd69   \n",
       "726    726  3bdb4ada   \n",
       "781    781  3f7978a0   \n",
       "790    790  40853293   \n",
       "828    828  42a50994   \n",
       "836    836  4347f46a   \n",
       "844    844  444801d8   \n",
       "850    850  445eab21   \n",
       "936    936  484b58aa   \n",
       "957    957  4938f0c2   \n",
       "1005  1005  50846271   \n",
       "1030  1030  5117e062   \n",
       "1135  1135  5ad4f10b   \n",
       "1186  1186  6150a2bd   \n",
       "1276  1276  67a3c6ac   \n",
       "1297  1297  681b3aeb   \n",
       "1351  1351  6c434453   \n",
       "1376  1376  6d0160f0   \n",
       "1388  1388  6d0aefbc   \n",
       "1453  1453  6fa7a44f   \n",
       "1477  1477  73251a56   \n",
       "1485  1485  7447852a   \n",
       "1503  1503  746b3537   \n",
       "1590  1590  794b24be   \n",
       "1622  1622  7c008303   \n",
       "1671  1671  80af3007   \n",
       "1720  1720  846bdb03   \n",
       "1825  1825  8e1813be   \n",
       "1869  1869  90f3ed37   \n",
       "1942  1942  952a094c   \n",
       "1999  1999  98cf29f8   \n",
       "2015  2015  99b1bc43   \n",
       "2164  2164  a61f2674   \n",
       "2217  2217  a78176bb   \n",
       "2266  2266  a9f96cdd   \n",
       "2327  2327  af902bf9   \n",
       "2378  2378  b2862040   \n",
       "2397  2397  b527c5c6   \n",
       "2403  2403  b548a754   \n",
       "2433  2433  b775ac94   \n",
       "2560  2560  bdad9b1f   \n",
       "2564  2564  be94b721   \n",
       "2639  2639  c8f0f002   \n",
       "2668  2668  caa06a1f   \n",
       "2688  2688  cce03e0d   \n",
       "2705  2705  ce4f8723   \n",
       "2720  2720  ce602527   \n",
       "2736  2736  cf98881b   \n",
       "2738  2738  cf98881b   \n",
       "2749  2749  d037b0a7   \n",
       "2750  2750  d037b0a7   \n",
       "2808  2808  d2abd087   \n",
       "2833  2833  d43fd935   \n",
       "2882  2882  d5d6de2d   \n",
       "2887  2887  d5d6de2d   \n",
       "2917  2917  d89b689b   \n",
       "2932  2932  d90796e8   \n",
       "2964  2964  dae9d2b5   \n",
       "2973  2973  db3e9e38   \n",
       "3027  3027  dc433765   \n",
       "3130  3130  e6721834   \n",
       "3168  3168  e9614598   \n",
       "3214  3214  eb5a1d5d   \n",
       "3302  3302  f35d900a   \n",
       "3341  3341  f8b3ba0a   \n",
       "3414  3414  ff28f65a   \n",
       "3433  3433  ff805c23   \n",
       "\n",
       "                                                                                                                                                                                                                                                                                                                                                                                                                                                                                                                                                                                                                                                                                                                                                                                                                                                                                                                                                                                                                                         text  \n",
       "11                                                                                                                                                                                                                                                                                                                                                                                                                                                                                                                                                                                                                         output of x6\\n[[<function<unk>identity<unk>at<unk>0x7f4e1c54c9d0><function<unk>identity<unk>at<unk>0x7f4e1c54c9d0>][<function<unk>rot90<unk>at<unk>0x7f4e1c5948b0><function<unk>rot270<unk>at<unk>0x7f4e1c5949d0>][<function<unk>rot180<unk>at<unk>0x7f4e1c594940><function<unk>rot180<unk>at<unk>0x7f4e1c594940>][<function<unk>rot270<unk>at<unk>0x7f4e1c5949d0><function<unk>rot90<unk>at<unk>0x7f4e1c5948b0>]]  \n",
       "68                                                                                                                                                                                                                                                                                                                                                                                                                                                                                                                                                                                                                        output of x13\\n[[<function<unk>identity<unk>at<unk>0x7f4e1c54c9d0><function<unk>identity<unk>at<unk>0x7f4e1c54c9d0>][<function<unk>rot90<unk>at<unk>0x7f4e1c5948b0><function<unk>rot270<unk>at<unk>0x7f4e1c5949d0>][<function<unk>rot180<unk>at<unk>0x7f4e1c594940><function<unk>rot180<unk>at<unk>0x7f4e1c594940>][<function<unk>rot270<unk>at<unk>0x7f4e1c5949d0><function<unk>rot90<unk>at<unk>0x7f4e1c5948b0>]]  \n",
       "71                                                                                                                                                                                                                                                                                                                                                                                                                                                                                                                                                                                                                        output of x22\\n[[<function<unk>identity<unk>at<unk>0x7f4e1c54c9d0><function<unk>identity<unk>at<unk>0x7f4e1c54c9d0>][<function<unk>rot90<unk>at<unk>0x7f4e1c5948b0><function<unk>rot270<unk>at<unk>0x7f4e1c5949d0>][<function<unk>rot180<unk>at<unk>0x7f4e1c594940><function<unk>rot180<unk>at<unk>0x7f4e1c594940>][<function<unk>rot270<unk>at<unk>0x7f4e1c5949d0><function<unk>rot90<unk>at<unk>0x7f4e1c5948b0>]]  \n",
       "72                                                                                                                                                                                                                                                                                                                                                                                                                                                                                                                                                                                                                                                                                                                                                                                                                          output of x5\\n[<function<unk>identity<unk>at<unk>0x7f4e1c54c9d0><function<unk>dmirror<unk>at<unk>0x7f4e1c594b80><function<unk>cmirror<unk>at<unk>0x7f4e1c594c10><function<unk>hmirror<unk>at<unk>0x7f4e1c594a60>]  \n",
       "93                                                                                                                                                                                                                                                                                                                                                                                                                                                                                                                                                                                                                                                                                                                                                                                                                          output of x2\\n[<function<unk>identity<unk>at<unk>0x7f4e1c54c9d0><function<unk>dmirror<unk>at<unk>0x7f4e1c594b80><function<unk>cmirror<unk>at<unk>0x7f4e1c594c10><function<unk>hmirror<unk>at<unk>0x7f4e1c594a60>]  \n",
       "143                                                                                                                                                                                                                                                                                                                                                                                                                                                                                                                                                                                                                       output of x13\\n[[<function<unk>identity<unk>at<unk>0x7f4e1c54c9d0><function<unk>identity<unk>at<unk>0x7f4e1c54c9d0>][<function<unk>rot90<unk>at<unk>0x7f4e1c5948b0><function<unk>rot270<unk>at<unk>0x7f4e1c5949d0>][<function<unk>rot180<unk>at<unk>0x7f4e1c594940><function<unk>rot180<unk>at<unk>0x7f4e1c594940>][<function<unk>rot270<unk>at<unk>0x7f4e1c5949d0><function<unk>rot90<unk>at<unk>0x7f4e1c5948b0>]]  \n",
       "168                                                                                                                                                                                                                                                                                                                                                                                                                                                                                                                                                                                                                       output of x22\\n[[<function<unk>identity<unk>at<unk>0x7f4e1c54c9d0><function<unk>identity<unk>at<unk>0x7f4e1c54c9d0>][<function<unk>rot90<unk>at<unk>0x7f4e1c5948b0><function<unk>rot270<unk>at<unk>0x7f4e1c5949d0>][<function<unk>rot180<unk>at<unk>0x7f4e1c594940><function<unk>rot180<unk>at<unk>0x7f4e1c594940>][<function<unk>rot270<unk>at<unk>0x7f4e1c5949d0><function<unk>rot90<unk>at<unk>0x7f4e1c5948b0>]]  \n",
       "211                                                                                                                                                                                                                                                                                                                                                                                                                                                                                                                                                                                                                                                                                                                                                                                                                                                                                                                                               output of x3\\nfrozenset[{<function<unk>rbind.<locals>.<lambda><unk>at<unk>0x7f4e19e45090>}]  \n",
       "324                                                                                                                                                                                                                                                                                                                                                                                                                                                                                                                                                                                                                       output of x22\\n[[<function<unk>identity<unk>at<unk>0x7f4e1c54c9d0><function<unk>identity<unk>at<unk>0x7f4e1c54c9d0>][<function<unk>rot90<unk>at<unk>0x7f4e1c5948b0><function<unk>rot270<unk>at<unk>0x7f4e1c5949d0>][<function<unk>rot180<unk>at<unk>0x7f4e1c594940><function<unk>rot180<unk>at<unk>0x7f4e1c594940>][<function<unk>rot270<unk>at<unk>0x7f4e1c5949d0><function<unk>rot90<unk>at<unk>0x7f4e1c5948b0>]]  \n",
       "342                                                                                                                                                                                                                                                                                                                                                                                                                                                                                                                                                                                                                                                                                                                                                                                                                                                                                                                                               output of x3\\nfrozenset[{<function<unk>rbind.<locals>.<lambda><unk>at<unk>0x7f4e1a0d7370>}]  \n",
       "347                                                                                                                                                                                                                                                                                                                                                                                                                                                                                                                                                                                                                        output of x6\\n[[<function<unk>identity<unk>at<unk>0x7f4e1c54c9d0><function<unk>identity<unk>at<unk>0x7f4e1c54c9d0>][<function<unk>rot90<unk>at<unk>0x7f4e1c5948b0><function<unk>rot270<unk>at<unk>0x7f4e1c5949d0>][<function<unk>rot180<unk>at<unk>0x7f4e1c594940><function<unk>rot180<unk>at<unk>0x7f4e1c594940>][<function<unk>rot270<unk>at<unk>0x7f4e1c5949d0><function<unk>rot90<unk>at<unk>0x7f4e1c5948b0>]]  \n",
       "387                                                                                                                                                                                                                                                                                                                                                                                                                                                                                                                                                                                                                        output of x6\\n[[<function<unk>identity<unk>at<unk>0x7f4e1c54c9d0><function<unk>identity<unk>at<unk>0x7f4e1c54c9d0>][<function<unk>rot90<unk>at<unk>0x7f4e1c5948b0><function<unk>rot270<unk>at<unk>0x7f4e1c5949d0>][<function<unk>rot180<unk>at<unk>0x7f4e1c594940><function<unk>rot180<unk>at<unk>0x7f4e1c594940>][<function<unk>rot270<unk>at<unk>0x7f4e1c5949d0><function<unk>rot90<unk>at<unk>0x7f4e1c5948b0>]]  \n",
       "397                                                                                                                                                                                                                                                                                                                                                                                                                                                                                                                                                                                                                                                                                                                                                                                                                                                                                                                                               output of x3\\nfrozenset[{<function<unk>rbind.<locals>.<lambda><unk>at<unk>0x7f4e19e15ab0>}]  \n",
       "398                                                                                                                                                                                                                                                                                                                                                                                                                                                                                                                                                                                                                                                                                                         output of x30\\n[[frozenset[]<function<unk>dmirror<unk>at<unk>0x7f4e1c594b80>][frozenset[]<function<unk>cmirror<unk>at<unk>0x7f4e1c594c10>][frozenset[{[43][03][73][23][33][53][63][13]}]<function<unk>vmirror<unk>at<unk>0x7f4e1c594af0>][frozenset[{[44][40][43][42][45][41]}]<function<unk>hmirror<unk>at<unk>0x7f4e1c594a60>]]  \n",
       "399   output of x12\\nfrozenset[{<function<unk>compose.<locals>.<lambda><unk>at<unk>0x7f4e19e17010><function<unk>compose.<locals>.<lambda><unk>at<unk>0x7f4e19e16830><function<unk>compose.<locals>.<lambda><unk>at<unk>0x7f4e19e170a0><function<unk>compose.<locals>.<lambda><unk>at<unk>0x7f4e19e168c0><function<unk>compose.<locals>.<lambda><unk>at<unk>0x7f4e19e17130><function<unk>compose.<locals>.<lambda><unk>at<unk>0x7f4e19e16950><function<unk>compose.<locals>.<lambda><unk>at<unk>0x7f4e19e171c0><function<unk>compose.<locals>.<lambda><unk>at<unk>0x7f4e19e169e0><function<unk>compose.<locals>.<lambda><unk>at<unk>0x7f4e19e17250><function<unk>compose.<locals>.<lambda><unk>at<unk>0x7f4e19e16a70><function<unk>compose.<locals>.<lambda><unk>at<unk>0x7f4e19e16b00><function<unk>compose.<locals>.<lambda><unk>at<unk>0x7f4e19e16b90><function<unk>compose.<locals>.<lambda><unk>at<unk>0x7f4e19e16c20><function<unk>compose.<locals>.<lambda><unk>at<unk>0x7f4e19e16440><function<unk>compose.<locals>.<lambda><unk>at...  \n",
       "423                                                                                                                                                                                                                                                                                                                                                                                                                                                                                                                                                                                                                       output of x22\\n[[<function<unk>identity<unk>at<unk>0x7f4e1c54c9d0><function<unk>identity<unk>at<unk>0x7f4e1c54c9d0>][<function<unk>rot90<unk>at<unk>0x7f4e1c5948b0><function<unk>rot270<unk>at<unk>0x7f4e1c5949d0>][<function<unk>rot180<unk>at<unk>0x7f4e1c594940><function<unk>rot180<unk>at<unk>0x7f4e1c594940>][<function<unk>rot270<unk>at<unk>0x7f4e1c5949d0><function<unk>rot90<unk>at<unk>0x7f4e1c5948b0>]]  \n",
       "427                                                                                                                                                                                                                                                                                                                                                                                                                                                                                                                                                                                                                                                                                                                                                                                                                         output of x2\\n[<function<unk>identity<unk>at<unk>0x7f4e1c54c9d0><function<unk>cmirror<unk>at<unk>0x7f4e1c594c10><function<unk>hmirror<unk>at<unk>0x7f4e1c594a60><function<unk>vmirror<unk>at<unk>0x7f4e1c594af0>]  \n",
       "439                                                                                                                                                                                                                                                                                                                                                                                                                                                                                                                                                                                                                                                                                                                                                                                                                         output of x5\\n[<function<unk>identity<unk>at<unk>0x7f4e1c54c9d0><function<unk>dmirror<unk>at<unk>0x7f4e1c594b80><function<unk>cmirror<unk>at<unk>0x7f4e1c594c10><function<unk>hmirror<unk>at<unk>0x7f4e1c594a60>]  \n",
       "541                                                                                                                                                                                                                                                                                                                                                                                                                                                                                                                                                                                                                                                                                                                                                                                                                         output of x5\\n[<function<unk>identity<unk>at<unk>0x7f4e1c54c9d0><function<unk>dmirror<unk>at<unk>0x7f4e1c594b80><function<unk>cmirror<unk>at<unk>0x7f4e1c594c10><function<unk>hmirror<unk>at<unk>0x7f4e1c594a60>]  \n",
       "545                                                                                                                                                                                                                                                                                                                                                                                                                                                                                                                                                                                                                                                                                                                                                                                                                         output of x2\\n[<function<unk>identity<unk>at<unk>0x7f4e1c54c9d0><function<unk>dmirror<unk>at<unk>0x7f4e1c594b80><function<unk>cmirror<unk>at<unk>0x7f4e1c594c10><function<unk>hmirror<unk>at<unk>0x7f4e1c594a60>]  \n",
       "546                                                                                                                                                                                                                                                                                                                                                                                                                                                                                                                                                                                                                                                                                                                                                                                                                         output of x5\\n[<function<unk>identity<unk>at<unk>0x7f4e1c54c9d0><function<unk>dmirror<unk>at<unk>0x7f4e1c594b80><function<unk>cmirror<unk>at<unk>0x7f4e1c594c10><function<unk>hmirror<unk>at<unk>0x7f4e1c594a60>]  \n",
       "554                                                                                                                                                                                                                                                                                                                                                                                                                                                                                                                                                                                                                       output of x13\\n[[<function<unk>identity<unk>at<unk>0x7f4e1c54c9d0><function<unk>identity<unk>at<unk>0x7f4e1c54c9d0>][<function<unk>rot90<unk>at<unk>0x7f4e1c5948b0><function<unk>rot270<unk>at<unk>0x7f4e1c5949d0>][<function<unk>rot180<unk>at<unk>0x7f4e1c594940><function<unk>rot180<unk>at<unk>0x7f4e1c594940>][<function<unk>rot270<unk>at<unk>0x7f4e1c5949d0><function<unk>rot90<unk>at<unk>0x7f4e1c5948b0>]]  \n",
       "577                                                                                                                                                                                                                                                                                                                         output of x30\\n[[frozenset[{[22][1111][77][1616][33][1212][88][1717][1313][1818][44][55][1414][00][99][11][1010][1919][66][1515]}]<function<unk>dmirror<unk>at<unk>0x7f4e1c594b80>][frozenset[{[127][316][190][415][109][118][118][217][181][172][811][910][154][019][163][613][712][145][514][136]}]<function<unk>cmirror<unk>at<unk>0x7f4e1c594c10>][frozenset[{[1210][310][1410][510][1610][710][1810][910][010][1110][210][1310][1510][610][410][1710][810][1910][1010][110]}]<function<unk>vmirror<unk>at<unk>0x7f4e1c594af0>][frozenset[{[100][106][103][109][1012][1018][1015][102][105][1011][108][1014][1017][104][101][107][1013][1010][1016][1019]}]<function<unk>hmirror<unk>at<unk>0x7f4e1c594a60>]]  \n",
       "592                                                                                                                                                                                                                                                                                                                                                                                                                                                                                                                                                                                                                        output of x6\\n[[<function<unk>identity<unk>at<unk>0x7f4e1c54c9d0><function<unk>identity<unk>at<unk>0x7f4e1c54c9d0>][<function<unk>rot90<unk>at<unk>0x7f4e1c5948b0><function<unk>rot270<unk>at<unk>0x7f4e1c5949d0>][<function<unk>rot180<unk>at<unk>0x7f4e1c594940><function<unk>rot180<unk>at<unk>0x7f4e1c594940>][<function<unk>rot270<unk>at<unk>0x7f4e1c5949d0><function<unk>rot90<unk>at<unk>0x7f4e1c5948b0>]]  \n",
       "598                                                                                                                                                                                                                                                                                                                                                                                                                                                                                                                                                                                                                                                                                                                                                                                                                         output of x3\\n[<function<unk>dmirror<unk>at<unk>0x7f4e1c594b80><function<unk>cmirror<unk>at<unk>0x7f4e1c594c10><function<unk>hmirror<unk>at<unk>0x7f4e1c594a60><function<unk>identity<unk>at<unk>0x7f4e1c54c9d0>]  \n",
       "608                                                                                                                                                                                                                                                                                                                                                                                                                                                                                                                                                                                                                                                                                                                                                                                                                         output of x3\\n[<function<unk>dmirror<unk>at<unk>0x7f4e1c594b80><function<unk>cmirror<unk>at<unk>0x7f4e1c594c10><function<unk>hmirror<unk>at<unk>0x7f4e1c594a60><function<unk>identity<unk>at<unk>0x7f4e1c54c9d0>]  \n",
       "631                                                                                                                                                                                                                                                                                                                                                                                                                                                                                                                                                                                                                       output of x13\\n[[<function<unk>identity<unk>at<unk>0x7f4e1c54c9d0><function<unk>identity<unk>at<unk>0x7f4e1c54c9d0>][<function<unk>rot90<unk>at<unk>0x7f4e1c5948b0><function<unk>rot270<unk>at<unk>0x7f4e1c5949d0>][<function<unk>rot180<unk>at<unk>0x7f4e1c594940><function<unk>rot180<unk>at<unk>0x7f4e1c594940>][<function<unk>rot270<unk>at<unk>0x7f4e1c5949d0><function<unk>rot90<unk>at<unk>0x7f4e1c5948b0>]]  \n",
       "649                                                                                                                                                                                                                                                                                                                                                                                                                                                                                                                                                                                                                       output of x13\\n[[<function<unk>identity<unk>at<unk>0x7f4e1c54c9d0><function<unk>identity<unk>at<unk>0x7f4e1c54c9d0>][<function<unk>rot90<unk>at<unk>0x7f4e1c5948b0><function<unk>rot270<unk>at<unk>0x7f4e1c5949d0>][<function<unk>rot180<unk>at<unk>0x7f4e1c594940><function<unk>rot180<unk>at<unk>0x7f4e1c594940>][<function<unk>rot270<unk>at<unk>0x7f4e1c5949d0><function<unk>rot90<unk>at<unk>0x7f4e1c5948b0>]]  \n",
       "669                                                                                                                                                                                                                                                                                                                                                                                                                                                                                                                                                                                                                                                                                                                                                                                                                         output of x2\\n[<function<unk>identity<unk>at<unk>0x7f4e1c54c9d0><function<unk>dmirror<unk>at<unk>0x7f4e1c594b80><function<unk>cmirror<unk>at<unk>0x7f4e1c594c10><function<unk>hmirror<unk>at<unk>0x7f4e1c594a60>]  \n",
       "726                                                                                                                                                                                                                                                                                                                                                                                                                                                                                                                                                                                                                                                                                                                                                                                                                         output of x5\\n[<function<unk>identity<unk>at<unk>0x7f4e1c54c9d0><function<unk>dmirror<unk>at<unk>0x7f4e1c594b80><function<unk>cmirror<unk>at<unk>0x7f4e1c594c10><function<unk>hmirror<unk>at<unk>0x7f4e1c594a60>]  \n",
       "781                                                                                                                                                                                                                                                                                                                                                                                                                                                                                                                                                                                                                                                                                                                                                                                                                         output of x5\\n[<function<unk>identity<unk>at<unk>0x7f4e1c54c9d0><function<unk>dmirror<unk>at<unk>0x7f4e1c594b80><function<unk>cmirror<unk>at<unk>0x7f4e1c594c10><function<unk>hmirror<unk>at<unk>0x7f4e1c594a60>]  \n",
       "790                                                                                                                                                                                                                                                                                                                                                                                                                                                                                                                                                                                                                                                                                                                                                                                                                         output of x5\\n[<function<unk>identity<unk>at<unk>0x7f4e1c54c9d0><function<unk>dmirror<unk>at<unk>0x7f4e1c594b80><function<unk>cmirror<unk>at<unk>0x7f4e1c594c10><function<unk>hmirror<unk>at<unk>0x7f4e1c594a60>]  \n",
       "828                                                                                                                                                                                                                                                                                                                                                                                                                                                                                                                                                                                                                                                                                                                                                                                                                         output of x2\\n[<function<unk>identity<unk>at<unk>0x7f4e1c54c9d0><function<unk>cmirror<unk>at<unk>0x7f4e1c594c10><function<unk>hmirror<unk>at<unk>0x7f4e1c594a60><function<unk>vmirror<unk>at<unk>0x7f4e1c594af0>]  \n",
       "836                                                                                                                                                                                                                                                                                                                                                                                                                                                                                                                                                                                                                       output of x22\\n[[<function<unk>identity<unk>at<unk>0x7f4e1c54c9d0><function<unk>identity<unk>at<unk>0x7f4e1c54c9d0>][<function<unk>rot90<unk>at<unk>0x7f4e1c5948b0><function<unk>rot270<unk>at<unk>0x7f4e1c5949d0>][<function<unk>rot180<unk>at<unk>0x7f4e1c594940><function<unk>rot180<unk>at<unk>0x7f4e1c594940>][<function<unk>rot270<unk>at<unk>0x7f4e1c5949d0><function<unk>rot90<unk>at<unk>0x7f4e1c5948b0>]]  \n",
       "844                                                                                                                                                                                                                                                                                                                                                                                                                                                                                                                                                                                                                        output of x6\\n[[<function<unk>identity<unk>at<unk>0x7f4e1c54c9d0><function<unk>identity<unk>at<unk>0x7f4e1c54c9d0>][<function<unk>rot90<unk>at<unk>0x7f4e1c5948b0><function<unk>rot270<unk>at<unk>0x7f4e1c5949d0>][<function<unk>rot180<unk>at<unk>0x7f4e1c594940><function<unk>rot180<unk>at<unk>0x7f4e1c594940>][<function<unk>rot270<unk>at<unk>0x7f4e1c5949d0><function<unk>rot90<unk>at<unk>0x7f4e1c5948b0>]]  \n",
       "850                                                                                                                                                                                                                                                                                                                                                                                                                                                                                                                                                                                                                                                                                                                                                                                                                        output of x16\\n[<function<unk>identity<unk>at<unk>0x7f4e1c54c9d0><function<unk>dmirror<unk>at<unk>0x7f4e1c594b80><function<unk>cmirror<unk>at<unk>0x7f4e1c594c10><function<unk>hmirror<unk>at<unk>0x7f4e1c594a60>]  \n",
       "936                                                                                                                                                                                                                                                                                                                                                                                                                                                                                                                                                                                                                                                                                                                                                                                                                                                                                                                                               output of x8\\nfrozenset[{<function<unk>chain.<locals>.<lambda><unk>at<unk>0x7f4e190fd240>}]  \n",
       "957                                                                                                                                                                                                                                                                                                                                                                                                                                                                                                                                                                                                                                                                                                                                                                                                                         output of x5\\n[<function<unk>identity<unk>at<unk>0x7f4e1c54c9d0><function<unk>dmirror<unk>at<unk>0x7f4e1c594b80><function<unk>cmirror<unk>at<unk>0x7f4e1c594c10><function<unk>hmirror<unk>at<unk>0x7f4e1c594a60>]  \n",
       "1005                                                                                                                                                                                                                                                                                                                                                                                                                                                                                                                                                                                                                      output of x22\\n[[<function<unk>identity<unk>at<unk>0x7f4e1c54c9d0><function<unk>identity<unk>at<unk>0x7f4e1c54c9d0>][<function<unk>rot90<unk>at<unk>0x7f4e1c5948b0><function<unk>rot270<unk>at<unk>0x7f4e1c5949d0>][<function<unk>rot180<unk>at<unk>0x7f4e1c594940><function<unk>rot180<unk>at<unk>0x7f4e1c594940>][<function<unk>rot270<unk>at<unk>0x7f4e1c5949d0><function<unk>rot90<unk>at<unk>0x7f4e1c5948b0>]]  \n",
       "1030                                                                                                                                                                                                                                                                                                                                                                                                                                                                                                                                                                                                                                                                                                                                                                                                                        output of x5\\n[<function<unk>identity<unk>at<unk>0x7f4e1c54c9d0><function<unk>dmirror<unk>at<unk>0x7f4e1c594b80><function<unk>cmirror<unk>at<unk>0x7f4e1c594c10><function<unk>hmirror<unk>at<unk>0x7f4e1c594a60>]  \n",
       "1135                                                                                                                                                                                                                                                                                                                                                                                                                                                                                                                                                                                                                                                                                                            output of x30\\n[[frozenset[{[11][22][00]}]<function<unk>dmirror<unk>at<unk>0x7f4e1c594b80>][frozenset[{[11][02][20]}]<function<unk>cmirror<unk>at<unk>0x7f4e1c594c10>][frozenset[{[01][11][21]}]<function<unk>vmirror<unk>at<unk>0x7f4e1c594af0>][frozenset[{[10][11][12]}]<function<unk>hmirror<unk>at<unk>0x7f4e1c594a60>]]  \n",
       "1186                                                                                                                                                                                                                                                                                                                                                                                                                                                                                                                                                                                                                       output of x6\\n[[<function<unk>identity<unk>at<unk>0x7f4e1c54c9d0><function<unk>identity<unk>at<unk>0x7f4e1c54c9d0>][<function<unk>rot90<unk>at<unk>0x7f4e1c5948b0><function<unk>rot270<unk>at<unk>0x7f4e1c5949d0>][<function<unk>rot180<unk>at<unk>0x7f4e1c594940><function<unk>rot180<unk>at<unk>0x7f4e1c594940>][<function<unk>rot270<unk>at<unk>0x7f4e1c5949d0><function<unk>rot90<unk>at<unk>0x7f4e1c5948b0>]]  \n",
       "1276                                                                                                                                                                                                                                                                                                                                                                                                                                                                                                                                                                                                                                                                                                                                                                                                                       output of x16\\n[<function<unk>identity<unk>at<unk>0x7f4e1c54c9d0><function<unk>dmirror<unk>at<unk>0x7f4e1c594b80><function<unk>cmirror<unk>at<unk>0x7f4e1c594c10><function<unk>hmirror<unk>at<unk>0x7f4e1c594a60>]  \n",
       "1297  output of x48\\nfrozenset[{[3<function<unk>cmirror<unk>at<unk>0x7f4e1c594c10>][4<function<unk>identity<unk>at<unk>0x7f4e1c54c9d0>][1<function<unk>identity<unk>at<unk>0x7f4e1c54c9d0>][2<function<unk>hmirror<unk>at<unk>0x7f4e1c594a60>][3<function<unk>identity<unk>at<unk>0x7f4e1c54c9d0>][2<function<unk>vmirror<unk>at<unk>0x7f4e1c594af0>][2<function<unk>dmirror<unk>at<unk>0x7f4e1c594b80>][2<function<unk>cmirror<unk>at<unk>0x7f4e1c594c10>][4<function<unk>hmirror<unk>at<unk>0x7f4e1c594a60>][4<function<unk>vmirror<unk>at<unk>0x7f4e1c594af0>][4<function<unk>dmirror<unk>at<unk>0x7f4e1c594b80>][1<function<unk>hmirror<unk>at<unk>0x7f4e1c594a60>][4<function<unk>cmirror<unk>at<unk>0x7f4e1c594c10>][1<function<unk>vmirror<unk>at<unk>0x7f4e1c594af0>][1<function<unk>dmirror<unk>at<unk>0x7f4e1c594b80>][1<function<unk>cmirror<unk>at<unk>0x7f4e1c594c10>][3<function<unk>hmirror<unk>at<unk>0x7f4e1c594a60>][2<function<unk>identity<unk>at<unk>0x7f4e1c54c9d0>][3<function<unk>vmirror<unk>at<unk>0x7f4e1c594af...  \n",
       "1351                                                                                                                                                                                                                                                                                                                                                                                                                                                                                                                                                                                                                                                                                                                                                                                                                        output of x2\\n[<function<unk>identity<unk>at<unk>0x7f4e1c54c9d0><function<unk>dmirror<unk>at<unk>0x7f4e1c594b80><function<unk>cmirror<unk>at<unk>0x7f4e1c594c10><function<unk>hmirror<unk>at<unk>0x7f4e1c594a60>]  \n",
       "1376                                                                                                                                                                                                                                                                                                                                                                                                                                                                                                                                                                                                                                                                                                                                                                                                                       output of x16\\n[<function<unk>identity<unk>at<unk>0x7f4e1c54c9d0><function<unk>dmirror<unk>at<unk>0x7f4e1c594b80><function<unk>cmirror<unk>at<unk>0x7f4e1c594c10><function<unk>hmirror<unk>at<unk>0x7f4e1c594a60>]  \n",
       "1388                                                                                                                                                                                                                                                                                                                                                                                                                                                                                                                                                                                                                      output of x22\\n[[<function<unk>identity<unk>at<unk>0x7f4e1c54c9d0><function<unk>identity<unk>at<unk>0x7f4e1c54c9d0>][<function<unk>rot90<unk>at<unk>0x7f4e1c5948b0><function<unk>rot270<unk>at<unk>0x7f4e1c5949d0>][<function<unk>rot180<unk>at<unk>0x7f4e1c594940><function<unk>rot180<unk>at<unk>0x7f4e1c594940>][<function<unk>rot270<unk>at<unk>0x7f4e1c5949d0><function<unk>rot90<unk>at<unk>0x7f4e1c5948b0>]]  \n",
       "1453                                                                                                                                                                                                                                                                                                                                                                                                                                                                                                                                                                                                                                                                                                                                                                                                                                                                                                                                              output of x3\\nfrozenset[{<function<unk>rbind.<locals>.<lambda><unk>at<unk>0x7f4e1a9c9480>}]  \n",
       "1477                                                                                                                                                                                                                                                                                                output of x30\\n[[frozenset[{[2020][22][1111][77][1616][33][1212][88][1717][1313][1818][44][55][1414][00][99][11][1010][1919][66][1515]}]<function<unk>dmirror<unk>at<unk>0x7f4e1c594b80>][frozenset[{[173][812][911][164][155][020][614][713][146][515][137][200][128][416][317][191][119][1010][218][182][119]}]<function<unk>cmirror<unk>at<unk>0x7f4e1c594c10>][frozenset[{[1210][310][1410][510][1610][710][1810][2010][910][010][1110][210][1310][1510][610][410][1710][810][1910][1010][110]}]<function<unk>vmirror<unk>at<unk>0x7f4e1c594af0>][frozenset[{[100][106][103][109][1012][1018][1015][102][105][1011][108][1014][1017][1020][104][101][107][1013][1010][1016][1019]}]<function<unk>hmirror<unk>at<unk>0x7f4e1c594a60>]]  \n",
       "1485                                                                                                                                                                                                                                                                                                                                                                                                                                                                                                                                                                                                                                                                                                                                                                                                                        output of x5\\n[<function<unk>identity<unk>at<unk>0x7f4e1c54c9d0><function<unk>dmirror<unk>at<unk>0x7f4e1c594b80><function<unk>cmirror<unk>at<unk>0x7f4e1c594c10><function<unk>hmirror<unk>at<unk>0x7f4e1c594a60>]  \n",
       "1503                                                                                                                                                                                                                                                                                                                                                                                                                                                                                                                                                                                                                      output of x13\\n[[<function<unk>identity<unk>at<unk>0x7f4e1c54c9d0><function<unk>identity<unk>at<unk>0x7f4e1c54c9d0>][<function<unk>rot90<unk>at<unk>0x7f4e1c5948b0><function<unk>rot270<unk>at<unk>0x7f4e1c5949d0>][<function<unk>rot180<unk>at<unk>0x7f4e1c594940><function<unk>rot180<unk>at<unk>0x7f4e1c594940>][<function<unk>rot270<unk>at<unk>0x7f4e1c5949d0><function<unk>rot90<unk>at<unk>0x7f4e1c5948b0>]]  \n",
       "1590                                                                                                                                                                                                                                                                                                                                                                                                                                                                                                                                                                                                                      output of x22\\n[[<function<unk>identity<unk>at<unk>0x7f4e1c54c9d0><function<unk>identity<unk>at<unk>0x7f4e1c54c9d0>][<function<unk>rot90<unk>at<unk>0x7f4e1c5948b0><function<unk>rot270<unk>at<unk>0x7f4e1c5949d0>][<function<unk>rot180<unk>at<unk>0x7f4e1c594940><function<unk>rot180<unk>at<unk>0x7f4e1c594940>][<function<unk>rot270<unk>at<unk>0x7f4e1c5949d0><function<unk>rot90<unk>at<unk>0x7f4e1c5948b0>]]  \n",
       "1622                                                                                                                                                                                                                                                                                                                                                                                                                                                                                                                                                                                                                                                                                                                                                                                                                        output of x2\\n[<function<unk>identity<unk>at<unk>0x7f4e1c54c9d0><function<unk>dmirror<unk>at<unk>0x7f4e1c594b80><function<unk>cmirror<unk>at<unk>0x7f4e1c594c10><function<unk>hmirror<unk>at<unk>0x7f4e1c594a60>]  \n",
       "1671                                                                                                                                                                                                                                                                                                                                                                                                                                                                                                                                                                                                                       output of x6\\n[[<function<unk>identity<unk>at<unk>0x7f4e1c54c9d0><function<unk>identity<unk>at<unk>0x7f4e1c54c9d0>][<function<unk>rot90<unk>at<unk>0x7f4e1c5948b0><function<unk>rot270<unk>at<unk>0x7f4e1c5949d0>][<function<unk>rot180<unk>at<unk>0x7f4e1c594940><function<unk>rot180<unk>at<unk>0x7f4e1c594940>][<function<unk>rot270<unk>at<unk>0x7f4e1c5949d0><function<unk>rot90<unk>at<unk>0x7f4e1c5948b0>]]  \n",
       "1720                                                                                                                                                                                                                                                                                                                                                                                                                                                                                                                                                                                                                                                                                                                                                                                                                        output of x2\\n[<function<unk>identity<unk>at<unk>0x7f4e1c54c9d0><function<unk>dmirror<unk>at<unk>0x7f4e1c594b80><function<unk>cmirror<unk>at<unk>0x7f4e1c594c10><function<unk>hmirror<unk>at<unk>0x7f4e1c594a60>]  \n",
       "1825                                                                                                                                                                                                                                                                                                                                                                                                                                                                                                                                                                                                                      output of x22\\n[[<function<unk>identity<unk>at<unk>0x7f4e1c54c9d0><function<unk>identity<unk>at<unk>0x7f4e1c54c9d0>][<function<unk>rot90<unk>at<unk>0x7f4e1c5948b0><function<unk>rot270<unk>at<unk>0x7f4e1c5949d0>][<function<unk>rot180<unk>at<unk>0x7f4e1c594940><function<unk>rot180<unk>at<unk>0x7f4e1c594940>][<function<unk>rot270<unk>at<unk>0x7f4e1c5949d0><function<unk>rot90<unk>at<unk>0x7f4e1c5948b0>]]  \n",
       "1869                                                                                                                                                                                                                                                                                                                                                                                                                                                                                                                                                                                                                       output of x6\\n[[<function<unk>identity<unk>at<unk>0x7f4e1c54c9d0><function<unk>identity<unk>at<unk>0x7f4e1c54c9d0>][<function<unk>rot90<unk>at<unk>0x7f4e1c5948b0><function<unk>rot270<unk>at<unk>0x7f4e1c5949d0>][<function<unk>rot180<unk>at<unk>0x7f4e1c594940><function<unk>rot180<unk>at<unk>0x7f4e1c594940>][<function<unk>rot270<unk>at<unk>0x7f4e1c5949d0><function<unk>rot90<unk>at<unk>0x7f4e1c5948b0>]]  \n",
       "1942                                                                                                                                                                                                                                                                                                                                                                                                                                                                                                                                                                                                                                                                                                                                                                                                                        output of x2\\n[<function<unk>identity<unk>at<unk>0x7f4e1c54c9d0><function<unk>cmirror<unk>at<unk>0x7f4e1c594c10><function<unk>hmirror<unk>at<unk>0x7f4e1c594a60><function<unk>vmirror<unk>at<unk>0x7f4e1c594af0>]  \n",
       "1999                                                                                                                                                                                                                                                                                                                                                                                                                                                                                                                                                                                                                       output of x6\\n[[<function<unk>identity<unk>at<unk>0x7f4e1c54c9d0><function<unk>identity<unk>at<unk>0x7f4e1c54c9d0>][<function<unk>rot90<unk>at<unk>0x7f4e1c5948b0><function<unk>rot270<unk>at<unk>0x7f4e1c5949d0>][<function<unk>rot180<unk>at<unk>0x7f4e1c594940><function<unk>rot180<unk>at<unk>0x7f4e1c594940>][<function<unk>rot270<unk>at<unk>0x7f4e1c5949d0><function<unk>rot90<unk>at<unk>0x7f4e1c5948b0>]]  \n",
       "2015                                                                                                                                                                                                                                                                                                                                                                                                                                                                                                                                                                                                                       output of x6\\n[[<function<unk>identity<unk>at<unk>0x7f4e1c54c9d0><function<unk>identity<unk>at<unk>0x7f4e1c54c9d0>][<function<unk>rot90<unk>at<unk>0x7f4e1c5948b0><function<unk>rot270<unk>at<unk>0x7f4e1c5949d0>][<function<unk>rot180<unk>at<unk>0x7f4e1c594940><function<unk>rot180<unk>at<unk>0x7f4e1c594940>][<function<unk>rot270<unk>at<unk>0x7f4e1c5949d0><function<unk>rot90<unk>at<unk>0x7f4e1c5948b0>]]  \n",
       "2164  output of x48\\nfrozenset[{[3<function<unk>cmirror<unk>at<unk>0x7f4e1c594c10>][4<function<unk>identity<unk>at<unk>0x7f4e1c54c9d0>][1<function<unk>identity<unk>at<unk>0x7f4e1c54c9d0>][2<function<unk>hmirror<unk>at<unk>0x7f4e1c594a60>][3<function<unk>identity<unk>at<unk>0x7f4e1c54c9d0>][2<function<unk>vmirror<unk>at<unk>0x7f4e1c594af0>][2<function<unk>dmirror<unk>at<unk>0x7f4e1c594b80>][2<function<unk>cmirror<unk>at<unk>0x7f4e1c594c10>][4<function<unk>hmirror<unk>at<unk>0x7f4e1c594a60>][4<function<unk>vmirror<unk>at<unk>0x7f4e1c594af0>][4<function<unk>dmirror<unk>at<unk>0x7f4e1c594b80>][1<function<unk>hmirror<unk>at<unk>0x7f4e1c594a60>][4<function<unk>cmirror<unk>at<unk>0x7f4e1c594c10>][1<function<unk>vmirror<unk>at<unk>0x7f4e1c594af0>][1<function<unk>dmirror<unk>at<unk>0x7f4e1c594b80>][1<function<unk>cmirror<unk>at<unk>0x7f4e1c594c10>][3<function<unk>hmirror<unk>at<unk>0x7f4e1c594a60>][2<function<unk>identity<unk>at<unk>0x7f4e1c54c9d0>][3<function<unk>vmirror<unk>at<unk>0x7f4e1c594af...  \n",
       "2217  output of x48\\nfrozenset[{[3<function<unk>cmirror<unk>at<unk>0x7f4e1c594c10>][4<function<unk>identity<unk>at<unk>0x7f4e1c54c9d0>][1<function<unk>identity<unk>at<unk>0x7f4e1c54c9d0>][2<function<unk>hmirror<unk>at<unk>0x7f4e1c594a60>][3<function<unk>identity<unk>at<unk>0x7f4e1c54c9d0>][2<function<unk>vmirror<unk>at<unk>0x7f4e1c594af0>][2<function<unk>dmirror<unk>at<unk>0x7f4e1c594b80>][2<function<unk>cmirror<unk>at<unk>0x7f4e1c594c10>][4<function<unk>hmirror<unk>at<unk>0x7f4e1c594a60>][4<function<unk>vmirror<unk>at<unk>0x7f4e1c594af0>][4<function<unk>dmirror<unk>at<unk>0x7f4e1c594b80>][1<function<unk>hmirror<unk>at<unk>0x7f4e1c594a60>][4<function<unk>cmirror<unk>at<unk>0x7f4e1c594c10>][1<function<unk>vmirror<unk>at<unk>0x7f4e1c594af0>][1<function<unk>dmirror<unk>at<unk>0x7f4e1c594b80>][1<function<unk>cmirror<unk>at<unk>0x7f4e1c594c10>][3<function<unk>hmirror<unk>at<unk>0x7f4e1c594a60>][2<function<unk>identity<unk>at<unk>0x7f4e1c54c9d0>][3<function<unk>vmirror<unk>at<unk>0x7f4e1c594af...  \n",
       "2266                                                                                                                                                                                                                                                                                                                                                                                                                                                                                                                                                                                                                                                                                                                                output of x30\\n[[frozenset[]<function<unk>dmirror<unk>at<unk>0x7f4e1c594b80>][frozenset[]<function<unk>cmirror<unk>at<unk>0x7f4e1c594c10>][frozenset[{[02][12][22]}]<function<unk>vmirror<unk>at<unk>0x7f4e1c594af0>][frozenset[{[12][11][14][10][13]}]<function<unk>hmirror<unk>at<unk>0x7f4e1c594a60>]]  \n",
       "2327                                                                                                                                                                                                                                                                                                                                                                                                                                                                                                                                                                                                                                                                                                                                                                                                                        output of x3\\n[<function<unk>dmirror<unk>at<unk>0x7f4e1c594b80><function<unk>cmirror<unk>at<unk>0x7f4e1c594c10><function<unk>hmirror<unk>at<unk>0x7f4e1c594a60><function<unk>identity<unk>at<unk>0x7f4e1c54c9d0>]  \n",
       "2378                                                                                                                                                                                                                                                                                                                                                                                                                                                                                                                                                                                                                      output of x13\\n[[<function<unk>identity<unk>at<unk>0x7f4e1c54c9d0><function<unk>identity<unk>at<unk>0x7f4e1c54c9d0>][<function<unk>rot90<unk>at<unk>0x7f4e1c5948b0><function<unk>rot270<unk>at<unk>0x7f4e1c5949d0>][<function<unk>rot180<unk>at<unk>0x7f4e1c594940><function<unk>rot180<unk>at<unk>0x7f4e1c594940>][<function<unk>rot270<unk>at<unk>0x7f4e1c5949d0><function<unk>rot90<unk>at<unk>0x7f4e1c5948b0>]]  \n",
       "2397                                                                                                                                                                                                                                                                                                                                                                                                                                                                                                                                                                                                                       output of x6\\n[[<function<unk>identity<unk>at<unk>0x7f4e1c54c9d0><function<unk>identity<unk>at<unk>0x7f4e1c54c9d0>][<function<unk>rot90<unk>at<unk>0x7f4e1c5948b0><function<unk>rot270<unk>at<unk>0x7f4e1c5949d0>][<function<unk>rot180<unk>at<unk>0x7f4e1c594940><function<unk>rot180<unk>at<unk>0x7f4e1c594940>][<function<unk>rot270<unk>at<unk>0x7f4e1c5949d0><function<unk>rot90<unk>at<unk>0x7f4e1c5948b0>]]  \n",
       "2403                                                                                                                                                                                                                                                                                                                                                                                                                                                                                                                                                                                                                                                                                                                                                                                                                        output of x3\\n[<function<unk>dmirror<unk>at<unk>0x7f4e1c594b80><function<unk>cmirror<unk>at<unk>0x7f4e1c594c10><function<unk>hmirror<unk>at<unk>0x7f4e1c594a60><function<unk>identity<unk>at<unk>0x7f4e1c54c9d0>]  \n",
       "2433                                                                                                                                                                                                                                                                                                                                                                                                                                                                                                                                                                                                                                                                                                                                                                                                                       output of x16\\n[<function<unk>identity<unk>at<unk>0x7f4e1c54c9d0><function<unk>dmirror<unk>at<unk>0x7f4e1c594b80><function<unk>cmirror<unk>at<unk>0x7f4e1c594c10><function<unk>hmirror<unk>at<unk>0x7f4e1c594a60>]  \n",
       "2560                                                                                                                                                                                                                                                                                                                                                                                                                                                                                                                                                                                                                       output of x6\\n[[<function<unk>identity<unk>at<unk>0x7f4e1c54c9d0><function<unk>identity<unk>at<unk>0x7f4e1c54c9d0>][<function<unk>rot90<unk>at<unk>0x7f4e1c5948b0><function<unk>rot270<unk>at<unk>0x7f4e1c5949d0>][<function<unk>rot180<unk>at<unk>0x7f4e1c594940><function<unk>rot180<unk>at<unk>0x7f4e1c594940>][<function<unk>rot270<unk>at<unk>0x7f4e1c5949d0><function<unk>rot90<unk>at<unk>0x7f4e1c5948b0>]]  \n",
       "2564                                                                                                                                                                                                                                                                                                                                                                                                                                                                                                                                                                                                                       output of x6\\n[[<function<unk>identity<unk>at<unk>0x7f4e1c54c9d0><function<unk>identity<unk>at<unk>0x7f4e1c54c9d0>][<function<unk>rot90<unk>at<unk>0x7f4e1c5948b0><function<unk>rot270<unk>at<unk>0x7f4e1c5949d0>][<function<unk>rot180<unk>at<unk>0x7f4e1c594940><function<unk>rot180<unk>at<unk>0x7f4e1c594940>][<function<unk>rot270<unk>at<unk>0x7f4e1c5949d0><function<unk>rot90<unk>at<unk>0x7f4e1c5948b0>]]  \n",
       "2639                                                                                                                                                                                                                                                                                                                                                                                                                                                                                                                                                                                                                       output of x6\\n[[<function<unk>identity<unk>at<unk>0x7f4e1c54c9d0><function<unk>identity<unk>at<unk>0x7f4e1c54c9d0>][<function<unk>rot90<unk>at<unk>0x7f4e1c5948b0><function<unk>rot270<unk>at<unk>0x7f4e1c5949d0>][<function<unk>rot180<unk>at<unk>0x7f4e1c594940><function<unk>rot180<unk>at<unk>0x7f4e1c594940>][<function<unk>rot270<unk>at<unk>0x7f4e1c5949d0><function<unk>rot90<unk>at<unk>0x7f4e1c5948b0>]]  \n",
       "2668                                                                                                                                                                                                                                                                                                                                                                                                                                                                                                                                                                                                                                                                                                                                                                                                                        output of x2\\n[<function<unk>identity<unk>at<unk>0x7f4e1c54c9d0><function<unk>cmirror<unk>at<unk>0x7f4e1c594c10><function<unk>hmirror<unk>at<unk>0x7f4e1c594a60><function<unk>vmirror<unk>at<unk>0x7f4e1c594af0>]  \n",
       "2688                                                                                                                                                                                                                                                                                                                                                                                                                                                                                                                                                                                                                      output of x22\\n[[<function<unk>identity<unk>at<unk>0x7f4e1c54c9d0><function<unk>identity<unk>at<unk>0x7f4e1c54c9d0>][<function<unk>rot90<unk>at<unk>0x7f4e1c5948b0><function<unk>rot270<unk>at<unk>0x7f4e1c5949d0>][<function<unk>rot180<unk>at<unk>0x7f4e1c594940><function<unk>rot180<unk>at<unk>0x7f4e1c594940>][<function<unk>rot270<unk>at<unk>0x7f4e1c5949d0><function<unk>rot90<unk>at<unk>0x7f4e1c5948b0>]]  \n",
       "2705                                                                                                                                                                                                                                                                                                                                                                                                                                                                                                                                                                                                                                                                                                                                                                                                                                                                                                                                              output of x8\\nfrozenset[{<function<unk>chain.<locals>.<lambda><unk>at<unk>0x7f4e19e145e0>}]  \n",
       "2720                                                                                                                                                                                                                                                                                                                                                                                                                                                                                                                                                                                                                                                                                                                                                                                                                                                                                                                                              output of x3\\nfrozenset[{<function<unk>rbind.<locals>.<lambda><unk>at<unk>0x7f4e19e15750>}]  \n",
       "2736                                                                                                                                                                                                                                                                                                                                                                                                                                                                                                                                                                                                                                                                                                                                                                                                                        output of x2\\n[<function<unk>identity<unk>at<unk>0x7f4e1c54c9d0><function<unk>dmirror<unk>at<unk>0x7f4e1c594b80><function<unk>cmirror<unk>at<unk>0x7f4e1c594c10><function<unk>hmirror<unk>at<unk>0x7f4e1c594a60>]  \n",
       "2738                                                                                                                                                                                                                                                                                                                                                                                                                                                                                                                                                                                                                                                                                                                                                                                                                        output of x5\\n[<function<unk>identity<unk>at<unk>0x7f4e1c54c9d0><function<unk>dmirror<unk>at<unk>0x7f4e1c594b80><function<unk>cmirror<unk>at<unk>0x7f4e1c594c10><function<unk>hmirror<unk>at<unk>0x7f4e1c594a60>]  \n",
       "2749                                                                                                                                                                                                                                                                                                                                                                                                                                                                                                                                                                                                                                                                                                                                                                                                                        output of x5\\n[<function<unk>identity<unk>at<unk>0x7f4e1c54c9d0><function<unk>dmirror<unk>at<unk>0x7f4e1c594b80><function<unk>cmirror<unk>at<unk>0x7f4e1c594c10><function<unk>hmirror<unk>at<unk>0x7f4e1c594a60>]  \n",
       "2750                                                                                                                                                                                                                                                                                                                                                                                                                                                                                                                                                                                                                                                                                                                                                                                                                        output of x2\\n[<function<unk>identity<unk>at<unk>0x7f4e1c54c9d0><function<unk>dmirror<unk>at<unk>0x7f4e1c594b80><function<unk>cmirror<unk>at<unk>0x7f4e1c594c10><function<unk>hmirror<unk>at<unk>0x7f4e1c594a60>]  \n",
       "2808                                                                                                                                                                                                                                                                                                                                                                                                                                                                                                                                                                                                                      output of x22\\n[[<function<unk>identity<unk>at<unk>0x7f4e1c54c9d0><function<unk>identity<unk>at<unk>0x7f4e1c54c9d0>][<function<unk>rot90<unk>at<unk>0x7f4e1c5948b0><function<unk>rot270<unk>at<unk>0x7f4e1c5949d0>][<function<unk>rot180<unk>at<unk>0x7f4e1c594940><function<unk>rot180<unk>at<unk>0x7f4e1c594940>][<function<unk>rot270<unk>at<unk>0x7f4e1c5949d0><function<unk>rot90<unk>at<unk>0x7f4e1c5948b0>]]  \n",
       "2833                                                                                                                                                                                                                                                                                                                                                                                                                                                                                                                                                                                                                                                                                                                                                                                                                        output of x3\\n[<function<unk>dmirror<unk>at<unk>0x7f4e1c594b80><function<unk>cmirror<unk>at<unk>0x7f4e1c594c10><function<unk>hmirror<unk>at<unk>0x7f4e1c594a60><function<unk>identity<unk>at<unk>0x7f4e1c54c9d0>]  \n",
       "2882                                                                                                                                                                                                                                                                                                                                                                                                                                                                                                                                                                                            output of x30\\n[[frozenset[{[44][88][55][77][00][99][11][33][22][66]}]<function<unk>dmirror<unk>at<unk>0x7f4e1c594b80>][frozenset[{[90][27][81][54][18][09][45][72][36][63]}]<function<unk>cmirror<unk>at<unk>0x7f4e1c594c10>][frozenset[{[55][65][15][95][45][05][75][25][85][35]}]<function<unk>vmirror<unk>at<unk>0x7f4e1c594af0>][frozenset[{[55][58][54][51][57][50][56][53][59][52]}]<function<unk>hmirror<unk>at<unk>0x7f4e1c594a60>]]  \n",
       "2887                                                                                                                                                                                                                                                                                                                                                                                                                                                                                                                                                                                                                                                                                                                                                                                                                       output of x16\\n[<function<unk>identity<unk>at<unk>0x7f4e1c54c9d0><function<unk>dmirror<unk>at<unk>0x7f4e1c594b80><function<unk>cmirror<unk>at<unk>0x7f4e1c594c10><function<unk>hmirror<unk>at<unk>0x7f4e1c594a60>]  \n",
       "2917                                                                                                                                                                                                                                                                                                                                                                                                                                                                                                                                                                                                                                                                                                                                                                                                                       output of x16\\n[<function<unk>identity<unk>at<unk>0x7f4e1c54c9d0><function<unk>dmirror<unk>at<unk>0x7f4e1c594b80><function<unk>cmirror<unk>at<unk>0x7f4e1c594c10><function<unk>hmirror<unk>at<unk>0x7f4e1c594a60>]  \n",
       "2932                                                                                                                                                                                                                                                                                                                                                                                                                                                                                                                                                                                                                       output of x6\\n[[<function<unk>identity<unk>at<unk>0x7f4e1c54c9d0><function<unk>identity<unk>at<unk>0x7f4e1c54c9d0>][<function<unk>rot90<unk>at<unk>0x7f4e1c5948b0><function<unk>rot270<unk>at<unk>0x7f4e1c5949d0>][<function<unk>rot180<unk>at<unk>0x7f4e1c594940><function<unk>rot180<unk>at<unk>0x7f4e1c594940>][<function<unk>rot270<unk>at<unk>0x7f4e1c5949d0><function<unk>rot90<unk>at<unk>0x7f4e1c5948b0>]]  \n",
       "2964                                                                                                                                                                                                                                                                                                                                                                                                                                                                                                                                                                                                                           output of x17\\n[<function<unk>identity<unk>at<unk>0x7f4e1c54c9d0><function<unk>rot180<unk>at<unk>0x7f4e1c594940><function<unk>rot90<unk>at<unk>0x7f4e1c5948b0><function<unk>rot270<unk>at<unk>0x7f4e1c5949d0><function<unk>hmirror<unk>at<unk>0x7f4e1c594a60><function<unk>vmirror<unk>at<unk>0x7f4e1c594af0><function<unk>cmirror<unk>at<unk>0x7f4e1c594c10><function<unk>dmirror<unk>at<unk>0x7f4e1c594b80>]  \n",
       "2973                                                                                                                                                                                                                                                                                                                                                                                                                                                                                                                                                                                                                                                                                                                                                                                                                        output of x2\\n[<function<unk>identity<unk>at<unk>0x7f4e1c54c9d0><function<unk>cmirror<unk>at<unk>0x7f4e1c594c10><function<unk>hmirror<unk>at<unk>0x7f4e1c594a60><function<unk>vmirror<unk>at<unk>0x7f4e1c594af0>]  \n",
       "3027                                                                                                                                                                                                                                                                                                                                                                                                                                                                                                                                                                                                                                                                                                                                                                                                                        output of x5\\n[<function<unk>identity<unk>at<unk>0x7f4e1c54c9d0><function<unk>dmirror<unk>at<unk>0x7f4e1c594b80><function<unk>cmirror<unk>at<unk>0x7f4e1c594c10><function<unk>hmirror<unk>at<unk>0x7f4e1c594a60>]  \n",
       "3130                                                                                                                                                                                                                                                                                                                                                                                                                                                                                                                                                                                                                      output of x13\\n[[<function<unk>identity<unk>at<unk>0x7f4e1c54c9d0><function<unk>identity<unk>at<unk>0x7f4e1c54c9d0>][<function<unk>rot90<unk>at<unk>0x7f4e1c5948b0><function<unk>rot270<unk>at<unk>0x7f4e1c5949d0>][<function<unk>rot180<unk>at<unk>0x7f4e1c594940><function<unk>rot180<unk>at<unk>0x7f4e1c594940>][<function<unk>rot270<unk>at<unk>0x7f4e1c5949d0><function<unk>rot90<unk>at<unk>0x7f4e1c5948b0>]]  \n",
       "3168  output of x48\\nfrozenset[{[3<function<unk>cmirror<unk>at<unk>0x7f4e1c594c10>][4<function<unk>identity<unk>at<unk>0x7f4e1c54c9d0>][1<function<unk>identity<unk>at<unk>0x7f4e1c54c9d0>][2<function<unk>hmirror<unk>at<unk>0x7f4e1c594a60>][3<function<unk>identity<unk>at<unk>0x7f4e1c54c9d0>][2<function<unk>vmirror<unk>at<unk>0x7f4e1c594af0>][2<function<unk>dmirror<unk>at<unk>0x7f4e1c594b80>][2<function<unk>cmirror<unk>at<unk>0x7f4e1c594c10>][4<function<unk>hmirror<unk>at<unk>0x7f4e1c594a60>][4<function<unk>vmirror<unk>at<unk>0x7f4e1c594af0>][4<function<unk>dmirror<unk>at<unk>0x7f4e1c594b80>][1<function<unk>hmirror<unk>at<unk>0x7f4e1c594a60>][4<function<unk>cmirror<unk>at<unk>0x7f4e1c594c10>][1<function<unk>vmirror<unk>at<unk>0x7f4e1c594af0>][1<function<unk>dmirror<unk>at<unk>0x7f4e1c594b80>][1<function<unk>cmirror<unk>at<unk>0x7f4e1c594c10>][3<function<unk>hmirror<unk>at<unk>0x7f4e1c594a60>][2<function<unk>identity<unk>at<unk>0x7f4e1c54c9d0>][3<function<unk>vmirror<unk>at<unk>0x7f4e1c594af...  \n",
       "3214                                                                                                                                                                                                                                                                                                                                                                                                                                                                                                                                                                                                                      output of x13\\n[[<function<unk>identity<unk>at<unk>0x7f4e1c54c9d0><function<unk>identity<unk>at<unk>0x7f4e1c54c9d0>][<function<unk>rot90<unk>at<unk>0x7f4e1c5948b0><function<unk>rot270<unk>at<unk>0x7f4e1c5949d0>][<function<unk>rot180<unk>at<unk>0x7f4e1c594940><function<unk>rot180<unk>at<unk>0x7f4e1c594940>][<function<unk>rot270<unk>at<unk>0x7f4e1c5949d0><function<unk>rot90<unk>at<unk>0x7f4e1c5948b0>]]  \n",
       "3302                                                                                                                                                                                                                                                                                                                                                                                                                                                                                                                                                                                                                                                                                                                                                                                                                                                                                                                                              output of x8\\nfrozenset[{<function<unk>chain.<locals>.<lambda><unk>at<unk>0x7f4e19acf640>}]  \n",
       "3341                                                                                                                                                                                                                                                                                                                                                                                                                                                                                                                                                                                                                                                                                                                                                                                                                        output of x5\\n[<function<unk>identity<unk>at<unk>0x7f4e1c54c9d0><function<unk>dmirror<unk>at<unk>0x7f4e1c594b80><function<unk>cmirror<unk>at<unk>0x7f4e1c594c10><function<unk>hmirror<unk>at<unk>0x7f4e1c594a60>]  \n",
       "3414                                                                                                                                                                                                                                                                                                                                                                                                                                                                                                                                                                                                                                                                                                                                                                                                                                                                                                                                              output of x3\\nfrozenset[{<function<unk>rbind.<locals>.<lambda><unk>at<unk>0x7f4e19eb1ea0>}]  \n",
       "3433                                                                                                                                                                                                                                                                                                                                                                                                                                                                                                                                                                                                                                                                                                                                                                                                                       output of x16\\n[<function<unk>identity<unk>at<unk>0x7f4e1c54c9d0><function<unk>dmirror<unk>at<unk>0x7f4e1c594b80><function<unk>cmirror<unk>at<unk>0x7f4e1c594c10><function<unk>hmirror<unk>at<unk>0x7f4e1c594a60>]  "
      ]
     },
     "execution_count": 7,
     "metadata": {},
     "output_type": "execute_result"
    }
   ],
   "source": [
    "df[df.text.str.contains('function')]"
   ]
  },
  {
   "cell_type": "markdown",
   "metadata": {},
   "source": [
    "# program"
   ]
  },
  {
   "cell_type": "markdown",
   "metadata": {},
   "source": [
    "## dsr_qw2d5_1d5b"
   ]
  },
  {
   "cell_type": "code",
   "execution_count": null,
   "metadata": {},
   "outputs": [
    {
     "name": "stdout",
     "output_type": "stream",
     "text": [
      "logfile:../data/logs/20250222125459.log\n",
      "params:-model_name DSR_qw2d5_1d5b_d21 -ds deepscaler -ds_cls Dataset -val_ds_cls Dataset -test_ds_cls Dataset -kn 5 -kfids 0 -backbone unsloth/DeepSeek-R1-Distill-Qwen-1.5B-bnb-4bit -data_seed 90987655 -seed 90987655 -eval_delay 0 -epochs 1 -do_train -dataloader_num_workers 4 -es 1 -verbose 4 -disable_tqdm -save_strategy steps -evaluation_strategy steps -eval_steps 100 -save_total_limit 10 -lr 1e-5 -warmup_ratio 0.01 -weight_decay 0.01 -bs 4 -gas 1 -vbs 1 -torch_dtype bfloat16 -use_bf16 -optim paged_adamw_8bit -gradient_checkpointing -local -use_unsloth -use_4bit -use_lora -lora_dropout 0 -lora_alpha 16 -lora_rank 32 -lora_modules gate_proj up_proj down_proj q_proj o_proj k_proj v_proj -torch_empty_cache_steps 1 -max_model_len 10240 -max_prompt_length 1024 -max_completion_length 7300 -use_vllm -vllm_gpu_memory_utilization 0.15 -ppt dsr -num_generations 8 -len_penalty 0.5 -temperature 0.9 -nv\n"
     ]
    }
   ],
   "source": [
    "\n",
    "\n",
    "\n",
    "import util\n",
    "\n",
    "\n",
    "\n",
    "MODELNAME=\"DSR_qw2d5_1d5b_d21\"\n",
    "DS=\"deepscaler\"\n",
    "DSCLS=\"Dataset\"\n",
    "VDSCLS=\"Dataset\"\n",
    "TDSCLS=\"Dataset\"\n",
    "BACKBONE=\"unsloth/DeepSeek-R1-Distill-Qwen-1.5B-bnb-4bit\"\n",
    "# RESTORE=\"\"\n",
    "# BACKBONE=sorted(glob(f\"../data/{RESTORE}_KF0/checkpoint-*\"), key=lambda x: int(x.split('-')[-1]))[-1]\n",
    "\n",
    "DATASEED=90987655\n",
    "SEED=DATASEED\n",
    "KN=5\n",
    "KFIDS=\"0\"\n",
    "\n",
    "\n",
    "!./dls1.sh  -model_name \"{MODELNAME}\" -ds \"{DS}\" -ds_cls \"{DSCLS}\" -val_ds_cls \"{VDSCLS}\" -test_ds_cls \"{TDSCLS}\" -kn {KN}  -kfids \"{KFIDS}\" -backbone \"{BACKBONE}\" \\\n",
    "-data_seed {DATASEED} -seed {SEED} -eval_delay 0 -epochs 1  -do_train  -dataloader_num_workers 4 -es 1 -verbose 4 -disable_tqdm -save_strategy steps  -evaluation_strategy steps -eval_steps 100 \\\n",
    "-save_total_limit 10 -lr 1e-5 -warmup_ratio 0.01 -weight_decay 0.01 -bs 4 -gas 1 -vbs 1 -torch_dtype bfloat16 -use_bf16 -optim paged_adamw_8bit -gradient_checkpointing -local \\\n",
    "-use_unsloth -use_4bit -use_lora  -lora_dropout 0 -lora_alpha 16 -lora_rank 32 -lora_modules  gate_proj up_proj down_proj q_proj o_proj k_proj v_proj -torch_empty_cache_steps 1 \\\n",
    "-max_model_len 10240 -max_prompt_length 1024 -max_completion_length 7300   -use_vllm -vllm_gpu_memory_utilization 0.15 -ppt dsr -num_generations 8 -len_penalty 0.5 -temperature 0.9 -nv\n",
    "\n",
    "\n",
    "\n"
   ]
  },
  {
   "cell_type": "markdown",
   "metadata": {},
   "source": [
    "# sub"
   ]
  },
  {
   "cell_type": "code",
   "execution_count": 11,
   "metadata": {},
   "outputs": [
    {
     "name": "stdout",
     "output_type": "stream",
     "text": [
      "Subregions:\n",
      "[(0, 0), (1, 0), (1, 1), (0, 1)]\n",
      "[(0, 2), (1, 2), (2, 2), (2, 3), (1, 3), (2, 1)]\n",
      "[(0, 3)]\n",
      "[(2, 0)]\n"
     ]
    }
   ],
   "source": [
    "def find_subregions(matrix):\n",
    "    def dfs(x, y, value):\n",
    "        if x < 0 or y < 0 or x >= len(matrix) or y >= len(matrix[0]):\n",
    "            return\n",
    "        if matrix[x][y] != value or visited[x][y]:\n",
    "            return\n",
    "        \n",
    "        # 标记为已访问\n",
    "        visited[x][y] = True\n",
    "        subregion.append((x, y))\n",
    "        \n",
    "        # 探索相邻的四个方向\n",
    "        dfs(x+1, y, value)\n",
    "        dfs(x-1, y, value)\n",
    "        dfs(x, y+1, value)\n",
    "        dfs(x, y-1, value)\n",
    "\n",
    "    # 初始化结果列表和访问标记矩阵\n",
    "    results = []\n",
    "    visited = [[False for _ in range(len(matrix[0]))] for _ in range(len(matrix))]\n",
    "\n",
    "    # 遍历每个元素\n",
    "    for i in range(len(matrix)):\n",
    "        for j in range(len(matrix[0])):\n",
    "            if not visited[i][j]:\n",
    "                subregion = []\n",
    "                dfs(i, j, matrix[i][j])\n",
    "                if subregion:\n",
    "                    results.append(subregion)\n",
    "\n",
    "    return results\n",
    "\n",
    "# 示例使用\n",
    "matrix = [\n",
    "    [1, 1, 0, 2],\n",
    "    [1, 1, 0, 0],\n",
    "    [3, 0, 0, 0]\n",
    "]\n",
    "\n",
    "subregions = find_subregions(matrix)\n",
    "print(\"Subregions:\")\n",
    "for subregion in subregions:\n",
    "    print(subregion)"
   ]
  },
  {
   "cell_type": "code",
   "execution_count": 16,
   "metadata": {},
   "outputs": [
    {
     "name": "stdout",
     "output_type": "stream",
     "text": [
      "所有可能的子块:\n",
      "子块 1:\n",
      "[0]\n",
      "\n",
      "子块 2:\n",
      "[0, 0]\n",
      "\n",
      "子块 3:\n",
      "[0, 0, 0]\n",
      "\n",
      "子块 4:\n",
      "[0, 0, 0, 0]\n",
      "\n",
      "子块 5:\n",
      "[0, 0, 0, 0, 0]\n",
      "\n",
      "子块 6:\n",
      "[0]\n",
      "[0]\n",
      "\n",
      "子块 7:\n",
      "[0, 0]\n",
      "[0, 0]\n",
      "\n",
      "子块 8:\n",
      "[0, 0, 0]\n",
      "[0, 0, 0]\n",
      "\n",
      "子块 9:\n",
      "[0, 0, 0, 0]\n",
      "[0, 0, 0, 0]\n",
      "\n",
      "子块 10:\n",
      "[0, 0, 0, 0, 0]\n",
      "[0, 0, 0, 0, 0]\n",
      "\n",
      "子块 11:\n",
      "[0]\n",
      "[0]\n",
      "[0]\n",
      "\n",
      "子块 12:\n",
      "[0, 0]\n",
      "[0, 0]\n",
      "[0, 0]\n",
      "\n",
      "子块 13:\n",
      "[0, 0, 0]\n",
      "[0, 0, 0]\n",
      "[0, 0, 0]\n",
      "\n",
      "子块 14:\n",
      "[0, 0, 0, 0]\n",
      "[0, 0, 0, 0]\n",
      "[0, 0, 0, 0]\n",
      "\n",
      "子块 15:\n",
      "[0, 0, 0, 0, 0]\n",
      "[0, 0, 0, 0, 0]\n",
      "[0, 0, 0, 0, 0]\n",
      "\n",
      "子块 16:\n",
      "[0]\n",
      "\n",
      "子块 17:\n",
      "[0, 0]\n",
      "\n",
      "子块 18:\n",
      "[0, 0, 0]\n",
      "\n",
      "子块 19:\n",
      "[0, 0, 0, 0]\n",
      "\n",
      "子块 20:\n",
      "[0]\n",
      "[0]\n",
      "\n",
      "子块 21:\n",
      "[0, 0]\n",
      "[0, 0]\n",
      "\n",
      "子块 22:\n",
      "[0, 0, 0]\n",
      "[0, 0, 0]\n",
      "\n",
      "子块 23:\n",
      "[0, 0, 0, 0]\n",
      "[0, 0, 0, 0]\n",
      "\n",
      "子块 24:\n",
      "[0]\n",
      "[0]\n",
      "[0]\n",
      "\n",
      "子块 25:\n",
      "[0, 0]\n",
      "[0, 0]\n",
      "[0, 0]\n",
      "\n",
      "子块 26:\n",
      "[0, 0, 0]\n",
      "[0, 0, 0]\n",
      "[0, 0, 0]\n",
      "\n",
      "子块 27:\n",
      "[0, 0, 0, 0]\n",
      "[0, 0, 0, 0]\n",
      "[0, 0, 0, 0]\n",
      "\n",
      "子块 28:\n",
      "[0]\n",
      "\n",
      "子块 29:\n",
      "[0, 0]\n",
      "\n",
      "子块 30:\n",
      "[0, 0, 0]\n",
      "\n",
      "子块 31:\n",
      "[0]\n",
      "[0]\n",
      "\n",
      "子块 32:\n",
      "[0, 0]\n",
      "[0, 0]\n",
      "\n",
      "子块 33:\n",
      "[0, 0, 0]\n",
      "[0, 0, 0]\n",
      "\n",
      "子块 34:\n",
      "[0]\n",
      "[0]\n",
      "[0]\n",
      "\n",
      "子块 35:\n",
      "[0, 0]\n",
      "[0, 0]\n",
      "[0, 0]\n",
      "\n",
      "子块 36:\n",
      "[0, 0, 0]\n",
      "[0, 0, 0]\n",
      "[0, 0, 0]\n",
      "\n",
      "子块 37:\n",
      "[0]\n",
      "\n",
      "子块 38:\n",
      "[0, 0]\n",
      "\n",
      "子块 39:\n",
      "[0]\n",
      "[0]\n",
      "\n",
      "子块 40:\n",
      "[0, 0]\n",
      "[0, 0]\n",
      "\n",
      "子块 41:\n",
      "[0]\n",
      "[0]\n",
      "[0]\n",
      "\n",
      "子块 42:\n",
      "[0, 0]\n",
      "[0, 0]\n",
      "[0, 0]\n",
      "\n",
      "子块 43:\n",
      "[0]\n",
      "\n",
      "子块 44:\n",
      "[0]\n",
      "[0]\n",
      "\n",
      "子块 45:\n",
      "[0]\n",
      "[0]\n",
      "[0]\n",
      "\n",
      "子块 46:\n",
      "[0]\n",
      "\n",
      "子块 47:\n",
      "[0, 0]\n",
      "\n",
      "子块 48:\n",
      "[0, 0, 0]\n",
      "\n",
      "子块 49:\n",
      "[0, 0, 0, 0]\n",
      "\n",
      "子块 50:\n",
      "[0, 0, 0, 0, 0]\n",
      "\n",
      "子块 51:\n",
      "[0]\n",
      "[0]\n",
      "\n",
      "子块 52:\n",
      "[0, 0]\n",
      "[0, 0]\n",
      "\n",
      "子块 53:\n",
      "[0, 0, 0]\n",
      "[0, 0, 0]\n",
      "\n",
      "子块 54:\n",
      "[0, 0, 0, 0]\n",
      "[0, 0, 0, 0]\n",
      "\n",
      "子块 55:\n",
      "[0, 0, 0, 0, 0]\n",
      "[0, 0, 0, 0, 0]\n",
      "\n",
      "子块 56:\n",
      "[0]\n",
      "\n",
      "子块 57:\n",
      "[0, 0]\n",
      "\n",
      "子块 58:\n",
      "[0, 0, 0]\n",
      "\n",
      "子块 59:\n",
      "[0, 0, 0, 0]\n",
      "\n",
      "子块 60:\n",
      "[0]\n",
      "[0]\n",
      "\n",
      "子块 61:\n",
      "[0, 0]\n",
      "[0, 0]\n",
      "\n",
      "子块 62:\n",
      "[0, 0, 0]\n",
      "[0, 0, 0]\n",
      "\n",
      "子块 63:\n",
      "[0, 0, 0, 0]\n",
      "[0, 0, 0, 0]\n",
      "\n",
      "子块 64:\n",
      "[0]\n",
      "\n",
      "子块 65:\n",
      "[0, 0]\n",
      "\n",
      "子块 66:\n",
      "[0, 0, 0]\n",
      "\n",
      "子块 67:\n",
      "[0]\n",
      "[0]\n",
      "\n",
      "子块 68:\n",
      "[0, 0]\n",
      "[0, 0]\n",
      "\n",
      "子块 69:\n",
      "[0, 0, 0]\n",
      "[0, 0, 0]\n",
      "\n",
      "子块 70:\n",
      "[0]\n",
      "\n",
      "子块 71:\n",
      "[0, 0]\n",
      "\n",
      "子块 72:\n",
      "[0]\n",
      "[0]\n",
      "\n",
      "子块 73:\n",
      "[0, 0]\n",
      "[0, 0]\n",
      "\n",
      "子块 74:\n",
      "[0]\n",
      "\n",
      "子块 75:\n",
      "[0]\n",
      "[0]\n",
      "\n",
      "子块 76:\n",
      "[0]\n",
      "\n",
      "子块 77:\n",
      "[0, 0]\n",
      "\n",
      "子块 78:\n",
      "[0, 0, 0]\n",
      "\n",
      "子块 79:\n",
      "[0, 0, 0, 0]\n",
      "\n",
      "子块 80:\n",
      "[0, 0, 0, 0, 0]\n",
      "\n",
      "子块 81:\n",
      "[0]\n",
      "\n",
      "子块 82:\n",
      "[0, 0]\n",
      "\n",
      "子块 83:\n",
      "[0, 0, 0]\n",
      "\n",
      "子块 84:\n",
      "[0, 0, 0, 0]\n",
      "\n",
      "子块 85:\n",
      "[0]\n",
      "\n",
      "子块 86:\n",
      "[0, 0]\n",
      "\n",
      "子块 87:\n",
      "[0, 0, 0]\n",
      "\n",
      "子块 88:\n",
      "[0]\n",
      "\n",
      "子块 89:\n",
      "[0, 0]\n",
      "\n",
      "子块 90:\n",
      "[0]\n",
      "\n"
     ]
    }
   ],
   "source": [
    "def generate_subarrays(dimensions):\n",
    "    \"\"\"\n",
    "    生成所有可能的子块（子矩阵）。\n",
    "\n",
    "    参数:\n",
    "    dimensions (tuple): 一个包含两个整数的元组 (rows, cols)，表示二维数组的行数和列数。\n",
    "\n",
    "    返回:\n",
    "    list: 包含所有可能子块的列表，每个子块是一个二维列表。\n",
    "    \"\"\"\n",
    "    rows, cols = dimensions\n",
    "    subarrays = []\n",
    "\n",
    "    # 遍历所有可能的子块起点和终点\n",
    "    for start_row in range(rows):\n",
    "        for start_col in range(cols):\n",
    "            for end_row in range(start_row, rows):\n",
    "                for end_col in range(start_col, cols):\n",
    "                    # 创建子块\n",
    "                    subarray = [[0 for _ in range(end_col - start_col + 1)] for _ in range(end_row - start_row + 1)]\n",
    "                    subarrays.append(subarray)\n",
    "\n",
    "    return subarrays\n",
    "\n",
    "# 示例使用\n",
    "if __name__ == \"__main__\":\n",
    "    dimensions = (3, 5)  # 定义二维数组的维度\n",
    "    result = generate_subarrays(dimensions)\n",
    "    print(\"所有可能的子块:\")\n",
    "    for idx, subarray in enumerate(result):\n",
    "        print(f\"子块 {idx + 1}:\")\n",
    "        for row in subarray:\n",
    "            print(row)\n",
    "        print()"
   ]
  },
  {
   "cell_type": "code",
   "execution_count": 2,
   "metadata": {},
   "outputs": [
    {
     "name": "stdout",
     "output_type": "stream",
     "text": [
      "{\"id\":\"cmpl-d8d6603eb69b47188254d178a0f5cda5\",\"object\":\"text_completion\",\"created\":1724320607,\"model\":\"custom\",\"choices\":[{\"index\":0,\"text\":\" city of contrasts. It's a\",\"logprobs\":null,\"finish_reason\":\"length\",\"stop_reason\":null}],\"usage\":{\"prompt_tokens\":4,\"total_tokens\":11,\"completion_tokens\":7}}"
     ]
    }
   ],
   "source": [
    "!curl http://192.168.0.104:33333/v1/completions \\\n",
    "-H \"Content-Type: application/json\" \\\n",
    "-d '{\"model\": \"custom\",\"prompt\": \"San Francisco is a\",\"max_tokens\": 7,\"temperature\": 0}'"
   ]
  },
  {
   "cell_type": "markdown",
   "metadata": {},
   "source": [
    "# submission"
   ]
  },
  {
   "cell_type": "code",
   "execution_count": 10,
   "metadata": {},
   "outputs": [],
   "source": [
    "sub = util.load_json('../data/submission.json')\n",
    "sub_ice = util.load_json('../data/sub_icecube.json')"
   ]
  },
  {
   "cell_type": "code",
   "execution_count": 13,
   "metadata": {},
   "outputs": [
    {
     "data": {
      "text/plain": [
       "100"
      ]
     },
     "execution_count": 13,
     "metadata": {},
     "output_type": "execute_result"
    }
   ],
   "source": [
    "len(sub_ice)"
   ]
  },
  {
   "cell_type": "code",
   "execution_count": 14,
   "metadata": {},
   "outputs": [
    {
     "name": "stdout",
     "output_type": "stream",
     "text": [
      "3345333e 0 1\n",
      "22168020 0 1\n",
      "0b148d64 0 1\n",
      "0520fde7 0 1\n",
      "3428a4f5 0 1\n",
      "3428a4f5 1 1\n",
      "0a938d79 0 1\n",
      "228f6490 0 1\n",
      "045e512c 0 1\n",
      "3af2c5a8 0 1\n",
      "4093f84a 0 1\n",
      "40853293 0 1\n",
      "0ca9ddb6 0 1\n",
      "29ec7d0e 0 1\n",
      "1fad071e 0 1\n",
      "2dd70a9a 0 1\n",
      "1f0c79e5 0 1\n",
      "23b5c85d 0 1\n",
      "29623171 0 1\n",
      "3de23699 0 1\n",
      "2013d3e2 0 1\n",
      "253bf280 0 1\n",
      "2dc579da 0 1\n",
      "1b60fb0c 0 1\n",
      "05269061 0 1\n",
      "3618c87e 0 1\n",
      "3eda0437 0 1\n",
      "25d8a9c8 0 1\n",
      "39a8645d 0 1\n",
      "05f2a901 0 1\n",
      "178fcbfb 0 1\n",
      "25ff71a9 0 1\n",
      "25ff71a9 1 1\n",
      "3bd67248 0 1\n",
      "264363fd 0 1\n",
      "1f85a75f 0 1\n",
      "445eab21 0 1\n",
      "42a50994 0 1\n",
      "137eaa0f 0 1\n",
      "3ac3eb23 0 1\n",
      "1c786137 0 1\n",
      "41e4d17e 0 1\n",
      "1f642eb9 0 1\n",
      "1f876c06 0 1\n",
      "1bfc4729 0 1\n",
      "363442ee 0 1\n",
      "444801d8 0 1\n",
      "22233c11 0 1\n",
      "2c608aff 0 1\n",
      "234bbc79 0 1\n",
      "0dfd9992 0 1\n",
      "28e73c20 0 1\n",
      "3906de3d 0 1\n",
      "28bf18c6 0 1\n",
      "39e1d7f9 0 1\n",
      "36d67576 0 1\n",
      "239be575 0 1\n",
      "239be575 1 1\n",
      "3befdf3e 0 1\n",
      "017c7c7b 0 1\n",
      "007bbfb7 0 1\n",
      "3aa6fb7a 0 1\n",
      "3e980e27 0 1\n",
      "1190e5a7 0 1\n",
      "1cf80156 0 1\n",
      "2bcee788 0 1\n",
      "2204b7a8 0 1\n",
      "2281f1f4 0 1\n",
      "1caeab9d 0 1\n",
      "272f95fa 0 1\n",
      "150deff5 0 1\n",
      "27a28665 0 1\n",
      "27a28665 1 1\n",
      "27a28665 2 1\n",
      "1a07d186 0 1\n",
      "3bdb4ada 0 1\n",
      "1b2d62fb 0 1\n",
      "3c9b0459 0 1\n",
      "1e0a9b12 0 1\n",
      "08ed6ac7 0 1\n",
      "09629e4f 0 1\n",
      "1e32b0e9 0 1\n",
      "4258a5f9 0 1\n",
      "00d62c1b 0 1\n",
      "11852cab 0 1\n",
      "0d3d703e 0 1\n",
      "36fdfd69 0 1\n",
      "29c11459 0 1\n",
      "3631a71a 0 1\n",
      "06df4c85 0 1\n",
      "4347f46a 0 1\n",
      "025d127b 0 1\n",
      "0e206a2e 0 1\n",
      "2bee17df 0 1\n",
      "3f7978a0 0 1\n",
      "32597951 0 1\n",
      "31aa019c 0 1\n",
      "4290ef0e 0 1\n",
      "25d487eb 0 1\n",
      "0962bcdd 0 1\n",
      "10fcaaa3 0 1\n",
      "321b1fc6 0 1\n",
      "2dee498d 0 1\n",
      "23581191 0 1\n",
      "22eb0ac0 0 1\n",
      "105\n"
     ]
    }
   ],
   "source": [
    "n = 0\n",
    "for k, vs in sub_ice.items():\n",
    "    for i, v in enumerate(vs):\n",
    "        if v['attempt_1'] !=v['attempt_2']:\n",
    "            print(k, i, 1)\n",
    "            n += 1\n",
    "print(n)\n",
    "       "
   ]
  },
  {
   "cell_type": "markdown",
   "metadata": {},
   "source": [
    "# tokenzers"
   ]
  },
  {
   "cell_type": "code",
   "execution_count": 3,
   "metadata": {},
   "outputs": [
    {
     "data": {
      "application/vnd.jupyter.widget-view+json": {
       "model_id": "3da09eedcb854cf1a77c95e2778b38d3",
       "version_major": 2,
       "version_minor": 0
      },
      "text/plain": [
       "config.json:   0%|          | 0.00/743 [00:00<?, ?B/s]"
      ]
     },
     "metadata": {},
     "output_type": "display_data"
    },
    {
     "data": {
      "text/plain": [
       "BertConfig {\n",
       "  \"_name_or_path\": \"BAAI/bge-small-en-v1.5\",\n",
       "  \"architectures\": [\n",
       "    \"BertModel\"\n",
       "  ],\n",
       "  \"attention_probs_dropout_prob\": 0.1,\n",
       "  \"classifier_dropout\": null,\n",
       "  \"hidden_act\": \"gelu\",\n",
       "  \"hidden_dropout_prob\": 0.1,\n",
       "  \"hidden_size\": 384,\n",
       "  \"id2label\": {\n",
       "    \"0\": \"LABEL_0\"\n",
       "  },\n",
       "  \"initializer_range\": 0.02,\n",
       "  \"intermediate_size\": 1536,\n",
       "  \"label2id\": {\n",
       "    \"LABEL_0\": 0\n",
       "  },\n",
       "  \"layer_norm_eps\": 1e-12,\n",
       "  \"max_position_embeddings\": 512,\n",
       "  \"model_type\": \"bert\",\n",
       "  \"num_attention_heads\": 12,\n",
       "  \"num_hidden_layers\": 12,\n",
       "  \"pad_token_id\": 0,\n",
       "  \"position_embedding_type\": \"absolute\",\n",
       "  \"torch_dtype\": \"float32\",\n",
       "  \"transformers_version\": \"4.44.2\",\n",
       "  \"type_vocab_size\": 2,\n",
       "  \"use_cache\": true,\n",
       "  \"vocab_size\": 30522\n",
       "}"
      ]
     },
     "execution_count": 3,
     "metadata": {},
     "output_type": "execute_result"
    }
   ],
   "source": [
    "from transformers import AutoTokenizer, AutoConfig\n",
    "modelid=\"BAAI/bge-small-en-v1.5\"\n",
    "tokenizer = AutoTokenizer.from_pretrained(modelid)\n",
    "AutoConfig.from_pretrained(modelid)"
   ]
  },
  {
   "cell_type": "code",
   "execution_count": 4,
   "metadata": {},
   "outputs": [
    {
     "data": {
      "text/plain": [
       "[101, 19557, 7875, 3676, 11057, 9468, 9468, 102]"
      ]
     },
     "execution_count": 4,
     "metadata": {},
     "output_type": "execute_result"
    }
   ],
   "source": [
    "tokenizer.encode('ABAABBAAACCCC')"
   ]
  },
  {
   "cell_type": "code",
   "execution_count": 29,
   "metadata": {},
   "outputs": [
    {
     "data": {
      "text/plain": [
       "[4525, 32, 33, 33, 34, 34, 35]"
      ]
     },
     "execution_count": 29,
     "metadata": {},
     "output_type": "execute_result"
    }
   ],
   "source": [
    "tokenizer.convert_tokens_to_ids([\"input\"]+[str(x) for x in [0, 1, 1, 2, 2, 3]])"
   ]
  },
  {
   "cell_type": "code",
   "execution_count": 22,
   "metadata": {},
   "outputs": [
    {
     "data": {
      "text/plain": [
       "[0, 32, 33, 33, 34, 34, 35]"
      ]
     },
     "execution_count": 22,
     "metadata": {},
     "output_type": "execute_result"
    }
   ],
   "source": [
    "tokenizer.encode(tokenizer.decode(tokenizer.convert_tokens_to_ids([\"input:\"]+[str(x) for x in [0, 1, 1, 2, 2, 3]])))"
   ]
  },
  {
   "cell_type": "code",
   "execution_count": 31,
   "metadata": {},
   "outputs": [
    {
     "data": {
      "text/plain": [
       "[4525, 32, 33, 33, 34, 34, 35]"
      ]
     },
     "execution_count": 31,
     "metadata": {},
     "output_type": "execute_result"
    }
   ],
   "source": [
    "tokenizer.encode('input011223', add_special_tokens=False)"
   ]
  },
  {
   "cell_type": "code",
   "execution_count": 30,
   "metadata": {},
   "outputs": [
    {
     "data": {
      "text/plain": [
       "{'input_ids': [4525, 42], 'attention_mask': [1, 1]}"
      ]
     },
     "execution_count": 30,
     "metadata": {},
     "output_type": "execute_result"
    }
   ],
   "source": [
    "tokenizer('input:')"
   ]
  },
  {
   "cell_type": "code",
   "execution_count": 50,
   "metadata": {},
   "outputs": [
    {
     "data": {
      "text/plain": [
       "'<｜end▁of▁sentence｜>'"
      ]
     },
     "execution_count": 50,
     "metadata": {},
     "output_type": "execute_result"
    }
   ],
   "source": [
    "tokenizer.eos_token"
   ]
  },
  {
   "cell_type": "code",
   "execution_count": 3,
   "metadata": {},
   "outputs": [
    {
     "name": "stderr",
     "output_type": "stream",
     "text": [
      "/home/tom/anaconda3/envs/hpp/lib/python3.10/site-packages/huggingface_hub/file_download.py:1132: FutureWarning: `resume_download` is deprecated and will be removed in version 1.0.0. Downloads always resume when possible. If you want to force a new download, use `force_download=True`.\n",
      "  warnings.warn(\n"
     ]
    },
    {
     "data": {
      "application/vnd.jupyter.widget-view+json": {
       "model_id": "c7134fee9e0149018541e828200a26a7",
       "version_major": 2,
       "version_minor": 0
      },
      "text/plain": [
       "tokenizer_config.json:   0%|          | 0.00/51.1k [00:00<?, ?B/s]"
      ]
     },
     "metadata": {},
     "output_type": "display_data"
    },
    {
     "data": {
      "application/vnd.jupyter.widget-view+json": {
       "model_id": "fb848c29dd74466483a38494eedfa840",
       "version_major": 2,
       "version_minor": 0
      },
      "text/plain": [
       "tokenizer.json:   0%|          | 0.00/9.09M [00:00<?, ?B/s]"
      ]
     },
     "metadata": {},
     "output_type": "display_data"
    },
    {
     "data": {
      "application/vnd.jupyter.widget-view+json": {
       "model_id": "7cce26aad9684f59b179d632785193bf",
       "version_major": 2,
       "version_minor": 0
      },
      "text/plain": [
       "special_tokens_map.json:   0%|          | 0.00/459 [00:00<?, ?B/s]"
      ]
     },
     "metadata": {},
     "output_type": "display_data"
    },
    {
     "name": "stderr",
     "output_type": "stream",
     "text": [
      "Special tokens have been added in the vocabulary, make sure the associated word embeddings are fine-tuned or trained.\n"
     ]
    }
   ],
   "source": [
    "from transformers import AutoTokenizer\n",
    "tokenizer = AutoTokenizer.from_pretrained(\"unsloth/llama-3-8b-Instruct\")"
   ]
  },
  {
   "cell_type": "code",
   "execution_count": 22,
   "metadata": {},
   "outputs": [
    {
     "data": {
      "text/plain": [
       "[128000, 12840, 2268, 791, 4320, 374, 362]"
      ]
     },
     "execution_count": 22,
     "metadata": {},
     "output_type": "execute_result"
    }
   ],
   "source": [
    "tokenizer.encode('what!\\n\\nThe answer is A')"
   ]
  }
 ],
 "metadata": {
  "kernelspec": {
   "display_name": "Python 3 (ipykernel)",
   "language": "python",
   "name": "python3"
  },
  "language_info": {
   "codemirror_mode": {
    "name": "ipython",
    "version": 3
   },
   "file_extension": ".py",
   "mimetype": "text/x-python",
   "name": "python",
   "nbconvert_exporter": "python",
   "pygments_lexer": "ipython3",
   "version": "3.10.16"
  },
  "toc-autonumbering": true
 },
 "nbformat": 4,
 "nbformat_minor": 4
}
